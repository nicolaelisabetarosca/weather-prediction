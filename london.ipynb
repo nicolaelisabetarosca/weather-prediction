{
 "cells": [
  {
   "cell_type": "code",
   "execution_count": 1,
   "id": "b6a5477a",
   "metadata": {
    "tags": []
   },
   "outputs": [],
   "source": [
    "import os\n",
    "import pandas as pd\n",
    "import numpy as np \n",
    "import seaborn as sns\n",
    "import matplotlib.pyplot as plt\n",
    "from sklearn.impute import KNNImputer\n",
    "from sklearn.feature_extraction.text import CountVectorizer, TfidfTransformer\n",
    "from sklearn.cluster import KMeans\n",
    "from sklearn.pipeline import Pipeline\n",
    "from wordcloud import WordCloud"
   ]
  },
  {
   "cell_type": "code",
   "execution_count": 2,
   "id": "f0a3e833",
   "metadata": {
    "tags": []
   },
   "outputs": [],
   "source": [
    "pd.set_option('display.max_columns', None)\n",
    "df_london = pd.read_csv(r\"C:\\Users\\nicol\\OneDrive\\Master\\Goldsmiths\\Thesis\\weather-prediction\\.data\\london_weather_2014-2024.csv\")"
   ]
  },
  {
   "cell_type": "code",
   "execution_count": 3,
   "id": "3315f5c1-c3e2-486a-9196-e658243d0efd",
   "metadata": {},
   "outputs": [],
   "source": [
    "#sort index\n",
    "df_london = df_london.sort_index()"
   ]
  },
  {
   "cell_type": "code",
   "execution_count": 4,
   "id": "531a7be8",
   "metadata": {
    "tags": []
   },
   "outputs": [
    {
     "data": {
      "text/plain": [
       "(3793, 34)"
      ]
     },
     "execution_count": 4,
     "metadata": {},
     "output_type": "execute_result"
    }
   ],
   "source": [
    "df_london.shape"
   ]
  },
  {
   "cell_type": "code",
   "execution_count": 5,
   "id": "91a5ebe5",
   "metadata": {
    "scrolled": true,
    "tags": []
   },
   "outputs": [
    {
     "data": {
      "text/html": [
       "<div>\n",
       "<style scoped>\n",
       "    .dataframe tbody tr th:only-of-type {\n",
       "        vertical-align: middle;\n",
       "    }\n",
       "\n",
       "    .dataframe tbody tr th {\n",
       "        vertical-align: top;\n",
       "    }\n",
       "\n",
       "    .dataframe thead th {\n",
       "        text-align: right;\n",
       "    }\n",
       "</style>\n",
       "<table border=\"1\" class=\"dataframe\">\n",
       "  <thead>\n",
       "    <tr style=\"text-align: right;\">\n",
       "      <th></th>\n",
       "      <th>Unnamed: 0</th>\n",
       "      <th>name</th>\n",
       "      <th>datetime</th>\n",
       "      <th>tempmax</th>\n",
       "      <th>tempmin</th>\n",
       "      <th>temp</th>\n",
       "      <th>feelslikemax</th>\n",
       "      <th>feelslikemin</th>\n",
       "      <th>feelslike</th>\n",
       "      <th>dew</th>\n",
       "      <th>humidity</th>\n",
       "      <th>precip</th>\n",
       "      <th>precipprob</th>\n",
       "      <th>precipcover</th>\n",
       "      <th>preciptype</th>\n",
       "      <th>snow</th>\n",
       "      <th>snowdepth</th>\n",
       "      <th>windgust</th>\n",
       "      <th>windspeed</th>\n",
       "      <th>winddir</th>\n",
       "      <th>sealevelpressure</th>\n",
       "      <th>cloudcover</th>\n",
       "      <th>visibility</th>\n",
       "      <th>solarradiation</th>\n",
       "      <th>solarenergy</th>\n",
       "      <th>uvindex</th>\n",
       "      <th>severerisk</th>\n",
       "      <th>sunrise</th>\n",
       "      <th>sunset</th>\n",
       "      <th>moonphase</th>\n",
       "      <th>conditions</th>\n",
       "      <th>description</th>\n",
       "      <th>icon</th>\n",
       "      <th>stations</th>\n",
       "    </tr>\n",
       "  </thead>\n",
       "  <tbody>\n",
       "    <tr>\n",
       "      <th>0</th>\n",
       "      <td>0</td>\n",
       "      <td>London, England, United Kingdom</td>\n",
       "      <td>2014-01-01</td>\n",
       "      <td>11.6</td>\n",
       "      <td>6.7</td>\n",
       "      <td>9.1</td>\n",
       "      <td>11.6</td>\n",
       "      <td>3.6</td>\n",
       "      <td>7.0</td>\n",
       "      <td>6.7</td>\n",
       "      <td>84.8</td>\n",
       "      <td>11.857</td>\n",
       "      <td>100</td>\n",
       "      <td>16.67</td>\n",
       "      <td>rain</td>\n",
       "      <td>0.0</td>\n",
       "      <td>0.0</td>\n",
       "      <td>72.4</td>\n",
       "      <td>38.4</td>\n",
       "      <td>190.5</td>\n",
       "      <td>993.1</td>\n",
       "      <td>67.4</td>\n",
       "      <td>14.2</td>\n",
       "      <td>6.9</td>\n",
       "      <td>0.5</td>\n",
       "      <td>0</td>\n",
       "      <td>NaN</td>\n",
       "      <td>2014-01-01T08:06:14</td>\n",
       "      <td>2014-01-01T16:02:04</td>\n",
       "      <td>0.00</td>\n",
       "      <td>Rain, Partially cloudy</td>\n",
       "      <td>Partly cloudy throughout the day with a chance...</td>\n",
       "      <td>rain</td>\n",
       "      <td>03769099999,EGWU,03680099999,03768399999,03672...</td>\n",
       "    </tr>\n",
       "    <tr>\n",
       "      <th>1</th>\n",
       "      <td>1</td>\n",
       "      <td>London, England, United Kingdom</td>\n",
       "      <td>2014-01-02</td>\n",
       "      <td>11.0</td>\n",
       "      <td>6.6</td>\n",
       "      <td>9.1</td>\n",
       "      <td>11.0</td>\n",
       "      <td>3.6</td>\n",
       "      <td>7.2</td>\n",
       "      <td>6.0</td>\n",
       "      <td>81.0</td>\n",
       "      <td>5.394</td>\n",
       "      <td>100</td>\n",
       "      <td>12.50</td>\n",
       "      <td>rain</td>\n",
       "      <td>0.0</td>\n",
       "      <td>0.0</td>\n",
       "      <td>51.8</td>\n",
       "      <td>29.8</td>\n",
       "      <td>216.2</td>\n",
       "      <td>993.4</td>\n",
       "      <td>47.4</td>\n",
       "      <td>26.7</td>\n",
       "      <td>38.3</td>\n",
       "      <td>3.3</td>\n",
       "      <td>2</td>\n",
       "      <td>NaN</td>\n",
       "      <td>2014-01-02T08:06:07</td>\n",
       "      <td>2014-01-02T16:03:08</td>\n",
       "      <td>0.03</td>\n",
       "      <td>Rain, Partially cloudy</td>\n",
       "      <td>Partly cloudy throughout the day with rain.</td>\n",
       "      <td>rain</td>\n",
       "      <td>03769099999,03680099999,03672099999,0378109999...</td>\n",
       "    </tr>\n",
       "    <tr>\n",
       "      <th>2</th>\n",
       "      <td>2</td>\n",
       "      <td>London, England, United Kingdom</td>\n",
       "      <td>2014-01-03</td>\n",
       "      <td>10.6</td>\n",
       "      <td>7.3</td>\n",
       "      <td>9.0</td>\n",
       "      <td>10.6</td>\n",
       "      <td>3.2</td>\n",
       "      <td>6.5</td>\n",
       "      <td>5.1</td>\n",
       "      <td>76.8</td>\n",
       "      <td>6.030</td>\n",
       "      <td>100</td>\n",
       "      <td>16.67</td>\n",
       "      <td>rain</td>\n",
       "      <td>0.0</td>\n",
       "      <td>0.0</td>\n",
       "      <td>77.4</td>\n",
       "      <td>33.5</td>\n",
       "      <td>218.4</td>\n",
       "      <td>994.5</td>\n",
       "      <td>52.8</td>\n",
       "      <td>17.9</td>\n",
       "      <td>30.3</td>\n",
       "      <td>2.8</td>\n",
       "      <td>2</td>\n",
       "      <td>NaN</td>\n",
       "      <td>2014-01-03T08:05:56</td>\n",
       "      <td>2014-01-03T16:04:16</td>\n",
       "      <td>0.07</td>\n",
       "      <td>Rain, Partially cloudy</td>\n",
       "      <td>Partly cloudy throughout the day with a chance...</td>\n",
       "      <td>rain</td>\n",
       "      <td>03769099999,03680099999,03672099999,0378109999...</td>\n",
       "    </tr>\n",
       "    <tr>\n",
       "      <th>3</th>\n",
       "      <td>3</td>\n",
       "      <td>London, England, United Kingdom</td>\n",
       "      <td>2014-01-04</td>\n",
       "      <td>10.1</td>\n",
       "      <td>4.5</td>\n",
       "      <td>8.0</td>\n",
       "      <td>10.1</td>\n",
       "      <td>2.0</td>\n",
       "      <td>5.1</td>\n",
       "      <td>5.2</td>\n",
       "      <td>82.4</td>\n",
       "      <td>5.239</td>\n",
       "      <td>100</td>\n",
       "      <td>16.67</td>\n",
       "      <td>rain</td>\n",
       "      <td>0.0</td>\n",
       "      <td>0.0</td>\n",
       "      <td>62.1</td>\n",
       "      <td>29.2</td>\n",
       "      <td>206.0</td>\n",
       "      <td>993.6</td>\n",
       "      <td>67.6</td>\n",
       "      <td>22.0</td>\n",
       "      <td>17.4</td>\n",
       "      <td>1.4</td>\n",
       "      <td>1</td>\n",
       "      <td>NaN</td>\n",
       "      <td>2014-01-04T08:05:42</td>\n",
       "      <td>2014-01-04T16:05:25</td>\n",
       "      <td>0.10</td>\n",
       "      <td>Rain, Partially cloudy</td>\n",
       "      <td>Partly cloudy throughout the day with a chance...</td>\n",
       "      <td>rain</td>\n",
       "      <td>03769099999,03680099999,03672099999,0378109999...</td>\n",
       "    </tr>\n",
       "    <tr>\n",
       "      <th>4</th>\n",
       "      <td>4</td>\n",
       "      <td>London, England, United Kingdom</td>\n",
       "      <td>2014-01-05</td>\n",
       "      <td>12.0</td>\n",
       "      <td>1.8</td>\n",
       "      <td>6.0</td>\n",
       "      <td>12.0</td>\n",
       "      <td>-0.9</td>\n",
       "      <td>3.6</td>\n",
       "      <td>3.9</td>\n",
       "      <td>85.9</td>\n",
       "      <td>0.201</td>\n",
       "      <td>100</td>\n",
       "      <td>8.33</td>\n",
       "      <td>rain</td>\n",
       "      <td>0.0</td>\n",
       "      <td>0.0</td>\n",
       "      <td>55.6</td>\n",
       "      <td>30.4</td>\n",
       "      <td>192.5</td>\n",
       "      <td>1000.0</td>\n",
       "      <td>66.5</td>\n",
       "      <td>25.5</td>\n",
       "      <td>30.4</td>\n",
       "      <td>2.6</td>\n",
       "      <td>2</td>\n",
       "      <td>NaN</td>\n",
       "      <td>2014-01-05T08:05:24</td>\n",
       "      <td>2014-01-05T16:06:38</td>\n",
       "      <td>0.14</td>\n",
       "      <td>Rain, Partially cloudy</td>\n",
       "      <td>Partly cloudy throughout the day with rain.</td>\n",
       "      <td>rain</td>\n",
       "      <td>03769099999,03680099999,03672099999,0378109999...</td>\n",
       "    </tr>\n",
       "  </tbody>\n",
       "</table>\n",
       "</div>"
      ],
      "text/plain": [
       "   Unnamed: 0                             name    datetime  tempmax  tempmin  \\\n",
       "0           0  London, England, United Kingdom  2014-01-01     11.6      6.7   \n",
       "1           1  London, England, United Kingdom  2014-01-02     11.0      6.6   \n",
       "2           2  London, England, United Kingdom  2014-01-03     10.6      7.3   \n",
       "3           3  London, England, United Kingdom  2014-01-04     10.1      4.5   \n",
       "4           4  London, England, United Kingdom  2014-01-05     12.0      1.8   \n",
       "\n",
       "   temp  feelslikemax  feelslikemin  feelslike  dew  humidity  precip  \\\n",
       "0   9.1          11.6           3.6        7.0  6.7      84.8  11.857   \n",
       "1   9.1          11.0           3.6        7.2  6.0      81.0   5.394   \n",
       "2   9.0          10.6           3.2        6.5  5.1      76.8   6.030   \n",
       "3   8.0          10.1           2.0        5.1  5.2      82.4   5.239   \n",
       "4   6.0          12.0          -0.9        3.6  3.9      85.9   0.201   \n",
       "\n",
       "   precipprob  precipcover preciptype  snow  snowdepth  windgust  windspeed  \\\n",
       "0         100        16.67       rain   0.0        0.0      72.4       38.4   \n",
       "1         100        12.50       rain   0.0        0.0      51.8       29.8   \n",
       "2         100        16.67       rain   0.0        0.0      77.4       33.5   \n",
       "3         100        16.67       rain   0.0        0.0      62.1       29.2   \n",
       "4         100         8.33       rain   0.0        0.0      55.6       30.4   \n",
       "\n",
       "   winddir  sealevelpressure  cloudcover  visibility  solarradiation  \\\n",
       "0    190.5             993.1        67.4        14.2             6.9   \n",
       "1    216.2             993.4        47.4        26.7            38.3   \n",
       "2    218.4             994.5        52.8        17.9            30.3   \n",
       "3    206.0             993.6        67.6        22.0            17.4   \n",
       "4    192.5            1000.0        66.5        25.5            30.4   \n",
       "\n",
       "   solarenergy  uvindex  severerisk              sunrise               sunset  \\\n",
       "0          0.5        0         NaN  2014-01-01T08:06:14  2014-01-01T16:02:04   \n",
       "1          3.3        2         NaN  2014-01-02T08:06:07  2014-01-02T16:03:08   \n",
       "2          2.8        2         NaN  2014-01-03T08:05:56  2014-01-03T16:04:16   \n",
       "3          1.4        1         NaN  2014-01-04T08:05:42  2014-01-04T16:05:25   \n",
       "4          2.6        2         NaN  2014-01-05T08:05:24  2014-01-05T16:06:38   \n",
       "\n",
       "   moonphase              conditions  \\\n",
       "0       0.00  Rain, Partially cloudy   \n",
       "1       0.03  Rain, Partially cloudy   \n",
       "2       0.07  Rain, Partially cloudy   \n",
       "3       0.10  Rain, Partially cloudy   \n",
       "4       0.14  Rain, Partially cloudy   \n",
       "\n",
       "                                         description  icon  \\\n",
       "0  Partly cloudy throughout the day with a chance...  rain   \n",
       "1        Partly cloudy throughout the day with rain.  rain   \n",
       "2  Partly cloudy throughout the day with a chance...  rain   \n",
       "3  Partly cloudy throughout the day with a chance...  rain   \n",
       "4        Partly cloudy throughout the day with rain.  rain   \n",
       "\n",
       "                                            stations  \n",
       "0  03769099999,EGWU,03680099999,03768399999,03672...  \n",
       "1  03769099999,03680099999,03672099999,0378109999...  \n",
       "2  03769099999,03680099999,03672099999,0378109999...  \n",
       "3  03769099999,03680099999,03672099999,0378109999...  \n",
       "4  03769099999,03680099999,03672099999,0378109999...  "
      ]
     },
     "execution_count": 5,
     "metadata": {},
     "output_type": "execute_result"
    }
   ],
   "source": [
    "df_london.head()"
   ]
  },
  {
   "cell_type": "code",
   "execution_count": 6,
   "id": "8dfc5fa7",
   "metadata": {
    "tags": []
   },
   "outputs": [
    {
     "data": {
      "text/plain": [
       "Index(['Unnamed: 0', 'name', 'datetime', 'tempmax', 'tempmin', 'temp',\n",
       "       'feelslikemax', 'feelslikemin', 'feelslike', 'dew', 'humidity',\n",
       "       'precip', 'precipprob', 'precipcover', 'preciptype', 'snow',\n",
       "       'snowdepth', 'windgust', 'windspeed', 'winddir', 'sealevelpressure',\n",
       "       'cloudcover', 'visibility', 'solarradiation', 'solarenergy', 'uvindex',\n",
       "       'severerisk', 'sunrise', 'sunset', 'moonphase', 'conditions',\n",
       "       'description', 'icon', 'stations'],\n",
       "      dtype='object')"
      ]
     },
     "execution_count": 6,
     "metadata": {},
     "output_type": "execute_result"
    }
   ],
   "source": [
    "df_london.columns"
   ]
  },
  {
   "cell_type": "code",
   "execution_count": 7,
   "id": "3e90b221",
   "metadata": {
    "tags": []
   },
   "outputs": [],
   "source": [
    "columns_to_drop = ['Unnamed: 0',  'tempmax', 'tempmin', 'icon', 'stations', 'conditions' ]\n",
    "df_london = df_london.drop(columns=columns_to_drop)"
   ]
  },
  {
   "cell_type": "code",
   "execution_count": 8,
   "id": "0ab3c509",
   "metadata": {
    "tags": []
   },
   "outputs": [
    {
     "data": {
      "text/plain": [
       "'2014-01-01'"
      ]
     },
     "execution_count": 8,
     "metadata": {},
     "output_type": "execute_result"
    }
   ],
   "source": [
    "df_london['datetime'].min()"
   ]
  },
  {
   "cell_type": "code",
   "execution_count": 9,
   "id": "4c4016a1",
   "metadata": {
    "tags": []
   },
   "outputs": [
    {
     "data": {
      "text/plain": [
       "'2024-05-20'"
      ]
     },
     "execution_count": 9,
     "metadata": {},
     "output_type": "execute_result"
    }
   ],
   "source": [
    "df_london['datetime'].max()"
   ]
  },
  {
   "cell_type": "code",
   "execution_count": 10,
   "id": "46c8c113",
   "metadata": {
    "tags": []
   },
   "outputs": [
    {
     "data": {
      "text/plain": [
       "-3.2"
      ]
     },
     "execution_count": 10,
     "metadata": {},
     "output_type": "execute_result"
    }
   ],
   "source": [
    "df_london['temp'].min()"
   ]
  },
  {
   "cell_type": "code",
   "execution_count": 11,
   "id": "d69d4346",
   "metadata": {
    "tags": []
   },
   "outputs": [
    {
     "data": {
      "text/plain": [
       "30.3"
      ]
     },
     "execution_count": 11,
     "metadata": {},
     "output_type": "execute_result"
    }
   ],
   "source": [
    "df_london['temp'].max()"
   ]
  },
  {
   "cell_type": "code",
   "execution_count": 12,
   "id": "222b8549-a835-47ce-9974-45de66f346c1",
   "metadata": {
    "tags": []
   },
   "outputs": [
    {
     "data": {
      "text/plain": [
       "name                 object\n",
       "datetime             object\n",
       "temp                float64\n",
       "feelslikemax        float64\n",
       "feelslikemin        float64\n",
       "feelslike           float64\n",
       "dew                 float64\n",
       "humidity            float64\n",
       "precip              float64\n",
       "precipprob            int64\n",
       "precipcover         float64\n",
       "preciptype           object\n",
       "snow                float64\n",
       "snowdepth           float64\n",
       "windgust            float64\n",
       "windspeed           float64\n",
       "winddir             float64\n",
       "sealevelpressure    float64\n",
       "cloudcover          float64\n",
       "visibility          float64\n",
       "solarradiation      float64\n",
       "solarenergy         float64\n",
       "uvindex               int64\n",
       "severerisk          float64\n",
       "sunrise              object\n",
       "sunset               object\n",
       "moonphase           float64\n",
       "description          object\n",
       "dtype: object"
      ]
     },
     "execution_count": 12,
     "metadata": {},
     "output_type": "execute_result"
    }
   ],
   "source": [
    "df_london.dtypes"
   ]
  },
  {
   "cell_type": "code",
   "execution_count": 13,
   "id": "9d72dae8",
   "metadata": {
    "tags": []
   },
   "outputs": [
    {
     "data": {
      "text/plain": [
       "name                   0\n",
       "datetime               0\n",
       "temp                   0\n",
       "feelslikemax           0\n",
       "feelslikemin           0\n",
       "feelslike              0\n",
       "dew                    0\n",
       "humidity               0\n",
       "precip                 0\n",
       "precipprob             0\n",
       "precipcover            0\n",
       "preciptype          1426\n",
       "snow                   0\n",
       "snowdepth              0\n",
       "windgust             175\n",
       "windspeed              0\n",
       "winddir                0\n",
       "sealevelpressure       0\n",
       "cloudcover             0\n",
       "visibility             0\n",
       "solarradiation         0\n",
       "solarenergy            0\n",
       "uvindex                0\n",
       "severerisk          2931\n",
       "sunrise                0\n",
       "sunset                 0\n",
       "moonphase              0\n",
       "description            0\n",
       "dtype: int64"
      ]
     },
     "execution_count": 13,
     "metadata": {},
     "output_type": "execute_result"
    }
   ],
   "source": [
    "df_london.isna().sum()"
   ]
  },
  {
   "cell_type": "markdown",
   "id": "af23e0b6",
   "metadata": {},
   "source": [
    "To Do: \n",
    "\n",
    "- linear interpolation for missing values \n",
    "- drop unnecessary columns \n",
    "- set datetime to date data type"
   ]
  },
  {
   "cell_type": "code",
   "execution_count": 14,
   "id": "0a4ac1a9",
   "metadata": {
    "tags": []
   },
   "outputs": [],
   "source": [
    "#run k-nn to fill in the missing values with the k nearest neighbour \n",
    "#https://www.sciencedirect.com/science/article/abs/pii/S0164121212001586#:~:text=kNN%20imputation%20is%20designed%20to,or%20attribute)%20is%20categorical%2C%20referred\n",
    "\n",
    "imputer = KNNImputer(n_neighbors=5)\n",
    "df_london[['windgust', 'severerisk']] = imputer.fit_transform(df_london[['windgust', 'severerisk']])\n"
   ]
  },
  {
   "cell_type": "code",
   "execution_count": 15,
   "id": "74da3ee9",
   "metadata": {
    "tags": []
   },
   "outputs": [
    {
     "data": {
      "text/plain": [
       "array(['rain', nan, 'rain,snow', 'snow'], dtype=object)"
      ]
     },
     "execution_count": 15,
     "metadata": {},
     "output_type": "execute_result"
    }
   ],
   "source": [
    "df_london['preciptype'].unique()"
   ]
  },
  {
   "cell_type": "code",
   "execution_count": 16,
   "id": "14e396e4",
   "metadata": {
    "tags": []
   },
   "outputs": [
    {
     "data": {
      "text/plain": [
       "rain         2320\n",
       "rain,snow      40\n",
       "snow            7\n",
       "Name: preciptype, dtype: int64"
      ]
     },
     "execution_count": 16,
     "metadata": {},
     "output_type": "execute_result"
    }
   ],
   "source": [
    "df_london['preciptype'].value_counts()"
   ]
  },
  {
   "cell_type": "code",
   "execution_count": 17,
   "id": "eaf20fda-19cc-4e4d-9e8b-900919811ded",
   "metadata": {
    "tags": []
   },
   "outputs": [
    {
     "data": {
      "text/plain": [
       "name                   0\n",
       "datetime               0\n",
       "temp                   0\n",
       "feelslikemax           0\n",
       "feelslikemin           0\n",
       "feelslike              0\n",
       "dew                    0\n",
       "humidity               0\n",
       "precip                 0\n",
       "precipprob             0\n",
       "precipcover            0\n",
       "preciptype          1426\n",
       "snow                   0\n",
       "snowdepth              0\n",
       "windgust               0\n",
       "windspeed              0\n",
       "winddir                0\n",
       "sealevelpressure       0\n",
       "cloudcover             0\n",
       "visibility             0\n",
       "solarradiation         0\n",
       "solarenergy            0\n",
       "uvindex                0\n",
       "severerisk             0\n",
       "sunrise                0\n",
       "sunset                 0\n",
       "moonphase              0\n",
       "description            0\n",
       "dtype: int64"
      ]
     },
     "execution_count": 17,
     "metadata": {},
     "output_type": "execute_result"
    }
   ],
   "source": [
    "df_london.isna().sum()"
   ]
  },
  {
   "cell_type": "code",
   "execution_count": 18,
   "id": "07eb489c-9904-4374-9065-c9b25599e9d6",
   "metadata": {
    "tags": []
   },
   "outputs": [],
   "source": [
    "#using forward fill to fill in categorical missing data for the preciptype column\n",
    "\n",
    "df_london['preciptype'].fillna(method='ffill', inplace=True)"
   ]
  },
  {
   "cell_type": "code",
   "execution_count": 19,
   "id": "c320cb63-df86-485d-9535-3d98bac614da",
   "metadata": {
    "tags": []
   },
   "outputs": [],
   "source": [
    "#using backward fill to fill in categorical missing data for the preciptype column\n",
    "\n",
    "df_london['preciptype'] = df_london['preciptype'].fillna(method='bfill')"
   ]
  },
  {
   "cell_type": "code",
   "execution_count": 20,
   "id": "8388f508-2637-4b4c-92a0-356e57de6d4b",
   "metadata": {
    "tags": []
   },
   "outputs": [
    {
     "data": {
      "text/plain": [
       "name                0\n",
       "datetime            0\n",
       "temp                0\n",
       "feelslikemax        0\n",
       "feelslikemin        0\n",
       "feelslike           0\n",
       "dew                 0\n",
       "humidity            0\n",
       "precip              0\n",
       "precipprob          0\n",
       "precipcover         0\n",
       "preciptype          0\n",
       "snow                0\n",
       "snowdepth           0\n",
       "windgust            0\n",
       "windspeed           0\n",
       "winddir             0\n",
       "sealevelpressure    0\n",
       "cloudcover          0\n",
       "visibility          0\n",
       "solarradiation      0\n",
       "solarenergy         0\n",
       "uvindex             0\n",
       "severerisk          0\n",
       "sunrise             0\n",
       "sunset              0\n",
       "moonphase           0\n",
       "description         0\n",
       "dtype: int64"
      ]
     },
     "execution_count": 20,
     "metadata": {},
     "output_type": "execute_result"
    }
   ],
   "source": [
    "df_london.isna().sum()"
   ]
  },
  {
   "cell_type": "code",
   "execution_count": 21,
   "id": "ac72485b-b11c-4332-955a-4cc96b6dda6e",
   "metadata": {
    "tags": []
   },
   "outputs": [],
   "source": [
    "#setting the datetime column to datetime data type\n",
    "\n",
    "#df['date_column'] = pd.to_datetime(df['date_column'])"
   ]
  },
  {
   "cell_type": "code",
   "execution_count": 22,
   "id": "3f419d0e-688b-487f-be54-76bab551f0e1",
   "metadata": {
    "tags": []
   },
   "outputs": [
    {
     "data": {
      "text/html": [
       "<div>\n",
       "<style scoped>\n",
       "    .dataframe tbody tr th:only-of-type {\n",
       "        vertical-align: middle;\n",
       "    }\n",
       "\n",
       "    .dataframe tbody tr th {\n",
       "        vertical-align: top;\n",
       "    }\n",
       "\n",
       "    .dataframe thead th {\n",
       "        text-align: right;\n",
       "    }\n",
       "</style>\n",
       "<table border=\"1\" class=\"dataframe\">\n",
       "  <thead>\n",
       "    <tr style=\"text-align: right;\">\n",
       "      <th></th>\n",
       "      <th>name</th>\n",
       "      <th>datetime</th>\n",
       "      <th>temp</th>\n",
       "      <th>feelslikemax</th>\n",
       "      <th>feelslikemin</th>\n",
       "      <th>feelslike</th>\n",
       "      <th>dew</th>\n",
       "      <th>humidity</th>\n",
       "      <th>precip</th>\n",
       "      <th>precipprob</th>\n",
       "      <th>precipcover</th>\n",
       "      <th>preciptype</th>\n",
       "      <th>snow</th>\n",
       "      <th>snowdepth</th>\n",
       "      <th>windgust</th>\n",
       "      <th>windspeed</th>\n",
       "      <th>winddir</th>\n",
       "      <th>sealevelpressure</th>\n",
       "      <th>cloudcover</th>\n",
       "      <th>visibility</th>\n",
       "      <th>solarradiation</th>\n",
       "      <th>solarenergy</th>\n",
       "      <th>uvindex</th>\n",
       "      <th>severerisk</th>\n",
       "      <th>sunrise</th>\n",
       "      <th>sunset</th>\n",
       "      <th>moonphase</th>\n",
       "      <th>description</th>\n",
       "    </tr>\n",
       "  </thead>\n",
       "  <tbody>\n",
       "    <tr>\n",
       "      <th>0</th>\n",
       "      <td>London, England, United Kingdom</td>\n",
       "      <td>2014-01-01</td>\n",
       "      <td>9.1</td>\n",
       "      <td>11.6</td>\n",
       "      <td>3.6</td>\n",
       "      <td>7.0</td>\n",
       "      <td>6.7</td>\n",
       "      <td>84.8</td>\n",
       "      <td>11.857</td>\n",
       "      <td>100</td>\n",
       "      <td>16.67</td>\n",
       "      <td>rain</td>\n",
       "      <td>0.0</td>\n",
       "      <td>0.0</td>\n",
       "      <td>72.4</td>\n",
       "      <td>38.4</td>\n",
       "      <td>190.5</td>\n",
       "      <td>993.1</td>\n",
       "      <td>67.4</td>\n",
       "      <td>14.2</td>\n",
       "      <td>6.9</td>\n",
       "      <td>0.5</td>\n",
       "      <td>0</td>\n",
       "      <td>10.0</td>\n",
       "      <td>2014-01-01T08:06:14</td>\n",
       "      <td>2014-01-01T16:02:04</td>\n",
       "      <td>0.00</td>\n",
       "      <td>Partly cloudy throughout the day with a chance...</td>\n",
       "    </tr>\n",
       "    <tr>\n",
       "      <th>1</th>\n",
       "      <td>London, England, United Kingdom</td>\n",
       "      <td>2014-01-02</td>\n",
       "      <td>9.1</td>\n",
       "      <td>11.0</td>\n",
       "      <td>3.6</td>\n",
       "      <td>7.2</td>\n",
       "      <td>6.0</td>\n",
       "      <td>81.0</td>\n",
       "      <td>5.394</td>\n",
       "      <td>100</td>\n",
       "      <td>12.50</td>\n",
       "      <td>rain</td>\n",
       "      <td>0.0</td>\n",
       "      <td>0.0</td>\n",
       "      <td>51.8</td>\n",
       "      <td>29.8</td>\n",
       "      <td>216.2</td>\n",
       "      <td>993.4</td>\n",
       "      <td>47.4</td>\n",
       "      <td>26.7</td>\n",
       "      <td>38.3</td>\n",
       "      <td>3.3</td>\n",
       "      <td>2</td>\n",
       "      <td>10.0</td>\n",
       "      <td>2014-01-02T08:06:07</td>\n",
       "      <td>2014-01-02T16:03:08</td>\n",
       "      <td>0.03</td>\n",
       "      <td>Partly cloudy throughout the day with rain.</td>\n",
       "    </tr>\n",
       "    <tr>\n",
       "      <th>2</th>\n",
       "      <td>London, England, United Kingdom</td>\n",
       "      <td>2014-01-03</td>\n",
       "      <td>9.0</td>\n",
       "      <td>10.6</td>\n",
       "      <td>3.2</td>\n",
       "      <td>6.5</td>\n",
       "      <td>5.1</td>\n",
       "      <td>76.8</td>\n",
       "      <td>6.030</td>\n",
       "      <td>100</td>\n",
       "      <td>16.67</td>\n",
       "      <td>rain</td>\n",
       "      <td>0.0</td>\n",
       "      <td>0.0</td>\n",
       "      <td>77.4</td>\n",
       "      <td>33.5</td>\n",
       "      <td>218.4</td>\n",
       "      <td>994.5</td>\n",
       "      <td>52.8</td>\n",
       "      <td>17.9</td>\n",
       "      <td>30.3</td>\n",
       "      <td>2.8</td>\n",
       "      <td>2</td>\n",
       "      <td>10.0</td>\n",
       "      <td>2014-01-03T08:05:56</td>\n",
       "      <td>2014-01-03T16:04:16</td>\n",
       "      <td>0.07</td>\n",
       "      <td>Partly cloudy throughout the day with a chance...</td>\n",
       "    </tr>\n",
       "    <tr>\n",
       "      <th>3</th>\n",
       "      <td>London, England, United Kingdom</td>\n",
       "      <td>2014-01-04</td>\n",
       "      <td>8.0</td>\n",
       "      <td>10.1</td>\n",
       "      <td>2.0</td>\n",
       "      <td>5.1</td>\n",
       "      <td>5.2</td>\n",
       "      <td>82.4</td>\n",
       "      <td>5.239</td>\n",
       "      <td>100</td>\n",
       "      <td>16.67</td>\n",
       "      <td>rain</td>\n",
       "      <td>0.0</td>\n",
       "      <td>0.0</td>\n",
       "      <td>62.1</td>\n",
       "      <td>29.2</td>\n",
       "      <td>206.0</td>\n",
       "      <td>993.6</td>\n",
       "      <td>67.6</td>\n",
       "      <td>22.0</td>\n",
       "      <td>17.4</td>\n",
       "      <td>1.4</td>\n",
       "      <td>1</td>\n",
       "      <td>10.0</td>\n",
       "      <td>2014-01-04T08:05:42</td>\n",
       "      <td>2014-01-04T16:05:25</td>\n",
       "      <td>0.10</td>\n",
       "      <td>Partly cloudy throughout the day with a chance...</td>\n",
       "    </tr>\n",
       "    <tr>\n",
       "      <th>4</th>\n",
       "      <td>London, England, United Kingdom</td>\n",
       "      <td>2014-01-05</td>\n",
       "      <td>6.0</td>\n",
       "      <td>12.0</td>\n",
       "      <td>-0.9</td>\n",
       "      <td>3.6</td>\n",
       "      <td>3.9</td>\n",
       "      <td>85.9</td>\n",
       "      <td>0.201</td>\n",
       "      <td>100</td>\n",
       "      <td>8.33</td>\n",
       "      <td>rain</td>\n",
       "      <td>0.0</td>\n",
       "      <td>0.0</td>\n",
       "      <td>55.6</td>\n",
       "      <td>30.4</td>\n",
       "      <td>192.5</td>\n",
       "      <td>1000.0</td>\n",
       "      <td>66.5</td>\n",
       "      <td>25.5</td>\n",
       "      <td>30.4</td>\n",
       "      <td>2.6</td>\n",
       "      <td>2</td>\n",
       "      <td>10.0</td>\n",
       "      <td>2014-01-05T08:05:24</td>\n",
       "      <td>2014-01-05T16:06:38</td>\n",
       "      <td>0.14</td>\n",
       "      <td>Partly cloudy throughout the day with rain.</td>\n",
       "    </tr>\n",
       "  </tbody>\n",
       "</table>\n",
       "</div>"
      ],
      "text/plain": [
       "                              name    datetime  temp  feelslikemax  \\\n",
       "0  London, England, United Kingdom  2014-01-01   9.1          11.6   \n",
       "1  London, England, United Kingdom  2014-01-02   9.1          11.0   \n",
       "2  London, England, United Kingdom  2014-01-03   9.0          10.6   \n",
       "3  London, England, United Kingdom  2014-01-04   8.0          10.1   \n",
       "4  London, England, United Kingdom  2014-01-05   6.0          12.0   \n",
       "\n",
       "   feelslikemin  feelslike  dew  humidity  precip  precipprob  precipcover  \\\n",
       "0           3.6        7.0  6.7      84.8  11.857         100        16.67   \n",
       "1           3.6        7.2  6.0      81.0   5.394         100        12.50   \n",
       "2           3.2        6.5  5.1      76.8   6.030         100        16.67   \n",
       "3           2.0        5.1  5.2      82.4   5.239         100        16.67   \n",
       "4          -0.9        3.6  3.9      85.9   0.201         100         8.33   \n",
       "\n",
       "  preciptype  snow  snowdepth  windgust  windspeed  winddir  sealevelpressure  \\\n",
       "0       rain   0.0        0.0      72.4       38.4    190.5             993.1   \n",
       "1       rain   0.0        0.0      51.8       29.8    216.2             993.4   \n",
       "2       rain   0.0        0.0      77.4       33.5    218.4             994.5   \n",
       "3       rain   0.0        0.0      62.1       29.2    206.0             993.6   \n",
       "4       rain   0.0        0.0      55.6       30.4    192.5            1000.0   \n",
       "\n",
       "   cloudcover  visibility  solarradiation  solarenergy  uvindex  severerisk  \\\n",
       "0        67.4        14.2             6.9          0.5        0        10.0   \n",
       "1        47.4        26.7            38.3          3.3        2        10.0   \n",
       "2        52.8        17.9            30.3          2.8        2        10.0   \n",
       "3        67.6        22.0            17.4          1.4        1        10.0   \n",
       "4        66.5        25.5            30.4          2.6        2        10.0   \n",
       "\n",
       "               sunrise               sunset  moonphase  \\\n",
       "0  2014-01-01T08:06:14  2014-01-01T16:02:04       0.00   \n",
       "1  2014-01-02T08:06:07  2014-01-02T16:03:08       0.03   \n",
       "2  2014-01-03T08:05:56  2014-01-03T16:04:16       0.07   \n",
       "3  2014-01-04T08:05:42  2014-01-04T16:05:25       0.10   \n",
       "4  2014-01-05T08:05:24  2014-01-05T16:06:38       0.14   \n",
       "\n",
       "                                         description  \n",
       "0  Partly cloudy throughout the day with a chance...  \n",
       "1        Partly cloudy throughout the day with rain.  \n",
       "2  Partly cloudy throughout the day with a chance...  \n",
       "3  Partly cloudy throughout the day with a chance...  \n",
       "4        Partly cloudy throughout the day with rain.  "
      ]
     },
     "execution_count": 22,
     "metadata": {},
     "output_type": "execute_result"
    }
   ],
   "source": [
    "df_london.head()"
   ]
  },
  {
   "cell_type": "code",
   "execution_count": 23,
   "id": "93d6938d-ac30-4eb6-92d5-fffcb513ef90",
   "metadata": {
    "tags": []
   },
   "outputs": [],
   "source": [
    "# one hot encoding for preciptype"
   ]
  },
  {
   "cell_type": "markdown",
   "id": "d156e0ae-b157-477a-874e-f0b76d170813",
   "metadata": {},
   "source": [
    "Tokenization of the preciptype column"
   ]
  },
  {
   "cell_type": "code",
   "execution_count": 24,
   "id": "5e6bedd8-93b1-4ed7-a0ae-1f32c6faa653",
   "metadata": {
    "tags": []
   },
   "outputs": [],
   "source": [
    "# step 1: Text processing\n",
    "tokenizer = CountVectorizer()\n",
    "hashingTF = TfidfTransformer(use_idf=False)\n",
    "idf = TfidfTransformer(use_idf=True)\n",
    "k = 3\n",
    "kmeans = KMeans(n_clusters=k, random_state=42)"
   ]
  },
  {
   "cell_type": "code",
   "execution_count": 25,
   "id": "7899e84d-0662-4475-bb5e-2f26aabd5501",
   "metadata": {
    "tags": []
   },
   "outputs": [],
   "source": [
    "# pipeline that processes text and then clusters\n",
    "pipeline = Pipeline(steps=[\n",
    "    ('tokenizer', tokenizer),\n",
    "    ('hashingTF', hashingTF),\n",
    "    ('idf', idf),\n",
    "    ('kmeans', kmeans)\n",
    "])"
   ]
  },
  {
   "cell_type": "code",
   "execution_count": 26,
   "id": "58c43ae0-63c0-41a9-ae43-c38c334d98f2",
   "metadata": {
    "tags": []
   },
   "outputs": [
    {
     "name": "stderr",
     "output_type": "stream",
     "text": [
      "C:\\Users\\nicol\\anaconda3\\envs\\AI2023\\lib\\site-packages\\sklearn\\cluster\\_kmeans.py:1416: FutureWarning: The default value of `n_init` will change from 10 to 'auto' in 1.4. Set the value of `n_init` explicitly to suppress the warning\n",
      "  super()._check_params_vs_input(X, default_n_init=10)\n"
     ]
    }
   ],
   "source": [
    "# fitting the model on the 'Occupation' column\n",
    "text_features = pipeline.fit_transform(df_london['preciptype'])"
   ]
  },
  {
   "cell_type": "code",
   "execution_count": 27,
   "id": "dbc7cb29-e0b3-493a-9059-12f60ee2c1fd",
   "metadata": {
    "tags": []
   },
   "outputs": [
    {
     "data": {
      "text/plain": [
       "0    3725\n",
       "1      59\n",
       "2       9\n",
       "Name: preciptype_clusters, dtype: int64"
      ]
     },
     "execution_count": 27,
     "metadata": {},
     "output_type": "execute_result"
    }
   ],
   "source": [
    "df_london['preciptype_clusters'] = kmeans.labels_\n",
    "df_london['preciptype_clusters'].value_counts()"
   ]
  },
  {
   "cell_type": "code",
   "execution_count": 28,
   "id": "0b1cbf9c-d04a-4f77-8d60-a2b8b86b8a54",
   "metadata": {},
   "outputs": [
    {
     "data": {
      "image/png": "[encoded data removed]",
      "text/plain": [
       "<Figure size 800x400 with 1 Axes>"
      ]
     },
     "metadata": {},
     "output_type": "display_data"
    }
   ],
   "source": [
    "text = ' '.join(description for description in df_london[df_london['preciptype_clusters']==0]['preciptype'])\n",
    "wordcloud = WordCloud(background_color='white').generate(text)\n",
    "plt.figure(figsize=(8, 4))\n",
    "plt.imshow(wordcloud, interpolation='bilinear')\n",
    "plt.axis('off')\n",
    "plt.title('Word Cloud for preciptype cluster number 0')\n",
    "plt.show()"
   ]
  },
  {
   "cell_type": "code",
   "execution_count": 29,
   "id": "e91c0b49-11de-4bab-9d1e-65f08550745a",
   "metadata": {
    "tags": []
   },
   "outputs": [
    {
     "data": {
      "image/png": "[encoded data removed]",
      "text/plain": [
       "<Figure size 800x400 with 1 Axes>"
      ]
     },
     "metadata": {},
     "output_type": "display_data"
    }
   ],
   "source": [
    "text = ' '.join(description for description in df_london[df_london['preciptype_clusters']==1]['preciptype'])\n",
    "wordcloud = WordCloud(background_color='white').generate(text)\n",
    "plt.figure(figsize=(8, 4))\n",
    "plt.imshow(wordcloud, interpolation='bilinear')\n",
    "plt.axis('off')\n",
    "plt.title('Word Cloud for preciptype cluster number 1')\n",
    "plt.show()"
   ]
  },
  {
   "cell_type": "code",
   "execution_count": 30,
   "id": "b09e9911-5acf-4ec4-affa-6a368a0b5c51",
   "metadata": {
    "tags": []
   },
   "outputs": [
    {
     "data": {
      "image/png": "[encoded data removed]",
      "text/plain": [
       "<Figure size 800x400 with 1 Axes>"
      ]
     },
     "metadata": {},
     "output_type": "display_data"
    }
   ],
   "source": [
    "text = ' '.join(description for description in df_london[df_london['preciptype_clusters']==2]['preciptype'])\n",
    "wordcloud = WordCloud(background_color='white').generate(text)\n",
    "plt.figure(figsize=(8, 4))\n",
    "plt.imshow(wordcloud, interpolation='bilinear')\n",
    "plt.axis('off')\n",
    "plt.title('Word Cloud for preciptype cluster number 2')\n",
    "plt.show()"
   ]
  },
  {
   "cell_type": "code",
   "execution_count": 31,
   "id": "caab160b-1151-48a5-9abd-183e309ecc89",
   "metadata": {
    "tags": []
   },
   "outputs": [
    {
     "data": {
      "text/plain": [
       "0    3725\n",
       "1      59\n",
       "2       9\n",
       "Name: preciptype_clusters, dtype: int64"
      ]
     },
     "execution_count": 31,
     "metadata": {},
     "output_type": "execute_result"
    }
   ],
   "source": [
    "df_london['preciptype_clusters'].value_counts()"
   ]
  },
  {
   "cell_type": "code",
   "execution_count": 32,
   "id": "4b08c9a2-4b5a-4a00-87db-d41834c420f4",
   "metadata": {
    "tags": []
   },
   "outputs": [],
   "source": [
    "df_london = df_london.drop(columns=['preciptype'])"
   ]
  },
  {
   "cell_type": "code",
   "execution_count": 33,
   "id": "e1e22f12-a8e8-4ecf-9bff-aa68505c3188",
   "metadata": {
    "tags": []
   },
   "outputs": [
    {
     "data": {
      "text/html": [
       "<div>\n",
       "<style scoped>\n",
       "    .dataframe tbody tr th:only-of-type {\n",
       "        vertical-align: middle;\n",
       "    }\n",
       "\n",
       "    .dataframe tbody tr th {\n",
       "        vertical-align: top;\n",
       "    }\n",
       "\n",
       "    .dataframe thead th {\n",
       "        text-align: right;\n",
       "    }\n",
       "</style>\n",
       "<table border=\"1\" class=\"dataframe\">\n",
       "  <thead>\n",
       "    <tr style=\"text-align: right;\">\n",
       "      <th></th>\n",
       "      <th>name</th>\n",
       "      <th>datetime</th>\n",
       "      <th>temp</th>\n",
       "      <th>feelslikemax</th>\n",
       "      <th>feelslikemin</th>\n",
       "      <th>feelslike</th>\n",
       "      <th>dew</th>\n",
       "      <th>humidity</th>\n",
       "      <th>precip</th>\n",
       "      <th>precipprob</th>\n",
       "      <th>precipcover</th>\n",
       "      <th>snow</th>\n",
       "      <th>snowdepth</th>\n",
       "      <th>windgust</th>\n",
       "      <th>windspeed</th>\n",
       "      <th>winddir</th>\n",
       "      <th>sealevelpressure</th>\n",
       "      <th>cloudcover</th>\n",
       "      <th>visibility</th>\n",
       "      <th>solarradiation</th>\n",
       "      <th>solarenergy</th>\n",
       "      <th>uvindex</th>\n",
       "      <th>severerisk</th>\n",
       "      <th>sunrise</th>\n",
       "      <th>sunset</th>\n",
       "      <th>moonphase</th>\n",
       "      <th>description</th>\n",
       "      <th>preciptype_clusters</th>\n",
       "    </tr>\n",
       "  </thead>\n",
       "  <tbody>\n",
       "    <tr>\n",
       "      <th>0</th>\n",
       "      <td>London, England, United Kingdom</td>\n",
       "      <td>2014-01-01</td>\n",
       "      <td>9.1</td>\n",
       "      <td>11.6</td>\n",
       "      <td>3.6</td>\n",
       "      <td>7.0</td>\n",
       "      <td>6.7</td>\n",
       "      <td>84.8</td>\n",
       "      <td>11.857</td>\n",
       "      <td>100</td>\n",
       "      <td>16.67</td>\n",
       "      <td>0.0</td>\n",
       "      <td>0.0</td>\n",
       "      <td>72.4</td>\n",
       "      <td>38.4</td>\n",
       "      <td>190.5</td>\n",
       "      <td>993.1</td>\n",
       "      <td>67.4</td>\n",
       "      <td>14.2</td>\n",
       "      <td>6.9</td>\n",
       "      <td>0.5</td>\n",
       "      <td>0</td>\n",
       "      <td>10.0</td>\n",
       "      <td>2014-01-01T08:06:14</td>\n",
       "      <td>2014-01-01T16:02:04</td>\n",
       "      <td>0.00</td>\n",
       "      <td>Partly cloudy throughout the day with a chance...</td>\n",
       "      <td>0</td>\n",
       "    </tr>\n",
       "    <tr>\n",
       "      <th>1</th>\n",
       "      <td>London, England, United Kingdom</td>\n",
       "      <td>2014-01-02</td>\n",
       "      <td>9.1</td>\n",
       "      <td>11.0</td>\n",
       "      <td>3.6</td>\n",
       "      <td>7.2</td>\n",
       "      <td>6.0</td>\n",
       "      <td>81.0</td>\n",
       "      <td>5.394</td>\n",
       "      <td>100</td>\n",
       "      <td>12.50</td>\n",
       "      <td>0.0</td>\n",
       "      <td>0.0</td>\n",
       "      <td>51.8</td>\n",
       "      <td>29.8</td>\n",
       "      <td>216.2</td>\n",
       "      <td>993.4</td>\n",
       "      <td>47.4</td>\n",
       "      <td>26.7</td>\n",
       "      <td>38.3</td>\n",
       "      <td>3.3</td>\n",
       "      <td>2</td>\n",
       "      <td>10.0</td>\n",
       "      <td>2014-01-02T08:06:07</td>\n",
       "      <td>2014-01-02T16:03:08</td>\n",
       "      <td>0.03</td>\n",
       "      <td>Partly cloudy throughout the day with rain.</td>\n",
       "      <td>0</td>\n",
       "    </tr>\n",
       "    <tr>\n",
       "      <th>2</th>\n",
       "      <td>London, England, United Kingdom</td>\n",
       "      <td>2014-01-03</td>\n",
       "      <td>9.0</td>\n",
       "      <td>10.6</td>\n",
       "      <td>3.2</td>\n",
       "      <td>6.5</td>\n",
       "      <td>5.1</td>\n",
       "      <td>76.8</td>\n",
       "      <td>6.030</td>\n",
       "      <td>100</td>\n",
       "      <td>16.67</td>\n",
       "      <td>0.0</td>\n",
       "      <td>0.0</td>\n",
       "      <td>77.4</td>\n",
       "      <td>33.5</td>\n",
       "      <td>218.4</td>\n",
       "      <td>994.5</td>\n",
       "      <td>52.8</td>\n",
       "      <td>17.9</td>\n",
       "      <td>30.3</td>\n",
       "      <td>2.8</td>\n",
       "      <td>2</td>\n",
       "      <td>10.0</td>\n",
       "      <td>2014-01-03T08:05:56</td>\n",
       "      <td>2014-01-03T16:04:16</td>\n",
       "      <td>0.07</td>\n",
       "      <td>Partly cloudy throughout the day with a chance...</td>\n",
       "      <td>0</td>\n",
       "    </tr>\n",
       "    <tr>\n",
       "      <th>3</th>\n",
       "      <td>London, England, United Kingdom</td>\n",
       "      <td>2014-01-04</td>\n",
       "      <td>8.0</td>\n",
       "      <td>10.1</td>\n",
       "      <td>2.0</td>\n",
       "      <td>5.1</td>\n",
       "      <td>5.2</td>\n",
       "      <td>82.4</td>\n",
       "      <td>5.239</td>\n",
       "      <td>100</td>\n",
       "      <td>16.67</td>\n",
       "      <td>0.0</td>\n",
       "      <td>0.0</td>\n",
       "      <td>62.1</td>\n",
       "      <td>29.2</td>\n",
       "      <td>206.0</td>\n",
       "      <td>993.6</td>\n",
       "      <td>67.6</td>\n",
       "      <td>22.0</td>\n",
       "      <td>17.4</td>\n",
       "      <td>1.4</td>\n",
       "      <td>1</td>\n",
       "      <td>10.0</td>\n",
       "      <td>2014-01-04T08:05:42</td>\n",
       "      <td>2014-01-04T16:05:25</td>\n",
       "      <td>0.10</td>\n",
       "      <td>Partly cloudy throughout the day with a chance...</td>\n",
       "      <td>0</td>\n",
       "    </tr>\n",
       "    <tr>\n",
       "      <th>4</th>\n",
       "      <td>London, England, United Kingdom</td>\n",
       "      <td>2014-01-05</td>\n",
       "      <td>6.0</td>\n",
       "      <td>12.0</td>\n",
       "      <td>-0.9</td>\n",
       "      <td>3.6</td>\n",
       "      <td>3.9</td>\n",
       "      <td>85.9</td>\n",
       "      <td>0.201</td>\n",
       "      <td>100</td>\n",
       "      <td>8.33</td>\n",
       "      <td>0.0</td>\n",
       "      <td>0.0</td>\n",
       "      <td>55.6</td>\n",
       "      <td>30.4</td>\n",
       "      <td>192.5</td>\n",
       "      <td>1000.0</td>\n",
       "      <td>66.5</td>\n",
       "      <td>25.5</td>\n",
       "      <td>30.4</td>\n",
       "      <td>2.6</td>\n",
       "      <td>2</td>\n",
       "      <td>10.0</td>\n",
       "      <td>2014-01-05T08:05:24</td>\n",
       "      <td>2014-01-05T16:06:38</td>\n",
       "      <td>0.14</td>\n",
       "      <td>Partly cloudy throughout the day with rain.</td>\n",
       "      <td>0</td>\n",
       "    </tr>\n",
       "  </tbody>\n",
       "</table>\n",
       "</div>"
      ],
      "text/plain": [
       "                              name    datetime  temp  feelslikemax  \\\n",
       "0  London, England, United Kingdom  2014-01-01   9.1          11.6   \n",
       "1  London, England, United Kingdom  2014-01-02   9.1          11.0   \n",
       "2  London, England, United Kingdom  2014-01-03   9.0          10.6   \n",
       "3  London, England, United Kingdom  2014-01-04   8.0          10.1   \n",
       "4  London, England, United Kingdom  2014-01-05   6.0          12.0   \n",
       "\n",
       "   feelslikemin  feelslike  dew  humidity  precip  precipprob  precipcover  \\\n",
       "0           3.6        7.0  6.7      84.8  11.857         100        16.67   \n",
       "1           3.6        7.2  6.0      81.0   5.394         100        12.50   \n",
       "2           3.2        6.5  5.1      76.8   6.030         100        16.67   \n",
       "3           2.0        5.1  5.2      82.4   5.239         100        16.67   \n",
       "4          -0.9        3.6  3.9      85.9   0.201         100         8.33   \n",
       "\n",
       "   snow  snowdepth  windgust  windspeed  winddir  sealevelpressure  \\\n",
       "0   0.0        0.0      72.4       38.4    190.5             993.1   \n",
       "1   0.0        0.0      51.8       29.8    216.2             993.4   \n",
       "2   0.0        0.0      77.4       33.5    218.4             994.5   \n",
       "3   0.0        0.0      62.1       29.2    206.0             993.6   \n",
       "4   0.0        0.0      55.6       30.4    192.5            1000.0   \n",
       "\n",
       "   cloudcover  visibility  solarradiation  solarenergy  uvindex  severerisk  \\\n",
       "0        67.4        14.2             6.9          0.5        0        10.0   \n",
       "1        47.4        26.7            38.3          3.3        2        10.0   \n",
       "2        52.8        17.9            30.3          2.8        2        10.0   \n",
       "3        67.6        22.0            17.4          1.4        1        10.0   \n",
       "4        66.5        25.5            30.4          2.6        2        10.0   \n",
       "\n",
       "               sunrise               sunset  moonphase  \\\n",
       "0  2014-01-01T08:06:14  2014-01-01T16:02:04       0.00   \n",
       "1  2014-01-02T08:06:07  2014-01-02T16:03:08       0.03   \n",
       "2  2014-01-03T08:05:56  2014-01-03T16:04:16       0.07   \n",
       "3  2014-01-04T08:05:42  2014-01-04T16:05:25       0.10   \n",
       "4  2014-01-05T08:05:24  2014-01-05T16:06:38       0.14   \n",
       "\n",
       "                                         description  preciptype_clusters  \n",
       "0  Partly cloudy throughout the day with a chance...                    0  \n",
       "1        Partly cloudy throughout the day with rain.                    0  \n",
       "2  Partly cloudy throughout the day with a chance...                    0  \n",
       "3  Partly cloudy throughout the day with a chance...                    0  \n",
       "4        Partly cloudy throughout the day with rain.                    0  "
      ]
     },
     "execution_count": 33,
     "metadata": {},
     "output_type": "execute_result"
    }
   ],
   "source": [
    "df_london.head()"
   ]
  },
  {
   "cell_type": "code",
   "execution_count": 34,
   "id": "42b0ee26-9095-4c61-8dad-6342cbe0e795",
   "metadata": {
    "tags": []
   },
   "outputs": [],
   "source": [
    "folder_path = r'C:\\Users\\nicol\\OneDrive\\Master\\Goldsmiths\\Thesis\\weather-prediction\\.data'\n",
    "file_name = 'london_weather_2014-2024_updated.csv'\n",
    "full_path = os.path.join(folder_path, file_name)\n",
    "\n",
    "# Save the DataFrame to the specified path\n",
    "df_london.to_csv(full_path)"
   ]
  },
  {
   "cell_type": "code",
   "execution_count": null,
   "id": "f1c5974c-a9b9-493a-a2fc-8b6dc6dfb897",
   "metadata": {},
   "outputs": [],
   "source": []
  },
  {
   "cell_type": "code",
   "execution_count": 36,
   "id": "65794d84-87c9-4cf1-ad42-ee79288a298d",
   "metadata": {
    "tags": []
   },
   "outputs": [
    {
     "data": {
      "text/html": [
       "<div>\n",
       "<style scoped>\n",
       "    .dataframe tbody tr th:only-of-type {\n",
       "        vertical-align: middle;\n",
       "    }\n",
       "\n",
       "    .dataframe tbody tr th {\n",
       "        vertical-align: top;\n",
       "    }\n",
       "\n",
       "    .dataframe thead th {\n",
       "        text-align: right;\n",
       "    }\n",
       "</style>\n",
       "<table border=\"1\" class=\"dataframe\">\n",
       "  <thead>\n",
       "    <tr style=\"text-align: right;\">\n",
       "      <th></th>\n",
       "      <th>name</th>\n",
       "      <th>datetime</th>\n",
       "      <th>temp</th>\n",
       "      <th>feelslikemax</th>\n",
       "      <th>feelslikemin</th>\n",
       "      <th>feelslike</th>\n",
       "      <th>dew</th>\n",
       "      <th>humidity</th>\n",
       "      <th>precip</th>\n",
       "      <th>precipprob</th>\n",
       "      <th>precipcover</th>\n",
       "      <th>snow</th>\n",
       "      <th>snowdepth</th>\n",
       "      <th>windgust</th>\n",
       "      <th>windspeed</th>\n",
       "      <th>winddir</th>\n",
       "      <th>sealevelpressure</th>\n",
       "      <th>cloudcover</th>\n",
       "      <th>visibility</th>\n",
       "      <th>solarradiation</th>\n",
       "      <th>solarenergy</th>\n",
       "      <th>uvindex</th>\n",
       "      <th>severerisk</th>\n",
       "      <th>sunrise</th>\n",
       "      <th>sunset</th>\n",
       "      <th>moonphase</th>\n",
       "      <th>description</th>\n",
       "      <th>preciptype_clusters</th>\n",
       "    </tr>\n",
       "  </thead>\n",
       "  <tbody>\n",
       "    <tr>\n",
       "      <th>0</th>\n",
       "      <td>London, England, United Kingdom</td>\n",
       "      <td>2014-01-01</td>\n",
       "      <td>9.1</td>\n",
       "      <td>11.6</td>\n",
       "      <td>3.6</td>\n",
       "      <td>7.0</td>\n",
       "      <td>6.7</td>\n",
       "      <td>84.8</td>\n",
       "      <td>11.857</td>\n",
       "      <td>100</td>\n",
       "      <td>16.67</td>\n",
       "      <td>0.0</td>\n",
       "      <td>0.0</td>\n",
       "      <td>72.4</td>\n",
       "      <td>38.4</td>\n",
       "      <td>190.5</td>\n",
       "      <td>993.1</td>\n",
       "      <td>67.4</td>\n",
       "      <td>14.2</td>\n",
       "      <td>6.9</td>\n",
       "      <td>0.5</td>\n",
       "      <td>0</td>\n",
       "      <td>10.0</td>\n",
       "      <td>2014-01-01T08:06:14</td>\n",
       "      <td>2014-01-01T16:02:04</td>\n",
       "      <td>0.00</td>\n",
       "      <td>Partly cloudy throughout the day with a chance...</td>\n",
       "      <td>0</td>\n",
       "    </tr>\n",
       "    <tr>\n",
       "      <th>1</th>\n",
       "      <td>London, England, United Kingdom</td>\n",
       "      <td>2014-01-02</td>\n",
       "      <td>9.1</td>\n",
       "      <td>11.0</td>\n",
       "      <td>3.6</td>\n",
       "      <td>7.2</td>\n",
       "      <td>6.0</td>\n",
       "      <td>81.0</td>\n",
       "      <td>5.394</td>\n",
       "      <td>100</td>\n",
       "      <td>12.50</td>\n",
       "      <td>0.0</td>\n",
       "      <td>0.0</td>\n",
       "      <td>51.8</td>\n",
       "      <td>29.8</td>\n",
       "      <td>216.2</td>\n",
       "      <td>993.4</td>\n",
       "      <td>47.4</td>\n",
       "      <td>26.7</td>\n",
       "      <td>38.3</td>\n",
       "      <td>3.3</td>\n",
       "      <td>2</td>\n",
       "      <td>10.0</td>\n",
       "      <td>2014-01-02T08:06:07</td>\n",
       "      <td>2014-01-02T16:03:08</td>\n",
       "      <td>0.03</td>\n",
       "      <td>Partly cloudy throughout the day with rain.</td>\n",
       "      <td>0</td>\n",
       "    </tr>\n",
       "    <tr>\n",
       "      <th>2</th>\n",
       "      <td>London, England, United Kingdom</td>\n",
       "      <td>2014-01-03</td>\n",
       "      <td>9.0</td>\n",
       "      <td>10.6</td>\n",
       "      <td>3.2</td>\n",
       "      <td>6.5</td>\n",
       "      <td>5.1</td>\n",
       "      <td>76.8</td>\n",
       "      <td>6.030</td>\n",
       "      <td>100</td>\n",
       "      <td>16.67</td>\n",
       "      <td>0.0</td>\n",
       "      <td>0.0</td>\n",
       "      <td>77.4</td>\n",
       "      <td>33.5</td>\n",
       "      <td>218.4</td>\n",
       "      <td>994.5</td>\n",
       "      <td>52.8</td>\n",
       "      <td>17.9</td>\n",
       "      <td>30.3</td>\n",
       "      <td>2.8</td>\n",
       "      <td>2</td>\n",
       "      <td>10.0</td>\n",
       "      <td>2014-01-03T08:05:56</td>\n",
       "      <td>2014-01-03T16:04:16</td>\n",
       "      <td>0.07</td>\n",
       "      <td>Partly cloudy throughout the day with a chance...</td>\n",
       "      <td>0</td>\n",
       "    </tr>\n",
       "    <tr>\n",
       "      <th>3</th>\n",
       "      <td>London, England, United Kingdom</td>\n",
       "      <td>2014-01-04</td>\n",
       "      <td>8.0</td>\n",
       "      <td>10.1</td>\n",
       "      <td>2.0</td>\n",
       "      <td>5.1</td>\n",
       "      <td>5.2</td>\n",
       "      <td>82.4</td>\n",
       "      <td>5.239</td>\n",
       "      <td>100</td>\n",
       "      <td>16.67</td>\n",
       "      <td>0.0</td>\n",
       "      <td>0.0</td>\n",
       "      <td>62.1</td>\n",
       "      <td>29.2</td>\n",
       "      <td>206.0</td>\n",
       "      <td>993.6</td>\n",
       "      <td>67.6</td>\n",
       "      <td>22.0</td>\n",
       "      <td>17.4</td>\n",
       "      <td>1.4</td>\n",
       "      <td>1</td>\n",
       "      <td>10.0</td>\n",
       "      <td>2014-01-04T08:05:42</td>\n",
       "      <td>2014-01-04T16:05:25</td>\n",
       "      <td>0.10</td>\n",
       "      <td>Partly cloudy throughout the day with a chance...</td>\n",
       "      <td>0</td>\n",
       "    </tr>\n",
       "    <tr>\n",
       "      <th>4</th>\n",
       "      <td>London, England, United Kingdom</td>\n",
       "      <td>2014-01-05</td>\n",
       "      <td>6.0</td>\n",
       "      <td>12.0</td>\n",
       "      <td>-0.9</td>\n",
       "      <td>3.6</td>\n",
       "      <td>3.9</td>\n",
       "      <td>85.9</td>\n",
       "      <td>0.201</td>\n",
       "      <td>100</td>\n",
       "      <td>8.33</td>\n",
       "      <td>0.0</td>\n",
       "      <td>0.0</td>\n",
       "      <td>55.6</td>\n",
       "      <td>30.4</td>\n",
       "      <td>192.5</td>\n",
       "      <td>1000.0</td>\n",
       "      <td>66.5</td>\n",
       "      <td>25.5</td>\n",
       "      <td>30.4</td>\n",
       "      <td>2.6</td>\n",
       "      <td>2</td>\n",
       "      <td>10.0</td>\n",
       "      <td>2014-01-05T08:05:24</td>\n",
       "      <td>2014-01-05T16:06:38</td>\n",
       "      <td>0.14</td>\n",
       "      <td>Partly cloudy throughout the day with rain.</td>\n",
       "      <td>0</td>\n",
       "    </tr>\n",
       "  </tbody>\n",
       "</table>\n",
       "</div>"
      ],
      "text/plain": [
       "                              name    datetime  temp  feelslikemax  \\\n",
       "0  London, England, United Kingdom  2014-01-01   9.1          11.6   \n",
       "1  London, England, United Kingdom  2014-01-02   9.1          11.0   \n",
       "2  London, England, United Kingdom  2014-01-03   9.0          10.6   \n",
       "3  London, England, United Kingdom  2014-01-04   8.0          10.1   \n",
       "4  London, England, United Kingdom  2014-01-05   6.0          12.0   \n",
       "\n",
       "   feelslikemin  feelslike  dew  humidity  precip  precipprob  precipcover  \\\n",
       "0           3.6        7.0  6.7      84.8  11.857         100        16.67   \n",
       "1           3.6        7.2  6.0      81.0   5.394         100        12.50   \n",
       "2           3.2        6.5  5.1      76.8   6.030         100        16.67   \n",
       "3           2.0        5.1  5.2      82.4   5.239         100        16.67   \n",
       "4          -0.9        3.6  3.9      85.9   0.201         100         8.33   \n",
       "\n",
       "   snow  snowdepth  windgust  windspeed  winddir  sealevelpressure  \\\n",
       "0   0.0        0.0      72.4       38.4    190.5             993.1   \n",
       "1   0.0        0.0      51.8       29.8    216.2             993.4   \n",
       "2   0.0        0.0      77.4       33.5    218.4             994.5   \n",
       "3   0.0        0.0      62.1       29.2    206.0             993.6   \n",
       "4   0.0        0.0      55.6       30.4    192.5            1000.0   \n",
       "\n",
       "   cloudcover  visibility  solarradiation  solarenergy  uvindex  severerisk  \\\n",
       "0        67.4        14.2             6.9          0.5        0        10.0   \n",
       "1        47.4        26.7            38.3          3.3        2        10.0   \n",
       "2        52.8        17.9            30.3          2.8        2        10.0   \n",
       "3        67.6        22.0            17.4          1.4        1        10.0   \n",
       "4        66.5        25.5            30.4          2.6        2        10.0   \n",
       "\n",
       "               sunrise               sunset  moonphase  \\\n",
       "0  2014-01-01T08:06:14  2014-01-01T16:02:04       0.00   \n",
       "1  2014-01-02T08:06:07  2014-01-02T16:03:08       0.03   \n",
       "2  2014-01-03T08:05:56  2014-01-03T16:04:16       0.07   \n",
       "3  2014-01-04T08:05:42  2014-01-04T16:05:25       0.10   \n",
       "4  2014-01-05T08:05:24  2014-01-05T16:06:38       0.14   \n",
       "\n",
       "                                         description  preciptype_clusters  \n",
       "0  Partly cloudy throughout the day with a chance...                    0  \n",
       "1        Partly cloudy throughout the day with rain.                    0  \n",
       "2  Partly cloudy throughout the day with a chance...                    0  \n",
       "3  Partly cloudy throughout the day with a chance...                    0  \n",
       "4        Partly cloudy throughout the day with rain.                    0  "
      ]
     },
     "execution_count": 36,
     "metadata": {},
     "output_type": "execute_result"
    }
   ],
   "source": [
    "df_london.head()"
   ]
  },
  {
   "cell_type": "code",
   "execution_count": null,
   "id": "84838771-ad1e-4fb0-8db5-e248d1274821",
   "metadata": {},
   "outputs": [],
   "source": []
  },
  {
   "cell_type": "code",
   "execution_count": null,
   "id": "3a42a3d5-32a4-4fd3-87c0-00c64a4291fc",
   "metadata": {},
   "outputs": [],
   "source": []
  },
  {
   "cell_type": "code",
   "execution_count": null,
   "id": "10c1b0d8-e0dc-4832-8226-e5d9cdafd36c",
   "metadata": {},
   "outputs": [],
   "source": []
  },
  {
   "cell_type": "code",
   "execution_count": null,
   "id": "8d86beb1-15a4-4591-8bc4-408005f8859b",
   "metadata": {},
   "outputs": [],
   "source": []
  },
  {
   "cell_type": "code",
   "execution_count": null,
   "id": "ee0c5b6e-780b-47f6-81ff-d7dd23ad8fea",
   "metadata": {},
   "outputs": [],
   "source": []
  }
 ],
 "metadata": {
  "kernelspec": {
   "display_name": "Python 3 (ipykernel)",
   "language": "python",
   "name": "python3"
  },
  "language_info": {
   "codemirror_mode": {
    "name": "ipython",
    "version": 3
   },
   "file_extension": ".py",
   "mimetype": "text/x-python",
   "name": "python",
   "nbconvert_exporter": "python",
   "pygments_lexer": "ipython3",
   "version": "3.10.13"
  }
 },
 "nbformat": 4,
 "nbformat_minor": 5
}
