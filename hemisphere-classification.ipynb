{
 "cells": [
  {
   "cell_type": "markdown",
   "id": "4dedd586-4f7a-43eb-b5cc-9d2a2f23b887",
   "metadata": {},
   "source": [
    "KNeighborsTimeSeriesClassifier\n",
    "\n",
    "- requires your data to be in a long format, with two indices where location and date will be the two indices and temperature the only actual column in the dataframe. You can set multi index with : df.set_index(['location', 'date'], inplace=True)\n",
    "\n",
    "\n",
    "location | date || temperature\n",
    "\n",
    "London | 2/2/2024 || 15\n",
    "Belgrade | 2/2/2024. || 21\n",
    "\n",
    "- if you have n number of locations then for the exact same day, you'll have n number of rows - this is expected as per :https://www.sktime.net/en/v0.29.1/examples/02_classification.html\n",
    "\n",
    "- the KNeigboursTimeSeriesClassifier wants date duplicates and won't get confused between them "
   ]
  },
  {
   "cell_type": "code",
   "execution_count": 66,
   "id": "ba2b707d-da8c-4956-9f15-0e7e5b49ac4a",
   "metadata": {
    "tags": []
   },
   "outputs": [],
   "source": [
    "import pandas as pd \n",
    "import numpy as np\n",
    "from sktime.classification.early_classification._teaser import TEASER\n",
    "from sktime.classification.interval_based import TimeSeriesForestClassifier"
   ]
  },
  {
   "cell_type": "markdown",
   "id": "a3deb294-7241-4f6b-9216-b6e8830ac613",
   "metadata": {},
   "source": [
    "## Concatenating all df"
   ]
  },
  {
   "cell_type": "code",
   "execution_count": 67,
   "id": "0757cfa7-1b9f-45b2-834e-cd556fda72d0",
   "metadata": {},
   "outputs": [
    {
     "ename": "FileNotFoundError",
     "evalue": "[Errno 2] No such file or directory: 'C:\\\\Users\\\\nicol\\\\OneDrive\\\\Master\\\\Goldsmiths\\\\Thesis\\\\weather-prediction\\\\.data\\\\london_weather_2014-2024.csv'",
     "output_type": "error",
     "traceback": [
      "\u001b[1;31m---------------------------------------------------------------------------\u001b[0m",
      "\u001b[1;31mFileNotFoundError\u001b[0m                         Traceback (most recent call last)",
      "Cell \u001b[1;32mIn[67], line 1\u001b[0m\n\u001b[1;32m----> 1\u001b[0m df_london \u001b[38;5;241m=\u001b[39m \u001b[43mpd\u001b[49m\u001b[38;5;241;43m.\u001b[39;49m\u001b[43mread_csv\u001b[49m\u001b[43m(\u001b[49m\u001b[38;5;124;43mr\u001b[39;49m\u001b[38;5;124;43m\"\u001b[39;49m\u001b[38;5;124;43mC:\u001b[39;49m\u001b[38;5;124;43m\\\u001b[39;49m\u001b[38;5;124;43mUsers\u001b[39;49m\u001b[38;5;124;43m\\\u001b[39;49m\u001b[38;5;124;43mnicol\u001b[39;49m\u001b[38;5;124;43m\\\u001b[39;49m\u001b[38;5;124;43mOneDrive\u001b[39;49m\u001b[38;5;124;43m\\\u001b[39;49m\u001b[38;5;124;43mMaster\u001b[39;49m\u001b[38;5;124;43m\\\u001b[39;49m\u001b[38;5;124;43mGoldsmiths\u001b[39;49m\u001b[38;5;124;43m\\\u001b[39;49m\u001b[38;5;124;43mThesis\u001b[39;49m\u001b[38;5;124;43m\\\u001b[39;49m\u001b[38;5;124;43mweather-prediction\u001b[39;49m\u001b[38;5;124;43m\\\u001b[39;49m\u001b[38;5;124;43m.data\u001b[39;49m\u001b[38;5;124;43m\\\u001b[39;49m\u001b[38;5;124;43mlondon_weather_2014-2024.csv\u001b[39;49m\u001b[38;5;124;43m\"\u001b[39;49m\u001b[43m)\u001b[49m\n\u001b[0;32m      2\u001b[0m df_london\u001b[38;5;241m.\u001b[39mhead()\n",
      "File \u001b[1;32m~\\anaconda3\\envs\\AI2023\\lib\\site-packages\\pandas\\util\\_decorators.py:211\u001b[0m, in \u001b[0;36mdeprecate_kwarg.<locals>._deprecate_kwarg.<locals>.wrapper\u001b[1;34m(*args, **kwargs)\u001b[0m\n\u001b[0;32m    209\u001b[0m     \u001b[38;5;28;01melse\u001b[39;00m:\n\u001b[0;32m    210\u001b[0m         kwargs[new_arg_name] \u001b[38;5;241m=\u001b[39m new_arg_value\n\u001b[1;32m--> 211\u001b[0m \u001b[38;5;28;01mreturn\u001b[39;00m func(\u001b[38;5;241m*\u001b[39margs, \u001b[38;5;241m*\u001b[39m\u001b[38;5;241m*\u001b[39mkwargs)\n",
      "File \u001b[1;32m~\\anaconda3\\envs\\AI2023\\lib\\site-packages\\pandas\\util\\_decorators.py:331\u001b[0m, in \u001b[0;36mdeprecate_nonkeyword_arguments.<locals>.decorate.<locals>.wrapper\u001b[1;34m(*args, **kwargs)\u001b[0m\n\u001b[0;32m    325\u001b[0m \u001b[38;5;28;01mif\u001b[39;00m \u001b[38;5;28mlen\u001b[39m(args) \u001b[38;5;241m>\u001b[39m num_allow_args:\n\u001b[0;32m    326\u001b[0m     warnings\u001b[38;5;241m.\u001b[39mwarn(\n\u001b[0;32m    327\u001b[0m         msg\u001b[38;5;241m.\u001b[39mformat(arguments\u001b[38;5;241m=\u001b[39m_format_argument_list(allow_args)),\n\u001b[0;32m    328\u001b[0m         \u001b[38;5;167;01mFutureWarning\u001b[39;00m,\n\u001b[0;32m    329\u001b[0m         stacklevel\u001b[38;5;241m=\u001b[39mfind_stack_level(),\n\u001b[0;32m    330\u001b[0m     )\n\u001b[1;32m--> 331\u001b[0m \u001b[38;5;28;01mreturn\u001b[39;00m func(\u001b[38;5;241m*\u001b[39margs, \u001b[38;5;241m*\u001b[39m\u001b[38;5;241m*\u001b[39mkwargs)\n",
      "File \u001b[1;32m~\\anaconda3\\envs\\AI2023\\lib\\site-packages\\pandas\\io\\parsers\\readers.py:950\u001b[0m, in \u001b[0;36mread_csv\u001b[1;34m(filepath_or_buffer, sep, delimiter, header, names, index_col, usecols, squeeze, prefix, mangle_dupe_cols, dtype, engine, converters, true_values, false_values, skipinitialspace, skiprows, skipfooter, nrows, na_values, keep_default_na, na_filter, verbose, skip_blank_lines, parse_dates, infer_datetime_format, keep_date_col, date_parser, dayfirst, cache_dates, iterator, chunksize, compression, thousands, decimal, lineterminator, quotechar, quoting, doublequote, escapechar, comment, encoding, encoding_errors, dialect, error_bad_lines, warn_bad_lines, on_bad_lines, delim_whitespace, low_memory, memory_map, float_precision, storage_options)\u001b[0m\n\u001b[0;32m    935\u001b[0m kwds_defaults \u001b[38;5;241m=\u001b[39m _refine_defaults_read(\n\u001b[0;32m    936\u001b[0m     dialect,\n\u001b[0;32m    937\u001b[0m     delimiter,\n\u001b[1;32m   (...)\u001b[0m\n\u001b[0;32m    946\u001b[0m     defaults\u001b[38;5;241m=\u001b[39m{\u001b[38;5;124m\"\u001b[39m\u001b[38;5;124mdelimiter\u001b[39m\u001b[38;5;124m\"\u001b[39m: \u001b[38;5;124m\"\u001b[39m\u001b[38;5;124m,\u001b[39m\u001b[38;5;124m\"\u001b[39m},\n\u001b[0;32m    947\u001b[0m )\n\u001b[0;32m    948\u001b[0m kwds\u001b[38;5;241m.\u001b[39mupdate(kwds_defaults)\n\u001b[1;32m--> 950\u001b[0m \u001b[38;5;28;01mreturn\u001b[39;00m \u001b[43m_read\u001b[49m\u001b[43m(\u001b[49m\u001b[43mfilepath_or_buffer\u001b[49m\u001b[43m,\u001b[49m\u001b[43m \u001b[49m\u001b[43mkwds\u001b[49m\u001b[43m)\u001b[49m\n",
      "File \u001b[1;32m~\\anaconda3\\envs\\AI2023\\lib\\site-packages\\pandas\\io\\parsers\\readers.py:605\u001b[0m, in \u001b[0;36m_read\u001b[1;34m(filepath_or_buffer, kwds)\u001b[0m\n\u001b[0;32m    602\u001b[0m _validate_names(kwds\u001b[38;5;241m.\u001b[39mget(\u001b[38;5;124m\"\u001b[39m\u001b[38;5;124mnames\u001b[39m\u001b[38;5;124m\"\u001b[39m, \u001b[38;5;28;01mNone\u001b[39;00m))\n\u001b[0;32m    604\u001b[0m \u001b[38;5;66;03m# Create the parser.\u001b[39;00m\n\u001b[1;32m--> 605\u001b[0m parser \u001b[38;5;241m=\u001b[39m TextFileReader(filepath_or_buffer, \u001b[38;5;241m*\u001b[39m\u001b[38;5;241m*\u001b[39mkwds)\n\u001b[0;32m    607\u001b[0m \u001b[38;5;28;01mif\u001b[39;00m chunksize \u001b[38;5;129;01mor\u001b[39;00m iterator:\n\u001b[0;32m    608\u001b[0m     \u001b[38;5;28;01mreturn\u001b[39;00m parser\n",
      "File \u001b[1;32m~\\anaconda3\\envs\\AI2023\\lib\\site-packages\\pandas\\io\\parsers\\readers.py:1442\u001b[0m, in \u001b[0;36mTextFileReader.__init__\u001b[1;34m(self, f, engine, **kwds)\u001b[0m\n\u001b[0;32m   1439\u001b[0m     \u001b[38;5;28mself\u001b[39m\u001b[38;5;241m.\u001b[39moptions[\u001b[38;5;124m\"\u001b[39m\u001b[38;5;124mhas_index_names\u001b[39m\u001b[38;5;124m\"\u001b[39m] \u001b[38;5;241m=\u001b[39m kwds[\u001b[38;5;124m\"\u001b[39m\u001b[38;5;124mhas_index_names\u001b[39m\u001b[38;5;124m\"\u001b[39m]\n\u001b[0;32m   1441\u001b[0m \u001b[38;5;28mself\u001b[39m\u001b[38;5;241m.\u001b[39mhandles: IOHandles \u001b[38;5;241m|\u001b[39m \u001b[38;5;28;01mNone\u001b[39;00m \u001b[38;5;241m=\u001b[39m \u001b[38;5;28;01mNone\u001b[39;00m\n\u001b[1;32m-> 1442\u001b[0m \u001b[38;5;28mself\u001b[39m\u001b[38;5;241m.\u001b[39m_engine \u001b[38;5;241m=\u001b[39m \u001b[38;5;28;43mself\u001b[39;49m\u001b[38;5;241;43m.\u001b[39;49m\u001b[43m_make_engine\u001b[49m\u001b[43m(\u001b[49m\u001b[43mf\u001b[49m\u001b[43m,\u001b[49m\u001b[43m \u001b[49m\u001b[38;5;28;43mself\u001b[39;49m\u001b[38;5;241;43m.\u001b[39;49m\u001b[43mengine\u001b[49m\u001b[43m)\u001b[49m\n",
      "File \u001b[1;32m~\\anaconda3\\envs\\AI2023\\lib\\site-packages\\pandas\\io\\parsers\\readers.py:1735\u001b[0m, in \u001b[0;36mTextFileReader._make_engine\u001b[1;34m(self, f, engine)\u001b[0m\n\u001b[0;32m   1733\u001b[0m     \u001b[38;5;28;01mif\u001b[39;00m \u001b[38;5;124m\"\u001b[39m\u001b[38;5;124mb\u001b[39m\u001b[38;5;124m\"\u001b[39m \u001b[38;5;129;01mnot\u001b[39;00m \u001b[38;5;129;01min\u001b[39;00m mode:\n\u001b[0;32m   1734\u001b[0m         mode \u001b[38;5;241m+\u001b[39m\u001b[38;5;241m=\u001b[39m \u001b[38;5;124m\"\u001b[39m\u001b[38;5;124mb\u001b[39m\u001b[38;5;124m\"\u001b[39m\n\u001b[1;32m-> 1735\u001b[0m \u001b[38;5;28mself\u001b[39m\u001b[38;5;241m.\u001b[39mhandles \u001b[38;5;241m=\u001b[39m \u001b[43mget_handle\u001b[49m\u001b[43m(\u001b[49m\n\u001b[0;32m   1736\u001b[0m \u001b[43m    \u001b[49m\u001b[43mf\u001b[49m\u001b[43m,\u001b[49m\n\u001b[0;32m   1737\u001b[0m \u001b[43m    \u001b[49m\u001b[43mmode\u001b[49m\u001b[43m,\u001b[49m\n\u001b[0;32m   1738\u001b[0m \u001b[43m    \u001b[49m\u001b[43mencoding\u001b[49m\u001b[38;5;241;43m=\u001b[39;49m\u001b[38;5;28;43mself\u001b[39;49m\u001b[38;5;241;43m.\u001b[39;49m\u001b[43moptions\u001b[49m\u001b[38;5;241;43m.\u001b[39;49m\u001b[43mget\u001b[49m\u001b[43m(\u001b[49m\u001b[38;5;124;43m\"\u001b[39;49m\u001b[38;5;124;43mencoding\u001b[39;49m\u001b[38;5;124;43m\"\u001b[39;49m\u001b[43m,\u001b[49m\u001b[43m \u001b[49m\u001b[38;5;28;43;01mNone\u001b[39;49;00m\u001b[43m)\u001b[49m\u001b[43m,\u001b[49m\n\u001b[0;32m   1739\u001b[0m \u001b[43m    \u001b[49m\u001b[43mcompression\u001b[49m\u001b[38;5;241;43m=\u001b[39;49m\u001b[38;5;28;43mself\u001b[39;49m\u001b[38;5;241;43m.\u001b[39;49m\u001b[43moptions\u001b[49m\u001b[38;5;241;43m.\u001b[39;49m\u001b[43mget\u001b[49m\u001b[43m(\u001b[49m\u001b[38;5;124;43m\"\u001b[39;49m\u001b[38;5;124;43mcompression\u001b[39;49m\u001b[38;5;124;43m\"\u001b[39;49m\u001b[43m,\u001b[49m\u001b[43m \u001b[49m\u001b[38;5;28;43;01mNone\u001b[39;49;00m\u001b[43m)\u001b[49m\u001b[43m,\u001b[49m\n\u001b[0;32m   1740\u001b[0m \u001b[43m    \u001b[49m\u001b[43mmemory_map\u001b[49m\u001b[38;5;241;43m=\u001b[39;49m\u001b[38;5;28;43mself\u001b[39;49m\u001b[38;5;241;43m.\u001b[39;49m\u001b[43moptions\u001b[49m\u001b[38;5;241;43m.\u001b[39;49m\u001b[43mget\u001b[49m\u001b[43m(\u001b[49m\u001b[38;5;124;43m\"\u001b[39;49m\u001b[38;5;124;43mmemory_map\u001b[39;49m\u001b[38;5;124;43m\"\u001b[39;49m\u001b[43m,\u001b[49m\u001b[43m \u001b[49m\u001b[38;5;28;43;01mFalse\u001b[39;49;00m\u001b[43m)\u001b[49m\u001b[43m,\u001b[49m\n\u001b[0;32m   1741\u001b[0m \u001b[43m    \u001b[49m\u001b[43mis_text\u001b[49m\u001b[38;5;241;43m=\u001b[39;49m\u001b[43mis_text\u001b[49m\u001b[43m,\u001b[49m\n\u001b[0;32m   1742\u001b[0m \u001b[43m    \u001b[49m\u001b[43merrors\u001b[49m\u001b[38;5;241;43m=\u001b[39;49m\u001b[38;5;28;43mself\u001b[39;49m\u001b[38;5;241;43m.\u001b[39;49m\u001b[43moptions\u001b[49m\u001b[38;5;241;43m.\u001b[39;49m\u001b[43mget\u001b[49m\u001b[43m(\u001b[49m\u001b[38;5;124;43m\"\u001b[39;49m\u001b[38;5;124;43mencoding_errors\u001b[39;49m\u001b[38;5;124;43m\"\u001b[39;49m\u001b[43m,\u001b[49m\u001b[43m \u001b[49m\u001b[38;5;124;43m\"\u001b[39;49m\u001b[38;5;124;43mstrict\u001b[39;49m\u001b[38;5;124;43m\"\u001b[39;49m\u001b[43m)\u001b[49m\u001b[43m,\u001b[49m\n\u001b[0;32m   1743\u001b[0m \u001b[43m    \u001b[49m\u001b[43mstorage_options\u001b[49m\u001b[38;5;241;43m=\u001b[39;49m\u001b[38;5;28;43mself\u001b[39;49m\u001b[38;5;241;43m.\u001b[39;49m\u001b[43moptions\u001b[49m\u001b[38;5;241;43m.\u001b[39;49m\u001b[43mget\u001b[49m\u001b[43m(\u001b[49m\u001b[38;5;124;43m\"\u001b[39;49m\u001b[38;5;124;43mstorage_options\u001b[39;49m\u001b[38;5;124;43m\"\u001b[39;49m\u001b[43m,\u001b[49m\u001b[43m \u001b[49m\u001b[38;5;28;43;01mNone\u001b[39;49;00m\u001b[43m)\u001b[49m\u001b[43m,\u001b[49m\n\u001b[0;32m   1744\u001b[0m \u001b[43m\u001b[49m\u001b[43m)\u001b[49m\n\u001b[0;32m   1745\u001b[0m \u001b[38;5;28;01massert\u001b[39;00m \u001b[38;5;28mself\u001b[39m\u001b[38;5;241m.\u001b[39mhandles \u001b[38;5;129;01mis\u001b[39;00m \u001b[38;5;129;01mnot\u001b[39;00m \u001b[38;5;28;01mNone\u001b[39;00m\n\u001b[0;32m   1746\u001b[0m f \u001b[38;5;241m=\u001b[39m \u001b[38;5;28mself\u001b[39m\u001b[38;5;241m.\u001b[39mhandles\u001b[38;5;241m.\u001b[39mhandle\n",
      "File \u001b[1;32m~\\anaconda3\\envs\\AI2023\\lib\\site-packages\\pandas\\io\\common.py:856\u001b[0m, in \u001b[0;36mget_handle\u001b[1;34m(path_or_buf, mode, encoding, compression, memory_map, is_text, errors, storage_options)\u001b[0m\n\u001b[0;32m    851\u001b[0m \u001b[38;5;28;01melif\u001b[39;00m \u001b[38;5;28misinstance\u001b[39m(handle, \u001b[38;5;28mstr\u001b[39m):\n\u001b[0;32m    852\u001b[0m     \u001b[38;5;66;03m# Check whether the filename is to be opened in binary mode.\u001b[39;00m\n\u001b[0;32m    853\u001b[0m     \u001b[38;5;66;03m# Binary mode does not support 'encoding' and 'newline'.\u001b[39;00m\n\u001b[0;32m    854\u001b[0m     \u001b[38;5;28;01mif\u001b[39;00m ioargs\u001b[38;5;241m.\u001b[39mencoding \u001b[38;5;129;01mand\u001b[39;00m \u001b[38;5;124m\"\u001b[39m\u001b[38;5;124mb\u001b[39m\u001b[38;5;124m\"\u001b[39m \u001b[38;5;129;01mnot\u001b[39;00m \u001b[38;5;129;01min\u001b[39;00m ioargs\u001b[38;5;241m.\u001b[39mmode:\n\u001b[0;32m    855\u001b[0m         \u001b[38;5;66;03m# Encoding\u001b[39;00m\n\u001b[1;32m--> 856\u001b[0m         handle \u001b[38;5;241m=\u001b[39m \u001b[38;5;28;43mopen\u001b[39;49m\u001b[43m(\u001b[49m\n\u001b[0;32m    857\u001b[0m \u001b[43m            \u001b[49m\u001b[43mhandle\u001b[49m\u001b[43m,\u001b[49m\n\u001b[0;32m    858\u001b[0m \u001b[43m            \u001b[49m\u001b[43mioargs\u001b[49m\u001b[38;5;241;43m.\u001b[39;49m\u001b[43mmode\u001b[49m\u001b[43m,\u001b[49m\n\u001b[0;32m    859\u001b[0m \u001b[43m            \u001b[49m\u001b[43mencoding\u001b[49m\u001b[38;5;241;43m=\u001b[39;49m\u001b[43mioargs\u001b[49m\u001b[38;5;241;43m.\u001b[39;49m\u001b[43mencoding\u001b[49m\u001b[43m,\u001b[49m\n\u001b[0;32m    860\u001b[0m \u001b[43m            \u001b[49m\u001b[43merrors\u001b[49m\u001b[38;5;241;43m=\u001b[39;49m\u001b[43merrors\u001b[49m\u001b[43m,\u001b[49m\n\u001b[0;32m    861\u001b[0m \u001b[43m            \u001b[49m\u001b[43mnewline\u001b[49m\u001b[38;5;241;43m=\u001b[39;49m\u001b[38;5;124;43m\"\u001b[39;49m\u001b[38;5;124;43m\"\u001b[39;49m\u001b[43m,\u001b[49m\n\u001b[0;32m    862\u001b[0m \u001b[43m        \u001b[49m\u001b[43m)\u001b[49m\n\u001b[0;32m    863\u001b[0m     \u001b[38;5;28;01melse\u001b[39;00m:\n\u001b[0;32m    864\u001b[0m         \u001b[38;5;66;03m# Binary mode\u001b[39;00m\n\u001b[0;32m    865\u001b[0m         handle \u001b[38;5;241m=\u001b[39m \u001b[38;5;28mopen\u001b[39m(handle, ioargs\u001b[38;5;241m.\u001b[39mmode)\n",
      "\u001b[1;31mFileNotFoundError\u001b[0m: [Errno 2] No such file or directory: 'C:\\\\Users\\\\nicol\\\\OneDrive\\\\Master\\\\Goldsmiths\\\\Thesis\\\\weather-prediction\\\\.data\\\\london_weather_2014-2024.csv'"
     ]
    }
   ],
   "source": [
    "df_london = pd.read_csv(r\"C:\\Users\\nicol\\OneDrive\\Master\\Goldsmiths\\Thesis\\weather-prediction\\.data\\london_weather_2014-2024.csv\")\n",
    "df_london.head()"
   ]
  },
  {
   "cell_type": "code",
   "execution_count": null,
   "id": "6b68de9b-d656-4ba7-bdd1-500cb5e1b53b",
   "metadata": {
    "tags": []
   },
   "outputs": [],
   "source": [
    "# np.array(df_london['temp'])"
   ]
  },
  {
   "cell_type": "code",
   "execution_count": null,
   "id": "17c8b4e8-7497-4c56-be3e-9d03cca05349",
   "metadata": {},
   "outputs": [],
   "source": [
    "df_bujanovac = pd.read_csv(r\"C:\\Users\\nicol\\OneDrive\\Master\\Goldsmiths\\Thesis\\weather-prediction\\.data\\bujanovac_weather_2014-2024.csv\")\n",
    "df_bujanovac.head()"
   ]
  },
  {
   "cell_type": "code",
   "execution_count": null,
   "id": "047d185f-c26f-4aa5-b952-994e667ff09c",
   "metadata": {},
   "outputs": [],
   "source": [
    "df_manila = pd.read_csv(r\"C:\\Users\\nicol\\OneDrive\\Master\\Goldsmiths\\Thesis\\weather-prediction\\.data\\manila_weather_2014-2024.csv\")\n",
    "df_manila.head()"
   ]
  },
  {
   "cell_type": "code",
   "execution_count": null,
   "id": "b449bdfb-23e6-480f-9f00-315fd47aa545",
   "metadata": {},
   "outputs": [],
   "source": [
    "df_brisbane = pd.read_csv(r\"C:\\Users\\nicol\\OneDrive\\Master\\Goldsmiths\\Thesis\\weather-prediction\\.data\\brisbane_weather_2014-2024.csv\")\n",
    "df_brisbane.head()"
   ]
  },
  {
   "cell_type": "code",
   "execution_count": null,
   "id": "873cd01c-74ed-4a9e-8351-e2d9f402abd4",
   "metadata": {},
   "outputs": [],
   "source": [
    "df_all = pd.concat([df_london, df_manila, df_bujanovac, df_brisbane])\n",
    "df_all.head()"
   ]
  },
  {
   "cell_type": "code",
   "execution_count": null,
   "id": "7356234f-8367-4a8d-9f27-80241ea953aa",
   "metadata": {},
   "outputs": [],
   "source": [
    "df_all.iloc[0, 'dim_0'] = np.array(df_london['temp'])"
   ]
  },
  {
   "cell_type": "code",
   "execution_count": null,
   "id": "d2b4d65b-3b03-4784-a7fe-56270dbf8ab5",
   "metadata": {},
   "outputs": [],
   "source": [
    "df_all = df_all[['name', 'datetime', 'temp']]"
   ]
  },
  {
   "cell_type": "code",
   "execution_count": null,
   "id": "d639d3a9-b806-40b2-8f56-b267d5edbaee",
   "metadata": {},
   "outputs": [],
   "source": [
    "df_all.sort_values('datetime')"
   ]
  },
  {
   "cell_type": "markdown",
   "id": "ca6d6dc1-0c63-4284-bf73-4507db01cfe9",
   "metadata": {},
   "source": [
    "## Giving all locations one number"
   ]
  },
  {
   "cell_type": "code",
   "execution_count": null,
   "id": "5314273c-e16a-48b0-8d8a-00081bbe075b",
   "metadata": {},
   "outputs": [],
   "source": [
    "df_all['name'] = np.where(df_all['name']=='London, England, United Kingdom', 1, np.where(df_all['name'] ==' Bujanovac, Serbia', 1, 0))"
   ]
  },
  {
   "cell_type": "code",
   "execution_count": null,
   "id": "e6c18abc-57ad-47da-822c-1f685bc29eb8",
   "metadata": {},
   "outputs": [],
   "source": [
    "df_all"
   ]
  },
  {
   "cell_type": "markdown",
   "id": "d11fbe06-3df0-4c69-aa39-3173e5598dff",
   "metadata": {},
   "source": [
    "https://github.com/sktime/sktime/blob/main/examples/classification/early_classification.ipynb"
   ]
  },
  {
   "cell_type": "code",
   "execution_count": null,
   "id": "ed573d2f-3d6b-447b-a9e4-0af5d248a5e4",
   "metadata": {
    "tags": []
   },
   "outputs": [],
   "source": [
    "# convert datetime column to timestamp not string as it is now \n",
    "\n",
    "df_all['datetime'] = pd.to_datetime(df_all['datetime'])"
   ]
  },
  {
   "cell_type": "code",
   "execution_count": null,
   "id": "972d42dd-62d2-4fff-8d30-a24020293c2b",
   "metadata": {
    "tags": []
   },
   "outputs": [],
   "source": [
    "df_all = df_all.set_index('datetime')"
   ]
  },
  {
   "cell_type": "code",
   "execution_count": null,
   "id": "2e029169-0fb1-42c2-bfda-c660ec8a3330",
   "metadata": {
    "tags": []
   },
   "outputs": [],
   "source": [
    "df_all"
   ]
  },
  {
   "cell_type": "markdown",
   "id": "ec809029-3dd8-4bc0-b386-4745fd3bde89",
   "metadata": {},
   "source": [
    "## Splitting the data"
   ]
  },
  {
   "cell_type": "code",
   "execution_count": null,
   "id": "0e345946-9c7d-46bb-9580-f1f5d89cc7c0",
   "metadata": {
    "tags": []
   },
   "outputs": [],
   "source": [
    "full_train = df_all[df_all['datetime'] < pd.to_datetime('2023-05-01')]\n",
    "\n",
    "X_train = full_train.drop('temp',axis=1)"
   ]
  },
  {
   "cell_type": "code",
   "execution_count": null,
   "id": "c8ed4d44-fa90-4169-af93-639c8ff3a700",
   "metadata": {
    "tags": []
   },
   "outputs": [],
   "source": [
    "y_train = full_train[['temp']]"
   ]
  },
  {
   "cell_type": "code",
   "execution_count": null,
   "id": "7bddc1e7-bbb8-4962-a2c3-faaafc885513",
   "metadata": {
    "tags": []
   },
   "outputs": [],
   "source": [
    "full_test = df_all[df_all['datetime'] >= pd.to_datetime('2023-05-01')]"
   ]
  },
  {
   "cell_type": "code",
   "execution_count": null,
   "id": "5d3fd811-9316-4ab0-8a13-de2624b75ee4",
   "metadata": {
    "tags": []
   },
   "outputs": [],
   "source": [
    "X_test = full_test.drop('temp',axis=1)\n",
    "y_test = full_test[['temp']]"
   ]
  },
  {
   "cell_type": "code",
   "execution_count": null,
   "id": "5eecfc49-5cc9-4e0b-8f41-45acd48c7464",
   "metadata": {},
   "outputs": [],
   "source": [
    "clf = TimeSeriesForestClassifier(n_estimators=5)\n",
    "clf.fit(X_train, y_train)\n",
    "y_pred = clf.predict(X_test)"
   ]
  },
  {
   "cell_type": "code",
   "execution_count": null,
   "id": "21128028-42e4-49aa-b284-4e3803b03efd",
   "metadata": {},
   "outputs": [],
   "source": [
    "manila = pd.Series(df_manila['temp'])\n",
    "london = pd.Series(df_london['temp'])\n",
    "brisbane = pd.Series(df_brisbane['temp'])\n",
    "bujanovac = pd.Series(df_bujanovac['temp'])"
   ]
  },
  {
   "cell_type": "code",
   "execution_count": null,
   "id": "7c5020d3-d9f8-46de-b0cc-a18d148a9cf3",
   "metadata": {},
   "outputs": [],
   "source": [
    "df_all.loc[0, 'temp'] = manila\n",
    "df_all.loc[1, 'temp'] = london\n",
    "df_all.loc[0, 'temp'] = brisbane\n",
    "df_all.loc[1, 'temp'] = bujanovac"
   ]
  },
  {
   "cell_type": "code",
   "execution_count": null,
   "id": "71078033-d512-4e9d-a7fa-e108ba7d794e",
   "metadata": {},
   "outputs": [],
   "source": [
    "manila_train = pd.Series(df_manila['temp'])[:-365]\n",
    "manila_test = pd.Series(df_manila['temp'])[-365:]\n",
    "\n",
    "london_train = pd.Series(df_london['temp'])\n",
    "london_test = pd.Series(df_london['temp'])\n",
    "\n",
    "bujanovac_train = pd.Series(df_bujanovac['temp'])\n",
    "bujanovac_test = pd.Series(df_bujanovac['temp'])\n",
    "\n",
    "brisbane_train = pd.Series(df_brisbane['temp'])\n",
    "brisbane_test = pd.Series(df_brisbane['temp'])"
   ]
  },
  {
   "cell_type": "code",
   "execution_count": null,
   "id": "d8f0622e-c4d5-4795-aba0-34ccff65bd2e",
   "metadata": {},
   "outputs": [],
   "source": [
    "df_train = pd.DataFrame(columns=['temp'])\n",
    "df_test = pd.DataFrame(columns=['temp'])"
   ]
  },
  {
   "cell_type": "code",
   "execution_count": null,
   "id": "164b524f-154c-4004-bc4f-225519a75538",
   "metadata": {},
   "outputs": [],
   "source": [
    "df_train.loc[0, 'temp'] = manila_train\n",
    "df_test.loc[0, 'temp'] = manila_test\n",
    "\n",
    "\n",
    "df_train.loc[0, 'temp'] = london_train\n",
    "df_test.loc[0, 'temp'] = london_test"
   ]
  },
  {
   "cell_type": "code",
   "execution_count": null,
   "id": "2eb09164-2fa4-4420-b32a-17b17cddecb2",
   "metadata": {},
   "outputs": [],
   "source": [
    "y_train = np.array([1,1,0,0])\n",
    "y_test = np.array([1,1,0,0])"
   ]
  },
  {
   "cell_type": "code",
   "execution_count": null,
   "id": "13bc08b2-dc26-4bce-ba6e-bb72cb9f6363",
   "metadata": {},
   "outputs": [],
   "source": [
    "df_train_X.loc[0, 'temp'] = manila_train\n",
    "df_test_X.loc[0, 'temp'] = manila_test\n",
    "\n",
    "\n",
    "df_train_X.loc[1, 'temp'] = london_train\n",
    "df_test_X.loc[2, 'temp'] = london_test\n",
    "\n",
    "df_train_X.loc[1, 'temp'] = bujanovac_train\n",
    "df_test_X.loc[2, 'temp'] = bujanovac_test\n",
    "\n",
    "df_train_X.loc[1, 'temp'] = brisbane_train\n",
    "df_test_X.loc[2, 'temp'] = brisbane_test"
   ]
  },
  {
   "cell_type": "code",
   "execution_count": null,
   "id": "7d374dc3-3a36-490c-9c0b-c4325e5aa7b4",
   "metadata": {},
   "outputs": [],
   "source": []
  },
  {
   "cell_type": "code",
   "execution_count": null,
   "id": "af07ded5-d2fc-4b6a-9637-3ab0938a8f4f",
   "metadata": {},
   "outputs": [],
   "source": []
  },
  {
   "cell_type": "code",
   "execution_count": null,
   "id": "0564256e-df2b-4f7e-a08e-5fb7db020ead",
   "metadata": {},
   "outputs": [],
   "source": []
  },
  {
   "cell_type": "code",
   "execution_count": null,
   "id": "f263d889-1f13-4c91-9e14-f94db0222735",
   "metadata": {},
   "outputs": [],
   "source": []
  },
  {
   "cell_type": "code",
   "execution_count": null,
   "id": "36a30ab2-2556-48ff-8431-186a29265bba",
   "metadata": {},
   "outputs": [],
   "source": []
  },
  {
   "cell_type": "code",
   "execution_count": null,
   "id": "9f7bed8f-a4d3-4be8-b352-12e2e0a844fd",
   "metadata": {},
   "outputs": [],
   "source": []
  },
  {
   "cell_type": "code",
   "execution_count": null,
   "id": "46110cb4-bb4d-40fb-86ca-8ef843879954",
   "metadata": {},
   "outputs": [],
   "source": []
  },
  {
   "cell_type": "code",
   "execution_count": null,
   "id": "8fee5cfa-9e8d-46c7-a53d-58c036528094",
   "metadata": {},
   "outputs": [],
   "source": []
  },
  {
   "cell_type": "code",
   "execution_count": null,
   "id": "d03ac39d-1992-4837-a4c6-c7c81fb11224",
   "metadata": {},
   "outputs": [],
   "source": []
  },
  {
   "cell_type": "code",
   "execution_count": null,
   "id": "66b244dd-3d12-4fda-bd0a-6dca38839524",
   "metadata": {},
   "outputs": [],
   "source": []
  },
  {
   "cell_type": "code",
   "execution_count": null,
   "id": "7c412f36-1508-4a89-9905-9b4deea03ec2",
   "metadata": {},
   "outputs": [],
   "source": []
  },
  {
   "cell_type": "code",
   "execution_count": null,
   "id": "2dfc2dcc-27a7-473b-a679-8fbbbf08d1ca",
   "metadata": {},
   "outputs": [],
   "source": []
  },
  {
   "cell_type": "code",
   "execution_count": null,
   "id": "8c6366db-9810-40a3-9b97-ef319c61fefc",
   "metadata": {},
   "outputs": [],
   "source": []
  },
  {
   "cell_type": "code",
   "execution_count": null,
   "id": "e7136939-b473-4979-8fea-5a0f16925342",
   "metadata": {},
   "outputs": [],
   "source": []
  },
  {
   "cell_type": "code",
   "execution_count": null,
   "id": "c55e0ca1-992c-4e13-a493-8b5a492980e7",
   "metadata": {},
   "outputs": [],
   "source": []
  },
  {
   "cell_type": "code",
   "execution_count": null,
   "id": "83b21277-dae6-4117-bc64-ef42f6892ba3",
   "metadata": {},
   "outputs": [],
   "source": []
  }
 ],
 "metadata": {
  "kernelspec": {
   "display_name": "Python 3 (ipykernel)",
   "language": "python",
   "name": "python3"
  },
  "language_info": {
   "codemirror_mode": {
    "name": "ipython",
    "version": 3
   },
   "file_extension": ".py",
   "mimetype": "text/x-python",
   "name": "python",
   "nbconvert_exporter": "python",
   "pygments_lexer": "ipython3",
   "version": "3.10.13"
  }
 },
 "nbformat": 4,
 "nbformat_minor": 5
}
