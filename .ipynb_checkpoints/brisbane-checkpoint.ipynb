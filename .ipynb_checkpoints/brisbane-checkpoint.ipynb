{
 "cells": [
  {
   "cell_type": "code",
   "execution_count": 7,
   "id": "b6a5477a",
   "metadata": {
    "tags": []
   },
   "outputs": [],
   "source": [
    "import os\n",
    "import pandas as pd\n",
    "import numpy as np \n",
    "import seaborn as sns\n",
    "import matplotlib.pyplot as plt\n",
    "from sklearn.impute import KNNImputer\n",
    "from sklearn.feature_extraction.text import CountVectorizer, TfidfTransformer\n",
    "from sklearn.cluster import KMeans\n",
    "from sklearn.pipeline import Pipeline\n",
    "from wordcloud import WordCloud"
   ]
  },
  {
   "cell_type": "code",
   "execution_count": 8,
   "id": "f0a3e833",
   "metadata": {
    "tags": []
   },
   "outputs": [],
   "source": [
    "pd.set_option('display.max_columns', None)\n",
    "df_brisbane = pd.read_csv(r\"C:\\Users\\nicol\\OneDrive\\Master\\Goldsmiths\\Thesis\\weather-prediction\\.data\\brisbane_weather_2014-2024.csv\")"
   ]
  },
  {
   "cell_type": "code",
   "execution_count": 9,
   "id": "3315f5c1-c3e2-486a-9196-e658243d0efd",
   "metadata": {},
   "outputs": [],
   "source": [
    "#sort index\n",
    "df_brisbane = df_brisbane.sort_index()"
   ]
  },
  {
   "cell_type": "code",
   "execution_count": 10,
   "id": "531a7be8",
   "metadata": {
    "tags": []
   },
   "outputs": [
    {
     "data": {
      "text/plain": [
       "(3793, 34)"
      ]
     },
     "execution_count": 10,
     "metadata": {},
     "output_type": "execute_result"
    }
   ],
   "source": [
    "df_brisbane.shape"
   ]
  },
  {
   "cell_type": "code",
   "execution_count": 11,
   "id": "91a5ebe5",
   "metadata": {
    "scrolled": true,
    "tags": []
   },
   "outputs": [
    {
     "data": {
      "text/html": [
       "<div>\n",
       "<style scoped>\n",
       "    .dataframe tbody tr th:only-of-type {\n",
       "        vertical-align: middle;\n",
       "    }\n",
       "\n",
       "    .dataframe tbody tr th {\n",
       "        vertical-align: top;\n",
       "    }\n",
       "\n",
       "    .dataframe thead th {\n",
       "        text-align: right;\n",
       "    }\n",
       "</style>\n",
       "<table border=\"1\" class=\"dataframe\">\n",
       "  <thead>\n",
       "    <tr style=\"text-align: right;\">\n",
       "      <th></th>\n",
       "      <th>Unnamed: 0</th>\n",
       "      <th>name</th>\n",
       "      <th>datetime</th>\n",
       "      <th>tempmax</th>\n",
       "      <th>tempmin</th>\n",
       "      <th>temp</th>\n",
       "      <th>feelslikemax</th>\n",
       "      <th>feelslikemin</th>\n",
       "      <th>feelslike</th>\n",
       "      <th>dew</th>\n",
       "      <th>humidity</th>\n",
       "      <th>precip</th>\n",
       "      <th>precipprob</th>\n",
       "      <th>precipcover</th>\n",
       "      <th>preciptype</th>\n",
       "      <th>snow</th>\n",
       "      <th>snowdepth</th>\n",
       "      <th>windgust</th>\n",
       "      <th>windspeed</th>\n",
       "      <th>winddir</th>\n",
       "      <th>sealevelpressure</th>\n",
       "      <th>cloudcover</th>\n",
       "      <th>visibility</th>\n",
       "      <th>solarradiation</th>\n",
       "      <th>solarenergy</th>\n",
       "      <th>uvindex</th>\n",
       "      <th>severerisk</th>\n",
       "      <th>sunrise</th>\n",
       "      <th>sunset</th>\n",
       "      <th>moonphase</th>\n",
       "      <th>conditions</th>\n",
       "      <th>description</th>\n",
       "      <th>icon</th>\n",
       "      <th>stations</th>\n",
       "    </tr>\n",
       "  </thead>\n",
       "  <tbody>\n",
       "    <tr>\n",
       "      <th>0</th>\n",
       "      <td>0</td>\n",
       "      <td>Brisbane, Australia</td>\n",
       "      <td>2014-01-01</td>\n",
       "      <td>29.2</td>\n",
       "      <td>21.9</td>\n",
       "      <td>25.1</td>\n",
       "      <td>29.6</td>\n",
       "      <td>21.9</td>\n",
       "      <td>25.3</td>\n",
       "      <td>18.1</td>\n",
       "      <td>66.5</td>\n",
       "      <td>0.000</td>\n",
       "      <td>0</td>\n",
       "      <td>0.00</td>\n",
       "      <td>NaN</td>\n",
       "      <td>NaN</td>\n",
       "      <td>NaN</td>\n",
       "      <td>NaN</td>\n",
       "      <td>23.3</td>\n",
       "      <td>93.5</td>\n",
       "      <td>1013.7</td>\n",
       "      <td>47.9</td>\n",
       "      <td>12.9</td>\n",
       "      <td>374.5</td>\n",
       "      <td>32.4</td>\n",
       "      <td>10</td>\n",
       "      <td>NaN</td>\n",
       "      <td>2014-01-01T04:55:58</td>\n",
       "      <td>2014-01-01T18:46:25</td>\n",
       "      <td>0.00</td>\n",
       "      <td>Partially cloudy</td>\n",
       "      <td>Clearing in the afternoon.</td>\n",
       "      <td>partly-cloudy-day</td>\n",
       "      <td>94578099999,94575099999,94595199999,YAMB,94576...</td>\n",
       "    </tr>\n",
       "    <tr>\n",
       "      <th>1</th>\n",
       "      <td>1</td>\n",
       "      <td>Brisbane, Australia</td>\n",
       "      <td>2014-01-02</td>\n",
       "      <td>29.7</td>\n",
       "      <td>20.9</td>\n",
       "      <td>25.3</td>\n",
       "      <td>31.3</td>\n",
       "      <td>20.9</td>\n",
       "      <td>25.9</td>\n",
       "      <td>18.9</td>\n",
       "      <td>68.5</td>\n",
       "      <td>0.000</td>\n",
       "      <td>0</td>\n",
       "      <td>0.00</td>\n",
       "      <td>NaN</td>\n",
       "      <td>NaN</td>\n",
       "      <td>NaN</td>\n",
       "      <td>NaN</td>\n",
       "      <td>28.3</td>\n",
       "      <td>10.8</td>\n",
       "      <td>1010.3</td>\n",
       "      <td>58.9</td>\n",
       "      <td>13.5</td>\n",
       "      <td>343.8</td>\n",
       "      <td>29.7</td>\n",
       "      <td>10</td>\n",
       "      <td>NaN</td>\n",
       "      <td>2014-01-02T04:56:39</td>\n",
       "      <td>2014-01-02T18:46:40</td>\n",
       "      <td>0.02</td>\n",
       "      <td>Partially cloudy</td>\n",
       "      <td>Partly cloudy throughout the day.</td>\n",
       "      <td>partly-cloudy-day</td>\n",
       "      <td>94578099999,94575099999,94595199999,YAMB,94576...</td>\n",
       "    </tr>\n",
       "    <tr>\n",
       "      <th>2</th>\n",
       "      <td>2</td>\n",
       "      <td>Brisbane, Australia</td>\n",
       "      <td>2014-01-03</td>\n",
       "      <td>32.5</td>\n",
       "      <td>22.8</td>\n",
       "      <td>27.5</td>\n",
       "      <td>36.1</td>\n",
       "      <td>22.8</td>\n",
       "      <td>29.6</td>\n",
       "      <td>21.8</td>\n",
       "      <td>72.1</td>\n",
       "      <td>0.224</td>\n",
       "      <td>100</td>\n",
       "      <td>8.33</td>\n",
       "      <td>rain</td>\n",
       "      <td>NaN</td>\n",
       "      <td>NaN</td>\n",
       "      <td>NaN</td>\n",
       "      <td>48.2</td>\n",
       "      <td>12.1</td>\n",
       "      <td>1004.0</td>\n",
       "      <td>40.4</td>\n",
       "      <td>13.4</td>\n",
       "      <td>348.9</td>\n",
       "      <td>30.3</td>\n",
       "      <td>10</td>\n",
       "      <td>NaN</td>\n",
       "      <td>2014-01-03T04:57:21</td>\n",
       "      <td>2014-01-03T18:46:54</td>\n",
       "      <td>0.05</td>\n",
       "      <td>Rain, Partially cloudy</td>\n",
       "      <td>Partly cloudy throughout the day with rain.</td>\n",
       "      <td>rain</td>\n",
       "      <td>94578099999,94575099999,94595199999,YAMB,94576...</td>\n",
       "    </tr>\n",
       "    <tr>\n",
       "      <th>3</th>\n",
       "      <td>3</td>\n",
       "      <td>Brisbane, Australia</td>\n",
       "      <td>2014-01-04</td>\n",
       "      <td>35.8</td>\n",
       "      <td>24.6</td>\n",
       "      <td>29.2</td>\n",
       "      <td>41.3</td>\n",
       "      <td>24.6</td>\n",
       "      <td>31.7</td>\n",
       "      <td>22.0</td>\n",
       "      <td>66.3</td>\n",
       "      <td>0.001</td>\n",
       "      <td>100</td>\n",
       "      <td>4.17</td>\n",
       "      <td>rain</td>\n",
       "      <td>NaN</td>\n",
       "      <td>NaN</td>\n",
       "      <td>38.9</td>\n",
       "      <td>36.6</td>\n",
       "      <td>27.7</td>\n",
       "      <td>1000.7</td>\n",
       "      <td>38.4</td>\n",
       "      <td>14.5</td>\n",
       "      <td>364.1</td>\n",
       "      <td>31.8</td>\n",
       "      <td>10</td>\n",
       "      <td>NaN</td>\n",
       "      <td>2014-01-04T04:58:03</td>\n",
       "      <td>2014-01-04T18:47:05</td>\n",
       "      <td>0.09</td>\n",
       "      <td>Rain, Partially cloudy</td>\n",
       "      <td>Partly cloudy throughout the day with morning ...</td>\n",
       "      <td>rain</td>\n",
       "      <td>94578099999,94575099999,94595199999,YAMB,94576...</td>\n",
       "    </tr>\n",
       "    <tr>\n",
       "      <th>4</th>\n",
       "      <td>4</td>\n",
       "      <td>Brisbane, Australia</td>\n",
       "      <td>2014-01-05</td>\n",
       "      <td>31.5</td>\n",
       "      <td>23.8</td>\n",
       "      <td>26.8</td>\n",
       "      <td>35.8</td>\n",
       "      <td>23.8</td>\n",
       "      <td>28.2</td>\n",
       "      <td>21.5</td>\n",
       "      <td>73.3</td>\n",
       "      <td>0.000</td>\n",
       "      <td>0</td>\n",
       "      <td>0.00</td>\n",
       "      <td>NaN</td>\n",
       "      <td>NaN</td>\n",
       "      <td>NaN</td>\n",
       "      <td>NaN</td>\n",
       "      <td>21.9</td>\n",
       "      <td>123.5</td>\n",
       "      <td>1006.7</td>\n",
       "      <td>62.5</td>\n",
       "      <td>11.8</td>\n",
       "      <td>340.1</td>\n",
       "      <td>29.4</td>\n",
       "      <td>10</td>\n",
       "      <td>NaN</td>\n",
       "      <td>2014-01-05T04:58:46</td>\n",
       "      <td>2014-01-05T18:47:16</td>\n",
       "      <td>0.12</td>\n",
       "      <td>Partially cloudy</td>\n",
       "      <td>Partly cloudy throughout the day.</td>\n",
       "      <td>partly-cloudy-day</td>\n",
       "      <td>94578099999,94575099999,94595199999,YAMB,94576...</td>\n",
       "    </tr>\n",
       "  </tbody>\n",
       "</table>\n",
       "</div>"
      ],
      "text/plain": [
       "   Unnamed: 0                 name    datetime  tempmax  tempmin  temp  \\\n",
       "0           0  Brisbane, Australia  2014-01-01     29.2     21.9  25.1   \n",
       "1           1  Brisbane, Australia  2014-01-02     29.7     20.9  25.3   \n",
       "2           2  Brisbane, Australia  2014-01-03     32.5     22.8  27.5   \n",
       "3           3  Brisbane, Australia  2014-01-04     35.8     24.6  29.2   \n",
       "4           4  Brisbane, Australia  2014-01-05     31.5     23.8  26.8   \n",
       "\n",
       "   feelslikemax  feelslikemin  feelslike   dew  humidity  precip  precipprob  \\\n",
       "0          29.6          21.9       25.3  18.1      66.5   0.000           0   \n",
       "1          31.3          20.9       25.9  18.9      68.5   0.000           0   \n",
       "2          36.1          22.8       29.6  21.8      72.1   0.224         100   \n",
       "3          41.3          24.6       31.7  22.0      66.3   0.001         100   \n",
       "4          35.8          23.8       28.2  21.5      73.3   0.000           0   \n",
       "\n",
       "   precipcover preciptype  snow  snowdepth  windgust  windspeed  winddir  \\\n",
       "0         0.00        NaN   NaN        NaN       NaN       23.3     93.5   \n",
       "1         0.00        NaN   NaN        NaN       NaN       28.3     10.8   \n",
       "2         8.33       rain   NaN        NaN       NaN       48.2     12.1   \n",
       "3         4.17       rain   NaN        NaN      38.9       36.6     27.7   \n",
       "4         0.00        NaN   NaN        NaN       NaN       21.9    123.5   \n",
       "\n",
       "   sealevelpressure  cloudcover  visibility  solarradiation  solarenergy  \\\n",
       "0            1013.7        47.9        12.9           374.5         32.4   \n",
       "1            1010.3        58.9        13.5           343.8         29.7   \n",
       "2            1004.0        40.4        13.4           348.9         30.3   \n",
       "3            1000.7        38.4        14.5           364.1         31.8   \n",
       "4            1006.7        62.5        11.8           340.1         29.4   \n",
       "\n",
       "   uvindex  severerisk              sunrise               sunset  moonphase  \\\n",
       "0       10         NaN  2014-01-01T04:55:58  2014-01-01T18:46:25       0.00   \n",
       "1       10         NaN  2014-01-02T04:56:39  2014-01-02T18:46:40       0.02   \n",
       "2       10         NaN  2014-01-03T04:57:21  2014-01-03T18:46:54       0.05   \n",
       "3       10         NaN  2014-01-04T04:58:03  2014-01-04T18:47:05       0.09   \n",
       "4       10         NaN  2014-01-05T04:58:46  2014-01-05T18:47:16       0.12   \n",
       "\n",
       "               conditions                                        description  \\\n",
       "0        Partially cloudy                         Clearing in the afternoon.   \n",
       "1        Partially cloudy                  Partly cloudy throughout the day.   \n",
       "2  Rain, Partially cloudy        Partly cloudy throughout the day with rain.   \n",
       "3  Rain, Partially cloudy  Partly cloudy throughout the day with morning ...   \n",
       "4        Partially cloudy                  Partly cloudy throughout the day.   \n",
       "\n",
       "                icon                                           stations  \n",
       "0  partly-cloudy-day  94578099999,94575099999,94595199999,YAMB,94576...  \n",
       "1  partly-cloudy-day  94578099999,94575099999,94595199999,YAMB,94576...  \n",
       "2               rain  94578099999,94575099999,94595199999,YAMB,94576...  \n",
       "3               rain  94578099999,94575099999,94595199999,YAMB,94576...  \n",
       "4  partly-cloudy-day  94578099999,94575099999,94595199999,YAMB,94576...  "
      ]
     },
     "execution_count": 11,
     "metadata": {},
     "output_type": "execute_result"
    }
   ],
   "source": [
    "df_brisbane.head()"
   ]
  },
  {
   "cell_type": "code",
   "execution_count": 12,
   "id": "8dfc5fa7",
   "metadata": {
    "tags": []
   },
   "outputs": [
    {
     "data": {
      "text/plain": [
       "Index(['Unnamed: 0', 'name', 'datetime', 'tempmax', 'tempmin', 'temp',\n",
       "       'feelslikemax', 'feelslikemin', 'feelslike', 'dew', 'humidity',\n",
       "       'precip', 'precipprob', 'precipcover', 'preciptype', 'snow',\n",
       "       'snowdepth', 'windgust', 'windspeed', 'winddir', 'sealevelpressure',\n",
       "       'cloudcover', 'visibility', 'solarradiation', 'solarenergy', 'uvindex',\n",
       "       'severerisk', 'sunrise', 'sunset', 'moonphase', 'conditions',\n",
       "       'description', 'icon', 'stations'],\n",
       "      dtype='object')"
      ]
     },
     "execution_count": 12,
     "metadata": {},
     "output_type": "execute_result"
    }
   ],
   "source": [
    "df_brisbane.columns"
   ]
  },
  {
   "cell_type": "code",
   "execution_count": 13,
   "id": "3e90b221",
   "metadata": {
    "tags": []
   },
   "outputs": [],
   "source": [
    "columns_to_drop = ['Unnamed: 0',  'tempmax', 'tempmin', 'icon', 'stations', 'conditions' ]\n",
    "df_brisbane = df_brisbane.drop(columns=columns_to_drop)"
   ]
  },
  {
   "cell_type": "code",
   "execution_count": 14,
   "id": "0ab3c509",
   "metadata": {
    "tags": []
   },
   "outputs": [
    {
     "data": {
      "text/plain": [
       "'2014-01-01'"
      ]
     },
     "execution_count": 14,
     "metadata": {},
     "output_type": "execute_result"
    }
   ],
   "source": [
    "df_brisbane['datetime'].min()"
   ]
  },
  {
   "cell_type": "code",
   "execution_count": 15,
   "id": "4c4016a1",
   "metadata": {
    "tags": []
   },
   "outputs": [
    {
     "data": {
      "text/plain": [
       "'2024-05-20'"
      ]
     },
     "execution_count": 15,
     "metadata": {},
     "output_type": "execute_result"
    }
   ],
   "source": [
    "df_brisbane['datetime'].max()"
   ]
  },
  {
   "cell_type": "code",
   "execution_count": 16,
   "id": "46c8c113",
   "metadata": {
    "tags": []
   },
   "outputs": [
    {
     "data": {
      "text/plain": [
       "10.9"
      ]
     },
     "execution_count": 16,
     "metadata": {},
     "output_type": "execute_result"
    }
   ],
   "source": [
    "df_brisbane['temp'].min()"
   ]
  },
  {
   "cell_type": "code",
   "execution_count": 17,
   "id": "d69d4346",
   "metadata": {
    "tags": []
   },
   "outputs": [
    {
     "data": {
      "text/plain": [
       "30.1"
      ]
     },
     "execution_count": 17,
     "metadata": {},
     "output_type": "execute_result"
    }
   ],
   "source": [
    "df_brisbane['temp'].max()"
   ]
  },
  {
   "cell_type": "code",
   "execution_count": 18,
   "id": "222b8549-a835-47ce-9974-45de66f346c1",
   "metadata": {
    "tags": []
   },
   "outputs": [
    {
     "data": {
      "text/plain": [
       "name                 object\n",
       "datetime             object\n",
       "temp                float64\n",
       "feelslikemax        float64\n",
       "feelslikemin        float64\n",
       "feelslike           float64\n",
       "dew                 float64\n",
       "humidity            float64\n",
       "precip              float64\n",
       "precipprob            int64\n",
       "precipcover         float64\n",
       "preciptype           object\n",
       "snow                float64\n",
       "snowdepth           float64\n",
       "windgust            float64\n",
       "windspeed           float64\n",
       "winddir             float64\n",
       "sealevelpressure    float64\n",
       "cloudcover          float64\n",
       "visibility          float64\n",
       "solarradiation      float64\n",
       "solarenergy         float64\n",
       "uvindex               int64\n",
       "severerisk          float64\n",
       "sunrise              object\n",
       "sunset               object\n",
       "moonphase           float64\n",
       "description          object\n",
       "dtype: object"
      ]
     },
     "execution_count": 18,
     "metadata": {},
     "output_type": "execute_result"
    }
   ],
   "source": [
    "df_brisbane.dtypes"
   ]
  },
  {
   "cell_type": "code",
   "execution_count": 19,
   "id": "9d72dae8",
   "metadata": {
    "tags": []
   },
   "outputs": [
    {
     "data": {
      "text/plain": [
       "name                   0\n",
       "datetime               0\n",
       "temp                   0\n",
       "feelslikemax           0\n",
       "feelslikemin           0\n",
       "feelslike              0\n",
       "dew                    0\n",
       "humidity               0\n",
       "precip                 0\n",
       "precipprob             0\n",
       "precipcover            0\n",
       "preciptype          1768\n",
       "snow                 365\n",
       "snowdepth            365\n",
       "windgust             320\n",
       "windspeed              0\n",
       "winddir                0\n",
       "sealevelpressure       0\n",
       "cloudcover             0\n",
       "visibility             0\n",
       "solarradiation         0\n",
       "solarenergy            0\n",
       "uvindex                0\n",
       "severerisk          2931\n",
       "sunrise                0\n",
       "sunset                 0\n",
       "moonphase              0\n",
       "description            0\n",
       "dtype: int64"
      ]
     },
     "execution_count": 19,
     "metadata": {},
     "output_type": "execute_result"
    }
   ],
   "source": [
    "df_brisbane.isna().sum()"
   ]
  },
  {
   "cell_type": "markdown",
   "id": "af23e0b6",
   "metadata": {},
   "source": [
    "To Do: \n",
    "\n",
    "- linear interpolation for missing values \n",
    "- drop unnecessary columns \n",
    "- set datetime to date data type"
   ]
  },
  {
   "cell_type": "code",
   "execution_count": 20,
   "id": "0a4ac1a9",
   "metadata": {
    "tags": []
   },
   "outputs": [],
   "source": [
    "#run k-nn to fill in the missing values with the k nearest neighbour \n",
    "#https://www.sciencedirect.com/science/article/abs/pii/S0164121212001586#:~:text=kNN%20imputation%20is%20designed%20to,or%20attribute)%20is%20categorical%2C%20referred\n",
    "\n",
    "imputer = KNNImputer(n_neighbors=5)\n",
    "df_brisbane[['windgust', 'severerisk']] = imputer.fit_transform(df_brisbane[['windgust', 'severerisk']])\n"
   ]
  },
  {
   "cell_type": "code",
   "execution_count": 21,
   "id": "74da3ee9",
   "metadata": {
    "tags": []
   },
   "outputs": [
    {
     "data": {
      "text/plain": [
       "array([nan, 'rain'], dtype=object)"
      ]
     },
     "execution_count": 21,
     "metadata": {},
     "output_type": "execute_result"
    }
   ],
   "source": [
    "df_brisbane['preciptype'].unique()"
   ]
  },
  {
   "cell_type": "code",
   "execution_count": 22,
   "id": "14e396e4",
   "metadata": {
    "tags": []
   },
   "outputs": [
    {
     "data": {
      "text/plain": [
       "rain    2025\n",
       "Name: preciptype, dtype: int64"
      ]
     },
     "execution_count": 22,
     "metadata": {},
     "output_type": "execute_result"
    }
   ],
   "source": [
    "df_brisbane['preciptype'].value_counts()"
   ]
  },
  {
   "cell_type": "code",
   "execution_count": 23,
   "id": "eaf20fda-19cc-4e4d-9e8b-900919811ded",
   "metadata": {
    "tags": []
   },
   "outputs": [
    {
     "data": {
      "text/plain": [
       "name                   0\n",
       "datetime               0\n",
       "temp                   0\n",
       "feelslikemax           0\n",
       "feelslikemin           0\n",
       "feelslike              0\n",
       "dew                    0\n",
       "humidity               0\n",
       "precip                 0\n",
       "precipprob             0\n",
       "precipcover            0\n",
       "preciptype          1768\n",
       "snow                 365\n",
       "snowdepth            365\n",
       "windgust               0\n",
       "windspeed              0\n",
       "winddir                0\n",
       "sealevelpressure       0\n",
       "cloudcover             0\n",
       "visibility             0\n",
       "solarradiation         0\n",
       "solarenergy            0\n",
       "uvindex                0\n",
       "severerisk             0\n",
       "sunrise                0\n",
       "sunset                 0\n",
       "moonphase              0\n",
       "description            0\n",
       "dtype: int64"
      ]
     },
     "execution_count": 23,
     "metadata": {},
     "output_type": "execute_result"
    }
   ],
   "source": [
    "df_brisbane.isna().sum()"
   ]
  },
  {
   "cell_type": "code",
   "execution_count": 24,
   "id": "07eb489c-9904-4374-9065-c9b25599e9d6",
   "metadata": {
    "tags": []
   },
   "outputs": [],
   "source": [
    "#using forward fill to fill in categorical missing data for the preciptype column\n",
    "\n",
    "df_brisbane['preciptype'].fillna(method='ffill', inplace=True)"
   ]
  },
  {
   "cell_type": "code",
   "execution_count": 25,
   "id": "c320cb63-df86-485d-9535-3d98bac614da",
   "metadata": {
    "tags": []
   },
   "outputs": [],
   "source": [
    "#using backward fill to fill in categorical missing data for the preciptype column\n",
    "\n",
    "df_brisbane['preciptype'] = df_brisbane['preciptype'].fillna(method='bfill')"
   ]
  },
  {
   "cell_type": "code",
   "execution_count": 26,
   "id": "8388f508-2637-4b4c-92a0-356e57de6d4b",
   "metadata": {
    "tags": []
   },
   "outputs": [
    {
     "data": {
      "text/plain": [
       "name                  0\n",
       "datetime              0\n",
       "temp                  0\n",
       "feelslikemax          0\n",
       "feelslikemin          0\n",
       "feelslike             0\n",
       "dew                   0\n",
       "humidity              0\n",
       "precip                0\n",
       "precipprob            0\n",
       "precipcover           0\n",
       "preciptype            0\n",
       "snow                365\n",
       "snowdepth           365\n",
       "windgust              0\n",
       "windspeed             0\n",
       "winddir               0\n",
       "sealevelpressure      0\n",
       "cloudcover            0\n",
       "visibility            0\n",
       "solarradiation        0\n",
       "solarenergy           0\n",
       "uvindex               0\n",
       "severerisk            0\n",
       "sunrise               0\n",
       "sunset                0\n",
       "moonphase             0\n",
       "description           0\n",
       "dtype: int64"
      ]
     },
     "execution_count": 26,
     "metadata": {},
     "output_type": "execute_result"
    }
   ],
   "source": [
    "df_brisbane.isna().sum()"
   ]
  },
  {
   "cell_type": "code",
   "execution_count": 27,
   "id": "ac72485b-b11c-4332-955a-4cc96b6dda6e",
   "metadata": {
    "tags": []
   },
   "outputs": [],
   "source": [
    "#setting the datetime column to datetime data type\n",
    "\n",
    "#df['date_column'] = pd.to_datetime(df['date_column'])"
   ]
  },
  {
   "cell_type": "code",
   "execution_count": 28,
   "id": "3f419d0e-688b-487f-be54-76bab551f0e1",
   "metadata": {
    "tags": []
   },
   "outputs": [
    {
     "data": {
      "text/html": [
       "<div>\n",
       "<style scoped>\n",
       "    .dataframe tbody tr th:only-of-type {\n",
       "        vertical-align: middle;\n",
       "    }\n",
       "\n",
       "    .dataframe tbody tr th {\n",
       "        vertical-align: top;\n",
       "    }\n",
       "\n",
       "    .dataframe thead th {\n",
       "        text-align: right;\n",
       "    }\n",
       "</style>\n",
       "<table border=\"1\" class=\"dataframe\">\n",
       "  <thead>\n",
       "    <tr style=\"text-align: right;\">\n",
       "      <th></th>\n",
       "      <th>name</th>\n",
       "      <th>datetime</th>\n",
       "      <th>temp</th>\n",
       "      <th>feelslikemax</th>\n",
       "      <th>feelslikemin</th>\n",
       "      <th>feelslike</th>\n",
       "      <th>dew</th>\n",
       "      <th>humidity</th>\n",
       "      <th>precip</th>\n",
       "      <th>precipprob</th>\n",
       "      <th>precipcover</th>\n",
       "      <th>preciptype</th>\n",
       "      <th>snow</th>\n",
       "      <th>snowdepth</th>\n",
       "      <th>windgust</th>\n",
       "      <th>windspeed</th>\n",
       "      <th>winddir</th>\n",
       "      <th>sealevelpressure</th>\n",
       "      <th>cloudcover</th>\n",
       "      <th>visibility</th>\n",
       "      <th>solarradiation</th>\n",
       "      <th>solarenergy</th>\n",
       "      <th>uvindex</th>\n",
       "      <th>severerisk</th>\n",
       "      <th>sunrise</th>\n",
       "      <th>sunset</th>\n",
       "      <th>moonphase</th>\n",
       "      <th>description</th>\n",
       "    </tr>\n",
       "  </thead>\n",
       "  <tbody>\n",
       "    <tr>\n",
       "      <th>0</th>\n",
       "      <td>Brisbane, Australia</td>\n",
       "      <td>2014-01-01</td>\n",
       "      <td>25.1</td>\n",
       "      <td>29.6</td>\n",
       "      <td>21.9</td>\n",
       "      <td>25.3</td>\n",
       "      <td>18.1</td>\n",
       "      <td>66.5</td>\n",
       "      <td>0.000</td>\n",
       "      <td>0</td>\n",
       "      <td>0.00</td>\n",
       "      <td>rain</td>\n",
       "      <td>NaN</td>\n",
       "      <td>NaN</td>\n",
       "      <td>34.86634</td>\n",
       "      <td>23.3</td>\n",
       "      <td>93.5</td>\n",
       "      <td>1013.7</td>\n",
       "      <td>47.9</td>\n",
       "      <td>12.9</td>\n",
       "      <td>374.5</td>\n",
       "      <td>32.4</td>\n",
       "      <td>10</td>\n",
       "      <td>11.740139</td>\n",
       "      <td>2014-01-01T04:55:58</td>\n",
       "      <td>2014-01-01T18:46:25</td>\n",
       "      <td>0.00</td>\n",
       "      <td>Clearing in the afternoon.</td>\n",
       "    </tr>\n",
       "    <tr>\n",
       "      <th>1</th>\n",
       "      <td>Brisbane, Australia</td>\n",
       "      <td>2014-01-02</td>\n",
       "      <td>25.3</td>\n",
       "      <td>31.3</td>\n",
       "      <td>20.9</td>\n",
       "      <td>25.9</td>\n",
       "      <td>18.9</td>\n",
       "      <td>68.5</td>\n",
       "      <td>0.000</td>\n",
       "      <td>0</td>\n",
       "      <td>0.00</td>\n",
       "      <td>rain</td>\n",
       "      <td>NaN</td>\n",
       "      <td>NaN</td>\n",
       "      <td>34.86634</td>\n",
       "      <td>28.3</td>\n",
       "      <td>10.8</td>\n",
       "      <td>1010.3</td>\n",
       "      <td>58.9</td>\n",
       "      <td>13.5</td>\n",
       "      <td>343.8</td>\n",
       "      <td>29.7</td>\n",
       "      <td>10</td>\n",
       "      <td>11.740139</td>\n",
       "      <td>2014-01-02T04:56:39</td>\n",
       "      <td>2014-01-02T18:46:40</td>\n",
       "      <td>0.02</td>\n",
       "      <td>Partly cloudy throughout the day.</td>\n",
       "    </tr>\n",
       "    <tr>\n",
       "      <th>2</th>\n",
       "      <td>Brisbane, Australia</td>\n",
       "      <td>2014-01-03</td>\n",
       "      <td>27.5</td>\n",
       "      <td>36.1</td>\n",
       "      <td>22.8</td>\n",
       "      <td>29.6</td>\n",
       "      <td>21.8</td>\n",
       "      <td>72.1</td>\n",
       "      <td>0.224</td>\n",
       "      <td>100</td>\n",
       "      <td>8.33</td>\n",
       "      <td>rain</td>\n",
       "      <td>NaN</td>\n",
       "      <td>NaN</td>\n",
       "      <td>34.86634</td>\n",
       "      <td>48.2</td>\n",
       "      <td>12.1</td>\n",
       "      <td>1004.0</td>\n",
       "      <td>40.4</td>\n",
       "      <td>13.4</td>\n",
       "      <td>348.9</td>\n",
       "      <td>30.3</td>\n",
       "      <td>10</td>\n",
       "      <td>11.740139</td>\n",
       "      <td>2014-01-03T04:57:21</td>\n",
       "      <td>2014-01-03T18:46:54</td>\n",
       "      <td>0.05</td>\n",
       "      <td>Partly cloudy throughout the day with rain.</td>\n",
       "    </tr>\n",
       "    <tr>\n",
       "      <th>3</th>\n",
       "      <td>Brisbane, Australia</td>\n",
       "      <td>2014-01-04</td>\n",
       "      <td>29.2</td>\n",
       "      <td>41.3</td>\n",
       "      <td>24.6</td>\n",
       "      <td>31.7</td>\n",
       "      <td>22.0</td>\n",
       "      <td>66.3</td>\n",
       "      <td>0.001</td>\n",
       "      <td>100</td>\n",
       "      <td>4.17</td>\n",
       "      <td>rain</td>\n",
       "      <td>NaN</td>\n",
       "      <td>NaN</td>\n",
       "      <td>38.90000</td>\n",
       "      <td>36.6</td>\n",
       "      <td>27.7</td>\n",
       "      <td>1000.7</td>\n",
       "      <td>38.4</td>\n",
       "      <td>14.5</td>\n",
       "      <td>364.1</td>\n",
       "      <td>31.8</td>\n",
       "      <td>10</td>\n",
       "      <td>20.000000</td>\n",
       "      <td>2014-01-04T04:58:03</td>\n",
       "      <td>2014-01-04T18:47:05</td>\n",
       "      <td>0.09</td>\n",
       "      <td>Partly cloudy throughout the day with morning ...</td>\n",
       "    </tr>\n",
       "    <tr>\n",
       "      <th>4</th>\n",
       "      <td>Brisbane, Australia</td>\n",
       "      <td>2014-01-05</td>\n",
       "      <td>26.8</td>\n",
       "      <td>35.8</td>\n",
       "      <td>23.8</td>\n",
       "      <td>28.2</td>\n",
       "      <td>21.5</td>\n",
       "      <td>73.3</td>\n",
       "      <td>0.000</td>\n",
       "      <td>0</td>\n",
       "      <td>0.00</td>\n",
       "      <td>rain</td>\n",
       "      <td>NaN</td>\n",
       "      <td>NaN</td>\n",
       "      <td>34.86634</td>\n",
       "      <td>21.9</td>\n",
       "      <td>123.5</td>\n",
       "      <td>1006.7</td>\n",
       "      <td>62.5</td>\n",
       "      <td>11.8</td>\n",
       "      <td>340.1</td>\n",
       "      <td>29.4</td>\n",
       "      <td>10</td>\n",
       "      <td>11.740139</td>\n",
       "      <td>2014-01-05T04:58:46</td>\n",
       "      <td>2014-01-05T18:47:16</td>\n",
       "      <td>0.12</td>\n",
       "      <td>Partly cloudy throughout the day.</td>\n",
       "    </tr>\n",
       "  </tbody>\n",
       "</table>\n",
       "</div>"
      ],
      "text/plain": [
       "                  name    datetime  temp  feelslikemax  feelslikemin  \\\n",
       "0  Brisbane, Australia  2014-01-01  25.1          29.6          21.9   \n",
       "1  Brisbane, Australia  2014-01-02  25.3          31.3          20.9   \n",
       "2  Brisbane, Australia  2014-01-03  27.5          36.1          22.8   \n",
       "3  Brisbane, Australia  2014-01-04  29.2          41.3          24.6   \n",
       "4  Brisbane, Australia  2014-01-05  26.8          35.8          23.8   \n",
       "\n",
       "   feelslike   dew  humidity  precip  precipprob  precipcover preciptype  \\\n",
       "0       25.3  18.1      66.5   0.000           0         0.00       rain   \n",
       "1       25.9  18.9      68.5   0.000           0         0.00       rain   \n",
       "2       29.6  21.8      72.1   0.224         100         8.33       rain   \n",
       "3       31.7  22.0      66.3   0.001         100         4.17       rain   \n",
       "4       28.2  21.5      73.3   0.000           0         0.00       rain   \n",
       "\n",
       "   snow  snowdepth  windgust  windspeed  winddir  sealevelpressure  \\\n",
       "0   NaN        NaN  34.86634       23.3     93.5            1013.7   \n",
       "1   NaN        NaN  34.86634       28.3     10.8            1010.3   \n",
       "2   NaN        NaN  34.86634       48.2     12.1            1004.0   \n",
       "3   NaN        NaN  38.90000       36.6     27.7            1000.7   \n",
       "4   NaN        NaN  34.86634       21.9    123.5            1006.7   \n",
       "\n",
       "   cloudcover  visibility  solarradiation  solarenergy  uvindex  severerisk  \\\n",
       "0        47.9        12.9           374.5         32.4       10   11.740139   \n",
       "1        58.9        13.5           343.8         29.7       10   11.740139   \n",
       "2        40.4        13.4           348.9         30.3       10   11.740139   \n",
       "3        38.4        14.5           364.1         31.8       10   20.000000   \n",
       "4        62.5        11.8           340.1         29.4       10   11.740139   \n",
       "\n",
       "               sunrise               sunset  moonphase  \\\n",
       "0  2014-01-01T04:55:58  2014-01-01T18:46:25       0.00   \n",
       "1  2014-01-02T04:56:39  2014-01-02T18:46:40       0.02   \n",
       "2  2014-01-03T04:57:21  2014-01-03T18:46:54       0.05   \n",
       "3  2014-01-04T04:58:03  2014-01-04T18:47:05       0.09   \n",
       "4  2014-01-05T04:58:46  2014-01-05T18:47:16       0.12   \n",
       "\n",
       "                                         description  \n",
       "0                         Clearing in the afternoon.  \n",
       "1                  Partly cloudy throughout the day.  \n",
       "2        Partly cloudy throughout the day with rain.  \n",
       "3  Partly cloudy throughout the day with morning ...  \n",
       "4                  Partly cloudy throughout the day.  "
      ]
     },
     "execution_count": 28,
     "metadata": {},
     "output_type": "execute_result"
    }
   ],
   "source": [
    "df_brisbane.head()"
   ]
  },
  {
   "cell_type": "code",
   "execution_count": 29,
   "id": "93d6938d-ac30-4eb6-92d5-fffcb513ef90",
   "metadata": {
    "tags": []
   },
   "outputs": [],
   "source": [
    "# one hot encoding for preciptype"
   ]
  },
  {
   "cell_type": "markdown",
   "id": "d156e0ae-b157-477a-874e-f0b76d170813",
   "metadata": {},
   "source": [
    "Tokenization of the preciptype column"
   ]
  },
  {
   "cell_type": "code",
   "execution_count": 30,
   "id": "5e6bedd8-93b1-4ed7-a0ae-1f32c6faa653",
   "metadata": {
    "tags": []
   },
   "outputs": [],
   "source": [
    "# step 1: Text processing\n",
    "tokenizer = CountVectorizer()\n",
    "hashingTF = TfidfTransformer(use_idf=False)\n",
    "idf = TfidfTransformer(use_idf=True)\n",
    "k = 3\n",
    "kmeans = KMeans(n_clusters=k, random_state=42)"
   ]
  },
  {
   "cell_type": "code",
   "execution_count": 31,
   "id": "7899e84d-0662-4475-bb5e-2f26aabd5501",
   "metadata": {
    "tags": []
   },
   "outputs": [],
   "source": [
    "# pipeline that processes text and then clusters\n",
    "pipeline = Pipeline(steps=[\n",
    "    ('tokenizer', tokenizer),\n",
    "    ('hashingTF', hashingTF),\n",
    "    ('idf', idf),\n",
    "    ('kmeans', kmeans)\n",
    "])"
   ]
  },
  {
   "cell_type": "code",
   "execution_count": 32,
   "id": "58c43ae0-63c0-41a9-ae43-c38c334d98f2",
   "metadata": {
    "tags": []
   },
   "outputs": [
    {
     "name": "stderr",
     "output_type": "stream",
     "text": [
      "C:\\Users\\nicol\\anaconda3\\envs\\AI2023\\lib\\site-packages\\sklearn\\cluster\\_kmeans.py:1416: FutureWarning: The default value of `n_init` will change from 10 to 'auto' in 1.4. Set the value of `n_init` explicitly to suppress the warning\n",
      "  super()._check_params_vs_input(X, default_n_init=10)\n",
      "C:\\Users\\nicol\\anaconda3\\envs\\AI2023\\lib\\site-packages\\sklearn\\base.py:1152: ConvergenceWarning: Number of distinct clusters (1) found smaller than n_clusters (3). Possibly due to duplicate points in X.\n",
      "  return fit_method(estimator, *args, **kwargs)\n"
     ]
    }
   ],
   "source": [
    "# fitting the model on the 'Occupation' column\n",
    "text_features = pipeline.fit_transform(df_brisbane['preciptype'])"
   ]
  },
  {
   "cell_type": "code",
   "execution_count": 33,
   "id": "dbc7cb29-e0b3-493a-9059-12f60ee2c1fd",
   "metadata": {
    "tags": []
   },
   "outputs": [
    {
     "data": {
      "text/plain": [
       "0    3793\n",
       "Name: preciptype_clusters, dtype: int64"
      ]
     },
     "execution_count": 33,
     "metadata": {},
     "output_type": "execute_result"
    }
   ],
   "source": [
    "df_brisbane['preciptype_clusters'] = kmeans.labels_\n",
    "df_brisbane['preciptype_clusters'].value_counts()"
   ]
  },
  {
   "cell_type": "code",
   "execution_count": 34,
   "id": "0b1cbf9c-d04a-4f77-8d60-a2b8b86b8a54",
   "metadata": {},
   "outputs": [
    {
     "data": {
      "image/png": "[encoded data removed]",
      "text/plain": [
       "<Figure size 800x400 with 1 Axes>"
      ]
     },
     "metadata": {},
     "output_type": "display_data"
    }
   ],
   "source": [
    "text = ' '.join(description for description in df_brisbane[df_brisbane['preciptype_clusters']==0]['preciptype'])\n",
    "wordcloud = WordCloud(background_color='white').generate(text)\n",
    "plt.figure(figsize=(8, 4))\n",
    "plt.imshow(wordcloud, interpolation='bilinear')\n",
    "plt.axis('off')\n",
    "plt.title('Word Cloud for preciptype cluster number 0')\n",
    "plt.show()"
   ]
  },
  {
   "cell_type": "code",
   "execution_count": 35,
   "id": "e91c0b49-11de-4bab-9d1e-65f08550745a",
   "metadata": {
    "tags": []
   },
   "outputs": [
    {
     "ename": "ValueError",
     "evalue": "We need at least 1 word to plot a word cloud, got 0.",
     "output_type": "error",
     "traceback": [
      "\u001b[1;31m---------------------------------------------------------------------------\u001b[0m",
      "\u001b[1;31mValueError\u001b[0m                                Traceback (most recent call last)",
      "Cell \u001b[1;32mIn[35], line 2\u001b[0m\n\u001b[0;32m      1\u001b[0m text \u001b[38;5;241m=\u001b[39m \u001b[38;5;124m'\u001b[39m\u001b[38;5;124m \u001b[39m\u001b[38;5;124m'\u001b[39m\u001b[38;5;241m.\u001b[39mjoin(description \u001b[38;5;28;01mfor\u001b[39;00m description \u001b[38;5;129;01min\u001b[39;00m df_brisbane[df_brisbane[\u001b[38;5;124m'\u001b[39m\u001b[38;5;124mpreciptype_clusters\u001b[39m\u001b[38;5;124m'\u001b[39m]\u001b[38;5;241m==\u001b[39m\u001b[38;5;241m1\u001b[39m][\u001b[38;5;124m'\u001b[39m\u001b[38;5;124mpreciptype\u001b[39m\u001b[38;5;124m'\u001b[39m])\n\u001b[1;32m----> 2\u001b[0m wordcloud \u001b[38;5;241m=\u001b[39m \u001b[43mWordCloud\u001b[49m\u001b[43m(\u001b[49m\u001b[43mbackground_color\u001b[49m\u001b[38;5;241;43m=\u001b[39;49m\u001b[38;5;124;43m'\u001b[39;49m\u001b[38;5;124;43mwhite\u001b[39;49m\u001b[38;5;124;43m'\u001b[39;49m\u001b[43m)\u001b[49m\u001b[38;5;241;43m.\u001b[39;49m\u001b[43mgenerate\u001b[49m\u001b[43m(\u001b[49m\u001b[43mtext\u001b[49m\u001b[43m)\u001b[49m\n\u001b[0;32m      3\u001b[0m plt\u001b[38;5;241m.\u001b[39mfigure(figsize\u001b[38;5;241m=\u001b[39m(\u001b[38;5;241m8\u001b[39m, \u001b[38;5;241m4\u001b[39m))\n\u001b[0;32m      4\u001b[0m plt\u001b[38;5;241m.\u001b[39mimshow(wordcloud, interpolation\u001b[38;5;241m=\u001b[39m\u001b[38;5;124m'\u001b[39m\u001b[38;5;124mbilinear\u001b[39m\u001b[38;5;124m'\u001b[39m)\n",
      "File \u001b[1;32m~\\anaconda3\\envs\\AI2023\\lib\\site-packages\\wordcloud\\wordcloud.py:639\u001b[0m, in \u001b[0;36mWordCloud.generate\u001b[1;34m(self, text)\u001b[0m\n\u001b[0;32m    624\u001b[0m \u001b[38;5;28;01mdef\u001b[39;00m \u001b[38;5;21mgenerate\u001b[39m(\u001b[38;5;28mself\u001b[39m, text):\n\u001b[0;32m    625\u001b[0m \u001b[38;5;250m    \u001b[39m\u001b[38;5;124;03m\"\"\"Generate wordcloud from text.\u001b[39;00m\n\u001b[0;32m    626\u001b[0m \n\u001b[0;32m    627\u001b[0m \u001b[38;5;124;03m    The input \"text\" is expected to be a natural text. If you pass a sorted\u001b[39;00m\n\u001b[1;32m   (...)\u001b[0m\n\u001b[0;32m    637\u001b[0m \u001b[38;5;124;03m    self\u001b[39;00m\n\u001b[0;32m    638\u001b[0m \u001b[38;5;124;03m    \"\"\"\u001b[39;00m\n\u001b[1;32m--> 639\u001b[0m     \u001b[38;5;28;01mreturn\u001b[39;00m \u001b[38;5;28;43mself\u001b[39;49m\u001b[38;5;241;43m.\u001b[39;49m\u001b[43mgenerate_from_text\u001b[49m\u001b[43m(\u001b[49m\u001b[43mtext\u001b[49m\u001b[43m)\u001b[49m\n",
      "File \u001b[1;32m~\\anaconda3\\envs\\AI2023\\lib\\site-packages\\wordcloud\\wordcloud.py:621\u001b[0m, in \u001b[0;36mWordCloud.generate_from_text\u001b[1;34m(self, text)\u001b[0m\n\u001b[0;32m    604\u001b[0m \u001b[38;5;250m\u001b[39m\u001b[38;5;124;03m\"\"\"Generate wordcloud from text.\u001b[39;00m\n\u001b[0;32m    605\u001b[0m \n\u001b[0;32m    606\u001b[0m \u001b[38;5;124;03mThe input \"text\" is expected to be a natural text. If you pass a sorted\u001b[39;00m\n\u001b[1;32m   (...)\u001b[0m\n\u001b[0;32m    618\u001b[0m \u001b[38;5;124;03mself\u001b[39;00m\n\u001b[0;32m    619\u001b[0m \u001b[38;5;124;03m\"\"\"\u001b[39;00m\n\u001b[0;32m    620\u001b[0m words \u001b[38;5;241m=\u001b[39m \u001b[38;5;28mself\u001b[39m\u001b[38;5;241m.\u001b[39mprocess_text(text)\n\u001b[1;32m--> 621\u001b[0m \u001b[38;5;28;43mself\u001b[39;49m\u001b[38;5;241;43m.\u001b[39;49m\u001b[43mgenerate_from_frequencies\u001b[49m\u001b[43m(\u001b[49m\u001b[43mwords\u001b[49m\u001b[43m)\u001b[49m\n\u001b[0;32m    622\u001b[0m \u001b[38;5;28;01mreturn\u001b[39;00m \u001b[38;5;28mself\u001b[39m\n",
      "File \u001b[1;32m~\\anaconda3\\envs\\AI2023\\lib\\site-packages\\wordcloud\\wordcloud.py:410\u001b[0m, in \u001b[0;36mWordCloud.generate_from_frequencies\u001b[1;34m(self, frequencies, max_font_size)\u001b[0m\n\u001b[0;32m    408\u001b[0m frequencies \u001b[38;5;241m=\u001b[39m \u001b[38;5;28msorted\u001b[39m(frequencies\u001b[38;5;241m.\u001b[39mitems(), key\u001b[38;5;241m=\u001b[39mitemgetter(\u001b[38;5;241m1\u001b[39m), reverse\u001b[38;5;241m=\u001b[39m\u001b[38;5;28;01mTrue\u001b[39;00m)\n\u001b[0;32m    409\u001b[0m \u001b[38;5;28;01mif\u001b[39;00m \u001b[38;5;28mlen\u001b[39m(frequencies) \u001b[38;5;241m<\u001b[39m\u001b[38;5;241m=\u001b[39m \u001b[38;5;241m0\u001b[39m:\n\u001b[1;32m--> 410\u001b[0m     \u001b[38;5;28;01mraise\u001b[39;00m \u001b[38;5;167;01mValueError\u001b[39;00m(\u001b[38;5;124m\"\u001b[39m\u001b[38;5;124mWe need at least 1 word to plot a word cloud, \u001b[39m\u001b[38;5;124m\"\u001b[39m\n\u001b[0;32m    411\u001b[0m                      \u001b[38;5;124m\"\u001b[39m\u001b[38;5;124mgot \u001b[39m\u001b[38;5;132;01m%d\u001b[39;00m\u001b[38;5;124m.\u001b[39m\u001b[38;5;124m\"\u001b[39m \u001b[38;5;241m%\u001b[39m \u001b[38;5;28mlen\u001b[39m(frequencies))\n\u001b[0;32m    412\u001b[0m frequencies \u001b[38;5;241m=\u001b[39m frequencies[:\u001b[38;5;28mself\u001b[39m\u001b[38;5;241m.\u001b[39mmax_words]\n\u001b[0;32m    414\u001b[0m \u001b[38;5;66;03m# largest entry will be 1\u001b[39;00m\n",
      "\u001b[1;31mValueError\u001b[0m: We need at least 1 word to plot a word cloud, got 0."
     ]
    }
   ],
   "source": [
    "text = ' '.join(description for description in df_brisbane[df_brisbane['preciptype_clusters']==1]['preciptype'])\n",
    "wordcloud = WordCloud(background_color='white').generate(text)\n",
    "plt.figure(figsize=(8, 4))\n",
    "plt.imshow(wordcloud, interpolation='bilinear')\n",
    "plt.axis('off')\n",
    "plt.title('Word Cloud for preciptype cluster number 1')\n",
    "plt.show()"
   ]
  },
  {
   "cell_type": "code",
   "execution_count": null,
   "id": "b09e9911-5acf-4ec4-affa-6a368a0b5c51",
   "metadata": {
    "tags": []
   },
   "outputs": [],
   "source": [
    "text = ' '.join(description for description in df_brisbane[df_brisbane['preciptype_clusters']==2]['preciptype'])\n",
    "wordcloud = WordCloud(background_color='white').generate(text)\n",
    "plt.figure(figsize=(8, 4))\n",
    "plt.imshow(wordcloud, interpolation='bilinear')\n",
    "plt.axis('off')\n",
    "plt.title('Word Cloud for preciptype cluster number 2')\n",
    "plt.show()"
   ]
  },
  {
   "cell_type": "code",
   "execution_count": null,
   "id": "caab160b-1151-48a5-9abd-183e309ecc89",
   "metadata": {
    "tags": []
   },
   "outputs": [],
   "source": [
    "df_brisbane['preciptype_clusters'].value_counts()"
   ]
  },
  {
   "cell_type": "code",
   "execution_count": null,
   "id": "4b08c9a2-4b5a-4a00-87db-d41834c420f4",
   "metadata": {
    "tags": []
   },
   "outputs": [],
   "source": [
    "df_brisbane = df_brisbane.drop(columns=['preciptype'])"
   ]
  },
  {
   "cell_type": "code",
   "execution_count": null,
   "id": "e1e22f12-a8e8-4ecf-9bff-aa68505c3188",
   "metadata": {
    "tags": []
   },
   "outputs": [],
   "source": [
    "df_brisbane.head()"
   ]
  },
  {
   "cell_type": "code",
   "execution_count": null,
   "id": "42b0ee26-9095-4c61-8dad-6342cbe0e795",
   "metadata": {
    "tags": []
   },
   "outputs": [],
   "source": [
    "folder_path = r'C:\\Users\\nicol\\OneDrive\\Master\\Goldsmiths\\Thesis\\weather-prediction\\.data'\n",
    "file_name = 'brisbane_weather_2014-2024_updated.csv'\n",
    "full_path = os.path.join(folder_path, file_name)\n",
    "\n",
    "# Save the DataFrame to the specified path\n",
    "df_brisbane.to_csv(full_path)"
   ]
  }
 ],
 "metadata": {
  "kernelspec": {
   "display_name": "Python 3 (ipykernel)",
   "language": "python",
   "name": "python3"
  },
  "language_info": {
   "codemirror_mode": {
    "name": "ipython",
    "version": 3
   },
   "file_extension": ".py",
   "mimetype": "text/x-python",
   "name": "python",
   "nbconvert_exporter": "python",
   "pygments_lexer": "ipython3",
   "version": "3.10.13"
  }
 },
 "nbformat": 4,
 "nbformat_minor": 5
}
