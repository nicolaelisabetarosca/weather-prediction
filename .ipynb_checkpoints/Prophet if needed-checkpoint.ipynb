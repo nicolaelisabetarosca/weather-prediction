{
 "cells": [
  {
   "cell_type": "code",
   "execution_count": null,
   "id": "9264ff01-3e95-4a21-9502-59c7e1a3f159",
   "metadata": {},
   "outputs": [],
   "source": [
    "#prepping the dataframe df_train to have only the ds and y columns that prophet requires"
   ]
  },
  {
   "cell_type": "code",
   "execution_count": null,
   "id": "90144c37-2483-4f34-bccc-83e742023e76",
   "metadata": {},
   "outputs": [],
   "source": [
    "# processing of train dataset for prophet that only takes the datetime and the target"
   ]
  },
  {
   "cell_type": "code",
   "execution_count": null,
   "id": "3d8f38ff-7729-4a7b-b094-30d65d5d7d51",
   "metadata": {},
   "outputs": [],
   "source": [
    "df_train_reset = df_train.reset_index()"
   ]
  },
  {
   "cell_type": "code",
   "execution_count": null,
   "id": "bc9c14a2-321c-4c06-a3cd-c844382d71b3",
   "metadata": {},
   "outputs": [],
   "source": [
    "df_train_prophet = df_train_reset.rename(columns={'index': 'ds', 'temp': 'y'})"
   ]
  },
  {
   "cell_type": "code",
   "execution_count": null,
   "id": "b019cef9-a1cb-4f6b-9d39-9725531af384",
   "metadata": {},
   "outputs": [],
   "source": [
    "df_train_prophet = df_train_prophet.filter(['ds', 'y'])"
   ]
  },
  {
   "cell_type": "code",
   "execution_count": null,
   "id": "b15bdcdb-2aaa-40b7-83c8-5fb49f62e470",
   "metadata": {},
   "outputs": [],
   "source": [
    "# processing of the test dataset"
   ]
  },
  {
   "cell_type": "code",
   "execution_count": null,
   "id": "e84f67be-3eb5-4094-8ac6-10f05ed6039c",
   "metadata": {},
   "outputs": [],
   "source": [
    "df_test_reset = df_test.reset_index()"
   ]
  },
  {
   "cell_type": "code",
   "execution_count": null,
   "id": "1b48bf84-b989-4013-a02c-ee3184c91e51",
   "metadata": {},
   "outputs": [],
   "source": [
    "df_test_prophet = df_test_reset.rename(columns={'index': 'ds', 'temp': 'y'})"
   ]
  },
  {
   "cell_type": "code",
   "execution_count": null,
   "id": "0153e047-ccf4-4a21-be54-61f92944f12c",
   "metadata": {},
   "outputs": [],
   "source": [
    "df_test_prophet = df_test_prophet.filter(['ds', 'y'])"
   ]
  },
  {
   "cell_type": "code",
   "execution_count": null,
   "id": "2bf8a7e7-69ee-4689-b004-eb645b2b6870",
   "metadata": {},
   "outputs": [],
   "source": [
    "# apply the model"
   ]
  },
  {
   "cell_type": "code",
   "execution_count": null,
   "id": "573bfd83-143b-4ef8-ae9b-19942b323899",
   "metadata": {},
   "outputs": [],
   "source": [
    "start_time = time.time()\n",
    "\n",
    "prophet_baseline = Prophet()\n",
    "prophet_baseline.fit(df_train_prophet)\n",
    "\n",
    "end_time = time.time()\n",
    "time_prophet_baseline = end_time - start_time\n",
    "print(f\"Model training time for Prophet baseline: {time_prophet_baseline:.2f} seconds\")"
   ]
  },
  {
   "cell_type": "code",
   "execution_count": null,
   "id": "d315f64f-d0fc-4bc9-ba8f-44f7808a7d26",
   "metadata": {},
   "outputs": [],
   "source": [
    "future_baseline = prophet_baseline.make_future_dataframe(periods=365)\n",
    "future_baseline.tail()"
   ]
  },
  {
   "cell_type": "code",
   "execution_count": null,
   "id": "33ce8f55-ae61-4bdb-aa60-927a1baac000",
   "metadata": {},
   "outputs": [],
   "source": [
    "forecast_baseline = prophet_baseline.predict(future_baseline)\n",
    "forecast_baseline[['ds', 'yhat', 'yhat_lower', 'yhat_upper']].tail()"
   ]
  },
  {
   "cell_type": "code",
   "execution_count": null,
   "id": "742a66d0-2568-4d5c-84b9-9388ba90c572",
   "metadata": {},
   "outputs": [],
   "source": [
    "fig1_baseline = prophet_baseline.plot(forecast_baseline)\n",
    "\n",
    "plt.title('Forecast from Prophet Model London', fontsize=16)\n",
    "plt.xlabel('Date', fontsize=14)\n",
    "plt.ylabel('Temperature', fontsize=14)\n",
    "\n",
    "save_path = r'C:\\Users\\nicol\\OneDrive\\Master\\Goldsmiths\\Thesis\\weather-prediction\\images\\prophet_forecast-London.png'\n",
    "plt.savefig(save_path, bbox_inches='tight', dpi=300)\n",
    "plt.show()"
   ]
  },
  {
   "cell_type": "code",
   "execution_count": null,
   "id": "dac8c383-da9b-4446-b1e9-061eaeb8d0d5",
   "metadata": {},
   "outputs": [],
   "source": [
    "fig2_baseline = prophet_baseline.plot_components(forecast_baseline)\n",
    "save_path_components = r'C:\\Users\\nicol\\OneDrive\\Master\\Goldsmiths\\Thesis\\weather-prediction\\images\\prophet_components-London.png'\n",
    "plt.savefig(save_path_components, bbox_inches='tight', dpi=300)\n",
    "plt.show()"
   ]
  },
  {
   "cell_type": "code",
   "execution_count": null,
   "id": "7d4c82b8-0177-4075-b4e9-2e3d26686a81",
   "metadata": {},
   "outputs": [],
   "source": [
    "# add prophet predictions to the dataframe with all predictions from other models "
   ]
  },
  {
   "cell_type": "code",
   "execution_count": null,
   "id": "4c3cd88e-3a65-4808-81a5-91fa9cdbe3d4",
   "metadata": {},
   "outputs": [],
   "source": [
    "df_test_w_preds_reset = df_test_w_preds.reset_index()"
   ]
  },
  {
   "cell_type": "code",
   "execution_count": null,
   "id": "438876d4-fcf2-4ac7-822d-8c47327e1b92",
   "metadata": {},
   "outputs": [],
   "source": [
    "df_test_w_preds_reset.rename(columns={'index': 'ds'}, inplace=True)\n",
    "df_test_w_preds_merged = df_test_w_preds_reset.merge(forecast_baseline[['ds', 'yhat']], on='ds', how='left')\n",
    "\n",
    "df_test_w_preds_merged.rename(columns={'yhat': 'prophet_baseline'}, inplace=True)\n",
    "\n",
    "df_test_w_preds_merged.set_index('ds', inplace=True)\n",
    "\n",
    "df_test_w_preds_merged.head()"
   ]
  },
  {
   "cell_type": "code",
   "execution_count": null,
   "id": "8ea8f81a-2e20-4d4d-baca-d2a373b4b65d",
   "metadata": {},
   "outputs": [],
   "source": []
  },
  {
   "cell_type": "code",
   "execution_count": null,
   "id": "cfc7437c-16ae-46d9-a836-ea63fbca9154",
   "metadata": {},
   "outputs": [],
   "source": []
  },
  {
   "cell_type": "code",
   "execution_count": null,
   "id": "0095f54e-6447-48ad-bc40-010f8953392d",
   "metadata": {},
   "outputs": [],
   "source": []
  },
  {
   "cell_type": "code",
   "execution_count": null,
   "id": "902bee22-bbaa-4071-afde-5ef72ea199bc",
   "metadata": {},
   "outputs": [],
   "source": []
  },
  {
   "cell_type": "code",
   "execution_count": null,
   "id": "b1d1eaf2-386c-4b40-bcb1-3c350550843a",
   "metadata": {},
   "outputs": [],
   "source": []
  },
  {
   "cell_type": "code",
   "execution_count": null,
   "id": "fb936455-8520-438f-ba45-db683c7a1a30",
   "metadata": {},
   "outputs": [],
   "source": []
  },
  {
   "cell_type": "code",
   "execution_count": null,
   "id": "52abcc14-915c-481c-8c8a-183c27cffcd0",
   "metadata": {},
   "outputs": [],
   "source": []
  }
 ],
 "metadata": {
  "kernelspec": {
   "display_name": "Python 3 (ipykernel)",
   "language": "python",
   "name": "python3"
  },
  "language_info": {
   "codemirror_mode": {
    "name": "ipython",
    "version": 3
   },
   "file_extension": ".py",
   "mimetype": "text/x-python",
   "name": "python",
   "nbconvert_exporter": "python",
   "pygments_lexer": "ipython3",
   "version": "3.10.13"
  }
 },
 "nbformat": 4,
 "nbformat_minor": 5
}
