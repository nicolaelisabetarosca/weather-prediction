{
 "cells": [
  {
   "cell_type": "code",
   "execution_count": 47,
   "id": "be12d8de-eb36-4124-831e-1870a40dfd2b",
   "metadata": {},
   "outputs": [],
   "source": [
    "from sktime.classification.interval_based import TimeSeriesForestClassifier\n",
    "from sktime.datasets import load_unit_test\n",
    "import pandas as pd\n",
    "import numpy as np\n",
    "from sklearn.metrics import accuracy_score, precision_score, recall_score, f1_score, confusion_matrix, classification_report\n",
    "import matplotlib.pyplot as plt\n",
    "import seaborn as sns\n",
    "import warnings\n",
    "from matplotlib.colors import LinearSegmentedColormap\n",
    "\n",
    "# Suppress all warnings\n",
    "warnings.filterwarnings(\"ignore\")"
   ]
  },
  {
   "cell_type": "markdown",
   "id": "d4611d99-34a3-4363-8080-5aa92ab91b8d",
   "metadata": {},
   "source": [
    "# Create Train and test"
   ]
  },
  {
   "cell_type": "code",
   "execution_count": 6,
   "id": "a4f9dd22-b2dc-47fd-919d-961926033e87",
   "metadata": {},
   "outputs": [],
   "source": [
    "df_l = pd.read_csv(r\"C:\\Users\\nicol\\OneDrive\\Master\\Goldsmiths\\Thesis\\weather-prediction\\data\\london_weather_2014-2024.csv\", parse_dates=['datetime'])\n",
    "df_m = pd.read_csv(r\"C:\\Users\\nicol\\OneDrive\\Master\\Goldsmiths\\Thesis\\weather-prediction\\data\\manila_weather_2014-2024.csv\", parse_dates=['datetime'])\n",
    "df_br = pd.read_csv(r\"C:\\Users\\nicol\\OneDrive\\Master\\Goldsmiths\\Thesis\\weather-prediction\\data\\brisbane_weather_2014-2024.csv\", parse_dates=['datetime'])\n",
    "df_bu = pd.read_csv(r\"C:\\Users\\nicol\\OneDrive\\Master\\Goldsmiths\\Thesis\\weather-prediction\\data\\bujanovac_weather_2014-2024.csv\", parse_dates=['datetime'])"
   ]
  },
  {
   "cell_type": "code",
   "execution_count": 7,
   "id": "fd065241-24e9-4b78-941c-8c9621c0acf8",
   "metadata": {},
   "outputs": [],
   "source": [
    "df_l_train = df_l[df_l['datetime']< pd.to_datetime('2023-01-01')]\n",
    "df_m_train = df_m[df_m['datetime']< pd.to_datetime('2023-01-01')]\n",
    "df_br_train = df_br[df_br['datetime']< pd.to_datetime('2023-01-01')]\n",
    "df_bu_train = df_bu[df_bu['datetime']< pd.to_datetime('2023-01-01')]"
   ]
  },
  {
   "cell_type": "code",
   "execution_count": 8,
   "id": "6c937a22-9b1f-4e1a-a7ec-1cea0dde0961",
   "metadata": {},
   "outputs": [],
   "source": [
    "df_l_test = df_l[df_l['datetime']> pd.to_datetime('2023-01-01')]\n",
    "df_m_test = df_m[df_m['datetime']>pd.to_datetime('2023-01-01')]\n",
    "df_br_test = df_br[df_br['datetime']> pd.to_datetime('2023-01-01')]\n",
    "df_bu_test = df_bu[df_bu['datetime']> pd.to_datetime('2023-01-01')]"
   ]
  },
  {
   "cell_type": "code",
   "execution_count": 9,
   "id": "91249370-9ed0-48b3-a567-201465164852",
   "metadata": {},
   "outputs": [
    {
     "data": {
      "text/html": [
       "<div>\n",
       "<style scoped>\n",
       "    .dataframe tbody tr th:only-of-type {\n",
       "        vertical-align: middle;\n",
       "    }\n",
       "\n",
       "    .dataframe tbody tr th {\n",
       "        vertical-align: top;\n",
       "    }\n",
       "\n",
       "    .dataframe thead th {\n",
       "        text-align: right;\n",
       "    }\n",
       "</style>\n",
       "<table border=\"1\" class=\"dataframe\">\n",
       "  <thead>\n",
       "    <tr style=\"text-align: right;\">\n",
       "      <th></th>\n",
       "      <th>Unnamed: 0</th>\n",
       "      <th>name</th>\n",
       "      <th>datetime</th>\n",
       "      <th>tempmax</th>\n",
       "      <th>tempmin</th>\n",
       "      <th>temp</th>\n",
       "      <th>feelslikemax</th>\n",
       "      <th>feelslikemin</th>\n",
       "      <th>feelslike</th>\n",
       "      <th>dew</th>\n",
       "      <th>...</th>\n",
       "      <th>solarenergy</th>\n",
       "      <th>uvindex</th>\n",
       "      <th>severerisk</th>\n",
       "      <th>sunrise</th>\n",
       "      <th>sunset</th>\n",
       "      <th>moonphase</th>\n",
       "      <th>conditions</th>\n",
       "      <th>description</th>\n",
       "      <th>icon</th>\n",
       "      <th>stations</th>\n",
       "    </tr>\n",
       "  </thead>\n",
       "  <tbody>\n",
       "    <tr>\n",
       "      <th>3288</th>\n",
       "      <td>3288</td>\n",
       "      <td>Bujanovac, Serbia</td>\n",
       "      <td>2023-01-02</td>\n",
       "      <td>5.7</td>\n",
       "      <td>-0.8</td>\n",
       "      <td>1.0</td>\n",
       "      <td>5.7</td>\n",
       "      <td>-0.8</td>\n",
       "      <td>1.0</td>\n",
       "      <td>0.6</td>\n",
       "      <td>...</td>\n",
       "      <td>4.4</td>\n",
       "      <td>4</td>\n",
       "      <td>10.0</td>\n",
       "      <td>2023-01-02T07:02:41</td>\n",
       "      <td>2023-01-02T16:11:11</td>\n",
       "      <td>0.35</td>\n",
       "      <td>Partially cloudy</td>\n",
       "      <td>Partly cloudy throughout the day.</td>\n",
       "      <td>partly-cloudy-day</td>\n",
       "      <td>LWSK,13493099999,13586099999,BKPR,13588099999,...</td>\n",
       "    </tr>\n",
       "    <tr>\n",
       "      <th>3289</th>\n",
       "      <td>3289</td>\n",
       "      <td>Bujanovac, Serbia</td>\n",
       "      <td>2023-01-03</td>\n",
       "      <td>10.4</td>\n",
       "      <td>-1.5</td>\n",
       "      <td>2.2</td>\n",
       "      <td>10.4</td>\n",
       "      <td>-1.5</td>\n",
       "      <td>2.0</td>\n",
       "      <td>1.0</td>\n",
       "      <td>...</td>\n",
       "      <td>4.8</td>\n",
       "      <td>4</td>\n",
       "      <td>10.0</td>\n",
       "      <td>2023-01-03T07:02:43</td>\n",
       "      <td>2023-01-03T16:12:05</td>\n",
       "      <td>0.38</td>\n",
       "      <td>Partially cloudy</td>\n",
       "      <td>Partly cloudy throughout the day.</td>\n",
       "      <td>partly-cloudy-day</td>\n",
       "      <td>LWSK,13493099999,13586099999,BKPR,13588099999,...</td>\n",
       "    </tr>\n",
       "    <tr>\n",
       "      <th>3290</th>\n",
       "      <td>3290</td>\n",
       "      <td>Bujanovac, Serbia</td>\n",
       "      <td>2023-01-04</td>\n",
       "      <td>10.1</td>\n",
       "      <td>-0.9</td>\n",
       "      <td>4.0</td>\n",
       "      <td>10.1</td>\n",
       "      <td>-0.9</td>\n",
       "      <td>3.5</td>\n",
       "      <td>2.7</td>\n",
       "      <td>...</td>\n",
       "      <td>3.6</td>\n",
       "      <td>2</td>\n",
       "      <td>10.0</td>\n",
       "      <td>2023-01-04T07:02:43</td>\n",
       "      <td>2023-01-04T16:13:01</td>\n",
       "      <td>0.41</td>\n",
       "      <td>Partially cloudy</td>\n",
       "      <td>Partly cloudy throughout the day.</td>\n",
       "      <td>partly-cloudy-day</td>\n",
       "      <td>LWSK,13493099999,13586099999,BKPR,13588099999,...</td>\n",
       "    </tr>\n",
       "    <tr>\n",
       "      <th>3291</th>\n",
       "      <td>3291</td>\n",
       "      <td>Bujanovac, Serbia</td>\n",
       "      <td>2023-01-05</td>\n",
       "      <td>10.6</td>\n",
       "      <td>0.9</td>\n",
       "      <td>5.7</td>\n",
       "      <td>10.6</td>\n",
       "      <td>-1.3</td>\n",
       "      <td>5.4</td>\n",
       "      <td>3.5</td>\n",
       "      <td>...</td>\n",
       "      <td>5.1</td>\n",
       "      <td>4</td>\n",
       "      <td>10.0</td>\n",
       "      <td>2023-01-05T07:02:41</td>\n",
       "      <td>2023-01-05T16:13:58</td>\n",
       "      <td>0.45</td>\n",
       "      <td>Partially cloudy</td>\n",
       "      <td>Partly cloudy throughout the day.</td>\n",
       "      <td>partly-cloudy-day</td>\n",
       "      <td>LWSK,13493099999,13586099999,BKPR,13590099999,...</td>\n",
       "    </tr>\n",
       "    <tr>\n",
       "      <th>3292</th>\n",
       "      <td>3292</td>\n",
       "      <td>Bujanovac, Serbia</td>\n",
       "      <td>2023-01-06</td>\n",
       "      <td>12.2</td>\n",
       "      <td>-1.1</td>\n",
       "      <td>3.7</td>\n",
       "      <td>12.2</td>\n",
       "      <td>-1.8</td>\n",
       "      <td>3.3</td>\n",
       "      <td>0.6</td>\n",
       "      <td>...</td>\n",
       "      <td>5.2</td>\n",
       "      <td>3</td>\n",
       "      <td>10.0</td>\n",
       "      <td>2023-01-06T07:02:36</td>\n",
       "      <td>2023-01-06T16:14:56</td>\n",
       "      <td>0.48</td>\n",
       "      <td>Snow, Rain, Partially cloudy</td>\n",
       "      <td>Partly cloudy throughout the day with morning ...</td>\n",
       "      <td>rain</td>\n",
       "      <td>LWSK,13493099999,13586099999,BKPR,13588099999,...</td>\n",
       "    </tr>\n",
       "  </tbody>\n",
       "</table>\n",
       "<p>5 rows × 34 columns</p>\n",
       "</div>"
      ],
      "text/plain": [
       "      Unnamed: 0               name   datetime  tempmax  tempmin  temp  \\\n",
       "3288        3288  Bujanovac, Serbia 2023-01-02      5.7     -0.8   1.0   \n",
       "3289        3289  Bujanovac, Serbia 2023-01-03     10.4     -1.5   2.2   \n",
       "3290        3290  Bujanovac, Serbia 2023-01-04     10.1     -0.9   4.0   \n",
       "3291        3291  Bujanovac, Serbia 2023-01-05     10.6      0.9   5.7   \n",
       "3292        3292  Bujanovac, Serbia 2023-01-06     12.2     -1.1   3.7   \n",
       "\n",
       "      feelslikemax  feelslikemin  feelslike  dew  ...  solarenergy  uvindex  \\\n",
       "3288           5.7          -0.8        1.0  0.6  ...          4.4        4   \n",
       "3289          10.4          -1.5        2.0  1.0  ...          4.8        4   \n",
       "3290          10.1          -0.9        3.5  2.7  ...          3.6        2   \n",
       "3291          10.6          -1.3        5.4  3.5  ...          5.1        4   \n",
       "3292          12.2          -1.8        3.3  0.6  ...          5.2        3   \n",
       "\n",
       "      severerisk              sunrise               sunset  moonphase  \\\n",
       "3288        10.0  2023-01-02T07:02:41  2023-01-02T16:11:11       0.35   \n",
       "3289        10.0  2023-01-03T07:02:43  2023-01-03T16:12:05       0.38   \n",
       "3290        10.0  2023-01-04T07:02:43  2023-01-04T16:13:01       0.41   \n",
       "3291        10.0  2023-01-05T07:02:41  2023-01-05T16:13:58       0.45   \n",
       "3292        10.0  2023-01-06T07:02:36  2023-01-06T16:14:56       0.48   \n",
       "\n",
       "                        conditions  \\\n",
       "3288              Partially cloudy   \n",
       "3289              Partially cloudy   \n",
       "3290              Partially cloudy   \n",
       "3291              Partially cloudy   \n",
       "3292  Snow, Rain, Partially cloudy   \n",
       "\n",
       "                                            description               icon  \\\n",
       "3288                  Partly cloudy throughout the day.  partly-cloudy-day   \n",
       "3289                  Partly cloudy throughout the day.  partly-cloudy-day   \n",
       "3290                  Partly cloudy throughout the day.  partly-cloudy-day   \n",
       "3291                  Partly cloudy throughout the day.  partly-cloudy-day   \n",
       "3292  Partly cloudy throughout the day with morning ...               rain   \n",
       "\n",
       "                                               stations  \n",
       "3288  LWSK,13493099999,13586099999,BKPR,13588099999,...  \n",
       "3289  LWSK,13493099999,13586099999,BKPR,13588099999,...  \n",
       "3290  LWSK,13493099999,13586099999,BKPR,13588099999,...  \n",
       "3291  LWSK,13493099999,13586099999,BKPR,13590099999,...  \n",
       "3292  LWSK,13493099999,13586099999,BKPR,13588099999,...  \n",
       "\n",
       "[5 rows x 34 columns]"
      ]
     },
     "execution_count": 9,
     "metadata": {},
     "output_type": "execute_result"
    }
   ],
   "source": [
    "df_bu_test.head()"
   ]
  },
  {
   "cell_type": "markdown",
   "id": "dba588b0-314e-4534-aaae-81e75b2c6fdb",
   "metadata": {},
   "source": [
    "# Train > X and y"
   ]
  },
  {
   "cell_type": "code",
   "execution_count": 10,
   "id": "8a0d1dc4-f50f-4956-8870-54a85b520104",
   "metadata": {},
   "outputs": [],
   "source": [
    "X_train  = pd.DataFrame(index=range(4), columns=range(1))"
   ]
  },
  {
   "cell_type": "code",
   "execution_count": 11,
   "id": "6ec4c439-4c39-4dd6-8a81-663a5385b82c",
   "metadata": {},
   "outputs": [],
   "source": [
    "X_train = X_train.rename({0:'temp'}, axis=1)"
   ]
  },
  {
   "cell_type": "code",
   "execution_count": 42,
   "id": "57e0d6e9-c02f-4c19-ad85-cd6f51c77b8c",
   "metadata": {
    "tags": []
   },
   "outputs": [
    {
     "data": {
      "text/html": [
       "<div>\n",
       "<style scoped>\n",
       "    .dataframe tbody tr th:only-of-type {\n",
       "        vertical-align: middle;\n",
       "    }\n",
       "\n",
       "    .dataframe tbody tr th {\n",
       "        vertical-align: top;\n",
       "    }\n",
       "\n",
       "    .dataframe thead th {\n",
       "        text-align: right;\n",
       "    }\n",
       "</style>\n",
       "<table border=\"1\" class=\"dataframe\">\n",
       "  <thead>\n",
       "    <tr style=\"text-align: right;\">\n",
       "      <th></th>\n",
       "      <th>temp</th>\n",
       "    </tr>\n",
       "  </thead>\n",
       "  <tbody>\n",
       "    <tr>\n",
       "      <th>0</th>\n",
       "      <td>0        9.1\n",
       "1        9.1\n",
       "2        9.0\n",
       "3      ...</td>\n",
       "    </tr>\n",
       "    <tr>\n",
       "      <th>1</th>\n",
       "      <td>0       26.6\n",
       "1       27.0\n",
       "2       26.7\n",
       "3      ...</td>\n",
       "    </tr>\n",
       "    <tr>\n",
       "      <th>2</th>\n",
       "      <td>0       25.1\n",
       "1       25.3\n",
       "2       27.5\n",
       "3      ...</td>\n",
       "    </tr>\n",
       "    <tr>\n",
       "      <th>3</th>\n",
       "      <td>0       4.3\n",
       "1       3.7\n",
       "2       3.3\n",
       "3       2....</td>\n",
       "    </tr>\n",
       "  </tbody>\n",
       "</table>\n",
       "</div>"
      ],
      "text/plain": [
       "                                                temp\n",
       "0  0        9.1\n",
       "1        9.1\n",
       "2        9.0\n",
       "3      ...\n",
       "1  0       26.6\n",
       "1       27.0\n",
       "2       26.7\n",
       "3      ...\n",
       "2  0       25.1\n",
       "1       25.3\n",
       "2       27.5\n",
       "3      ...\n",
       "3  0       4.3\n",
       "1       3.7\n",
       "2       3.3\n",
       "3       2...."
      ]
     },
     "execution_count": 42,
     "metadata": {},
     "output_type": "execute_result"
    }
   ],
   "source": [
    "X_train"
   ]
  },
  {
   "cell_type": "code",
   "execution_count": 12,
   "id": "512db265-19f4-4dd5-b8e9-cd4a585871a1",
   "metadata": {},
   "outputs": [],
   "source": [
    "X_train.iloc[0, 0] = pd.Series(df_l_train['temp'])\n",
    "X_train.iloc[1, 0] = pd.Series(df_m_train['temp'])\n",
    "X_train.iloc[2, 0] = pd.Series(df_br_train['temp'])\n",
    "X_train.iloc[3, 0] = pd.Series(df_bu_train['temp'])"
   ]
  },
  {
   "cell_type": "code",
   "execution_count": 13,
   "id": "10950b10-2529-4650-93b3-94286df6491e",
   "metadata": {},
   "outputs": [],
   "source": [
    "y_train = pd.Series([1,0,0,1])"
   ]
  },
  {
   "cell_type": "code",
   "execution_count": 14,
   "id": "2a9ce152-e8ca-4ebd-82db-ac961a8a1f90",
   "metadata": {},
   "outputs": [
    {
     "data": {
      "text/plain": [
       "0    1\n",
       "1    0\n",
       "2    0\n",
       "3    1\n",
       "dtype: int64"
      ]
     },
     "execution_count": 14,
     "metadata": {},
     "output_type": "execute_result"
    }
   ],
   "source": [
    "y_train"
   ]
  },
  {
   "cell_type": "markdown",
   "id": "a758dc42-1e99-41fc-8c5a-38fb69211dc7",
   "metadata": {},
   "source": [
    "# Test > X and y"
   ]
  },
  {
   "cell_type": "code",
   "execution_count": 15,
   "id": "61a95163-2a6e-4dec-8750-a88241463315",
   "metadata": {},
   "outputs": [],
   "source": [
    "X_test  = pd.DataFrame(index=range(4), columns=range(1))"
   ]
  },
  {
   "cell_type": "code",
   "execution_count": 16,
   "id": "16b0aa91-1e3e-418f-8847-d8654826c814",
   "metadata": {},
   "outputs": [],
   "source": [
    "X_test = X_test.rename({0:'temp'}, axis=1)"
   ]
  },
  {
   "cell_type": "code",
   "execution_count": 17,
   "id": "f6a5fdd8-e042-4acc-881b-493946da7d85",
   "metadata": {},
   "outputs": [],
   "source": [
    "X_test.iloc[0, 0] = pd.Series(df_l_test['temp'])\n",
    "X_test.iloc[1, 0] = pd.Series(df_m_test['temp'])\n",
    "X_test.iloc[2, 0] = pd.Series(df_br_test['temp'])\n",
    "X_test.iloc[3, 0] = pd.Series(df_bu_test['temp'])"
   ]
  },
  {
   "cell_type": "code",
   "execution_count": 18,
   "id": "b6a6dbb1-61e7-488a-8c7d-65df249e4b33",
   "metadata": {},
   "outputs": [
    {
     "data": {
      "text/plain": [
       "3288     6.4\n",
       "3289     9.0\n",
       "3290    12.7\n",
       "3291    11.7\n",
       "3292    10.2\n",
       "        ... \n",
       "3788    14.2\n",
       "3789    16.4\n",
       "3790    15.8\n",
       "3791    16.6\n",
       "3792    15.1\n",
       "Name: temp, Length: 505, dtype: float64"
      ]
     },
     "execution_count": 18,
     "metadata": {},
     "output_type": "execute_result"
    }
   ],
   "source": [
    "X_test.iloc[0,0]"
   ]
  },
  {
   "cell_type": "code",
   "execution_count": 19,
   "id": "47120c6b-f83e-4bb3-ae40-7313a5dbd900",
   "metadata": {},
   "outputs": [],
   "source": [
    "# 1: London, Bujanovac and 0: Brisbane, Manila\n",
    "y_test = pd.Series([1,0,0,1])"
   ]
  },
  {
   "cell_type": "code",
   "execution_count": 20,
   "id": "8b0377f5-4cc9-4d4a-9744-c58272fe12cb",
   "metadata": {},
   "outputs": [
    {
     "data": {
      "text/plain": [
       "0    1\n",
       "1    0\n",
       "2    0\n",
       "3    1\n",
       "dtype: int64"
      ]
     },
     "execution_count": 20,
     "metadata": {},
     "output_type": "execute_result"
    }
   ],
   "source": [
    "y_test"
   ]
  },
  {
   "cell_type": "markdown",
   "id": "8461855f-3a61-42da-8eaa-4e461b4029ef",
   "metadata": {},
   "source": [
    "# Out of sample prediction"
   ]
  },
  {
   "cell_type": "code",
   "execution_count": 21,
   "id": "4d8c77c5-8694-4b5e-892a-cedc79a883c5",
   "metadata": {},
   "outputs": [],
   "source": [
    "X_validation = pd.DataFrame(index=range(2), columns=range(1))\n"
   ]
  },
  {
   "cell_type": "code",
   "execution_count": 22,
   "id": "bed4ccb5-3c28-41f2-b3f6-2fea2b24ecec",
   "metadata": {},
   "outputs": [
    {
     "data": {
      "text/html": [
       "<div>\n",
       "<style scoped>\n",
       "    .dataframe tbody tr th:only-of-type {\n",
       "        vertical-align: middle;\n",
       "    }\n",
       "\n",
       "    .dataframe tbody tr th {\n",
       "        vertical-align: top;\n",
       "    }\n",
       "\n",
       "    .dataframe thead th {\n",
       "        text-align: right;\n",
       "    }\n",
       "</style>\n",
       "<table border=\"1\" class=\"dataframe\">\n",
       "  <thead>\n",
       "    <tr style=\"text-align: right;\">\n",
       "      <th></th>\n",
       "      <th>0</th>\n",
       "    </tr>\n",
       "  </thead>\n",
       "  <tbody>\n",
       "    <tr>\n",
       "      <th>0</th>\n",
       "      <td>NaN</td>\n",
       "    </tr>\n",
       "    <tr>\n",
       "      <th>1</th>\n",
       "      <td>NaN</td>\n",
       "    </tr>\n",
       "  </tbody>\n",
       "</table>\n",
       "</div>"
      ],
      "text/plain": [
       "     0\n",
       "0  NaN\n",
       "1  NaN"
      ]
     },
     "execution_count": 22,
     "metadata": {},
     "output_type": "execute_result"
    }
   ],
   "source": [
    "X_validation"
   ]
  },
  {
   "cell_type": "code",
   "execution_count": 23,
   "id": "fc2d43fa-5e47-48b4-aafd-598b19ddb2e8",
   "metadata": {},
   "outputs": [],
   "source": [
    "# X_validation.iloc[0, 0] = pd.Series(df_new_one['temp'])\n",
    "# X_validation.iloc[0, 0] = pd.Series(df_new_two['temp'])"
   ]
  },
  {
   "cell_type": "markdown",
   "id": "c6d78c73-2246-485b-a102-0208c789ec9a",
   "metadata": {},
   "source": [
    "# TS Classification"
   ]
  },
  {
   "cell_type": "code",
   "execution_count": 24,
   "id": "bc3efbdc-4866-4b90-abb6-1335c5693975",
   "metadata": {},
   "outputs": [
    {
     "data": {
      "text/html": [
       "<div>\n",
       "<style scoped>\n",
       "    .dataframe tbody tr th:only-of-type {\n",
       "        vertical-align: middle;\n",
       "    }\n",
       "\n",
       "    .dataframe tbody tr th {\n",
       "        vertical-align: top;\n",
       "    }\n",
       "\n",
       "    .dataframe thead th {\n",
       "        text-align: right;\n",
       "    }\n",
       "</style>\n",
       "<table border=\"1\" class=\"dataframe\">\n",
       "  <thead>\n",
       "    <tr style=\"text-align: right;\">\n",
       "      <th></th>\n",
       "      <th>temp</th>\n",
       "    </tr>\n",
       "  </thead>\n",
       "  <tbody>\n",
       "    <tr>\n",
       "      <th>0</th>\n",
       "      <td>0        9.1\n",
       "1        9.1\n",
       "2        9.0\n",
       "3      ...</td>\n",
       "    </tr>\n",
       "    <tr>\n",
       "      <th>1</th>\n",
       "      <td>0       26.6\n",
       "1       27.0\n",
       "2       26.7\n",
       "3      ...</td>\n",
       "    </tr>\n",
       "    <tr>\n",
       "      <th>2</th>\n",
       "      <td>0       25.1\n",
       "1       25.3\n",
       "2       27.5\n",
       "3      ...</td>\n",
       "    </tr>\n",
       "    <tr>\n",
       "      <th>3</th>\n",
       "      <td>0       4.3\n",
       "1       3.7\n",
       "2       3.3\n",
       "3       2....</td>\n",
       "    </tr>\n",
       "  </tbody>\n",
       "</table>\n",
       "</div>"
      ],
      "text/plain": [
       "                                                temp\n",
       "0  0        9.1\n",
       "1        9.1\n",
       "2        9.0\n",
       "3      ...\n",
       "1  0       26.6\n",
       "1       27.0\n",
       "2       26.7\n",
       "3      ...\n",
       "2  0       25.1\n",
       "1       25.3\n",
       "2       27.5\n",
       "3      ...\n",
       "3  0       4.3\n",
       "1       3.7\n",
       "2       3.3\n",
       "3       2...."
      ]
     },
     "execution_count": 24,
     "metadata": {},
     "output_type": "execute_result"
    }
   ],
   "source": [
    "X_train"
   ]
  },
  {
   "cell_type": "code",
   "execution_count": 25,
   "id": "2cdb9991-7ef8-4b37-8919-79e16ecaf575",
   "metadata": {},
   "outputs": [
    {
     "data": {
      "text/plain": [
       "0    1\n",
       "1    0\n",
       "2    0\n",
       "3    1\n",
       "dtype: int64"
      ]
     },
     "execution_count": 25,
     "metadata": {},
     "output_type": "execute_result"
    }
   ],
   "source": [
    "y_train"
   ]
  },
  {
   "cell_type": "code",
   "execution_count": 26,
   "id": "75f7549f-bb71-40e1-832d-8fc840f5af31",
   "metadata": {},
   "outputs": [
    {
     "data": {
      "text/html": [
       "<style>#sk-container-id-1 {color: black;}#sk-container-id-1 pre{padding: 0;}#sk-container-id-1 div.sk-toggleable {background-color: white;}#sk-container-id-1 label.sk-toggleable__label {cursor: pointer;display: block;width: 100%;margin-bottom: 0;padding: 0.3em;box-sizing: border-box;text-align: center;}#sk-container-id-1 label.sk-toggleable__label-arrow:before {content: \"▸\";float: left;margin-right: 0.25em;color: #696969;}#sk-container-id-1 label.sk-toggleable__label-arrow:hover:before {color: black;}#sk-container-id-1 div.sk-estimator:hover label.sk-toggleable__label-arrow:before {color: black;}#sk-container-id-1 div.sk-toggleable__content {max-height: 0;max-width: 0;overflow: hidden;text-align: left;background-color: #f0f8ff;}#sk-container-id-1 div.sk-toggleable__content pre {margin: 0.2em;color: black;border-radius: 0.25em;background-color: #f0f8ff;}#sk-container-id-1 input.sk-toggleable__control:checked~div.sk-toggleable__content {max-height: 200px;max-width: 100%;overflow: auto;}#sk-container-id-1 input.sk-toggleable__control:checked~label.sk-toggleable__label-arrow:before {content: \"▾\";}#sk-container-id-1 div.sk-estimator input.sk-toggleable__control:checked~label.sk-toggleable__label {background-color: #d4ebff;}#sk-container-id-1 div.sk-label input.sk-toggleable__control:checked~label.sk-toggleable__label {background-color: #d4ebff;}#sk-container-id-1 input.sk-hidden--visually {border: 0;clip: rect(1px 1px 1px 1px);clip: rect(1px, 1px, 1px, 1px);height: 1px;margin: -1px;overflow: hidden;padding: 0;position: absolute;width: 1px;}#sk-container-id-1 div.sk-estimator {font-family: monospace;background-color: #f0f8ff;border: 1px dotted black;border-radius: 0.25em;box-sizing: border-box;margin-bottom: 0.5em;}#sk-container-id-1 div.sk-estimator:hover {background-color: #d4ebff;}#sk-container-id-1 div.sk-parallel-item::after {content: \"\";width: 100%;border-bottom: 1px solid gray;flex-grow: 1;}#sk-container-id-1 div.sk-label:hover label.sk-toggleable__label {background-color: #d4ebff;}#sk-container-id-1 div.sk-serial::before {content: \"\";position: absolute;border-left: 1px solid gray;box-sizing: border-box;top: 0;bottom: 0;left: 50%;z-index: 0;}#sk-container-id-1 div.sk-serial {display: flex;flex-direction: column;align-items: center;background-color: white;padding-right: 0.2em;padding-left: 0.2em;position: relative;}#sk-container-id-1 div.sk-item {position: relative;z-index: 1;}#sk-container-id-1 div.sk-parallel {display: flex;align-items: stretch;justify-content: center;background-color: white;position: relative;}#sk-container-id-1 div.sk-item::before, #sk-container-id-1 div.sk-parallel-item::before {content: \"\";position: absolute;border-left: 1px solid gray;box-sizing: border-box;top: 0;bottom: 0;left: 50%;z-index: -1;}#sk-container-id-1 div.sk-parallel-item {display: flex;flex-direction: column;z-index: 1;position: relative;background-color: white;}#sk-container-id-1 div.sk-parallel-item:first-child::after {align-self: flex-end;width: 50%;}#sk-container-id-1 div.sk-parallel-item:last-child::after {align-self: flex-start;width: 50%;}#sk-container-id-1 div.sk-parallel-item:only-child::after {width: 0;}#sk-container-id-1 div.sk-dashed-wrapped {border: 1px dashed gray;margin: 0 0.4em 0.5em 0.4em;box-sizing: border-box;padding-bottom: 0.4em;background-color: white;}#sk-container-id-1 div.sk-label label {font-family: monospace;font-weight: bold;display: inline-block;line-height: 1.2em;}#sk-container-id-1 div.sk-label-container {text-align: center;}#sk-container-id-1 div.sk-container {/* jupyter's `normalize.less` sets `[hidden] { display: none; }` but bootstrap.min.css set `[hidden] { display: none !important; }` so we also need the `!important` here to be able to override the default hidden behavior on the sphinx rendered scikit-learn.org. See: https://github.com/scikit-learn/scikit-learn/issues/21755 */display: inline-block !important;position: relative;}#sk-container-id-1 div.sk-text-repr-fallback {display: none;}</style><div id=\"sk-container-id-1\" class=\"sk-top-container\"><div class=\"sk-text-repr-fallback\"><pre>TimeSeriesForestClassifier(random_state=1)</pre><b>In a Jupyter environment, please rerun this cell to show the HTML representation or trust the notebook. <br />On GitHub, the HTML representation is unable to render, please try loading this page with nbviewer.org.</b></div><div class=\"sk-container\" hidden><div class=\"sk-item\"><div class=\"sk-estimator sk-toggleable\"><input class=\"sk-toggleable__control sk-hidden--visually\" id=\"sk-estimator-id-1\" type=\"checkbox\" checked><label for=\"sk-estimator-id-1\" class=\"sk-toggleable__label sk-toggleable__label-arrow\">TimeSeriesForestClassifier</label><div class=\"sk-toggleable__content\"><pre>TimeSeriesForestClassifier(random_state=1)</pre></div></div></div></div></div>"
      ],
      "text/plain": [
       "TimeSeriesForestClassifier(random_state=1)"
      ]
     },
     "execution_count": 26,
     "metadata": {},
     "output_type": "execute_result"
    }
   ],
   "source": [
    "clf = TimeSeriesForestClassifier(n_estimators=200, random_state=1)\n",
    "clf.fit(X_train, y_train)"
   ]
  },
  {
   "cell_type": "code",
   "execution_count": 27,
   "id": "3cdc2708-388e-490a-bbad-0229bea072ca",
   "metadata": {
    "tags": []
   },
   "outputs": [
    {
     "data": {
      "text/plain": [
       "0    1\n",
       "1    0\n",
       "2    0\n",
       "3    1\n",
       "dtype: int64"
      ]
     },
     "execution_count": 27,
     "metadata": {},
     "output_type": "execute_result"
    }
   ],
   "source": [
    "y_train"
   ]
  },
  {
   "cell_type": "code",
   "execution_count": 28,
   "id": "1689fdea-5c02-433e-8189-9d43159cd9bb",
   "metadata": {
    "tags": []
   },
   "outputs": [
    {
     "data": {
      "text/html": [
       "<div>\n",
       "<style scoped>\n",
       "    .dataframe tbody tr th:only-of-type {\n",
       "        vertical-align: middle;\n",
       "    }\n",
       "\n",
       "    .dataframe tbody tr th {\n",
       "        vertical-align: top;\n",
       "    }\n",
       "\n",
       "    .dataframe thead th {\n",
       "        text-align: right;\n",
       "    }\n",
       "</style>\n",
       "<table border=\"1\" class=\"dataframe\">\n",
       "  <thead>\n",
       "    <tr style=\"text-align: right;\">\n",
       "      <th></th>\n",
       "      <th>temp</th>\n",
       "    </tr>\n",
       "  </thead>\n",
       "  <tbody>\n",
       "    <tr>\n",
       "      <th>0</th>\n",
       "      <td>0        9.1\n",
       "1        9.1\n",
       "2        9.0\n",
       "3      ...</td>\n",
       "    </tr>\n",
       "    <tr>\n",
       "      <th>1</th>\n",
       "      <td>0       26.6\n",
       "1       27.0\n",
       "2       26.7\n",
       "3      ...</td>\n",
       "    </tr>\n",
       "    <tr>\n",
       "      <th>2</th>\n",
       "      <td>0       25.1\n",
       "1       25.3\n",
       "2       27.5\n",
       "3      ...</td>\n",
       "    </tr>\n",
       "    <tr>\n",
       "      <th>3</th>\n",
       "      <td>0       4.3\n",
       "1       3.7\n",
       "2       3.3\n",
       "3       2....</td>\n",
       "    </tr>\n",
       "  </tbody>\n",
       "</table>\n",
       "</div>"
      ],
      "text/plain": [
       "                                                temp\n",
       "0  0        9.1\n",
       "1        9.1\n",
       "2        9.0\n",
       "3      ...\n",
       "1  0       26.6\n",
       "1       27.0\n",
       "2       26.7\n",
       "3      ...\n",
       "2  0       25.1\n",
       "1       25.3\n",
       "2       27.5\n",
       "3      ...\n",
       "3  0       4.3\n",
       "1       3.7\n",
       "2       3.3\n",
       "3       2...."
      ]
     },
     "execution_count": 28,
     "metadata": {},
     "output_type": "execute_result"
    }
   ],
   "source": [
    "X_train"
   ]
  },
  {
   "cell_type": "code",
   "execution_count": 29,
   "id": "b5e5d083-b52d-45dc-ab50-fe5e91245d6c",
   "metadata": {
    "tags": []
   },
   "outputs": [],
   "source": [
    "y_pred = clf.predict(X_test)"
   ]
  },
  {
   "cell_type": "code",
   "execution_count": 30,
   "id": "ddb0eec6-c2bf-4cdf-a07f-446d08dbea6a",
   "metadata": {},
   "outputs": [
    {
     "data": {
      "text/plain": [
       "array([1, 0, 0, 1], dtype=int64)"
      ]
     },
     "execution_count": 30,
     "metadata": {},
     "output_type": "execute_result"
    }
   ],
   "source": [
    "y_pred"
   ]
  },
  {
   "cell_type": "code",
   "execution_count": 31,
   "id": "57e27289-ea0e-4e24-b65b-7a13938fc311",
   "metadata": {
    "tags": []
   },
   "outputs": [],
   "source": [
    "accuracy = accuracy_score(y_test, y_pred)\n",
    "precision = precision_score(y_test, y_pred, average='weighted')\n",
    "recall = recall_score(y_test, y_pred, average='weighted')\n",
    "f1 = f1_score(y_test, y_pred, average='weighted')"
   ]
  },
  {
   "cell_type": "code",
   "execution_count": 46,
   "id": "c6c32ca4-b275-4562-a881-1caeebe54ed6",
   "metadata": {
    "tags": []
   },
   "outputs": [
    {
     "name": "stdout",
     "output_type": "stream",
     "text": [
      "Accuracy for the TimeSeries Classifier baseline model: 1.0000\n",
      "Precision for the TimeSeries Classifier baseline model: 1.0000\n",
      "Recall for the TimeSeries Classifier baseline model: 1.0000\n",
      "F1 Score for the TimeSeries Classifier baseline model: 1.0000\n"
     ]
    }
   ],
   "source": [
    "print(f\"Accuracy for the TimeSeries Classifier baseline model: {accuracy:.4f}\")\n",
    "print(f\"Precision for the TimeSeries Classifier baseline model: {precision:.4f}\")\n",
    "print(f\"Recall for the TimeSeries Classifier baseline model: {recall:.4f}\")\n",
    "print(f\"F1 Score for the TimeSeries Classifier baseline model: {f1:.4f}\")"
   ]
  },
  {
   "cell_type": "code",
   "execution_count": 33,
   "id": "4093e522-d20d-4aa0-b511-a5d0a4f3b5b4",
   "metadata": {
    "tags": []
   },
   "outputs": [],
   "source": [
    "cm = confusion_matrix(y_test, y_pred)"
   ]
  },
  {
   "cell_type": "code",
   "execution_count": 48,
   "id": "1d8f4133-6440-4ba1-b79d-5f6cff4f1ad8",
   "metadata": {
    "tags": []
   },
   "outputs": [
    {
     "data": {
      "image/png": "[encoded data removed]",
      "text/plain": [
       "<Figure size 600x400 with 2 Axes>"
      ]
     },
     "metadata": {},
     "output_type": "display_data"
    }
   ],
   "source": [
    "cmap = LinearSegmentedColormap.from_list('purple_green', ['purple', 'green'])\n",
    "\n",
    "plt.figure(figsize=(6, 4))\n",
    "sns.heatmap(cm, annot=True, fmt='d', cmap=cmap)\n",
    "plt.xlabel('Predicted Labels')\n",
    "plt.ylabel('True Labels')\n",
    "plt.title('Confusion Matrix for baseline TSF')\n",
    "plt.show()"
   ]
  },
  {
   "cell_type": "markdown",
   "id": "513c3214-6e11-4278-960b-bdec5388ef5b",
   "metadata": {},
   "source": [
    "## Test on two new locations (without training the algorithm first)"
   ]
  },
  {
   "cell_type": "code",
   "execution_count": 35,
   "id": "e9feec3c-9b2c-4466-92e4-960f0cfd90e8",
   "metadata": {
    "tags": []
   },
   "outputs": [],
   "source": [
    "# y_pred_validation = clf.predict(X_validation)"
   ]
  },
  {
   "cell_type": "code",
   "execution_count": 36,
   "id": "90bc5f6c-21a8-4e4c-b894-f324e319dacf",
   "metadata": {},
   "outputs": [],
   "source": [
    "df_la = pd.read_csv(r\"C:\\Users\\nicol\\OneDrive\\Master\\Goldsmiths\\Thesis\\weather-prediction\\data\\lagos_weather_2014-2024.csv\", parse_dates=['datetime'])\n",
    "df_li = pd.read_csv(r\"C:\\Users\\nicol\\OneDrive\\Master\\Goldsmiths\\Thesis\\weather-prediction\\data\\lima_weather_2014-2024.csv\", parse_dates=['datetime'])\n"
   ]
  },
  {
   "cell_type": "code",
   "execution_count": 37,
   "id": "eba31eea-4141-4c5e-b3d3-584a39321578",
   "metadata": {},
   "outputs": [],
   "source": [
    "X_test_new =  pd.DataFrame(index=range(2), columns=range(1))\n",
    "X_test_new.iloc[0, 0] = pd.Series(df_la['temp'])\n",
    "X_test_new.iloc[1, 0] = pd.Series(df_li['temp'])\n",
    "\n"
   ]
  },
  {
   "cell_type": "code",
   "execution_count": 38,
   "id": "b95dda36-788d-48ef-b607-ffd2ae006919",
   "metadata": {},
   "outputs": [],
   "source": [
    "y_pred_new_locations = clf.predict(X_test_new)"
   ]
  },
  {
   "cell_type": "code",
   "execution_count": 39,
   "id": "ad81217b-dfaf-4ba3-b331-2630475064d8",
   "metadata": {},
   "outputs": [
    {
     "data": {
      "text/plain": [
       "array([0, 0], dtype=int64)"
      ]
     },
     "execution_count": 39,
     "metadata": {},
     "output_type": "execute_result"
    }
   ],
   "source": [
    "y_pred_new_locations "
   ]
  },
  {
   "cell_type": "code",
   "execution_count": 40,
   "id": "3083770a-127b-474c-94ca-05903c27f94a",
   "metadata": {
    "tags": []
   },
   "outputs": [],
   "source": [
    "# both new locations are predicted to be class 0 = southern hemisphere"
   ]
  },
  {
   "cell_type": "code",
   "execution_count": 41,
   "id": "21bd202c-0343-4e6f-b0b0-ae430fb7c172",
   "metadata": {
    "tags": []
   },
   "outputs": [],
   "source": [
    "# pip freeze > requirements.txt"
   ]
  }
 ],
 "metadata": {
  "kernelspec": {
   "display_name": "Python 3 (ipykernel)",
   "language": "python",
   "name": "python3"
  },
  "language_info": {
   "codemirror_mode": {
    "name": "ipython",
    "version": 3
   },
   "file_extension": ".py",
   "mimetype": "text/x-python",
   "name": "python",
   "nbconvert_exporter": "python",
   "pygments_lexer": "ipython3",
   "version": "3.10.13"
  }
 },
 "nbformat": 4,
 "nbformat_minor": 5
}
