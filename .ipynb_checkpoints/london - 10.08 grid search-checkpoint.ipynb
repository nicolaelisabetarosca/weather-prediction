{
 "cells": [
  {
   "cell_type": "markdown",
   "id": "6e3eabfc-504b-4fde-abc9-9c678d82cbdd",
   "metadata": {},
   "source": [
    "## Imports"
   ]
  },
  {
   "cell_type": "code",
   "execution_count": 110,
   "id": "b6a5477a",
   "metadata": {
    "ExecuteTime": {
     "end_time": "2024-08-05T19:48:56.338585Z",
     "start_time": "2024-08-05T19:48:56.321307Z"
    },
    "tags": []
   },
   "outputs": [],
   "source": [
    "import os\n",
    "import pandas as pd\n",
    "import numpy as np \n",
    "import seaborn as sns\n",
    "import matplotlib.pyplot as plt\n",
    "from sklearn.impute import KNNImputer\n",
    "from sklearn.feature_extraction.text import CountVectorizer, TfidfTransformer\n",
    "from sklearn.cluster import KMeans\n",
    "from sklearn.pipeline import Pipeline\n",
    "from wordcloud import WordCloud\n",
    "import missingno as msno\n",
    "from xgboost import XGBRegressor\n",
    "from sklearn.metrics import mean_absolute_error, mean_squared_error, r2_score\n",
    "from sklearn.preprocessing import MinMaxScaler\n",
    "from statsmodels.tsa.stattools import adfuller\n",
    "pd.set_option('display.max_columns', None)\n",
    "from sktime.forecasting.sarimax import SARIMAX\n",
    "from statsmodels.graphics.tsaplots import plot_acf, plot_pacf\n",
    "import warnings\n",
    "import seaborn as sns\n",
    "from xgboost import plot_importance\n",
    "from sklearn.model_selection import GridSearchCV\n",
    "from sktime.forecasting.naive import NaiveForecaster\n",
    "from sktime.forecasting.arima import AutoARIMA\n",
    "from statsmodels.tsa.statespace.sarimax import SARIMAX as StatsmodelsSARIMAX\n",
    "from numpy import array\n",
    "from keras.models import Sequential\n",
    "from keras.layers import LSTM\n",
    "from keras.layers import Dense, Dropout\n",
    "from keras.optimizers import Adam\n",
    "from prophet import Prophet"
   ]
  },
  {
   "cell_type": "code",
   "execution_count": 111,
   "id": "9a5be05a-37b2-4657-a44f-5d7a42638af6",
   "metadata": {
    "tags": []
   },
   "outputs": [],
   "source": [
    "#surpress warnings\n",
    "\n",
    "warnings.filterwarnings(\"ignore\")"
   ]
  },
  {
   "cell_type": "markdown",
   "id": "011c7049-6e3e-4921-bb71-0b3f799f24fb",
   "metadata": {},
   "source": [
    "## Load data"
   ]
  },
  {
   "cell_type": "code",
   "execution_count": 112,
   "id": "51f84fb7ac2fd96",
   "metadata": {
    "ExecuteTime": {
     "end_time": "2024-08-05T19:52:46.699850Z",
     "start_time": "2024-08-05T19:52:46.692097Z"
    }
   },
   "outputs": [],
   "source": [
    "def load_data(path):\n",
    "    df = pd.read_csv(path, parse_dates=['datetime'])\n",
    "    df = df.sort_index()\n",
    "    columns_to_drop = ['Unnamed: 0', 'sunrise', 'sunset']\n",
    "    df = df.drop(columns=columns_to_drop)\n",
    "    df['datetime'] = pd.to_datetime(df['datetime'])\n",
    "\n",
    "    last_year = df['datetime'].max() - pd.DateOffset(years=1)\n",
    "    df_last_year = df[df['datetime'] >= last_year]\n",
    "    df = df.sort_values('datetime')\n",
    "    \n",
    "    return df, df_last_year\n"
   ]
  },
  {
   "cell_type": "code",
   "execution_count": 113,
   "id": "f0a3e833",
   "metadata": {
    "ExecuteTime": {
     "end_time": "2024-08-05T19:52:47.514135Z",
     "start_time": "2024-08-05T19:52:47.473461Z"
    },
    "tags": []
   },
   "outputs": [],
   "source": [
    "df_london, df_last_year_london = load_data(r'C:\\Users\\nicol\\OneDrive\\Master\\Goldsmiths\\Thesis\\weather-prediction\\data\\london_weather_2014-2024.csv')\n",
    "df_manila, df_last_year_manila = load_data(r'C:\\Users\\nicol\\OneDrive\\Master\\Goldsmiths\\Thesis\\weather-prediction\\data\\manila_weather_2014-2024.csv')\n"
   ]
  },
  {
   "cell_type": "code",
   "execution_count": 114,
   "id": "e8382f20-ebd2-4d48-86e6-a2551dacca1e",
   "metadata": {
    "ExecuteTime": {
     "end_time": "2024-08-05T19:52:48.135906Z",
     "start_time": "2024-08-05T19:52:48.123821Z"
    }
   },
   "outputs": [
    {
     "data": {
      "text/html": [
       "<div>\n",
       "<style scoped>\n",
       "    .dataframe tbody tr th:only-of-type {\n",
       "        vertical-align: middle;\n",
       "    }\n",
       "\n",
       "    .dataframe tbody tr th {\n",
       "        vertical-align: top;\n",
       "    }\n",
       "\n",
       "    .dataframe thead th {\n",
       "        text-align: right;\n",
       "    }\n",
       "</style>\n",
       "<table border=\"1\" class=\"dataframe\">\n",
       "  <thead>\n",
       "    <tr style=\"text-align: right;\">\n",
       "      <th></th>\n",
       "      <th>name</th>\n",
       "      <th>datetime</th>\n",
       "      <th>tempmax</th>\n",
       "      <th>tempmin</th>\n",
       "      <th>temp</th>\n",
       "      <th>feelslikemax</th>\n",
       "      <th>feelslikemin</th>\n",
       "      <th>feelslike</th>\n",
       "      <th>dew</th>\n",
       "      <th>humidity</th>\n",
       "      <th>precip</th>\n",
       "      <th>precipprob</th>\n",
       "      <th>precipcover</th>\n",
       "      <th>preciptype</th>\n",
       "      <th>snow</th>\n",
       "      <th>snowdepth</th>\n",
       "      <th>windgust</th>\n",
       "      <th>windspeed</th>\n",
       "      <th>winddir</th>\n",
       "      <th>sealevelpressure</th>\n",
       "      <th>cloudcover</th>\n",
       "      <th>visibility</th>\n",
       "      <th>solarradiation</th>\n",
       "      <th>solarenergy</th>\n",
       "      <th>uvindex</th>\n",
       "      <th>severerisk</th>\n",
       "      <th>moonphase</th>\n",
       "      <th>conditions</th>\n",
       "      <th>description</th>\n",
       "      <th>icon</th>\n",
       "      <th>stations</th>\n",
       "    </tr>\n",
       "  </thead>\n",
       "  <tbody>\n",
       "    <tr>\n",
       "      <th>0</th>\n",
       "      <td>London, England, United Kingdom</td>\n",
       "      <td>2014-01-01</td>\n",
       "      <td>11.6</td>\n",
       "      <td>6.7</td>\n",
       "      <td>9.1</td>\n",
       "      <td>11.6</td>\n",
       "      <td>3.6</td>\n",
       "      <td>7.0</td>\n",
       "      <td>6.7</td>\n",
       "      <td>84.8</td>\n",
       "      <td>11.857</td>\n",
       "      <td>100</td>\n",
       "      <td>16.67</td>\n",
       "      <td>rain</td>\n",
       "      <td>0.0</td>\n",
       "      <td>0.0</td>\n",
       "      <td>72.4</td>\n",
       "      <td>38.4</td>\n",
       "      <td>190.5</td>\n",
       "      <td>993.1</td>\n",
       "      <td>67.4</td>\n",
       "      <td>14.2</td>\n",
       "      <td>6.9</td>\n",
       "      <td>0.5</td>\n",
       "      <td>0</td>\n",
       "      <td>NaN</td>\n",
       "      <td>0.00</td>\n",
       "      <td>Rain, Partially cloudy</td>\n",
       "      <td>Partly cloudy throughout the day with a chance...</td>\n",
       "      <td>rain</td>\n",
       "      <td>03769099999,EGWU,03680099999,03768399999,03672...</td>\n",
       "    </tr>\n",
       "    <tr>\n",
       "      <th>1</th>\n",
       "      <td>London, England, United Kingdom</td>\n",
       "      <td>2014-01-02</td>\n",
       "      <td>11.0</td>\n",
       "      <td>6.6</td>\n",
       "      <td>9.1</td>\n",
       "      <td>11.0</td>\n",
       "      <td>3.6</td>\n",
       "      <td>7.2</td>\n",
       "      <td>6.0</td>\n",
       "      <td>81.0</td>\n",
       "      <td>5.394</td>\n",
       "      <td>100</td>\n",
       "      <td>12.50</td>\n",
       "      <td>rain</td>\n",
       "      <td>0.0</td>\n",
       "      <td>0.0</td>\n",
       "      <td>51.8</td>\n",
       "      <td>29.8</td>\n",
       "      <td>216.2</td>\n",
       "      <td>993.4</td>\n",
       "      <td>47.4</td>\n",
       "      <td>26.7</td>\n",
       "      <td>38.3</td>\n",
       "      <td>3.3</td>\n",
       "      <td>2</td>\n",
       "      <td>NaN</td>\n",
       "      <td>0.03</td>\n",
       "      <td>Rain, Partially cloudy</td>\n",
       "      <td>Partly cloudy throughout the day with rain.</td>\n",
       "      <td>rain</td>\n",
       "      <td>03769099999,03680099999,03672099999,0378109999...</td>\n",
       "    </tr>\n",
       "    <tr>\n",
       "      <th>2</th>\n",
       "      <td>London, England, United Kingdom</td>\n",
       "      <td>2014-01-03</td>\n",
       "      <td>10.6</td>\n",
       "      <td>7.3</td>\n",
       "      <td>9.0</td>\n",
       "      <td>10.6</td>\n",
       "      <td>3.2</td>\n",
       "      <td>6.5</td>\n",
       "      <td>5.1</td>\n",
       "      <td>76.8</td>\n",
       "      <td>6.030</td>\n",
       "      <td>100</td>\n",
       "      <td>16.67</td>\n",
       "      <td>rain</td>\n",
       "      <td>0.0</td>\n",
       "      <td>0.0</td>\n",
       "      <td>77.4</td>\n",
       "      <td>33.5</td>\n",
       "      <td>218.4</td>\n",
       "      <td>994.5</td>\n",
       "      <td>52.8</td>\n",
       "      <td>17.9</td>\n",
       "      <td>30.3</td>\n",
       "      <td>2.8</td>\n",
       "      <td>2</td>\n",
       "      <td>NaN</td>\n",
       "      <td>0.07</td>\n",
       "      <td>Rain, Partially cloudy</td>\n",
       "      <td>Partly cloudy throughout the day with a chance...</td>\n",
       "      <td>rain</td>\n",
       "      <td>03769099999,03680099999,03672099999,0378109999...</td>\n",
       "    </tr>\n",
       "    <tr>\n",
       "      <th>3</th>\n",
       "      <td>London, England, United Kingdom</td>\n",
       "      <td>2014-01-04</td>\n",
       "      <td>10.1</td>\n",
       "      <td>4.5</td>\n",
       "      <td>8.0</td>\n",
       "      <td>10.1</td>\n",
       "      <td>2.0</td>\n",
       "      <td>5.1</td>\n",
       "      <td>5.2</td>\n",
       "      <td>82.4</td>\n",
       "      <td>5.239</td>\n",
       "      <td>100</td>\n",
       "      <td>16.67</td>\n",
       "      <td>rain</td>\n",
       "      <td>0.0</td>\n",
       "      <td>0.0</td>\n",
       "      <td>62.1</td>\n",
       "      <td>29.2</td>\n",
       "      <td>206.0</td>\n",
       "      <td>993.6</td>\n",
       "      <td>67.6</td>\n",
       "      <td>22.0</td>\n",
       "      <td>17.4</td>\n",
       "      <td>1.4</td>\n",
       "      <td>1</td>\n",
       "      <td>NaN</td>\n",
       "      <td>0.10</td>\n",
       "      <td>Rain, Partially cloudy</td>\n",
       "      <td>Partly cloudy throughout the day with a chance...</td>\n",
       "      <td>rain</td>\n",
       "      <td>03769099999,03680099999,03672099999,0378109999...</td>\n",
       "    </tr>\n",
       "    <tr>\n",
       "      <th>4</th>\n",
       "      <td>London, England, United Kingdom</td>\n",
       "      <td>2014-01-05</td>\n",
       "      <td>12.0</td>\n",
       "      <td>1.8</td>\n",
       "      <td>6.0</td>\n",
       "      <td>12.0</td>\n",
       "      <td>-0.9</td>\n",
       "      <td>3.6</td>\n",
       "      <td>3.9</td>\n",
       "      <td>85.9</td>\n",
       "      <td>0.201</td>\n",
       "      <td>100</td>\n",
       "      <td>8.33</td>\n",
       "      <td>rain</td>\n",
       "      <td>0.0</td>\n",
       "      <td>0.0</td>\n",
       "      <td>55.6</td>\n",
       "      <td>30.4</td>\n",
       "      <td>192.5</td>\n",
       "      <td>1000.0</td>\n",
       "      <td>66.5</td>\n",
       "      <td>25.5</td>\n",
       "      <td>30.4</td>\n",
       "      <td>2.6</td>\n",
       "      <td>2</td>\n",
       "      <td>NaN</td>\n",
       "      <td>0.14</td>\n",
       "      <td>Rain, Partially cloudy</td>\n",
       "      <td>Partly cloudy throughout the day with rain.</td>\n",
       "      <td>rain</td>\n",
       "      <td>03769099999,03680099999,03672099999,0378109999...</td>\n",
       "    </tr>\n",
       "  </tbody>\n",
       "</table>\n",
       "</div>"
      ],
      "text/plain": [
       "                              name   datetime  tempmax  tempmin  temp  \\\n",
       "0  London, England, United Kingdom 2014-01-01     11.6      6.7   9.1   \n",
       "1  London, England, United Kingdom 2014-01-02     11.0      6.6   9.1   \n",
       "2  London, England, United Kingdom 2014-01-03     10.6      7.3   9.0   \n",
       "3  London, England, United Kingdom 2014-01-04     10.1      4.5   8.0   \n",
       "4  London, England, United Kingdom 2014-01-05     12.0      1.8   6.0   \n",
       "\n",
       "   feelslikemax  feelslikemin  feelslike  dew  humidity  precip  precipprob  \\\n",
       "0          11.6           3.6        7.0  6.7      84.8  11.857         100   \n",
       "1          11.0           3.6        7.2  6.0      81.0   5.394         100   \n",
       "2          10.6           3.2        6.5  5.1      76.8   6.030         100   \n",
       "3          10.1           2.0        5.1  5.2      82.4   5.239         100   \n",
       "4          12.0          -0.9        3.6  3.9      85.9   0.201         100   \n",
       "\n",
       "   precipcover preciptype  snow  snowdepth  windgust  windspeed  winddir  \\\n",
       "0        16.67       rain   0.0        0.0      72.4       38.4    190.5   \n",
       "1        12.50       rain   0.0        0.0      51.8       29.8    216.2   \n",
       "2        16.67       rain   0.0        0.0      77.4       33.5    218.4   \n",
       "3        16.67       rain   0.0        0.0      62.1       29.2    206.0   \n",
       "4         8.33       rain   0.0        0.0      55.6       30.4    192.5   \n",
       "\n",
       "   sealevelpressure  cloudcover  visibility  solarradiation  solarenergy  \\\n",
       "0             993.1        67.4        14.2             6.9          0.5   \n",
       "1             993.4        47.4        26.7            38.3          3.3   \n",
       "2             994.5        52.8        17.9            30.3          2.8   \n",
       "3             993.6        67.6        22.0            17.4          1.4   \n",
       "4            1000.0        66.5        25.5            30.4          2.6   \n",
       "\n",
       "   uvindex  severerisk  moonphase              conditions  \\\n",
       "0        0         NaN       0.00  Rain, Partially cloudy   \n",
       "1        2         NaN       0.03  Rain, Partially cloudy   \n",
       "2        2         NaN       0.07  Rain, Partially cloudy   \n",
       "3        1         NaN       0.10  Rain, Partially cloudy   \n",
       "4        2         NaN       0.14  Rain, Partially cloudy   \n",
       "\n",
       "                                         description  icon  \\\n",
       "0  Partly cloudy throughout the day with a chance...  rain   \n",
       "1        Partly cloudy throughout the day with rain.  rain   \n",
       "2  Partly cloudy throughout the day with a chance...  rain   \n",
       "3  Partly cloudy throughout the day with a chance...  rain   \n",
       "4        Partly cloudy throughout the day with rain.  rain   \n",
       "\n",
       "                                            stations  \n",
       "0  03769099999,EGWU,03680099999,03768399999,03672...  \n",
       "1  03769099999,03680099999,03672099999,0378109999...  \n",
       "2  03769099999,03680099999,03672099999,0378109999...  \n",
       "3  03769099999,03680099999,03672099999,0378109999...  \n",
       "4  03769099999,03680099999,03672099999,0378109999...  "
      ]
     },
     "execution_count": 114,
     "metadata": {},
     "output_type": "execute_result"
    }
   ],
   "source": [
    "df_london.head()"
   ]
  },
  {
   "cell_type": "markdown",
   "id": "0881c68d-bf61-4a02-8f19-8d06f91449f7",
   "metadata": {},
   "source": [
    "## Testing for stationarity of the data"
   ]
  },
  {
   "cell_type": "markdown",
   "id": "31eb24e9-a894-4fb0-907d-d6b443f37990",
   "metadata": {},
   "source": [
    "As this is a time series comparative study, there is a need to understand the if the data is stationary. \n",
    "\n",
    "- https://www.analyticsvidhya.com/blog/2021/06/statistical-tests-to-check-stationarity-in-time-series-part-1/\n",
    "- https://towardsdatascience.com/stationarity-in-time-series-analysis-90c94f27322?gi=334565268e20"
   ]
  },
  {
   "cell_type": "code",
   "execution_count": 115,
   "id": "addfb5beef02942b",
   "metadata": {
    "ExecuteTime": {
     "end_time": "2024-08-05T19:52:48.772524Z",
     "start_time": "2024-08-05T19:52:48.770244Z"
    }
   },
   "outputs": [],
   "source": [
    "def test_stationarity(df):\n",
    "    result = adfuller(df)\n",
    "    print('ADF Statistic:', result[0])\n",
    "    print('p-value:', result[1])\n",
    "    if result[1] < 0.05:\n",
    "        print('TS is stationary')\n",
    "    else:\n",
    "        print('TS not stationary')"
   ]
  },
  {
   "cell_type": "code",
   "execution_count": 116,
   "id": "b6d2a41f7ef9c85b",
   "metadata": {
    "ExecuteTime": {
     "end_time": "2024-08-05T19:52:50.223012Z",
     "start_time": "2024-08-05T19:52:49.237290Z"
    }
   },
   "outputs": [
    {
     "name": "stdout",
     "output_type": "stream",
     "text": [
      "ADF Statistic: -6.139003242410702\n",
      "p-value: 8.0561165344187e-08\n",
      "TS is stationary\n"
     ]
    }
   ],
   "source": [
    "test_stationarity(df_manila['temp'])"
   ]
  },
  {
   "cell_type": "code",
   "execution_count": 117,
   "id": "4ead6688-dd9f-4be7-90f3-378ec33dd105",
   "metadata": {
    "tags": []
   },
   "outputs": [],
   "source": [
    "# data is stationary therefore it will not be needing differantiation"
   ]
  },
  {
   "cell_type": "markdown",
   "id": "29954e51-e8c7-432d-b67c-f8cfc7e8bde9",
   "metadata": {},
   "source": [
    "## Descriptive statistics and EDA"
   ]
  },
  {
   "cell_type": "code",
   "execution_count": 118,
   "id": "c9ef3993aa706498",
   "metadata": {
    "ExecuteTime": {
     "end_time": "2024-08-05T19:27:22.255342Z",
     "start_time": "2024-08-05T19:27:22.253204Z"
    }
   },
   "outputs": [],
   "source": [
    "def descriptive_stats(df):\n",
    "    print(\"shape: \", df.shape)\n",
    "    print(\"column headers: \", df.columns)\n",
    "    print(\"first date in series: \", df_london['datetime'].min())\n",
    "    print(\"last date in series: \", df_london['datetime'].max())\n",
    "    print(\"minimum temperature: \", df_london['temp'].min())\n",
    "    print(\"maximum temperature: \", df_london['temp'].max())\n",
    "    print(\"missing data: \", df_london.isna().sum())\n",
    "    print(\"descriptive statistics: \", df_london.describe())\n",
    "    print(\"df info: \", df_london.info())\n",
    "    print(\"number of missing values per column: \", df_london.isnull().sum())\n",
    "    "
   ]
  },
  {
   "cell_type": "code",
   "execution_count": 119,
   "id": "79acc7450faa4a92",
   "metadata": {
    "ExecuteTime": {
     "end_time": "2024-08-05T19:27:22.355800Z",
     "start_time": "2024-08-05T19:27:22.351792Z"
    }
   },
   "outputs": [
    {
     "name": "stdout",
     "output_type": "stream",
     "text": [
      "shape:  (3793, 31)\n",
      "column headers:  Index(['name', 'datetime', 'tempmax', 'tempmin', 'temp', 'feelslikemax',\n",
      "       'feelslikemin', 'feelslike', 'dew', 'humidity', 'precip', 'precipprob',\n",
      "       'precipcover', 'preciptype', 'snow', 'snowdepth', 'windgust',\n",
      "       'windspeed', 'winddir', 'sealevelpressure', 'cloudcover', 'visibility',\n",
      "       'solarradiation', 'solarenergy', 'uvindex', 'severerisk', 'moonphase',\n",
      "       'conditions', 'description', 'icon', 'stations'],\n",
      "      dtype='object')\n",
      "first date in series:  2014-01-01 00:00:00\n",
      "last date in series:  2024-05-20 00:00:00\n",
      "minimum temperature:  -3.2\n",
      "maximum temperature:  30.3\n",
      "missing data:  name                   0\n",
      "datetime               0\n",
      "tempmax                0\n",
      "tempmin                0\n",
      "temp                   0\n",
      "feelslikemax           0\n",
      "feelslikemin           0\n",
      "feelslike              0\n",
      "dew                    0\n",
      "humidity               0\n",
      "precip                 0\n",
      "precipprob             0\n",
      "precipcover            0\n",
      "preciptype          1426\n",
      "snow                   0\n",
      "snowdepth              0\n",
      "windgust             175\n",
      "windspeed              0\n",
      "winddir                0\n",
      "sealevelpressure       0\n",
      "cloudcover             0\n",
      "visibility             0\n",
      "solarradiation         0\n",
      "solarenergy            0\n",
      "uvindex                0\n",
      "severerisk          2931\n",
      "moonphase              0\n",
      "conditions             0\n",
      "description            0\n",
      "icon                   0\n",
      "stations               0\n",
      "dtype: int64\n",
      "descriptive statistics:                    datetime      tempmax      tempmin         temp  \\\n",
      "count                 3793  3793.000000  3793.000000  3793.000000   \n",
      "mean   2019-03-12 00:00:00    15.809122     8.918007    12.265225   \n",
      "min    2014-01-01 00:00:00    -1.200000    -4.500000    -3.200000   \n",
      "25%    2016-08-06 00:00:00    11.100000     5.200000     8.200000   \n",
      "50%    2019-03-12 00:00:00    15.300000     9.000000    12.000000   \n",
      "75%    2021-10-15 00:00:00    20.500000    12.700000    16.500000   \n",
      "max    2024-05-20 00:00:00    39.800000    22.100000    30.300000   \n",
      "std                    NaN     6.269174     4.919809     5.349231   \n",
      "\n",
      "       feelslikemax  feelslikemin    feelslike          dew     humidity  \\\n",
      "count   3793.000000   3793.000000  3793.000000  3793.000000  3793.000000   \n",
      "mean      15.406248      7.705088    11.457843     7.456051    74.398497   \n",
      "min       -5.500000    -10.800000    -8.500000    -8.700000    36.000000   \n",
      "25%       11.100000      2.900000     6.500000     4.100000    66.700000   \n",
      "50%       15.300000      7.300000    11.800000     7.600000    75.200000   \n",
      "75%       20.500000     12.700000    16.500000    11.000000    82.600000   \n",
      "max       38.200000     22.100000    29.400000    18.700000    99.400000   \n",
      "std        6.822375      5.983355     6.232755     4.594663    10.471082   \n",
      "\n",
      "            precip   precipprob  precipcover         snow    snowdepth  \\\n",
      "count  3793.000000  3793.000000  3793.000000  3793.000000  3793.000000   \n",
      "mean      1.635440    59.056156     6.813267     0.010203     0.035750   \n",
      "min       0.000000     0.000000     0.000000     0.000000     0.000000   \n",
      "25%       0.000000     0.000000     0.000000     0.000000     0.000000   \n",
      "50%       0.004000   100.000000     4.170000     0.000000     0.000000   \n",
      "75%       1.178000   100.000000     8.330000     0.000000     0.000000   \n",
      "max      43.724000   100.000000    95.830000     7.700000    13.700000   \n",
      "std       3.881607    49.179505    10.323611     0.174264     0.389793   \n",
      "\n",
      "          windgust    windspeed      winddir  sealevelpressure   cloudcover  \\\n",
      "count  3618.000000  3793.000000  3793.000000       3793.000000  3793.000000   \n",
      "mean     40.947872    21.252571   196.263301       1015.095386    60.921962   \n",
      "min       7.900000     4.700000     0.100000        966.700000     0.000000   \n",
      "25%      30.600000    15.700000   127.300000       1008.600000    46.100000   \n",
      "50%      39.600000    20.200000   220.900000       1016.200000    63.600000   \n",
      "75%      50.400000    25.700000   257.800000       1022.400000    79.000000   \n",
      "max     106.400000    63.500000   359.600000       1047.800000   100.000000   \n",
      "std      13.974419     7.799864    91.231635         10.737347    23.406051   \n",
      "\n",
      "        visibility  solarradiation  solarenergy      uvindex  severerisk  \\\n",
      "count  3793.000000     3793.000000  3793.000000  3793.000000  862.000000   \n",
      "mean     22.136225      107.230424     9.236620     4.231479   10.069606   \n",
      "min       0.500000        2.700000     0.000000     0.000000   10.000000   \n",
      "25%      16.000000       36.700000     3.200000     2.000000   10.000000   \n",
      "50%      21.500000       83.300000     7.200000     4.000000   10.000000   \n",
      "75%      28.400000      161.800000    13.900000     7.000000   10.000000   \n",
      "max      48.800000      357.400000    30.900000    10.000000   30.000000   \n",
      "std       8.537529       84.560979     7.316345     2.629492    1.178507   \n",
      "\n",
      "         moonphase  \n",
      "count  3793.000000  \n",
      "mean      0.481648  \n",
      "min       0.000000  \n",
      "25%       0.250000  \n",
      "50%       0.480000  \n",
      "75%       0.750000  \n",
      "max       0.980000  \n",
      "std       0.288695  \n",
      "<class 'pandas.core.frame.DataFrame'>\n",
      "RangeIndex: 3793 entries, 0 to 3792\n",
      "Data columns (total 31 columns):\n",
      " #   Column            Non-Null Count  Dtype         \n",
      "---  ------            --------------  -----         \n",
      " 0   name              3793 non-null   object        \n",
      " 1   datetime          3793 non-null   datetime64[ns]\n",
      " 2   tempmax           3793 non-null   float64       \n",
      " 3   tempmin           3793 non-null   float64       \n",
      " 4   temp              3793 non-null   float64       \n",
      " 5   feelslikemax      3793 non-null   float64       \n",
      " 6   feelslikemin      3793 non-null   float64       \n",
      " 7   feelslike         3793 non-null   float64       \n",
      " 8   dew               3793 non-null   float64       \n",
      " 9   humidity          3793 non-null   float64       \n",
      " 10  precip            3793 non-null   float64       \n",
      " 11  precipprob        3793 non-null   int64         \n",
      " 12  precipcover       3793 non-null   float64       \n",
      " 13  preciptype        2367 non-null   object        \n",
      " 14  snow              3793 non-null   float64       \n",
      " 15  snowdepth         3793 non-null   float64       \n",
      " 16  windgust          3618 non-null   float64       \n",
      " 17  windspeed         3793 non-null   float64       \n",
      " 18  winddir           3793 non-null   float64       \n",
      " 19  sealevelpressure  3793 non-null   float64       \n",
      " 20  cloudcover        3793 non-null   float64       \n",
      " 21  visibility        3793 non-null   float64       \n",
      " 22  solarradiation    3793 non-null   float64       \n",
      " 23  solarenergy       3793 non-null   float64       \n",
      " 24  uvindex           3793 non-null   int64         \n",
      " 25  severerisk        862 non-null    float64       \n",
      " 26  moonphase         3793 non-null   float64       \n",
      " 27  conditions        3793 non-null   object        \n",
      " 28  description       3793 non-null   object        \n",
      " 29  icon              3793 non-null   object        \n",
      " 30  stations          3793 non-null   object        \n",
      "dtypes: datetime64[ns](1), float64(22), int64(2), object(6)\n",
      "memory usage: 918.7+ KB\n",
      "df info:  None\n",
      "number of missing values per column:  name                   0\n",
      "datetime               0\n",
      "tempmax                0\n",
      "tempmin                0\n",
      "temp                   0\n",
      "feelslikemax           0\n",
      "feelslikemin           0\n",
      "feelslike              0\n",
      "dew                    0\n",
      "humidity               0\n",
      "precip                 0\n",
      "precipprob             0\n",
      "precipcover            0\n",
      "preciptype          1426\n",
      "snow                   0\n",
      "snowdepth              0\n",
      "windgust             175\n",
      "windspeed              0\n",
      "winddir                0\n",
      "sealevelpressure       0\n",
      "cloudcover             0\n",
      "visibility             0\n",
      "solarradiation         0\n",
      "solarenergy            0\n",
      "uvindex                0\n",
      "severerisk          2931\n",
      "moonphase              0\n",
      "conditions             0\n",
      "description            0\n",
      "icon                   0\n",
      "stations               0\n",
      "dtype: int64\n"
     ]
    }
   ],
   "source": [
    "descriptive_stats(df_london)"
   ]
  },
  {
   "cell_type": "code",
   "execution_count": 120,
   "id": "bc3a7283-23f2-4ed1-8ec8-85277ef76d77",
   "metadata": {
    "ExecuteTime": {
     "end_time": "2024-08-05T19:27:23.450101Z",
     "start_time": "2024-08-05T19:27:22.894602Z"
    },
    "tags": []
   },
   "outputs": [
    {
     "data": {
      "image/png": "[encoded data removed]",
      "text/plain": [
       "<Figure size 2500x1000 with 2 Axes>"
      ]
     },
     "metadata": {},
     "output_type": "display_data"
    }
   ],
   "source": [
    "#checking for missing values\n",
    "\n",
    "msno.matrix(df_last_year_london, color=(1.0, 0.5, 0.0))\n",
    "plt.title('Missing Values Matrix for the Last Year - London, United Kingdom')\n",
    "plt.show()"
   ]
  },
  {
   "cell_type": "code",
   "execution_count": null,
   "id": "c3ccc160-4faf-43de-abda-a8da5b7149d7",
   "metadata": {
    "ExecuteTime": {
     "end_time": "2024-08-05T19:27:25.107281Z",
     "start_time": "2024-08-05T19:27:23.456516Z"
    },
    "tags": []
   },
   "outputs": [],
   "source": [
    "#checking data distribution\n",
    "\n",
    "df_london.hist(figsize=(10, 8))\n",
    "plt.tight_layout()\n",
    "plt.show()"
   ]
  },
  {
   "cell_type": "code",
   "execution_count": null,
   "id": "0353395c-8e05-4fed-9db9-d71ba0242dea",
   "metadata": {
    "ExecuteTime": {
     "end_time": "2024-08-05T19:27:25.311714Z",
     "start_time": "2024-08-05T19:27:25.108509Z"
    },
    "tags": []
   },
   "outputs": [],
   "source": [
    "#data distribution\n",
    "df_london.boxplot(figsize=(10, 8))\n",
    "plt.xticks(rotation=90)\n",
    "plt.title('Boxplot for data distribution - London, United Kingdom')\n",
    "plt.show()"
   ]
  },
  {
   "cell_type": "code",
   "execution_count": null,
   "id": "4b372684-9cbf-4ab6-86b0-6f5c72079c8c",
   "metadata": {
    "ExecuteTime": {
     "end_time": "2024-08-05T19:27:25.317322Z",
     "start_time": "2024-08-05T19:27:25.314014Z"
    }
   },
   "outputs": [],
   "source": [
    "#creating the correlation between features, for feature importane later on and heatmap\n",
    "df_london_for_corr = df_london.drop(['name', 'preciptype', 'conditions','description','icon', 'stations'],axis=1)"
   ]
  },
  {
   "cell_type": "code",
   "execution_count": null,
   "id": "1c4ef65c-1f2c-4ae5-9a17-9d1258065d92",
   "metadata": {
    "ExecuteTime": {
     "end_time": "2024-08-05T19:27:25.330562Z",
     "start_time": "2024-08-05T19:27:25.319020Z"
    }
   },
   "outputs": [],
   "source": [
    "df_london_for_corr.head()"
   ]
  },
  {
   "cell_type": "code",
   "execution_count": null,
   "id": "83b2351b-d28f-441f-b7e7-8dd25920028d",
   "metadata": {
    "ExecuteTime": {
     "end_time": "2024-08-05T19:27:25.342885Z",
     "start_time": "2024-08-05T19:27:25.331917Z"
    }
   },
   "outputs": [],
   "source": [
    "corr_matrix = df_london_for_corr.corr()\n",
    "print(corr_matrix) "
   ]
  },
  {
   "cell_type": "code",
   "execution_count": null,
   "id": "6db1f7c5-7317-4aa0-957f-f334f44b5270",
   "metadata": {
    "ExecuteTime": {
     "end_time": "2024-08-05T19:27:26.231555Z",
     "start_time": "2024-08-05T19:27:25.344058Z"
    },
    "tags": []
   },
   "outputs": [],
   "source": [
    "#heatmap\n",
    "plt.figure(figsize=(20, 10))\n",
    "sns.heatmap(corr_matrix, annot=True, cmap='coolwarm')\n",
    "plt.title(\"Correlation heatmap - London, United Kingdom\")\n",
    "plt.show()"
   ]
  },
  {
   "cell_type": "markdown",
   "id": "595aa1ea-8245-4df1-ad7a-023c74aeed2e",
   "metadata": {},
   "source": [
    "look into the correlation that humidity has with temp (-0.43) + solarradiation, solarenergy or uvindex\n",
    "look into multicolinearity - multiple feature that are roughly the same as the target, which need to be removed (first 5 after the first one)"
   ]
  },
  {
   "cell_type": "code",
   "execution_count": null,
   "id": "cae763f2-3e85-4fb6-94b3-cb74dde55432",
   "metadata": {
    "ExecuteTime": {
     "end_time": "2024-08-05T19:27:26.384496Z",
     "start_time": "2024-08-05T19:27:26.232792Z"
    },
    "tags": []
   },
   "outputs": [],
   "source": [
    "#checking for outliers\n",
    "\n",
    "plt.figure(figsize=(10, 6))\n",
    "sns.boxplot(data=df_london[['temp', 'humidity', 'windgust', 'solarradiation', 'uvindex']])\n",
    "plt.title(\"Outlier Detection\")\n",
    "plt.show()"
   ]
  },
  {
   "cell_type": "code",
   "execution_count": null,
   "id": "29c914bd-8133-4e53-bdca-40eae12ebb3a",
   "metadata": {
    "ExecuteTime": {
     "end_time": "2024-08-05T19:27:26.390497Z",
     "start_time": "2024-08-05T19:27:26.387453Z"
    },
    "tags": []
   },
   "outputs": [],
   "source": [
    "# look into how each of these are measured \n",
    "# for example temp is the average at 18 \n",
    "#first run the models with outliers and then see the results "
   ]
  },
  {
   "cell_type": "code",
   "execution_count": null,
   "id": "b573e497",
   "metadata": {
    "ExecuteTime": {
     "end_time": "2024-08-05T19:27:26.398734Z",
     "start_time": "2024-08-05T19:27:26.394733Z"
    }
   },
   "outputs": [],
   "source": [
    "df_london.set_index(\"datetime\", inplace = True)\n",
    "df_london.sort_index(inplace = True)"
   ]
  },
  {
   "cell_type": "code",
   "execution_count": null,
   "id": "d9f851c2",
   "metadata": {
    "ExecuteTime": {
     "end_time": "2024-08-05T19:27:26.418211Z",
     "start_time": "2024-08-05T19:27:26.399998Z"
    }
   },
   "outputs": [],
   "source": [
    "df_london.head()"
   ]
  },
  {
   "cell_type": "code",
   "execution_count": null,
   "id": "71a2f358-f176-46eb-b76c-8e55a9c44364",
   "metadata": {
    "ExecuteTime": {
     "end_time": "2024-08-05T19:27:26.561083Z",
     "start_time": "2024-08-05T19:27:26.420097Z"
    },
    "tags": []
   },
   "outputs": [],
   "source": [
    "#understanding monthly distribution of the data and how the temperature differ from month to month\n",
    "\n",
    "df_london['month'] = df_london.index.month\n",
    "\n",
    "plt.figure(figsize=(12, 6))\n",
    "sns.boxplot(x='month', y='temp', data=df_london, color=\"purple\")\n",
    "plt.title('Monthly Temperature Distribution - London, United Kingdom')\n",
    "plt.xlabel('Month')\n",
    "plt.ylabel('Temperature (°C)')\n",
    "plt.grid(True)\n",
    "plt.show()"
   ]
  },
  {
   "cell_type": "code",
   "execution_count": null,
   "id": "71935ac0-0ff6-469e-a9db-fe15ab6a2064",
   "metadata": {
    "ExecuteTime": {
     "end_time": "2024-08-05T19:27:26.747378Z",
     "start_time": "2024-08-05T19:27:26.562809Z"
    },
    "tags": []
   },
   "outputs": [],
   "source": [
    "#looking to understand how the mean solar radiation is changing from year to year\n",
    "\n",
    "daily_solar_radiation = df_london['solarradiation'].resample('D').mean()\n",
    "\n",
    "plt.figure(figsize=(10, 6))\n",
    "plt.plot(daily_solar_radiation.index, daily_solar_radiation.values, linestyle='-', color='green')\n",
    "plt.title('Daily Mean Solar Radiation - London, United Kingdom')\n",
    "plt.xlabel('Date')\n",
    "plt.ylabel('Solar Radiation (W/m^2)')\n",
    "plt.grid(True)\n",
    "plt.show()"
   ]
  },
  {
   "cell_type": "markdown",
   "id": "d5d7d1b5-32a2-4c51-b27f-9f98f2730b1d",
   "metadata": {},
   "source": [
    "## Missing values"
   ]
  },
  {
   "cell_type": "code",
   "execution_count": null,
   "id": "f90eb85c-cafc-467b-8352-9404ec05d7dd",
   "metadata": {
    "ExecuteTime": {
     "end_time": "2024-08-05T19:27:26.756943Z",
     "start_time": "2024-08-05T19:27:26.749134Z"
    },
    "tags": []
   },
   "outputs": [],
   "source": [
    "df_london.isna().sum()"
   ]
  },
  {
   "cell_type": "code",
   "execution_count": null,
   "id": "0a4ac1a9",
   "metadata": {
    "ExecuteTime": {
     "end_time": "2024-08-05T19:27:27.441879Z",
     "start_time": "2024-08-05T19:27:26.758106Z"
    },
    "tags": []
   },
   "outputs": [],
   "source": [
    "#run k-nn to fill in the missing values with the k nearest neighbour \n",
    "#https://www.sciencedirect.com/science/article/abs/pii/S0164121212001586#:~:text=kNN%20imputation%20is%20designed%20to,or%20attribute)%20is%20categorical%2C%20referred\n",
    "\n",
    "imputer = KNNImputer(n_neighbors=5)\n",
    "df_london[['windgust', 'severerisk']] = imputer.fit_transform(df_london[['windgust', 'severerisk']])"
   ]
  },
  {
   "cell_type": "code",
   "execution_count": null,
   "id": "74da3ee9",
   "metadata": {
    "ExecuteTime": {
     "end_time": "2024-08-05T19:27:27.449008Z",
     "start_time": "2024-08-05T19:27:27.444581Z"
    },
    "tags": []
   },
   "outputs": [],
   "source": [
    "df_london['preciptype'].unique()"
   ]
  },
  {
   "cell_type": "code",
   "execution_count": null,
   "id": "14e396e4",
   "metadata": {
    "ExecuteTime": {
     "end_time": "2024-08-05T19:27:27.453611Z",
     "start_time": "2024-08-05T19:27:27.449736Z"
    },
    "tags": []
   },
   "outputs": [],
   "source": [
    "df_london['preciptype'].value_counts()"
   ]
  },
  {
   "cell_type": "code",
   "execution_count": null,
   "id": "eaf20fda-19cc-4e4d-9e8b-900919811ded",
   "metadata": {
    "ExecuteTime": {
     "end_time": "2024-08-05T19:27:27.459075Z",
     "start_time": "2024-08-05T19:27:27.454905Z"
    },
    "tags": []
   },
   "outputs": [],
   "source": [
    "df_london.isna().sum()"
   ]
  },
  {
   "cell_type": "code",
   "execution_count": null,
   "id": "eb677273-3392-4db4-8660-ba12871c0f6d",
   "metadata": {
    "ExecuteTime": {
     "end_time": "2024-08-05T19:27:27.462736Z",
     "start_time": "2024-08-05T19:27:27.459791Z"
    }
   },
   "outputs": [],
   "source": [
    "#filling in missing values from precipitation because if they are missing, it means there was no registration of precipitation that day\n",
    "df_london['preciptype'] = df_london['preciptype'].fillna(0)"
   ]
  },
  {
   "cell_type": "code",
   "execution_count": null,
   "id": "8388f508-2637-4b4c-92a0-356e57de6d4b",
   "metadata": {
    "ExecuteTime": {
     "end_time": "2024-08-05T19:27:27.471531Z",
     "start_time": "2024-08-05T19:27:27.464269Z"
    },
    "tags": []
   },
   "outputs": [],
   "source": [
    "df_london.isna().sum()"
   ]
  },
  {
   "cell_type": "markdown",
   "id": "22c6db17-64d3-4e5b-b70f-856b63c5838a",
   "metadata": {},
   "source": [
    "## Droppping columns"
   ]
  },
  {
   "cell_type": "code",
   "execution_count": null,
   "id": "845bd503-dbc9-45fe-af6b-da367745bf2b",
   "metadata": {
    "ExecuteTime": {
     "end_time": "2024-08-05T19:27:27.477657Z",
     "start_time": "2024-08-05T19:27:27.473442Z"
    }
   },
   "outputs": [],
   "source": [
    "# based on the heatmap, it seems that columns like tempmax, tempin, feelslikemax, feelslikemin and feelslike are too similar with the target variable and they are being dropped as to not create any data leakage in the models to follow"
   ]
  },
  {
   "cell_type": "markdown",
   "id": "39fb9d77-d653-497e-a017-7cfeb273791b",
   "metadata": {
    "ExecuteTime": {
     "end_time": "2024-08-05T19:27:27.483583Z",
     "start_time": "2024-08-05T19:27:27.480622Z"
    }
   },
   "source": [
    "- https://www.analyticsvidhya.com/blog/2020/03/what-is-multicollinearity/"
   ]
  },
  {
   "cell_type": "code",
   "execution_count": null,
   "id": "4c776662-4cee-476b-991c-d512561440cf",
   "metadata": {
    "ExecuteTime": {
     "end_time": "2024-08-05T19:27:27.489338Z",
     "start_time": "2024-08-05T19:27:27.485260Z"
    }
   },
   "outputs": [],
   "source": [
    "columns_to_drop = ['tempmax', 'tempmin', 'icon', 'stations', 'conditions', 'tempmin', 'feelslikemax', 'feelslikemin', 'feelslike', 'preciptype', 'name']\n",
    "df_london = df_london.drop(columns=columns_to_drop)"
   ]
  },
  {
   "cell_type": "markdown",
   "id": "047979db-f8da-4741-b472-4c0aef559c28",
   "metadata": {
    "tags": []
   },
   "source": [
    "## Tokenization of the \"description\" column"
   ]
  },
  {
   "cell_type": "markdown",
   "id": "5d60c809-33af-421e-bc82-e04a817c9fda",
   "metadata": {},
   "source": [
    "1. Converting Text Data into Numerical Form:\n",
    "Time series models generally work with numerical data. Tokenization converts textual data into a numerical representation (e.g., by using techniques like one-hot encoding, TF-IDF, or embeddings), making it possible to include this information in the model.\n",
    "2. Handling Categorical Information:\n",
    "If the string column contains categorical information (e.g., product types, user IDs, etc.), tokenization helps in breaking down these categories into features that can be used by the model. This is particularly useful when lagged versions of these categories can influence future predictions.\n",
    "3. Capturing Sequential Patterns:\n",
    "Tokenization can reveal patterns in the string data that might have temporal dependencies. For example, specific terms or categories might influence the target variable over time, and these patterns can be captured by lagged features.\n",
    "4. Reducing Dimensionality:\n",
    "Advanced tokenization techniques (e.g., word embeddings) can reduce the dimensionality of textual data while retaining meaningful information. This can lead to better generalization in the model, especially when considering lagged features over time.\n",
    "5. Enriching Feature Space:\n",
    "Tokenized features can interact with lagged numerical features, enriching the feature space. For instance, certain tokens might have a delayed effect on the target variable, which can be captured when combined with lagged numerical features.\n",
    "6. Improving Model Interpretability:\n",
    "Tokenized features might make it easier to interpret the impact of certain textual data over time, especially when analyzing lagged effects."
   ]
  },
  {
   "cell_type": "code",
   "execution_count": null,
   "id": "d1ec0b7b-af42-4cea-bf08-bc4f4e07e4a6",
   "metadata": {
    "tags": []
   },
   "outputs": [],
   "source": [
    "# adds columns in dataframe to let model know which conditions are most likely in one location"
   ]
  },
  {
   "cell_type": "code",
   "execution_count": null,
   "id": "26d507db-6793-4eec-a54a-3b13cddd756c",
   "metadata": {
    "ExecuteTime": {
     "end_time": "2024-08-05T19:27:27.492429Z",
     "start_time": "2024-08-05T19:27:27.490125Z"
    }
   },
   "outputs": [],
   "source": [
    "# step 1: text processing\n",
    "tokenizer = CountVectorizer()\n",
    "hashingTF = TfidfTransformer(use_idf=False)\n",
    "idf = TfidfTransformer(use_idf=True)\n",
    "k = 3\n",
    "kmeans = KMeans(n_clusters=k, random_state=42)"
   ]
  },
  {
   "cell_type": "code",
   "execution_count": null,
   "id": "f91ef88d-cec0-4b7e-bebe-893ba0bb8455",
   "metadata": {
    "ExecuteTime": {
     "end_time": "2024-08-05T19:27:27.497038Z",
     "start_time": "2024-08-05T19:27:27.493496Z"
    }
   },
   "outputs": [],
   "source": [
    "# pipeline that processes text and then clusters\n",
    "pipeline = Pipeline(steps=[\n",
    "    ('tokenizer', tokenizer),\n",
    "    ('hashingTF', hashingTF),\n",
    "    ('idf', idf),\n",
    "    ('kmeans', kmeans)\n",
    "])"
   ]
  },
  {
   "cell_type": "code",
   "execution_count": null,
   "id": "219d19b3-fd45-4545-8f00-6eb68005a8a5",
   "metadata": {
    "ExecuteTime": {
     "end_time": "2024-08-05T19:27:27.773290Z",
     "start_time": "2024-08-05T19:27:27.498702Z"
    }
   },
   "outputs": [],
   "source": [
    "# fitting the model on the \"description\"column\n",
    "text_features = pipeline.fit_transform(df_london['description'])"
   ]
  },
  {
   "cell_type": "code",
   "execution_count": null,
   "id": "ad8367b7-84e7-4c4f-aef6-325ac7e36352",
   "metadata": {
    "ExecuteTime": {
     "end_time": "2024-08-05T19:27:27.783091Z",
     "start_time": "2024-08-05T19:27:27.779035Z"
    }
   },
   "outputs": [],
   "source": [
    "kmeans.labels_\n",
    "df_london['clusters_description'] = kmeans.labels_"
   ]
  },
  {
   "cell_type": "code",
   "execution_count": null,
   "id": "84838771-ad1e-4fb0-8db5-e248d1274821",
   "metadata": {
    "ExecuteTime": {
     "end_time": "2024-08-05T19:27:27.799050Z",
     "start_time": "2024-08-05T19:27:27.794168Z"
    }
   },
   "outputs": [],
   "source": [
    "df_london['clusters_description'].value_counts()"
   ]
  },
  {
   "cell_type": "code",
   "execution_count": null,
   "id": "3a42a3d5-32a4-4fd3-87c0-00c64a4291fc",
   "metadata": {
    "ExecuteTime": {
     "end_time": "2024-08-05T19:27:28.075126Z",
     "start_time": "2024-08-05T19:27:27.800505Z"
    }
   },
   "outputs": [],
   "source": [
    "text = ' '.join(description for description in df_london[df_london['clusters_description']==0]['description'])\n",
    "wordcloud = WordCloud(background_color='white').generate(text)\n",
    "plt.figure(figsize=(8, 4))\n",
    "plt.imshow(wordcloud, interpolation='bilinear')\n",
    "plt.axis('off')\n",
    "plt.title('Word Cloud for Cluster 0')\n",
    "plt.show()"
   ]
  },
  {
   "cell_type": "code",
   "execution_count": null,
   "id": "10c1b0d8-e0dc-4832-8226-e5d9cdafd36c",
   "metadata": {
    "ExecuteTime": {
     "end_time": "2024-08-05T19:27:28.292628Z",
     "start_time": "2024-08-05T19:27:28.077332Z"
    }
   },
   "outputs": [],
   "source": [
    "text = ' '.join(description for description in df_london[df_london['clusters_description']==1]['description'])\n",
    "wordcloud = WordCloud(background_color='white').generate(text)\n",
    "plt.figure(figsize=(8, 4))\n",
    "plt.imshow(wordcloud, interpolation='bilinear')\n",
    "plt.axis('off')\n",
    "plt.title('Word Cloud for Cluster 1')\n",
    "plt.show()"
   ]
  },
  {
   "cell_type": "code",
   "execution_count": null,
   "id": "4d8062a2-5c55-4413-99d6-555d9eccb579",
   "metadata": {
    "ExecuteTime": {
     "end_time": "2024-08-05T19:27:28.517798Z",
     "start_time": "2024-08-05T19:27:28.294214Z"
    }
   },
   "outputs": [],
   "source": [
    "text = ' '.join(description for description in df_london[df_london['clusters_description']==2]['description'])\n",
    "wordcloud = WordCloud(background_color='white').generate(text)\n",
    "plt.figure(figsize=(8, 4))\n",
    "plt.imshow(wordcloud, interpolation='bilinear')\n",
    "plt.axis('off')\n",
    "plt.title('Word Cloud for Cluster 2')\n",
    "plt.show()"
   ]
  },
  {
   "cell_type": "code",
   "execution_count": null,
   "id": "824c4a17-6422-47f2-aee1-cf98a5693f1e",
   "metadata": {
    "ExecuteTime": {
     "end_time": "2024-08-05T19:27:28.531192Z",
     "start_time": "2024-08-05T19:27:28.520220Z"
    },
    "tags": []
   },
   "outputs": [],
   "source": [
    "df_london = df_london.drop(columns=['description'])\n",
    "df_london.head(20)"
   ]
  },
  {
   "cell_type": "markdown",
   "id": "d210f94b",
   "metadata": {},
   "source": [
    "## Lagged features"
   ]
  },
  {
   "cell_type": "markdown",
   "id": "02f93730-9355-4bdb-970f-443979eb185d",
   "metadata": {},
   "source": [
    "1. Capturing Autocorrelation:\n",
    "Time series data often exhibit autocorrelation, meaning past values influence future values. Lagged features explicitly capture this relationship by including previous observations as features. For instance, if the target variable at time \n",
    "𝑡\n",
    "t is influenced by its value at time \n",
    "𝑡\n",
    "−\n",
    "1\n",
    "t−1, creating a lagged feature for \n",
    "𝑡\n",
    "−\n",
    "1\n",
    "t−1 allows the model to recognize this dependency.\n",
    "2. Modeling Seasonality and Trends:\n",
    "Time series data can have seasonal patterns or long-term trends. Lagged features at specific intervals (e.g., a lag of 12 months to capture annual seasonality) help the model learn and predict these patterns.\n",
    "3. Enhancing Predictive Power:\n",
    "By including past values as features, lagged features enrich the information available to the model. This often leads to more accurate predictions, especially when past behavior strongly influences future outcomes.\n",
    "4. Capturing Delayed Effects:\n",
    "Some events or changes might have delayed effects on the target variable. Lagged features allow the model to capture these delays. For example, a marketing campaign might not impact sales immediately but could have a lagged effect over several weeks.\n",
    "5. Enabling Simple Models to Capture Complex Dynamics:\n",
    "Even simple models, like linear regression, can capture complex time series dynamics when lagged features are included. For instance, a linear model with appropriately selected lagged features can effectively forecast data that would otherwise require more complex models.\n",
    "6. Creating Interaction Terms:\n",
    "Lagged features can interact with other variables, providing additional insights into how past values of the target variable (or other features) influence future outcomes in conjunction with other factors."
   ]
  },
  {
   "cell_type": "code",
   "execution_count": null,
   "id": "9098b665",
   "metadata": {
    "ExecuteTime": {
     "end_time": "2024-08-05T19:27:28.557911Z",
     "start_time": "2024-08-05T19:27:28.554745Z"
    }
   },
   "outputs": [],
   "source": [
    "#shifting the features by 3 days"
   ]
  },
  {
   "cell_type": "code",
   "execution_count": null,
   "id": "97465968",
   "metadata": {
    "ExecuteTime": {
     "end_time": "2024-08-05T19:27:28.566911Z",
     "start_time": "2024-08-05T19:27:28.561756Z"
    }
   },
   "outputs": [],
   "source": [
    "# this shifts all features by three days except the temp, and then it merges them back togther\n",
    "df_london_shifted = df_london.drop('temp', axis=1).shift(3)"
   ]
  },
  {
   "cell_type": "code",
   "execution_count": null,
   "id": "dbfece5b",
   "metadata": {
    "ExecuteTime": {
     "end_time": "2024-08-05T19:27:28.572528Z",
     "start_time": "2024-08-05T19:27:28.568099Z"
    }
   },
   "outputs": [],
   "source": [
    "df_london_eng = pd.concat([df_london['temp'], df_london_shifted], axis=1)"
   ]
  },
  {
   "cell_type": "code",
   "execution_count": null,
   "id": "971c8dfb",
   "metadata": {
    "ExecuteTime": {
     "end_time": "2024-08-05T19:27:28.592639Z",
     "start_time": "2024-08-05T19:27:28.573920Z"
    }
   },
   "outputs": [],
   "source": [
    "df_london_eng.head()"
   ]
  },
  {
   "cell_type": "code",
   "execution_count": null,
   "id": "7b6630d9",
   "metadata": {
    "ExecuteTime": {
     "end_time": "2024-08-05T19:27:28.607815Z",
     "start_time": "2024-08-05T19:27:28.594143Z"
    }
   },
   "outputs": [],
   "source": [
    "df_london_shifted.head()"
   ]
  },
  {
   "cell_type": "code",
   "execution_count": null,
   "id": "255eea78",
   "metadata": {
    "ExecuteTime": {
     "end_time": "2024-08-05T19:27:28.626495Z",
     "start_time": "2024-08-05T19:27:28.609228Z"
    }
   },
   "outputs": [],
   "source": [
    "# adding back the last three rows, which have all the shifted features but without the temp for them as that is what we predict\n",
    "last_three = df_london_shifted.tail(3)\n",
    "last_three.set_index( pd.date_range(start=max(df_london.index)+pd.Timedelta(days=1), periods=3, freq='D'))\n"
   ]
  },
  {
   "cell_type": "code",
   "execution_count": null,
   "id": "050f67ed",
   "metadata": {
    "ExecuteTime": {
     "end_time": "2024-08-05T19:27:28.632756Z",
     "start_time": "2024-08-05T19:27:28.627926Z"
    }
   },
   "outputs": [],
   "source": [
    "max(df_london.index)+pd.Timedelta(days=1)"
   ]
  },
  {
   "cell_type": "code",
   "execution_count": null,
   "id": "c5f66fb3",
   "metadata": {
    "ExecuteTime": {
     "end_time": "2024-08-05T19:27:28.638120Z",
     "start_time": "2024-08-05T19:27:28.633962Z"
    }
   },
   "outputs": [],
   "source": [
    "df_london_final = pd.concat([df_london_eng, last_three], ignore_index=True)"
   ]
  },
  {
   "cell_type": "code",
   "execution_count": null,
   "id": "f1b958a1",
   "metadata": {
    "ExecuteTime": {
     "end_time": "2024-08-05T19:27:28.645722Z",
     "start_time": "2024-08-05T19:27:28.639462Z"
    }
   },
   "outputs": [],
   "source": [
    "df_london_final = df_london_final.set_index(pd.date_range(start=min(df_london.index), periods=len(df_london)+3, freq='D'))"
   ]
  },
  {
   "cell_type": "code",
   "execution_count": null,
   "id": "fc3ce0be",
   "metadata": {
    "ExecuteTime": {
     "end_time": "2024-08-05T19:27:28.663971Z",
     "start_time": "2024-08-05T19:27:28.647171Z"
    }
   },
   "outputs": [],
   "source": [
    "df_london_final.tail()"
   ]
  },
  {
   "cell_type": "code",
   "execution_count": null,
   "id": "f9df2582",
   "metadata": {
    "ExecuteTime": {
     "end_time": "2024-08-05T19:27:28.667497Z",
     "start_time": "2024-08-05T19:27:28.665348Z"
    }
   },
   "outputs": [],
   "source": [
    "# we've created three new dates with all the lagged features aside from temp, which will be predicted in the next section"
   ]
  },
  {
   "cell_type": "markdown",
   "id": "e6138067",
   "metadata": {},
   "source": [
    "## Train and test split "
   ]
  },
  {
   "cell_type": "code",
   "execution_count": null,
   "id": "1b06fbda-b055-49f4-9b17-e50ca4169c08",
   "metadata": {
    "tags": []
   },
   "outputs": [],
   "source": [
    "# done based on the date as it's a time series"
   ]
  },
  {
   "cell_type": "code",
   "execution_count": null,
   "id": "069ac083",
   "metadata": {
    "ExecuteTime": {
     "end_time": "2024-08-05T19:27:28.671677Z",
     "start_time": "2024-08-05T19:27:28.669482Z"
    }
   },
   "outputs": [],
   "source": [
    "# because XGBoost is not a time series model (address it as a limitation), i will split the datetime column into days, months and year, so the model can learn which temperature is related to the May month and which temperature is related to the December month, as it learns accross multiple years"
   ]
  },
  {
   "cell_type": "code",
   "execution_count": null,
   "id": "414c3844",
   "metadata": {
    "ExecuteTime": {
     "end_time": "2024-08-05T19:27:28.677576Z",
     "start_time": "2024-08-05T19:27:28.673309Z"
    }
   },
   "outputs": [],
   "source": [
    "df_london_final['month'] = df_london_final.index.month\n",
    "df_london_final['year'] = df_london_final.index.year"
   ]
  },
  {
   "cell_type": "code",
   "execution_count": null,
   "id": "668ee7dd",
   "metadata": {
    "ExecuteTime": {
     "end_time": "2024-08-05T19:27:28.685576Z",
     "start_time": "2024-08-05T19:27:28.679252Z"
    }
   },
   "outputs": [],
   "source": [
    "df_dummies = pd.get_dummies(df_london_final['month'], prefix='month')"
   ]
  },
  {
   "cell_type": "code",
   "execution_count": null,
   "id": "a95722e9",
   "metadata": {
    "ExecuteTime": {
     "end_time": "2024-08-05T19:27:28.694048Z",
     "start_time": "2024-08-05T19:27:28.687248Z"
    }
   },
   "outputs": [],
   "source": [
    "df_london_final = pd.concat([df_london_final, df_dummies], axis=1)\n",
    "df_london_final.drop(columns=['month'], inplace=True)"
   ]
  },
  {
   "cell_type": "code",
   "execution_count": null,
   "id": "a6e3bd60",
   "metadata": {
    "ExecuteTime": {
     "end_time": "2024-08-05T19:27:28.710630Z",
     "start_time": "2024-08-05T19:27:28.695320Z"
    }
   },
   "outputs": [],
   "source": [
    "df_london_final.head()"
   ]
  },
  {
   "cell_type": "code",
   "execution_count": null,
   "id": "2a538367",
   "metadata": {
    "ExecuteTime": {
     "end_time": "2024-08-05T19:27:28.713961Z",
     "start_time": "2024-08-05T19:27:28.711505Z"
    }
   },
   "outputs": [],
   "source": [
    "df_train = df_london_final.iloc[:-368] #training set - takes the last 368 days\n",
    "df_test = df_london_final.iloc[-368:-3] #test set - takes the last 368 - the last 3 days for preds\n",
    "df_future =  df_london_final.iloc[-3:] #future dataframe that contains the predictions that we will generate but right now jas just the features"
   ]
  },
  {
   "cell_type": "code",
   "execution_count": null,
   "id": "49357678",
   "metadata": {
    "ExecuteTime": {
     "end_time": "2024-08-05T19:27:28.764642Z",
     "start_time": "2024-08-05T19:27:28.761211Z"
    }
   },
   "outputs": [],
   "source": [
    "df_train.head()\n",
    "df_train.dropna(inplace=True)"
   ]
  },
  {
   "cell_type": "code",
   "execution_count": null,
   "id": "38562519",
   "metadata": {
    "ExecuteTime": {
     "end_time": "2024-08-05T19:27:28.805665Z",
     "start_time": "2024-08-05T19:27:28.803834Z"
    },
    "tags": []
   },
   "outputs": [],
   "source": [
    "# apply regressor \n",
    "# create the predictions \n",
    "# look R2 and other performance metrics, add in MAE"
   ]
  },
  {
   "cell_type": "markdown",
   "id": "8996cc28-316a-4a21-93a4-44f3d3b20e46",
   "metadata": {},
   "source": [
    "## 1. XGBOOST "
   ]
  },
  {
   "cell_type": "markdown",
   "id": "ae8d5c14-f143-4530-b354-c5c5bcbdcaf3",
   "metadata": {},
   "source": [
    "### 1.1 Baseline model"
   ]
  },
  {
   "cell_type": "code",
   "execution_count": null,
   "id": "4227530d",
   "metadata": {
    "ExecuteTime": {
     "end_time": "2024-08-05T19:27:29.637293Z",
     "start_time": "2024-08-05T19:27:29.260110Z"
    }
   },
   "outputs": [],
   "source": [
    "model_baseline = XGBRegressor()\n",
    "model_baseline.fit(df_train.drop('temp',axis=1), df_train[['temp']])"
   ]
  },
  {
   "cell_type": "code",
   "execution_count": null,
   "id": "5e79255a",
   "metadata": {
    "ExecuteTime": {
     "end_time": "2024-08-05T19:27:30.655479Z",
     "start_time": "2024-08-05T19:27:30.641709Z"
    }
   },
   "outputs": [],
   "source": [
    "y_pred_base_xg = model_baseline.predict(df_test.drop('temp',axis=1))"
   ]
  },
  {
   "cell_type": "code",
   "execution_count": null,
   "id": "4dd1dc53",
   "metadata": {
    "ExecuteTime": {
     "end_time": "2024-08-05T19:27:31.111324Z",
     "start_time": "2024-08-05T19:27:31.108120Z"
    }
   },
   "outputs": [],
   "source": [
    "y_pred_base_xg"
   ]
  },
  {
   "cell_type": "code",
   "execution_count": null,
   "id": "8de5a076-fb03-4769-a856-12279c6adc82",
   "metadata": {
    "ExecuteTime": {
     "end_time": "2024-08-05T19:27:31.902559Z",
     "start_time": "2024-08-05T19:27:31.900108Z"
    },
    "tags": []
   },
   "outputs": [],
   "source": [
    "has_na = np.isnan(y_pred_base_xg).any()\n",
    "print({has_na})"
   ]
  },
  {
   "cell_type": "code",
   "execution_count": null,
   "id": "ae02b72e-68de-4408-9dca-69ceccb6b03e",
   "metadata": {
    "ExecuteTime": {
     "end_time": "2024-08-05T19:27:32.086007Z",
     "start_time": "2024-08-05T19:27:32.083800Z"
    },
    "tags": []
   },
   "outputs": [],
   "source": [
    "na_count = np.isnan(y_pred_base_xg).sum()\n",
    "print({na_count})"
   ]
  },
  {
   "cell_type": "code",
   "execution_count": null,
   "id": "21973bd4-5b5e-451d-bfb9-601a9be78f49",
   "metadata": {
    "ExecuteTime": {
     "end_time": "2024-08-05T19:27:32.328220Z",
     "start_time": "2024-08-05T19:27:32.313933Z"
    },
    "tags": []
   },
   "outputs": [],
   "source": [
    "df_test.isna()"
   ]
  },
  {
   "cell_type": "markdown",
   "id": "3ea82fbe-ad67-4bec-85da-175dd08df26b",
   "metadata": {
    "tags": []
   },
   "source": [
    "### 1.2 Performance metrics for XGBOOST baseline"
   ]
  },
  {
   "cell_type": "code",
   "execution_count": null,
   "id": "22d1c3c0",
   "metadata": {
    "ExecuteTime": {
     "end_time": "2024-08-05T19:27:32.791550Z",
     "start_time": "2024-08-05T19:27:32.783994Z"
    }
   },
   "outputs": [],
   "source": [
    "mae = mean_absolute_error(df_test['temp'], y_pred_base_xg)\n",
    "mse = mean_squared_error(df_test['temp'], y_pred_base_xg)\n",
    "rmse = mse ** 0.5\n",
    "r2 = r2_score(df_test['temp'], y_pred_base_xg)\n",
    "\n",
    "print(f\"Mean Absolute Error (MAE) for XGBoost baseline with all regressors: {mae}\")\n",
    "print(f\"Mean Squared Error (MSE) for XGBoost baseline with all regressors: {mse}\")\n",
    "print(f\"Root Mean Squared Error (RMSE) for XGBoost baseline with all regressors: {rmse}\")\n",
    "print(f\"R-squared (R2) for XGBoost baseline with all regressors: {r2}\")"
   ]
  },
  {
   "cell_type": "code",
   "execution_count": null,
   "id": "0852e97c",
   "metadata": {
    "ExecuteTime": {
     "end_time": "2024-08-05T19:27:32.980028Z",
     "start_time": "2024-08-05T19:27:32.977387Z"
    }
   },
   "outputs": [],
   "source": [
    "# for RMSE: if my prediction is errored I want that to inflate the error - but don't know in which direction\n",
    "# MAE: it means it's 2.3 degrees away from truth just don't know in which direction "
   ]
  },
  {
   "cell_type": "markdown",
   "id": "bd417b6d-ad44-4c02-9a07-85b5d0b73295",
   "metadata": {},
   "source": [
    "### 1.3 XGBOOST baseline predictions vs actuals"
   ]
  },
  {
   "cell_type": "raw",
   "id": "81bb017a-af2c-4c9a-a1aa-196eae74e1a5",
   "metadata": {},
   "source": [
    "- for this function always make sure the index is the same so it plots always on the same axis"
   ]
  },
  {
   "cell_type": "code",
   "execution_count": null,
   "id": "9e9fa89c-8ea5-4242-b91a-59c102afd2b3",
   "metadata": {
    "ExecuteTime": {
     "end_time": "2024-08-05T19:27:33.212472Z",
     "start_time": "2024-08-05T19:27:33.207255Z"
    },
    "tags": []
   },
   "outputs": [],
   "source": [
    "df_test[['temp']]"
   ]
  },
  {
   "cell_type": "code",
   "execution_count": null,
   "id": "a8585e41-da6f-4a99-888a-b426043979a1",
   "metadata": {
    "ExecuteTime": {
     "end_time": "2024-08-05T19:27:33.254148Z",
     "start_time": "2024-08-05T19:27:33.252236Z"
    }
   },
   "outputs": [],
   "source": [
    "df_test_w_preds = df_test.copy()"
   ]
  },
  {
   "cell_type": "code",
   "execution_count": null,
   "id": "1c373cfb-6224-4833-90b2-0b3e0dec03c2",
   "metadata": {
    "ExecuteTime": {
     "end_time": "2024-08-05T19:27:33.361090Z",
     "start_time": "2024-08-05T19:27:33.358891Z"
    },
    "tags": []
   },
   "outputs": [],
   "source": [
    "#create new column in order to attach index date to the preds\n",
    "df_test_w_preds['preds'] = y_pred_base_xg"
   ]
  },
  {
   "cell_type": "code",
   "execution_count": null,
   "id": "e170c15e",
   "metadata": {
    "ExecuteTime": {
     "end_time": "2024-08-05T19:27:33.427383Z",
     "start_time": "2024-08-05T19:27:33.423932Z"
    },
    "tags": []
   },
   "outputs": [],
   "source": [
    "def plot_forecast(actuals, predictions): \n",
    "    plt.figure(figsize=(15, 10))\n",
    "    plt.plot(actuals, label='Actuals', marker='o')\n",
    "    plt.plot(predictions, label='Preds', marker='s')\n",
    "    plt.xlabel('Time')\n",
    "    plt.ylabel('Temperature')\n",
    "    plt.title('Predicted vs Actual temperature for XGBoost baseline model with all features')\n",
    "    plt.show()"
   ]
  },
  {
   "cell_type": "code",
   "execution_count": null,
   "id": "9d8db99e-0b5c-4eaf-bcf2-161dcd741538",
   "metadata": {
    "ExecuteTime": {
     "end_time": "2024-08-05T19:27:33.936075Z",
     "start_time": "2024-08-05T19:27:33.714892Z"
    },
    "tags": []
   },
   "outputs": [],
   "source": [
    "plot_forecast(df_test_w_preds[['temp']], df_test_w_preds[['preds']])"
   ]
  },
  {
   "cell_type": "markdown",
   "id": "48c62661-7a61-42c0-8718-4746019d9201",
   "metadata": {},
   "source": [
    "### 1.4 Feature importance"
   ]
  },
  {
   "cell_type": "code",
   "execution_count": null,
   "id": "bd15144c-05ff-4805-b297-f0a94b2a2c64",
   "metadata": {
    "ExecuteTime": {
     "end_time": "2024-08-05T19:27:34.152333Z",
     "start_time": "2024-08-05T19:27:33.947981Z"
    },
    "tags": []
   },
   "outputs": [],
   "source": [
    "plot_importance(model_baseline)\n",
    "plt.title('Feature Importances')\n",
    "plt.show()"
   ]
  },
  {
   "cell_type": "code",
   "execution_count": null,
   "id": "fbaf1212-f89f-40ef-9e0c-0e76f3152db6",
   "metadata": {
    "ExecuteTime": {
     "end_time": "2024-08-05T19:27:34.158849Z",
     "start_time": "2024-08-05T19:27:34.154983Z"
    }
   },
   "outputs": [],
   "source": [
    "# look into dew and the importance of it in terms of climate change and weather prediction \n",
    "# the year has quite an important impact as it shows that the average temp is changing every year and therefore has an impact on all predictions\n",
    "# it proves the temperature changes every year, and it is not cyclical \n",
    "# try removing all below 30 "
   ]
  },
  {
   "cell_type": "code",
   "execution_count": null,
   "id": "f3550acb-10b9-46cb-82f7-492402664e19",
   "metadata": {
    "ExecuteTime": {
     "end_time": "2024-08-05T19:27:34.173159Z",
     "start_time": "2024-08-05T19:27:34.160415Z"
    },
    "tags": []
   },
   "outputs": [],
   "source": [
    "future_preds = model_baseline.predict(df_future.drop('temp', axis=1))"
   ]
  },
  {
   "cell_type": "code",
   "execution_count": null,
   "id": "1c8a7910",
   "metadata": {
    "ExecuteTime": {
     "end_time": "2024-08-05T19:27:34.313190Z",
     "start_time": "2024-08-05T19:27:34.309845Z"
    },
    "tags": []
   },
   "outputs": [],
   "source": [
    "df_future['preds'] = future_preds"
   ]
  },
  {
   "cell_type": "code",
   "execution_count": null,
   "id": "0c9e2b8c-80b6-4cee-9c90-3fa0727c826f",
   "metadata": {
    "ExecuteTime": {
     "end_time": "2024-08-05T19:27:34.356641Z",
     "start_time": "2024-08-05T19:27:34.345206Z"
    },
    "tags": []
   },
   "outputs": [],
   "source": [
    "df_future"
   ]
  },
  {
   "cell_type": "markdown",
   "id": "63b8bf83-f4f7-4109-aea3-c15c3a503bde",
   "metadata": {},
   "source": [
    "### 1.5 XGBOOST GS"
   ]
  },
  {
   "cell_type": "code",
   "execution_count": null,
   "id": "0bc69246-6b37-4f34-a5dc-0069e3e28ac7",
   "metadata": {
    "ExecuteTime": {
     "end_time": "2024-08-05T19:27:34.577216Z",
     "start_time": "2024-08-05T19:27:34.556470Z"
    },
    "tags": []
   },
   "outputs": [],
   "source": [
    "df_train.head()"
   ]
  },
  {
   "cell_type": "code",
   "execution_count": null,
   "id": "62ab33f3-0aa6-44b8-ac59-66c85b8daf46",
   "metadata": {
    "ExecuteTime": {
     "end_time": "2024-08-05T19:27:34.806390Z",
     "start_time": "2024-08-05T19:27:34.803159Z"
    },
    "tags": []
   },
   "outputs": [],
   "source": [
    "param_grid = {\n",
    "    'max_depth': [3, 5, 7],\n",
    "    'learning_rate': [0.01, 0.1, 0.2],\n",
    "    'subsample': [0.7, 0.8, 1.0],\n",
    "    'max_leaf_nodes':  [0, 10, 20], \n",
    "    'reg_lambda': [0, 0.1, 1]\n",
    "}\n",
    "\n",
    "grid_search = GridSearchCV(estimator=model_baseline, param_grid=param_grid, cv=3, scoring='neg_mean_squared_error', verbose=1, n_jobs=-1)"
   ]
  },
  {
   "cell_type": "code",
   "execution_count": null,
   "id": "a387531f-0c48-4f8c-8c19-a939176ff921",
   "metadata": {
    "ExecuteTime": {
     "end_time": "2024-08-05T19:27:55.615190Z",
     "start_time": "2024-08-05T19:27:34.966514Z"
    },
    "tags": []
   },
   "outputs": [],
   "source": [
    "grid_search.fit(df_train.drop('temp', axis=1), df_train['temp']) #first one is train without target, second one is just target\n",
    "\n",
    "best_params = grid_search.best_params_\n",
    "best_score = grid_search.best_score_"
   ]
  },
  {
   "cell_type": "code",
   "execution_count": null,
   "id": "5f552f8b-5ccf-4dab-835f-6f7fe0f4980e",
   "metadata": {
    "ExecuteTime": {
     "end_time": "2024-08-05T19:27:55.620271Z",
     "start_time": "2024-08-05T19:27:55.616838Z"
    }
   },
   "outputs": [],
   "source": [
    "print(f\"Best parameters: {best_params}\")\n",
    "print(f\"Best score: {best_score}\")"
   ]
  },
  {
   "cell_type": "code",
   "execution_count": null,
   "id": "ebf3be1d-a0f3-472e-b626-a46798767fe8",
   "metadata": {
    "ExecuteTime": {
     "end_time": "2024-08-05T19:27:55.763655Z",
     "start_time": "2024-08-05T19:27:55.621358Z"
    },
    "tags": []
   },
   "outputs": [],
   "source": [
    "gs_model = XGBRegressor(learning_rate= 0.1, max_depth= 3, subsample= 0.7, max_leaf_nodes=0, reg_lambda=1)\n",
    "gs_model.fit(df_train.drop('temp',axis=1), df_train[['temp']])"
   ]
  },
  {
   "cell_type": "code",
   "execution_count": null,
   "id": "37df1b59-0284-4cb4-8b3d-b5fd91718dac",
   "metadata": {
    "ExecuteTime": {
     "end_time": "2024-08-05T19:27:55.772972Z",
     "start_time": "2024-08-05T19:27:55.765396Z"
    },
    "tags": []
   },
   "outputs": [],
   "source": [
    "pred_gs_model = gs_model.predict(df_test.drop('temp',axis=1))"
   ]
  },
  {
   "cell_type": "markdown",
   "id": "57cec4f8-4826-4581-ab93-ebd66434bd43",
   "metadata": {},
   "source": [
    "### 1.6 XGBOOST GS performance metrics"
   ]
  },
  {
   "cell_type": "code",
   "execution_count": null,
   "id": "3d4d808e-6511-4456-bd34-850de80ef28c",
   "metadata": {
    "ExecuteTime": {
     "end_time": "2024-08-05T19:27:55.776827Z",
     "start_time": "2024-08-05T19:27:55.773562Z"
    },
    "tags": []
   },
   "outputs": [],
   "source": [
    "mae = mean_absolute_error(df_test['temp'], pred_gs_model)\n",
    "mse = mean_squared_error(df_test['temp'], pred_gs_model)\n",
    "rmse = mse ** 0.5\n",
    "r2 = r2_score(df_test['temp'], pred_gs_model)\n",
    "\n",
    "print(f\"Mean Absolute Error (MAE) for GS model: {mae}\")\n",
    "print(f\"Mean Squared Error (MSE) for GS model: {mse}\")\n",
    "print(f\"Root Mean Squared Error (RMSE) for GS model: {rmse}\")\n",
    "print(f\"R-squared (R2) for XGBoost baseline GS model: {r2}\")"
   ]
  },
  {
   "cell_type": "code",
   "execution_count": null,
   "id": "c892a525-fb35-4e88-a7fe-d79cb87953b4",
   "metadata": {
    "ExecuteTime": {
     "end_time": "2024-08-05T19:27:55.779424Z",
     "start_time": "2024-08-05T19:27:55.777410Z"
    }
   },
   "outputs": [],
   "source": [
    "df_test_w_preds['preds_gs'] = pred_gs_model"
   ]
  },
  {
   "cell_type": "code",
   "execution_count": null,
   "id": "7bea19d4-77fa-47b3-b308-2f27d88ad235",
   "metadata": {
    "ExecuteTime": {
     "end_time": "2024-08-05T19:27:55.781956Z",
     "start_time": "2024-08-05T19:27:55.779982Z"
    }
   },
   "outputs": [],
   "source": [
    "def plot_forecast(actuals, predictions): \n",
    "    plt.plot(actuals, label='Actuals', marker='o')\n",
    "    plt.plot(predictions, label='Preds', marker='s')\n",
    "    plt.xlabel('Time')\n",
    "    plt.ylabel('Temperature')\n",
    "    plt.title('Predicted vs Actual temperature for XGBoost grid search model')\n",
    "    plt.show()"
   ]
  },
  {
   "cell_type": "code",
   "execution_count": null,
   "id": "a2fce002-b5b7-4189-ad20-826577c3da91",
   "metadata": {
    "ExecuteTime": {
     "end_time": "2024-08-05T19:27:56.117239Z",
     "start_time": "2024-08-05T19:27:55.783072Z"
    }
   },
   "outputs": [],
   "source": [
    "plot_forecast(df_test_w_preds[['temp']], df_test_w_preds[['preds_gs']]) #rememer to not define the function again, just add in the new title when you call the function"
   ]
  },
  {
   "cell_type": "markdown",
   "id": "1a5b9196-daaa-4b7d-a106-c1a304a2fbaf",
   "metadata": {},
   "source": [
    "## 2. Naive Forecaster (Sktime)"
   ]
  },
  {
   "cell_type": "markdown",
   "id": "3bd1f170-0b30-4f3d-8512-cfef3bd530c4",
   "metadata": {},
   "source": [
    "### 2.1 Baseline model"
   ]
  },
  {
   "cell_type": "markdown",
   "id": "e18417d7-a58a-47c9-b24a-71cdad5813e0",
   "metadata": {},
   "source": [
    "https://www.sktime.net/en/stable/api_reference/auto_generated/sktime.forecasting.naive.NaiveForecaster.html"
   ]
  },
  {
   "cell_type": "code",
   "execution_count": null,
   "id": "fee94d0b-eea1-41da-844d-8892cd5f37a7",
   "metadata": {
    "ExecuteTime": {
     "end_time": "2024-08-05T19:27:56.621350Z",
     "start_time": "2024-08-05T19:27:56.607070Z"
    },
    "tags": []
   },
   "outputs": [],
   "source": [
    "forecaster_baseline = NaiveForecaster(strategy=\"mean\")\n",
    "forecaster_baseline.fit(df_train['temp'])"
   ]
  },
  {
   "cell_type": "code",
   "execution_count": null,
   "id": "b388c169-dd33-4260-8590-33d94c125bf1",
   "metadata": {
    "ExecuteTime": {
     "end_time": "2024-08-05T19:27:56.636980Z",
     "start_time": "2024-08-05T19:27:56.624424Z"
    },
    "tags": []
   },
   "outputs": [],
   "source": [
    "preds_naive_baseline = forecaster_baseline.predict(df_test.index)"
   ]
  },
  {
   "cell_type": "code",
   "execution_count": null,
   "id": "b24f8805-22e3-49f5-9498-55794fdf1317",
   "metadata": {
    "ExecuteTime": {
     "end_time": "2024-08-05T19:27:56.643877Z",
     "start_time": "2024-08-05T19:27:56.638424Z"
    },
    "tags": []
   },
   "outputs": [],
   "source": [
    "preds_naive_baseline"
   ]
  },
  {
   "cell_type": "code",
   "execution_count": null,
   "id": "9e6466e9-5f20-4a43-b4d4-e4f368dd9289",
   "metadata": {
    "ExecuteTime": {
     "end_time": "2024-08-05T19:27:56.648953Z",
     "start_time": "2024-08-05T19:27:56.646310Z"
    },
    "tags": []
   },
   "outputs": [],
   "source": [
    "df_test_w_preds['sktime_naive'] = preds_naive_baseline"
   ]
  },
  {
   "cell_type": "code",
   "execution_count": null,
   "id": "5dc8ccd9-f2c0-4d47-b0fd-01678ef42aa0",
   "metadata": {
    "ExecuteTime": {
     "end_time": "2024-08-05T19:27:56.676678Z",
     "start_time": "2024-08-05T19:27:56.650281Z"
    },
    "tags": []
   },
   "outputs": [],
   "source": [
    "df_test_w_preds.head()"
   ]
  },
  {
   "cell_type": "markdown",
   "id": "73e87a83-c2d1-41b4-8d58-80a1f218aa83",
   "metadata": {},
   "source": [
    "### 2.2 Naive Forecaster performance metrics"
   ]
  },
  {
   "cell_type": "code",
   "execution_count": null,
   "id": "2b313ab0-0fbf-4836-8a4e-85090f46172b",
   "metadata": {},
   "outputs": [],
   "source": [
    "mae = mean_absolute_error(df_test['temp'], df_test_w_preds['sktime_naive'])\n",
    "mse = mean_squared_error(df_test['temp'], df_test_w_preds['sktime_naive'])\n",
    "rmse = np.sqrt(mse)\n",
    "r2 = r2_score(df_test['temp'], df_test_w_preds['sktime_naive'])\n",
    "\n",
    "print(f\"Mean Absolute Error (MAE) for the Naive Forecaster: {mae}\")\n",
    "print(f\"Mean Squared Error (MSE) for the Naive Forecaster: {mse}\")\n",
    "print(f\"Root Mean Squared Error (RMSE) for the Naive Forecaster: {rmse}\")\n",
    "print(f\"R-squared (R²) for the Naive Forecaster: {r2}\")"
   ]
  },
  {
   "cell_type": "markdown",
   "id": "a23e3362-f869-4b33-9edc-33bbd53d6f62",
   "metadata": {},
   "source": [
    "### 2.3 Naive Forecaster GS"
   ]
  },
  {
   "cell_type": "code",
   "execution_count": null,
   "id": "23f1251a-eecc-41ef-be6a-81c791231f79",
   "metadata": {},
   "outputs": [],
   "source": [
    "# only one parameter to tune - strategy"
   ]
  },
  {
   "cell_type": "code",
   "execution_count": null,
   "id": "ef1b4c2a-2061-45b7-af01-8c32fec78c38",
   "metadata": {},
   "outputs": [],
   "source": [
    "def tune_naive(strategy): \n",
    "    forecaster_baseline = NaiveForecaster(strategy=strategy)\n",
    "    forecaster_baseline.fit(df_train['temp'])\n",
    "    preds_naive_baseline = forecaster_baseline.predict(df_test.index)\n",
    "    df_test_w_preds['sktime_naive'] = preds_naive_baseline\n",
    "    mae = mean_absolute_error(df_test['temp'], df_test_w_preds['sktime_naive'])\n",
    "\n",
    "    mse = mean_squared_error(df_test['temp'], df_test_w_preds['sktime_naive'])\n",
    "    rmse = np.sqrt(mse)\n",
    "    r2 = r2_score(df_test['temp'], df_test_w_preds['sktime_naive'])\n",
    "\n",
    "    print(f\"{strategy}, Mean Absolute Error (MAE) for the Naive Forecaster: {mae}\")\n",
    "    print(f\"{strategy}, Mean Squared Error (MSE) for the Naive Forecaster: {mse}\")\n",
    "    print(f\"{strategy}, Root Mean Squared Error (RMSE) for the Naive Forecaster: {rmse}\")\n",
    "    print(f\"{strategy}, R-squared (R²) for the Naive Forecaster: {r2}\")"
   ]
  },
  {
   "cell_type": "markdown",
   "id": "49485966-bdc4-4700-a20f-5ae11a372325",
   "metadata": {},
   "source": [
    "### 2.4. Naive Forecaster GS performance metrics"
   ]
  },
  {
   "cell_type": "code",
   "execution_count": null,
   "id": "bcc4b710-dbd6-483f-b0e7-bcba79c8320e",
   "metadata": {},
   "outputs": [],
   "source": [
    "tune_naive(\"mean\")"
   ]
  },
  {
   "cell_type": "code",
   "execution_count": null,
   "id": "969da7a6-7406-492b-acfb-377603562258",
   "metadata": {},
   "outputs": [],
   "source": [
    "tune_naive(\"last\")"
   ]
  },
  {
   "cell_type": "code",
   "execution_count": null,
   "id": "d987eb49-e4ed-4b14-9621-ec299ed408fe",
   "metadata": {},
   "outputs": [],
   "source": [
    "tune_naive(\"drift\")"
   ]
  },
  {
   "cell_type": "markdown",
   "id": "67a9ef63-8c12-4016-98ea-476a5e6c7ac7",
   "metadata": {},
   "source": [
    "## 3. AUTO ARIMA"
   ]
  },
  {
   "cell_type": "code",
   "execution_count": null,
   "id": "117b8613-8a12-446c-ac75-57e4830dfecb",
   "metadata": {
    "ExecuteTime": {
     "end_time": "2024-08-05T19:27:56.776909Z",
     "start_time": "2024-08-05T19:27:56.773378Z"
    },
    "tags": []
   },
   "outputs": [],
   "source": [
    "df_train_short = df_train[df_train.index > pd.to_datetime('2021-01-01')]"
   ]
  },
  {
   "cell_type": "code",
   "execution_count": null,
   "id": "defe7518-0c3f-4e61-96ee-5925800fceb7",
   "metadata": {
    "ExecuteTime": {
     "end_time": "2024-08-05T19:32:01.153001Z",
     "start_time": "2024-08-05T19:31:11.308335Z"
    },
    "tags": []
   },
   "outputs": [],
   "source": [
    "forecaster_arima = AutoARIMA(sp=12, suppress_warnings=True)\n",
    "forecaster_arima.fit(df_train_short['temp'])"
   ]
  },
  {
   "cell_type": "code",
   "execution_count": null,
   "id": "73114254-6025-4592-befa-1464bd607cbb",
   "metadata": {
    "ExecuteTime": {
     "end_time": "2024-08-05T19:32:01.183191Z",
     "start_time": "2024-08-05T19:32:01.155896Z"
    },
    "tags": []
   },
   "outputs": [],
   "source": [
    "preds_autoarima = forecaster_arima.predict(df_test.index)"
   ]
  },
  {
   "cell_type": "code",
   "execution_count": null,
   "id": "eb921092-1523-4286-9c7e-4d182150ab46",
   "metadata": {
    "ExecuteTime": {
     "end_time": "2024-08-05T19:32:01.188605Z",
     "start_time": "2024-08-05T19:32:01.184332Z"
    },
    "tags": []
   },
   "outputs": [],
   "source": [
    "preds_autoarima"
   ]
  },
  {
   "cell_type": "code",
   "execution_count": null,
   "id": "1d10a50a-781c-47a4-aefc-405cfc16e74d",
   "metadata": {
    "ExecuteTime": {
     "end_time": "2024-08-05T19:32:01.212864Z",
     "start_time": "2024-08-05T19:32:01.191901Z"
    },
    "tags": []
   },
   "outputs": [],
   "source": [
    "df_test_w_preds['preds_autoarima'] = preds_autoarima\n",
    "df_test_w_preds"
   ]
  },
  {
   "cell_type": "markdown",
   "id": "2aa95d23-3c84-4fea-8d5f-2b5debf99550",
   "metadata": {},
   "source": [
    "### 3.1 AUTO ARIMA performance metrics"
   ]
  },
  {
   "cell_type": "code",
   "execution_count": null,
   "id": "084d3c54-6380-4156-86f7-839d5f972ea6",
   "metadata": {},
   "outputs": [],
   "source": [
    "mae = mean_absolute_error(df_test['temp'], df_test_w_preds['preds_autoarima'])\n",
    "mse = mean_squared_error(df_test['temp'], df_test_w_preds['preds_autoarima'])\n",
    "rmse = np.sqrt(mse)\n",
    "r2 = r2_score(df_test['temp'], df_test_w_preds['preds_autoarima'])\n",
    "\n",
    "print(f\"Mean Absolute Error (MAE) for AUTO-ARIMA: {mae}\")\n",
    "print(f\"Mean Squared Error (MSE) for AUTO-ARIMA: {mse}\")\n",
    "print(f\"Root Mean Squared Error (RMSE) for AUTO-ARIMA: {rmse}\")\n",
    "print(f\"R-squared (R²) for AUTO-ARIMA: {r2}\") "
   ]
  },
  {
   "cell_type": "markdown",
   "id": "44f3e3d7-9d80-4ca5-b1e3-3c0ddd1cd883",
   "metadata": {},
   "source": [
    "## 4. SARIMAX with all features (Sktime)"
   ]
  },
  {
   "cell_type": "markdown",
   "id": "02c63a5a-07bb-45dd-ae7d-eabc1df5e75c",
   "metadata": {},
   "source": [
    "### 4.1 Baseline model "
   ]
  },
  {
   "cell_type": "code",
   "execution_count": null,
   "id": "ceea97dc7318bbca",
   "metadata": {
    "ExecuteTime": {
     "end_time": "2024-08-05T19:54:54.296874Z",
     "start_time": "2024-08-05T19:54:53.860780Z"
    }
   },
   "outputs": [],
   "source": [
    "#ACF and PACF plots necessary to identify the p,d,q parameters\n",
    "\n",
    "fig, ax = plt.subplots(2, 1, figsize=(12, 8))\n",
    "plot_acf(df_london['temp'], lags=40, ax=ax[0])\n",
    "plot_pacf(df_london['temp'], lags=40, ax=ax[1])\n",
    "plt.show()"
   ]
  },
  {
   "cell_type": "code",
   "execution_count": null,
   "id": "cd3a70d0-903a-4a6c-9bf6-f095490a8612",
   "metadata": {
    "ExecuteTime": {
     "end_time": "2024-08-05T19:57:31.332942Z",
     "start_time": "2024-08-05T19:56:57.348523Z"
    }
   },
   "outputs": [],
   "source": [
    "# forecaster_sarimax = SARIMAX(order=(2, 0, 1), trend=\"t\", seasonal_order=(1, 0, 0, 365))\n",
    "# forecaster_sarimax.fit(df_train) "
   ]
  },
  {
   "cell_type": "code",
   "execution_count": null,
   "id": "cd488827-e8a0-4ed3-be41-8add3bd7aed9",
   "metadata": {
    "ExecuteTime": {
     "end_time": "2024-08-05T19:32:54.436145Z",
     "start_time": "2024-08-05T19:32:54.400176Z"
    }
   },
   "outputs": [],
   "source": [
    "# df_train_short.drop('temp',axis=1).astype(float)"
   ]
  },
  {
   "cell_type": "code",
   "execution_count": null,
   "id": "8023405b-edca-48d9-8790-a58d7171bcf9",
   "metadata": {
    "ExecuteTime": {
     "end_time": "2024-08-05T19:32:54.655716Z",
     "start_time": "2024-08-05T19:32:54.439093Z"
    },
    "tags": []
   },
   "outputs": [],
   "source": [
    "# model_sarimax_baseline = StatsmodelsSARIMAX(\n",
    "#     endog=df_train_short['temp'],\n",
    "#     exog=df_train_short.drop('temp',axis=1).astype(float),\n",
    "#     order=(1, 1, 1),  \n",
    "#     seasonal_order=(1, 1, 1, 12)  \n",
    "# )"
   ]
  },
  {
   "cell_type": "code",
   "execution_count": null,
   "id": "42f54d87-1085-4e5c-82e8-d12e387aea15",
   "metadata": {
    "ExecuteTime": {
     "end_time": "2024-08-05T19:38:11.856602Z",
     "start_time": "2024-08-05T19:32:54.660239Z"
    },
    "tags": []
   },
   "outputs": [],
   "source": [
    "# sarimax_base_results = model_sarimax_baseline.fit()"
   ]
  },
  {
   "cell_type": "code",
   "execution_count": null,
   "id": "50046a7b-53b1-4c29-9b55-75891c3214ba",
   "metadata": {
    "ExecuteTime": {
     "end_time": "2024-08-05T19:38:11.958007Z",
     "start_time": "2024-08-05T19:38:11.859213Z"
    },
    "tags": []
   },
   "outputs": [],
   "source": [
    "# forecast_sarimax = sarimax_base_results.get_forecast(steps=len(df_test), exog=df_test.drop('temp',axis=1).astype(float))"
   ]
  },
  {
   "cell_type": "code",
   "execution_count": null,
   "id": "c976a6cb-0696-4042-b267-61c961ee3bc5",
   "metadata": {
    "ExecuteTime": {
     "end_time": "2024-08-05T19:38:11.972931Z",
     "start_time": "2024-08-05T19:38:11.962236Z"
    },
    "tags": []
   },
   "outputs": [],
   "source": [
    "# forecast_sarimax.predicted_mean"
   ]
  },
  {
   "cell_type": "code",
   "execution_count": null,
   "id": "4ff278a2-cda5-47a5-8325-4b87d270ef52",
   "metadata": {
    "ExecuteTime": {
     "end_time": "2024-08-05T19:38:11.997944Z",
     "start_time": "2024-08-05T19:38:11.974809Z"
    },
    "tags": []
   },
   "outputs": [],
   "source": [
    "# df_test_w_preds['preds_sarimax'] = forecast_sarimax.predicted_mean\n",
    "# df_test_w_preds"
   ]
  },
  {
   "cell_type": "markdown",
   "id": "5c177686-5a58-4831-89e0-017b989f1531",
   "metadata": {},
   "source": [
    "### 4.2 SARIMAX baseline performance metrics"
   ]
  },
  {
   "cell_type": "code",
   "execution_count": null,
   "id": "db056f1a-d657-4b75-b505-efef2d0d1a64",
   "metadata": {},
   "outputs": [],
   "source": [
    "# mae = mean_absolute_error(df_test['temp'], df_test_w_preds['preds_sarimax'])\n",
    "# mse = mean_squared_error(df_test['temp'], df_test_w_preds['preds_sarimax'])\n",
    "# rmse = np.sqrt(mse)\n",
    "# r2 = r2_score(df_test['temp'], df_test_w_preds['preds_sarimax'])\n",
    "\n",
    "# print(f\"Mean Absolute Error (MAE) for SARIMAX: {mae}\")\n",
    "# print(f\"Mean Squared Error (MSE) for SARIMAX: {mse}\")\n",
    "# print(f\"Root Mean Squared Error (RMSE) for SARIMAX: {rmse}\")\n",
    "# print(f\"R-squared (R²) for SARIMAX: {r2}\")"
   ]
  },
  {
   "cell_type": "markdown",
   "id": "cb395ce3-c3c6-4674-9167-1f067ef563dc",
   "metadata": {},
   "source": [
    "### 4.3 SARIMAX GS"
   ]
  },
  {
   "cell_type": "code",
   "execution_count": null,
   "id": "1459b6e9-e099-46fb-94ea-8d35331a5a1d",
   "metadata": {
    "tags": []
   },
   "outputs": [],
   "source": [
    "# sarimax_results=df_test_w_preds.copy()"
   ]
  },
  {
   "cell_type": "code",
   "execution_count": null,
   "id": "2148714b-f9c5-4676-9c0c-4d138120ca8d",
   "metadata": {
    "tags": []
   },
   "outputs": [],
   "source": [
    "# def gridsearch_sarimax(p,d,q,P,D,Q,S,df_results_sarimax): \n",
    "#     print(p,d,q,P,D,Q,S)\n",
    "#     model_sarimax_baseline = StatsmodelsSARIMAX(\n",
    "#     endog=df_train_short['temp'],\n",
    "#     exog=df_train_short.drop('temp',axis=1).astype(float),\n",
    "#     order=(p,d,q),  \n",
    "#     seasonal_order=(P,D,Q,S))\n",
    "#     sarimax_base_results = model_sarimax_baseline.fit()\n",
    "#     forecast_sarimax = sarimax_base_results.get_forecast(steps=len(df_test), exog=df_test.drop('temp',axis=1).astype(float))\n",
    "#     df_results_sarimax[f\"{p}_{d}_{q}_{P}_{D}_{Q}_{S}\"]=forecast_sarimax.predicted_mean\n",
    "#     return df_results_sarimax"
   ]
  },
  {
   "cell_type": "code",
   "execution_count": null,
   "id": "fe2da0ce-4b2f-48cc-af75-536fb8feeebe",
   "metadata": {
    "tags": []
   },
   "outputs": [],
   "source": [
    "# p_values = range(0, 2)\n",
    "# d_values = [1]\n",
    "# q_values = range(0, 2)\n",
    "# P_values = range(0, 2)\n",
    "# D_values = [1]\n",
    "# Q_values = range(0, 2)\n",
    "# s_values = [365]"
   ]
  },
  {
   "cell_type": "code",
   "execution_count": null,
   "id": "ce467026-32bb-463f-9d72-b1530a5ab751",
   "metadata": {
    "tags": []
   },
   "outputs": [],
   "source": [
    "# for p in p_values: \n",
    "#     for d in d_values:\n",
    "#         for q in q_values: \n",
    "#             for P in P_values: \n",
    "#                 for D in D_values: \n",
    "#                     for Q in Q_values: \n",
    "#                         for s in s_values:\n",
    "#                             sarimax_results = gridsearch_sarimax(p,d,q,P,D,Q,s,sarimax_results)"
   ]
  },
  {
   "cell_type": "markdown",
   "id": "2a355316-2414-4bfb-9055-0db72db064e9",
   "metadata": {},
   "source": [
    "### 4.4 SARIMAX GS performance metrics"
   ]
  },
  {
   "cell_type": "code",
   "execution_count": null,
   "id": "18931721-e988-486e-a250-bdec01a7dd74",
   "metadata": {
    "tags": []
   },
   "outputs": [],
   "source": [
    "# add performance metrics"
   ]
  },
  {
   "cell_type": "markdown",
   "id": "ee7a336b",
   "metadata": {},
   "source": [
    "## 5. LSTM (Long Short Term Memory)"
   ]
  },
  {
   "cell_type": "markdown",
   "id": "e8ca8ca7-92ef-4b37-887d-19b9dc115438",
   "metadata": {},
   "source": [
    "### 5.1 Baseline model "
   ]
  },
  {
   "cell_type": "code",
   "execution_count": null,
   "id": "d01b5db5e931992e",
   "metadata": {
    "ExecuteTime": {
     "end_time": "2024-08-05T19:38:28.246596Z",
     "start_time": "2024-08-05T19:38:28.232334Z"
    }
   },
   "outputs": [],
   "source": [
    "scaler = MinMaxScaler(feature_range=(0, 1))\n",
    "values = scaler.fit_transform(df_london[['temp']])"
   ]
  },
  {
   "cell_type": "code",
   "execution_count": null,
   "id": "2c755058",
   "metadata": {
    "ExecuteTime": {
     "end_time": "2024-08-05T19:38:28.570066Z",
     "start_time": "2024-08-05T19:38:28.565627Z"
    }
   },
   "outputs": [],
   "source": [
    "#https://machinelearningmastery.com/how-to-develop-lstm-models-for-time-series-forecasting/ \n",
    "\n",
    "def split_sequence(sequence, n_steps):\n",
    "    xs, ys = [], []\n",
    "    for i in range(len(sequence) - n_steps):\n",
    "        x = sequence[i:i + n_steps]\n",
    "        y = sequence[i + n_steps]\n",
    "        xs.append(x)\n",
    "        ys.append(y)\n",
    "    return np.array(xs), np.array(ys)"
   ]
  },
  {
   "cell_type": "code",
   "execution_count": null,
   "id": "9b315b52",
   "metadata": {
    "ExecuteTime": {
     "end_time": "2024-08-05T19:38:28.871324Z",
     "start_time": "2024-08-05T19:38:28.863878Z"
    }
   },
   "outputs": [],
   "source": [
    "n_steps = 30\n",
    "X_train, y_train= split_sequence(values, n_steps)\n",
    "X_test, y_test = split_sequence(values, n_steps)"
   ]
  },
  {
   "cell_type": "code",
   "execution_count": null,
   "id": "665ff6e6",
   "metadata": {
    "ExecuteTime": {
     "end_time": "2024-08-05T19:38:29.196411Z",
     "start_time": "2024-08-05T19:38:29.194797Z"
    }
   },
   "outputs": [],
   "source": [
    "#number of steps will be the lagged features of 3"
   ]
  },
  {
   "cell_type": "code",
   "execution_count": null,
   "id": "4c62dbcd",
   "metadata": {
    "ExecuteTime": {
     "end_time": "2024-08-05T19:38:29.584090Z",
     "start_time": "2024-08-05T19:38:29.582074Z"
    }
   },
   "outputs": [],
   "source": [
    "X_train = X_train.reshape((X_train.shape[0], X_train.shape[1], 1))\n",
    "X_test = X_test.reshape((X_test.shape[0], X_test.shape[1], 1))"
   ]
  },
  {
   "cell_type": "code",
   "execution_count": null,
   "id": "f67538fa",
   "metadata": {
    "ExecuteTime": {
     "end_time": "2024-08-05T19:38:30.000665Z",
     "start_time": "2024-08-05T19:38:29.997589Z"
    }
   },
   "outputs": [],
   "source": [
    "y_test #this is the series we're trying to predict, try to create a 3D feature set "
   ]
  },
  {
   "cell_type": "code",
   "execution_count": null,
   "id": "fded098d",
   "metadata": {
    "ExecuteTime": {
     "end_time": "2024-08-05T19:38:30.907224Z",
     "start_time": "2024-08-05T19:38:30.905355Z"
    }
   },
   "outputs": [],
   "source": [
    "# Reshape data for LSTM (samples, time steps, features)\n",
    "X_train = X_train.reshape((X_train.shape[0], X_train.shape[1], 1))\n",
    "X_test = X_test.reshape((X_test.shape[0], X_test.shape[1], 1))"
   ]
  },
  {
   "cell_type": "code",
   "execution_count": null,
   "id": "d362a93b",
   "metadata": {
    "ExecuteTime": {
     "end_time": "2024-08-05T19:38:31.409804Z",
     "start_time": "2024-08-05T19:38:31.364703Z"
    }
   },
   "outputs": [],
   "source": [
    "model_baseline = Sequential()\n",
    "model_baseline.add(LSTM(50, return_sequences=True, input_shape=(n_steps, 1)))\n",
    "model_baseline.add(LSTM(50))\n",
    "model_baseline.add(Dense(1))\n",
    "model_baseline.compile(optimizer='adam', loss='mean_squared_error')"
   ]
  },
  {
   "cell_type": "code",
   "execution_count": null,
   "id": "2049afac",
   "metadata": {
    "ExecuteTime": {
     "end_time": "2024-08-05T19:38:49.267184Z",
     "start_time": "2024-08-05T19:38:37.044018Z"
    }
   },
   "outputs": [],
   "source": [
    "model_baseline.fit(X_train, y_train, epochs=10, batch_size=32, validation_data=(X_test, y_test))"
   ]
  },
  {
   "cell_type": "code",
   "execution_count": null,
   "id": "78f398f7",
   "metadata": {
    "ExecuteTime": {
     "end_time": "2024-08-05T19:38:49.271860Z",
     "start_time": "2024-08-05T19:38:49.268886Z"
    }
   },
   "outputs": [],
   "source": [
    "def predict_future(model, data, n_steps, predict_n_days):\n",
    "    prediction_list = data[-n_steps:].tolist()\n",
    "    prediction_list = [item[0] for item in prediction_list]\n",
    "    \n",
    "    for _ in range(predict_n_days):\n",
    "        x = np.array(prediction_list[-n_steps:]).reshape((1, n_steps, 1))\n",
    "        out = model.predict(x)[0][0]\n",
    "        prediction_list.append(out)\n",
    "\n",
    "    # Transform the predictions back to the original scale\n",
    "    prediction_list = scaler.inverse_transform(np.array(prediction_list).reshape(-1, 1))\n",
    "    return prediction_list"
   ]
  },
  {
   "cell_type": "code",
   "execution_count": null,
   "id": "761fe167-3ef8-4f8f-a8a4-9a64c1476c9b",
   "metadata": {
    "ExecuteTime": {
     "end_time": "2024-08-05T19:38:49.274080Z",
     "start_time": "2024-08-05T19:38:49.272484Z"
    }
   },
   "outputs": [],
   "source": [
    "predict_n_days = 365"
   ]
  },
  {
   "cell_type": "code",
   "execution_count": null,
   "id": "70085505",
   "metadata": {
    "ExecuteTime": {
     "end_time": "2024-08-05T19:38:56.976524Z",
     "start_time": "2024-08-05T19:38:49.275245Z"
    }
   },
   "outputs": [],
   "source": [
    "yhat_baseline = predict_future(model_baseline, values, n_steps, predict_n_days)"
   ]
  },
  {
   "cell_type": "code",
   "execution_count": null,
   "id": "b0eb5105",
   "metadata": {
    "ExecuteTime": {
     "end_time": "2024-08-05T19:38:56.982774Z",
     "start_time": "2024-08-05T19:38:56.977591Z"
    }
   },
   "outputs": [],
   "source": [
    "yhat_baseline[n_steps:]"
   ]
  },
  {
   "cell_type": "code",
   "execution_count": null,
   "id": "afda69d7",
   "metadata": {
    "ExecuteTime": {
     "end_time": "2024-08-05T19:38:56.986008Z",
     "start_time": "2024-08-05T19:38:56.983814Z"
    }
   },
   "outputs": [],
   "source": [
    "len(yhat_baseline[n_steps:])"
   ]
  },
  {
   "cell_type": "code",
   "execution_count": null,
   "id": "0db999cb",
   "metadata": {
    "ExecuteTime": {
     "end_time": "2024-08-05T19:38:57.009629Z",
     "start_time": "2024-08-05T19:38:56.986668Z"
    }
   },
   "outputs": [],
   "source": [
    "df_test_w_preds['lstm_base'] = yhat_baseline[n_steps:]\n",
    "df_test_w_preds"
   ]
  },
  {
   "cell_type": "code",
   "execution_count": null,
   "id": "7c0f8a02",
   "metadata": {},
   "outputs": [],
   "source": [
    "# the model is very weak and it's predicting the same 200+ temperature. it needs improving with additiona layers"
   ]
  },
  {
   "cell_type": "markdown",
   "id": "2c4c63fc-55f5-4b4f-a71f-29f2ad43de59",
   "metadata": {},
   "source": [
    "### 5.2 LSTM baseline performance metrics"
   ]
  },
  {
   "cell_type": "code",
   "execution_count": null,
   "id": "2c57ef0e-1b66-4d9b-88f6-28f690752881",
   "metadata": {
    "tags": []
   },
   "outputs": [],
   "source": [
    "# add performance metrics"
   ]
  },
  {
   "cell_type": "markdown",
   "id": "11cdad6b03814de3",
   "metadata": {},
   "source": [
    "### 5.3 Improved layers - LSTM"
   ]
  },
  {
   "cell_type": "code",
   "execution_count": null,
   "id": "8268e12b",
   "metadata": {
    "ExecuteTime": {
     "end_time": "2024-08-05T19:39:12.693583Z",
     "start_time": "2024-08-05T19:39:03.651492Z"
    }
   },
   "outputs": [],
   "source": [
    "model_lstm_two = Sequential()\n",
    "model_lstm_two.add(LSTM(100, return_sequences=True, input_shape=(n_steps, 1)))\n",
    "model_lstm_two.add(Dropout(0.2))\n",
    "\n",
    "model_lstm_two.add(LSTM(100, return_sequences=False))\n",
    "model_lstm_two.add(Dropout(0.2))\n",
    "\n",
    "model_lstm_two.add(Dense(50, activation='relu'))\n",
    "\n",
    "model_lstm_two.add(Dense(1))\n",
    "\n",
    "optimizer = Adam(learning_rate=0.001)\n",
    "model_lstm_two.compile(optimizer=optimizer, loss='mean_squared_error')\n",
    "\n",
    "history = model_lstm_two.fit(X_train, y_train, epochs=3, batch_size=32, validation_data=(X_test, y_test))\n"
   ]
  },
  {
   "cell_type": "code",
   "execution_count": null,
   "id": "5b93514c",
   "metadata": {
    "ExecuteTime": {
     "end_time": "2024-08-05T19:39:20.448465Z",
     "start_time": "2024-08-05T19:39:12.695201Z"
    }
   },
   "outputs": [],
   "source": [
    "yhat_lstm_two = predict_future(model_lstm_two, values, n_steps, predict_n_days)"
   ]
  },
  {
   "cell_type": "code",
   "execution_count": null,
   "id": "40a7803a",
   "metadata": {
    "ExecuteTime": {
     "end_time": "2024-08-05T19:39:20.467415Z",
     "start_time": "2024-08-05T19:39:20.449626Z"
    }
   },
   "outputs": [],
   "source": [
    "df_test_w_preds['lstm_two_layers'] = yhat_lstm_two[n_steps:]\n",
    "df_test_w_preds"
   ]
  },
  {
   "cell_type": "code",
   "execution_count": null,
   "id": "c1c39366",
   "metadata": {
    "ExecuteTime": {
     "end_time": "2024-08-05T19:39:20.598800Z",
     "start_time": "2024-08-05T19:39:20.468721Z"
    }
   },
   "outputs": [],
   "source": [
    "plt.figure(figsize=(12, 6))\n",
    "plt.plot(history.history['loss'], label='Training Loss')\n",
    "plt.plot(history.history['val_loss'], label='Validation Loss')\n",
    "plt.legend()\n",
    "plt.show()"
   ]
  },
  {
   "cell_type": "markdown",
   "id": "0f8a25a9-4060-4e92-aaab-b65572562d5f",
   "metadata": {},
   "source": [
    "### 5.4 LSTM improved layers performance metrics"
   ]
  },
  {
   "cell_type": "code",
   "execution_count": null,
   "id": "dac4a7de-56b2-4166-b300-551408edebc2",
   "metadata": {},
   "outputs": [],
   "source": [
    "# add performance metrics"
   ]
  },
  {
   "cell_type": "markdown",
   "id": "3abc7bcd6654981e",
   "metadata": {},
   "source": [
    "### 5.5 Tuning batch size for LSTM"
   ]
  },
  {
   "cell_type": "code",
   "execution_count": null,
   "id": "58c3a4ae",
   "metadata": {
    "ExecuteTime": {
     "end_time": "2024-08-05T19:43:18.428053Z",
     "start_time": "2024-08-05T19:41:11.358533Z"
    }
   },
   "outputs": [],
   "source": [
    "history_batchsize_1 = model_lstm_two.fit(X_train, y_train, epochs=3, batch_size=1, validation_data=(X_test, y_test))\n"
   ]
  },
  {
   "cell_type": "code",
   "execution_count": null,
   "id": "f23f4750",
   "metadata": {
    "ExecuteTime": {
     "end_time": "2024-08-05T19:44:51.879278Z",
     "start_time": "2024-08-05T19:44:43.671166Z"
    }
   },
   "outputs": [],
   "source": [
    "yhat_lstm_batch_1 = predict_future(model_lstm_two, values, n_steps, predict_n_days)\n"
   ]
  },
  {
   "cell_type": "code",
   "execution_count": null,
   "id": "cc962c29cbef0307",
   "metadata": {
    "ExecuteTime": {
     "end_time": "2024-08-05T19:44:51.884956Z",
     "start_time": "2024-08-05T19:44:51.880953Z"
    }
   },
   "outputs": [],
   "source": [
    "df_test_w_preds['lstm_two_layers_batch_size_1'] = yhat_lstm_batch_1[n_steps:]\n"
   ]
  },
  {
   "cell_type": "code",
   "execution_count": null,
   "id": "1ebcacde350e5b26",
   "metadata": {
    "ExecuteTime": {
     "end_time": "2024-08-05T19:44:57.452599Z",
     "start_time": "2024-08-05T19:44:57.438638Z"
    }
   },
   "outputs": [],
   "source": [
    "df_test_w_preds"
   ]
  },
  {
   "cell_type": "markdown",
   "id": "5d744548-044c-489a-bcaa-e2f84558c699",
   "metadata": {},
   "source": [
    "### 5.6. Batch size LSTM performance metrics"
   ]
  },
  {
   "cell_type": "code",
   "execution_count": null,
   "id": "144d4637-1ef8-4376-892a-fd9e7b8194b9",
   "metadata": {},
   "outputs": [],
   "source": [
    "# add performance metrics"
   ]
  },
  {
   "cell_type": "markdown",
   "id": "81740ec4-4bfc-4111-9c71-0db72c424550",
   "metadata": {},
   "source": [
    "## Download of updated dataframe"
   ]
  },
  {
   "cell_type": "code",
   "execution_count": null,
   "id": "ee0c5b6e-780b-47f6-81ff-d7dd23ad8fea",
   "metadata": {
    "tags": []
   },
   "outputs": [],
   "source": [
    "# folder_path = r'C:\\Users\\nicol\\OneDrive\\Master\\Goldsmiths\\Thesis\\weather-prediction\\data'\n",
    "# file_name = 'london_weather_2014-2024_updated.csv'\n",
    "# full_path = os.path.join(folder_path, file_name)\n",
    "\n",
    "# # save the DataFrame to the specified path\n",
    "# df_london.to_csv(full_path)"
   ]
  },
  {
   "cell_type": "code",
   "execution_count": null,
   "id": "8e7882a7-295b-4de4-99c8-50bd4986bf27",
   "metadata": {
    "tags": []
   },
   "outputs": [],
   "source": [
    "# pip freeze > requirements.txt"
   ]
  }
 ],
 "metadata": {
  "kernelspec": {
   "display_name": "Python 3 (ipykernel)",
   "language": "python",
   "name": "python3"
  },
  "language_info": {
   "codemirror_mode": {
    "name": "ipython",
    "version": 3
   },
   "file_extension": ".py",
   "mimetype": "text/x-python",
   "name": "python",
   "nbconvert_exporter": "python",
   "pygments_lexer": "ipython3",
   "version": "3.10.13"
  }
 },
 "nbformat": 4,
 "nbformat_minor": 5
}
