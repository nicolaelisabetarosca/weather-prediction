{
 "cells": [
  {
   "cell_type": "code",
   "execution_count": 1,
   "id": "b6a5477a",
   "metadata": {
    "tags": []
   },
   "outputs": [],
   "source": [
    "import os\n",
    "import pandas as pd\n",
    "import numpy as np \n",
    "import seaborn as sns\n",
    "import matplotlib.pyplot as plt\n",
    "from sklearn.impute import KNNImputer\n",
    "from sklearn.feature_extraction.text import CountVectorizer, TfidfTransformer\n",
    "from sklearn.cluster import KMeans\n",
    "from sklearn.pipeline import Pipeline\n",
    "from wordcloud import WordCloud"
   ]
  },
  {
   "cell_type": "code",
   "execution_count": 2,
   "id": "f0a3e833",
   "metadata": {
    "tags": []
   },
   "outputs": [],
   "source": [
    "pd.set_option('display.max_columns', None)\n",
    "df_manila = pd.read_csv(r\"C:\\Users\\nicol\\OneDrive\\Master\\Goldsmiths\\Thesis\\weather-prediction\\.data\\manila_weather_2014-2024.csv\")"
   ]
  },
  {
   "cell_type": "code",
   "execution_count": 3,
   "id": "3315f5c1-c3e2-486a-9196-e658243d0efd",
   "metadata": {},
   "outputs": [],
   "source": [
    "#sort index\n",
    "df_manila = df_manila.sort_index()"
   ]
  },
  {
   "cell_type": "code",
   "execution_count": 4,
   "id": "531a7be8",
   "metadata": {
    "tags": []
   },
   "outputs": [
    {
     "data": {
      "text/plain": [
       "(3793, 34)"
      ]
     },
     "execution_count": 4,
     "metadata": {},
     "output_type": "execute_result"
    }
   ],
   "source": [
    "df_manila.shape"
   ]
  },
  {
   "cell_type": "code",
   "execution_count": 5,
   "id": "91a5ebe5",
   "metadata": {
    "scrolled": true,
    "tags": []
   },
   "outputs": [
    {
     "data": {
      "text/html": [
       "<div>\n",
       "<style scoped>\n",
       "    .dataframe tbody tr th:only-of-type {\n",
       "        vertical-align: middle;\n",
       "    }\n",
       "\n",
       "    .dataframe tbody tr th {\n",
       "        vertical-align: top;\n",
       "    }\n",
       "\n",
       "    .dataframe thead th {\n",
       "        text-align: right;\n",
       "    }\n",
       "</style>\n",
       "<table border=\"1\" class=\"dataframe\">\n",
       "  <thead>\n",
       "    <tr style=\"text-align: right;\">\n",
       "      <th></th>\n",
       "      <th>Unnamed: 0</th>\n",
       "      <th>name</th>\n",
       "      <th>datetime</th>\n",
       "      <th>tempmax</th>\n",
       "      <th>tempmin</th>\n",
       "      <th>temp</th>\n",
       "      <th>feelslikemax</th>\n",
       "      <th>feelslikemin</th>\n",
       "      <th>feelslike</th>\n",
       "      <th>dew</th>\n",
       "      <th>humidity</th>\n",
       "      <th>precip</th>\n",
       "      <th>precipprob</th>\n",
       "      <th>precipcover</th>\n",
       "      <th>preciptype</th>\n",
       "      <th>snow</th>\n",
       "      <th>snowdepth</th>\n",
       "      <th>windgust</th>\n",
       "      <th>windspeed</th>\n",
       "      <th>winddir</th>\n",
       "      <th>sealevelpressure</th>\n",
       "      <th>cloudcover</th>\n",
       "      <th>visibility</th>\n",
       "      <th>solarradiation</th>\n",
       "      <th>solarenergy</th>\n",
       "      <th>uvindex</th>\n",
       "      <th>severerisk</th>\n",
       "      <th>sunrise</th>\n",
       "      <th>sunset</th>\n",
       "      <th>moonphase</th>\n",
       "      <th>conditions</th>\n",
       "      <th>description</th>\n",
       "      <th>icon</th>\n",
       "      <th>stations</th>\n",
       "    </tr>\n",
       "  </thead>\n",
       "  <tbody>\n",
       "    <tr>\n",
       "      <th>0</th>\n",
       "      <td>0</td>\n",
       "      <td>Manila, Phillipines</td>\n",
       "      <td>2014-01-01</td>\n",
       "      <td>31.0</td>\n",
       "      <td>23.0</td>\n",
       "      <td>26.6</td>\n",
       "      <td>32.7</td>\n",
       "      <td>23.0</td>\n",
       "      <td>27.4</td>\n",
       "      <td>20.4</td>\n",
       "      <td>70.1</td>\n",
       "      <td>0.0</td>\n",
       "      <td>0</td>\n",
       "      <td>0.0</td>\n",
       "      <td>NaN</td>\n",
       "      <td>NaN</td>\n",
       "      <td>NaN</td>\n",
       "      <td>NaN</td>\n",
       "      <td>22.3</td>\n",
       "      <td>98.4</td>\n",
       "      <td>1013.2</td>\n",
       "      <td>47.6</td>\n",
       "      <td>8.8</td>\n",
       "      <td>209.0</td>\n",
       "      <td>18.0</td>\n",
       "      <td>8</td>\n",
       "      <td>NaN</td>\n",
       "      <td>2014-01-01T06:21:07</td>\n",
       "      <td>2014-01-01T17:37:49</td>\n",
       "      <td>0.00</td>\n",
       "      <td>Partially cloudy</td>\n",
       "      <td>Partly cloudy throughout the day.</td>\n",
       "      <td>partly-cloudy-day</td>\n",
       "      <td>98429099999,98428099999,98426041231,RPLL,98430...</td>\n",
       "    </tr>\n",
       "    <tr>\n",
       "      <th>1</th>\n",
       "      <td>1</td>\n",
       "      <td>Manila, Phillipines</td>\n",
       "      <td>2014-01-02</td>\n",
       "      <td>31.0</td>\n",
       "      <td>23.6</td>\n",
       "      <td>27.0</td>\n",
       "      <td>33.1</td>\n",
       "      <td>23.6</td>\n",
       "      <td>27.9</td>\n",
       "      <td>20.0</td>\n",
       "      <td>66.2</td>\n",
       "      <td>0.0</td>\n",
       "      <td>0</td>\n",
       "      <td>0.0</td>\n",
       "      <td>NaN</td>\n",
       "      <td>NaN</td>\n",
       "      <td>NaN</td>\n",
       "      <td>NaN</td>\n",
       "      <td>20.5</td>\n",
       "      <td>100.4</td>\n",
       "      <td>1012.9</td>\n",
       "      <td>45.4</td>\n",
       "      <td>10.2</td>\n",
       "      <td>223.6</td>\n",
       "      <td>19.1</td>\n",
       "      <td>8</td>\n",
       "      <td>NaN</td>\n",
       "      <td>2014-01-02T06:21:29</td>\n",
       "      <td>2014-01-02T17:38:24</td>\n",
       "      <td>0.02</td>\n",
       "      <td>Partially cloudy</td>\n",
       "      <td>Partly cloudy throughout the day.</td>\n",
       "      <td>partly-cloudy-day</td>\n",
       "      <td>98429099999,98428099999,98426041231,RPLL,98430...</td>\n",
       "    </tr>\n",
       "    <tr>\n",
       "      <th>2</th>\n",
       "      <td>2</td>\n",
       "      <td>Manila, Phillipines</td>\n",
       "      <td>2014-01-03</td>\n",
       "      <td>31.0</td>\n",
       "      <td>22.0</td>\n",
       "      <td>26.7</td>\n",
       "      <td>33.7</td>\n",
       "      <td>22.0</td>\n",
       "      <td>27.9</td>\n",
       "      <td>20.6</td>\n",
       "      <td>70.2</td>\n",
       "      <td>0.0</td>\n",
       "      <td>0</td>\n",
       "      <td>0.0</td>\n",
       "      <td>NaN</td>\n",
       "      <td>NaN</td>\n",
       "      <td>NaN</td>\n",
       "      <td>NaN</td>\n",
       "      <td>14.8</td>\n",
       "      <td>116.7</td>\n",
       "      <td>1012.6</td>\n",
       "      <td>32.3</td>\n",
       "      <td>10.3</td>\n",
       "      <td>237.9</td>\n",
       "      <td>20.4</td>\n",
       "      <td>8</td>\n",
       "      <td>NaN</td>\n",
       "      <td>2014-01-03T06:21:50</td>\n",
       "      <td>2014-01-03T17:38:58</td>\n",
       "      <td>0.06</td>\n",
       "      <td>Partially cloudy</td>\n",
       "      <td>Partly cloudy throughout the day.</td>\n",
       "      <td>partly-cloudy-day</td>\n",
       "      <td>98429099999,98428099999,98426041231,RPLL,98430...</td>\n",
       "    </tr>\n",
       "    <tr>\n",
       "      <th>3</th>\n",
       "      <td>3</td>\n",
       "      <td>Manila, Phillipines</td>\n",
       "      <td>2014-01-04</td>\n",
       "      <td>30.0</td>\n",
       "      <td>23.0</td>\n",
       "      <td>26.7</td>\n",
       "      <td>33.6</td>\n",
       "      <td>23.0</td>\n",
       "      <td>28.0</td>\n",
       "      <td>21.8</td>\n",
       "      <td>75.9</td>\n",
       "      <td>0.0</td>\n",
       "      <td>0</td>\n",
       "      <td>0.0</td>\n",
       "      <td>NaN</td>\n",
       "      <td>NaN</td>\n",
       "      <td>NaN</td>\n",
       "      <td>40.7</td>\n",
       "      <td>18.3</td>\n",
       "      <td>323.4</td>\n",
       "      <td>1011.5</td>\n",
       "      <td>42.1</td>\n",
       "      <td>10.2</td>\n",
       "      <td>234.8</td>\n",
       "      <td>20.2</td>\n",
       "      <td>8</td>\n",
       "      <td>NaN</td>\n",
       "      <td>2014-01-04T06:22:11</td>\n",
       "      <td>2014-01-04T17:39:33</td>\n",
       "      <td>0.09</td>\n",
       "      <td>Partially cloudy</td>\n",
       "      <td>Partly cloudy throughout the day.</td>\n",
       "      <td>partly-cloudy-day</td>\n",
       "      <td>98429099999,98428099999,98426041231,RPLL,98430...</td>\n",
       "    </tr>\n",
       "    <tr>\n",
       "      <th>4</th>\n",
       "      <td>4</td>\n",
       "      <td>Manila, Phillipines</td>\n",
       "      <td>2014-01-05</td>\n",
       "      <td>30.0</td>\n",
       "      <td>23.0</td>\n",
       "      <td>26.5</td>\n",
       "      <td>32.7</td>\n",
       "      <td>23.0</td>\n",
       "      <td>27.7</td>\n",
       "      <td>21.6</td>\n",
       "      <td>75.3</td>\n",
       "      <td>0.0</td>\n",
       "      <td>0</td>\n",
       "      <td>0.0</td>\n",
       "      <td>NaN</td>\n",
       "      <td>NaN</td>\n",
       "      <td>NaN</td>\n",
       "      <td>31.3</td>\n",
       "      <td>18.4</td>\n",
       "      <td>67.4</td>\n",
       "      <td>1011.5</td>\n",
       "      <td>52.5</td>\n",
       "      <td>10.5</td>\n",
       "      <td>220.4</td>\n",
       "      <td>19.1</td>\n",
       "      <td>8</td>\n",
       "      <td>NaN</td>\n",
       "      <td>2014-01-05T06:22:30</td>\n",
       "      <td>2014-01-05T17:40:08</td>\n",
       "      <td>0.13</td>\n",
       "      <td>Partially cloudy</td>\n",
       "      <td>Partly cloudy throughout the day.</td>\n",
       "      <td>partly-cloudy-day</td>\n",
       "      <td>98429099999,98428099999,98426041231,RPLL,98430...</td>\n",
       "    </tr>\n",
       "  </tbody>\n",
       "</table>\n",
       "</div>"
      ],
      "text/plain": [
       "   Unnamed: 0                 name    datetime  tempmax  tempmin  temp  \\\n",
       "0           0  Manila, Phillipines  2014-01-01     31.0     23.0  26.6   \n",
       "1           1  Manila, Phillipines  2014-01-02     31.0     23.6  27.0   \n",
       "2           2  Manila, Phillipines  2014-01-03     31.0     22.0  26.7   \n",
       "3           3  Manila, Phillipines  2014-01-04     30.0     23.0  26.7   \n",
       "4           4  Manila, Phillipines  2014-01-05     30.0     23.0  26.5   \n",
       "\n",
       "   feelslikemax  feelslikemin  feelslike   dew  humidity  precip  precipprob  \\\n",
       "0          32.7          23.0       27.4  20.4      70.1     0.0           0   \n",
       "1          33.1          23.6       27.9  20.0      66.2     0.0           0   \n",
       "2          33.7          22.0       27.9  20.6      70.2     0.0           0   \n",
       "3          33.6          23.0       28.0  21.8      75.9     0.0           0   \n",
       "4          32.7          23.0       27.7  21.6      75.3     0.0           0   \n",
       "\n",
       "   precipcover preciptype  snow  snowdepth  windgust  windspeed  winddir  \\\n",
       "0          0.0        NaN   NaN        NaN       NaN       22.3     98.4   \n",
       "1          0.0        NaN   NaN        NaN       NaN       20.5    100.4   \n",
       "2          0.0        NaN   NaN        NaN       NaN       14.8    116.7   \n",
       "3          0.0        NaN   NaN        NaN      40.7       18.3    323.4   \n",
       "4          0.0        NaN   NaN        NaN      31.3       18.4     67.4   \n",
       "\n",
       "   sealevelpressure  cloudcover  visibility  solarradiation  solarenergy  \\\n",
       "0            1013.2        47.6         8.8           209.0         18.0   \n",
       "1            1012.9        45.4        10.2           223.6         19.1   \n",
       "2            1012.6        32.3        10.3           237.9         20.4   \n",
       "3            1011.5        42.1        10.2           234.8         20.2   \n",
       "4            1011.5        52.5        10.5           220.4         19.1   \n",
       "\n",
       "   uvindex  severerisk              sunrise               sunset  moonphase  \\\n",
       "0        8         NaN  2014-01-01T06:21:07  2014-01-01T17:37:49       0.00   \n",
       "1        8         NaN  2014-01-02T06:21:29  2014-01-02T17:38:24       0.02   \n",
       "2        8         NaN  2014-01-03T06:21:50  2014-01-03T17:38:58       0.06   \n",
       "3        8         NaN  2014-01-04T06:22:11  2014-01-04T17:39:33       0.09   \n",
       "4        8         NaN  2014-01-05T06:22:30  2014-01-05T17:40:08       0.13   \n",
       "\n",
       "         conditions                        description               icon  \\\n",
       "0  Partially cloudy  Partly cloudy throughout the day.  partly-cloudy-day   \n",
       "1  Partially cloudy  Partly cloudy throughout the day.  partly-cloudy-day   \n",
       "2  Partially cloudy  Partly cloudy throughout the day.  partly-cloudy-day   \n",
       "3  Partially cloudy  Partly cloudy throughout the day.  partly-cloudy-day   \n",
       "4  Partially cloudy  Partly cloudy throughout the day.  partly-cloudy-day   \n",
       "\n",
       "                                            stations  \n",
       "0  98429099999,98428099999,98426041231,RPLL,98430...  \n",
       "1  98429099999,98428099999,98426041231,RPLL,98430...  \n",
       "2  98429099999,98428099999,98426041231,RPLL,98430...  \n",
       "3  98429099999,98428099999,98426041231,RPLL,98430...  \n",
       "4  98429099999,98428099999,98426041231,RPLL,98430...  "
      ]
     },
     "execution_count": 5,
     "metadata": {},
     "output_type": "execute_result"
    }
   ],
   "source": [
    "df_manila.head()"
   ]
  },
  {
   "cell_type": "code",
   "execution_count": 6,
   "id": "8dfc5fa7",
   "metadata": {
    "tags": []
   },
   "outputs": [
    {
     "data": {
      "text/plain": [
       "Index(['Unnamed: 0', 'name', 'datetime', 'tempmax', 'tempmin', 'temp',\n",
       "       'feelslikemax', 'feelslikemin', 'feelslike', 'dew', 'humidity',\n",
       "       'precip', 'precipprob', 'precipcover', 'preciptype', 'snow',\n",
       "       'snowdepth', 'windgust', 'windspeed', 'winddir', 'sealevelpressure',\n",
       "       'cloudcover', 'visibility', 'solarradiation', 'solarenergy', 'uvindex',\n",
       "       'severerisk', 'sunrise', 'sunset', 'moonphase', 'conditions',\n",
       "       'description', 'icon', 'stations'],\n",
       "      dtype='object')"
      ]
     },
     "execution_count": 6,
     "metadata": {},
     "output_type": "execute_result"
    }
   ],
   "source": [
    "df_manila.columns"
   ]
  },
  {
   "cell_type": "code",
   "execution_count": 7,
   "id": "3e90b221",
   "metadata": {
    "tags": []
   },
   "outputs": [],
   "source": [
    "columns_to_drop = ['Unnamed: 0',  'tempmax', 'tempmin', 'icon', 'stations', 'conditions' ]\n",
    "df_manila = df_manila.drop(columns=columns_to_drop)"
   ]
  },
  {
   "cell_type": "code",
   "execution_count": 8,
   "id": "0ab3c509",
   "metadata": {
    "tags": []
   },
   "outputs": [
    {
     "data": {
      "text/plain": [
       "'2014-01-01'"
      ]
     },
     "execution_count": 8,
     "metadata": {},
     "output_type": "execute_result"
    }
   ],
   "source": [
    "df_manila['datetime'].min()"
   ]
  },
  {
   "cell_type": "code",
   "execution_count": 9,
   "id": "4c4016a1",
   "metadata": {
    "tags": []
   },
   "outputs": [
    {
     "data": {
      "text/plain": [
       "'2024-05-20'"
      ]
     },
     "execution_count": 9,
     "metadata": {},
     "output_type": "execute_result"
    }
   ],
   "source": [
    "df_manila['datetime'].max()"
   ]
  },
  {
   "cell_type": "code",
   "execution_count": 10,
   "id": "46c8c113",
   "metadata": {
    "tags": []
   },
   "outputs": [
    {
     "data": {
      "text/plain": [
       "22.4"
      ]
     },
     "execution_count": 10,
     "metadata": {},
     "output_type": "execute_result"
    }
   ],
   "source": [
    "df_manila['temp'].min()"
   ]
  },
  {
   "cell_type": "code",
   "execution_count": 11,
   "id": "d69d4346",
   "metadata": {
    "tags": []
   },
   "outputs": [
    {
     "data": {
      "text/plain": [
       "32.9"
      ]
     },
     "execution_count": 11,
     "metadata": {},
     "output_type": "execute_result"
    }
   ],
   "source": [
    "df_manila['temp'].max()"
   ]
  },
  {
   "cell_type": "code",
   "execution_count": 12,
   "id": "222b8549-a835-47ce-9974-45de66f346c1",
   "metadata": {
    "tags": []
   },
   "outputs": [
    {
     "data": {
      "text/plain": [
       "name                 object\n",
       "datetime             object\n",
       "temp                float64\n",
       "feelslikemax        float64\n",
       "feelslikemin        float64\n",
       "feelslike           float64\n",
       "dew                 float64\n",
       "humidity            float64\n",
       "precip              float64\n",
       "precipprob            int64\n",
       "precipcover         float64\n",
       "preciptype           object\n",
       "snow                float64\n",
       "snowdepth           float64\n",
       "windgust            float64\n",
       "windspeed           float64\n",
       "winddir             float64\n",
       "sealevelpressure    float64\n",
       "cloudcover          float64\n",
       "visibility          float64\n",
       "solarradiation      float64\n",
       "solarenergy         float64\n",
       "uvindex               int64\n",
       "severerisk          float64\n",
       "sunrise              object\n",
       "sunset               object\n",
       "moonphase           float64\n",
       "description          object\n",
       "dtype: object"
      ]
     },
     "execution_count": 12,
     "metadata": {},
     "output_type": "execute_result"
    }
   ],
   "source": [
    "df_manila.dtypes"
   ]
  },
  {
   "cell_type": "code",
   "execution_count": 13,
   "id": "9d72dae8",
   "metadata": {
    "tags": []
   },
   "outputs": [
    {
     "data": {
      "text/plain": [
       "name                   0\n",
       "datetime               0\n",
       "temp                   0\n",
       "feelslikemax           0\n",
       "feelslikemin           0\n",
       "feelslike              0\n",
       "dew                    0\n",
       "humidity               0\n",
       "precip                 0\n",
       "precipprob             0\n",
       "precipcover            0\n",
       "preciptype          1273\n",
       "snow                 365\n",
       "snowdepth            365\n",
       "windgust             308\n",
       "windspeed              0\n",
       "winddir                0\n",
       "sealevelpressure       0\n",
       "cloudcover             0\n",
       "visibility             0\n",
       "solarradiation         0\n",
       "solarenergy            0\n",
       "uvindex                0\n",
       "severerisk          2931\n",
       "sunrise                0\n",
       "sunset                 0\n",
       "moonphase              0\n",
       "description            0\n",
       "dtype: int64"
      ]
     },
     "execution_count": 13,
     "metadata": {},
     "output_type": "execute_result"
    }
   ],
   "source": [
    "df_manila.isna().sum()"
   ]
  },
  {
   "cell_type": "markdown",
   "id": "af23e0b6",
   "metadata": {},
   "source": [
    "To Do: \n",
    "\n",
    "- linear interpolation for missing values \n",
    "- drop unnecessary columns \n",
    "- set datetime to date data type"
   ]
  },
  {
   "cell_type": "code",
   "execution_count": 14,
   "id": "0a4ac1a9",
   "metadata": {
    "tags": []
   },
   "outputs": [],
   "source": [
    "#run k-nn to fill in the missing values with the k nearest neighbour \n",
    "#https://www.sciencedirect.com/science/article/abs/pii/S0164121212001586#:~:text=kNN%20imputation%20is%20designed%20to,or%20attribute)%20is%20categorical%2C%20referred\n",
    "\n",
    "imputer = KNNImputer(n_neighbors=5)\n",
    "df_manila[['windgust', 'severerisk', 'snow', 'snowdepth', 'windgust']] = imputer.fit_transform(df_manila[['windgust', 'severerisk', 'snow', 'snowdepth', 'windgust']])\n"
   ]
  },
  {
   "cell_type": "code",
   "execution_count": 15,
   "id": "74da3ee9",
   "metadata": {
    "tags": []
   },
   "outputs": [
    {
     "data": {
      "text/plain": [
       "array([nan, 'rain'], dtype=object)"
      ]
     },
     "execution_count": 15,
     "metadata": {},
     "output_type": "execute_result"
    }
   ],
   "source": [
    "df_manila['preciptype'].unique()"
   ]
  },
  {
   "cell_type": "code",
   "execution_count": 16,
   "id": "14e396e4",
   "metadata": {
    "tags": []
   },
   "outputs": [
    {
     "data": {
      "text/plain": [
       "rain    2520\n",
       "Name: preciptype, dtype: int64"
      ]
     },
     "execution_count": 16,
     "metadata": {},
     "output_type": "execute_result"
    }
   ],
   "source": [
    "df_manila['preciptype'].value_counts()"
   ]
  },
  {
   "cell_type": "code",
   "execution_count": 17,
   "id": "eaf20fda-19cc-4e4d-9e8b-900919811ded",
   "metadata": {
    "tags": []
   },
   "outputs": [
    {
     "data": {
      "text/plain": [
       "name                   0\n",
       "datetime               0\n",
       "temp                   0\n",
       "feelslikemax           0\n",
       "feelslikemin           0\n",
       "feelslike              0\n",
       "dew                    0\n",
       "humidity               0\n",
       "precip                 0\n",
       "precipprob             0\n",
       "precipcover            0\n",
       "preciptype          1273\n",
       "snow                   0\n",
       "snowdepth              0\n",
       "windgust               0\n",
       "windspeed              0\n",
       "winddir                0\n",
       "sealevelpressure       0\n",
       "cloudcover             0\n",
       "visibility             0\n",
       "solarradiation         0\n",
       "solarenergy            0\n",
       "uvindex                0\n",
       "severerisk             0\n",
       "sunrise                0\n",
       "sunset                 0\n",
       "moonphase              0\n",
       "description            0\n",
       "dtype: int64"
      ]
     },
     "execution_count": 17,
     "metadata": {},
     "output_type": "execute_result"
    }
   ],
   "source": [
    "df_manila.isna().sum()"
   ]
  },
  {
   "cell_type": "code",
   "execution_count": 18,
   "id": "07eb489c-9904-4374-9065-c9b25599e9d6",
   "metadata": {
    "tags": []
   },
   "outputs": [],
   "source": [
    "#using forward fill to fill in categorical missing data for the preciptype column\n",
    "\n",
    "df_manila['preciptype'].fillna(method='ffill', inplace=True)"
   ]
  },
  {
   "cell_type": "code",
   "execution_count": 19,
   "id": "c320cb63-df86-485d-9535-3d98bac614da",
   "metadata": {
    "tags": []
   },
   "outputs": [],
   "source": [
    "#using backward fill to fill in categorical missing data for the preciptype column\n",
    "\n",
    "df_manila['preciptype'] = df_manila['preciptype'].fillna(method='bfill')"
   ]
  },
  {
   "cell_type": "code",
   "execution_count": 20,
   "id": "8388f508-2637-4b4c-92a0-356e57de6d4b",
   "metadata": {
    "tags": []
   },
   "outputs": [
    {
     "data": {
      "text/plain": [
       "name                0\n",
       "datetime            0\n",
       "temp                0\n",
       "feelslikemax        0\n",
       "feelslikemin        0\n",
       "feelslike           0\n",
       "dew                 0\n",
       "humidity            0\n",
       "precip              0\n",
       "precipprob          0\n",
       "precipcover         0\n",
       "preciptype          0\n",
       "snow                0\n",
       "snowdepth           0\n",
       "windgust            0\n",
       "windspeed           0\n",
       "winddir             0\n",
       "sealevelpressure    0\n",
       "cloudcover          0\n",
       "visibility          0\n",
       "solarradiation      0\n",
       "solarenergy         0\n",
       "uvindex             0\n",
       "severerisk          0\n",
       "sunrise             0\n",
       "sunset              0\n",
       "moonphase           0\n",
       "description         0\n",
       "dtype: int64"
      ]
     },
     "execution_count": 20,
     "metadata": {},
     "output_type": "execute_result"
    }
   ],
   "source": [
    "df_manila.isna().sum()"
   ]
  },
  {
   "cell_type": "code",
   "execution_count": 21,
   "id": "ac72485b-b11c-4332-955a-4cc96b6dda6e",
   "metadata": {
    "tags": []
   },
   "outputs": [],
   "source": [
    "#setting the datetime column to datetime data type\n",
    "\n",
    "#df['date_column'] = pd.to_datetime(df['date_column'])"
   ]
  },
  {
   "cell_type": "code",
   "execution_count": 22,
   "id": "3f419d0e-688b-487f-be54-76bab551f0e1",
   "metadata": {
    "tags": []
   },
   "outputs": [
    {
     "data": {
      "text/html": [
       "<div>\n",
       "<style scoped>\n",
       "    .dataframe tbody tr th:only-of-type {\n",
       "        vertical-align: middle;\n",
       "    }\n",
       "\n",
       "    .dataframe tbody tr th {\n",
       "        vertical-align: top;\n",
       "    }\n",
       "\n",
       "    .dataframe thead th {\n",
       "        text-align: right;\n",
       "    }\n",
       "</style>\n",
       "<table border=\"1\" class=\"dataframe\">\n",
       "  <thead>\n",
       "    <tr style=\"text-align: right;\">\n",
       "      <th></th>\n",
       "      <th>name</th>\n",
       "      <th>datetime</th>\n",
       "      <th>temp</th>\n",
       "      <th>feelslikemax</th>\n",
       "      <th>feelslikemin</th>\n",
       "      <th>feelslike</th>\n",
       "      <th>dew</th>\n",
       "      <th>humidity</th>\n",
       "      <th>precip</th>\n",
       "      <th>precipprob</th>\n",
       "      <th>precipcover</th>\n",
       "      <th>preciptype</th>\n",
       "      <th>snow</th>\n",
       "      <th>snowdepth</th>\n",
       "      <th>windgust</th>\n",
       "      <th>windspeed</th>\n",
       "      <th>winddir</th>\n",
       "      <th>sealevelpressure</th>\n",
       "      <th>cloudcover</th>\n",
       "      <th>visibility</th>\n",
       "      <th>solarradiation</th>\n",
       "      <th>solarenergy</th>\n",
       "      <th>uvindex</th>\n",
       "      <th>severerisk</th>\n",
       "      <th>sunrise</th>\n",
       "      <th>sunset</th>\n",
       "      <th>moonphase</th>\n",
       "      <th>description</th>\n",
       "    </tr>\n",
       "  </thead>\n",
       "  <tbody>\n",
       "    <tr>\n",
       "      <th>0</th>\n",
       "      <td>Manila, Phillipines</td>\n",
       "      <td>2014-01-01</td>\n",
       "      <td>26.6</td>\n",
       "      <td>32.7</td>\n",
       "      <td>23.0</td>\n",
       "      <td>27.4</td>\n",
       "      <td>20.4</td>\n",
       "      <td>70.1</td>\n",
       "      <td>0.0</td>\n",
       "      <td>0</td>\n",
       "      <td>0.0</td>\n",
       "      <td>rain</td>\n",
       "      <td>0.0</td>\n",
       "      <td>0.0</td>\n",
       "      <td>35.457647</td>\n",
       "      <td>22.3</td>\n",
       "      <td>98.4</td>\n",
       "      <td>1013.2</td>\n",
       "      <td>47.6</td>\n",
       "      <td>8.8</td>\n",
       "      <td>209.0</td>\n",
       "      <td>18.0</td>\n",
       "      <td>8</td>\n",
       "      <td>25.423434</td>\n",
       "      <td>2014-01-01T06:21:07</td>\n",
       "      <td>2014-01-01T17:37:49</td>\n",
       "      <td>0.00</td>\n",
       "      <td>Partly cloudy throughout the day.</td>\n",
       "    </tr>\n",
       "    <tr>\n",
       "      <th>1</th>\n",
       "      <td>Manila, Phillipines</td>\n",
       "      <td>2014-01-02</td>\n",
       "      <td>27.0</td>\n",
       "      <td>33.1</td>\n",
       "      <td>23.6</td>\n",
       "      <td>27.9</td>\n",
       "      <td>20.0</td>\n",
       "      <td>66.2</td>\n",
       "      <td>0.0</td>\n",
       "      <td>0</td>\n",
       "      <td>0.0</td>\n",
       "      <td>rain</td>\n",
       "      <td>0.0</td>\n",
       "      <td>0.0</td>\n",
       "      <td>35.457647</td>\n",
       "      <td>20.5</td>\n",
       "      <td>100.4</td>\n",
       "      <td>1012.9</td>\n",
       "      <td>45.4</td>\n",
       "      <td>10.2</td>\n",
       "      <td>223.6</td>\n",
       "      <td>19.1</td>\n",
       "      <td>8</td>\n",
       "      <td>25.423434</td>\n",
       "      <td>2014-01-02T06:21:29</td>\n",
       "      <td>2014-01-02T17:38:24</td>\n",
       "      <td>0.02</td>\n",
       "      <td>Partly cloudy throughout the day.</td>\n",
       "    </tr>\n",
       "    <tr>\n",
       "      <th>2</th>\n",
       "      <td>Manila, Phillipines</td>\n",
       "      <td>2014-01-03</td>\n",
       "      <td>26.7</td>\n",
       "      <td>33.7</td>\n",
       "      <td>22.0</td>\n",
       "      <td>27.9</td>\n",
       "      <td>20.6</td>\n",
       "      <td>70.2</td>\n",
       "      <td>0.0</td>\n",
       "      <td>0</td>\n",
       "      <td>0.0</td>\n",
       "      <td>rain</td>\n",
       "      <td>0.0</td>\n",
       "      <td>0.0</td>\n",
       "      <td>35.457647</td>\n",
       "      <td>14.8</td>\n",
       "      <td>116.7</td>\n",
       "      <td>1012.6</td>\n",
       "      <td>32.3</td>\n",
       "      <td>10.3</td>\n",
       "      <td>237.9</td>\n",
       "      <td>20.4</td>\n",
       "      <td>8</td>\n",
       "      <td>25.423434</td>\n",
       "      <td>2014-01-03T06:21:50</td>\n",
       "      <td>2014-01-03T17:38:58</td>\n",
       "      <td>0.06</td>\n",
       "      <td>Partly cloudy throughout the day.</td>\n",
       "    </tr>\n",
       "    <tr>\n",
       "      <th>3</th>\n",
       "      <td>Manila, Phillipines</td>\n",
       "      <td>2014-01-04</td>\n",
       "      <td>26.7</td>\n",
       "      <td>33.6</td>\n",
       "      <td>23.0</td>\n",
       "      <td>28.0</td>\n",
       "      <td>21.8</td>\n",
       "      <td>75.9</td>\n",
       "      <td>0.0</td>\n",
       "      <td>0</td>\n",
       "      <td>0.0</td>\n",
       "      <td>rain</td>\n",
       "      <td>0.0</td>\n",
       "      <td>0.0</td>\n",
       "      <td>40.700000</td>\n",
       "      <td>18.3</td>\n",
       "      <td>323.4</td>\n",
       "      <td>1011.5</td>\n",
       "      <td>42.1</td>\n",
       "      <td>10.2</td>\n",
       "      <td>234.8</td>\n",
       "      <td>20.2</td>\n",
       "      <td>8</td>\n",
       "      <td>10.000000</td>\n",
       "      <td>2014-01-04T06:22:11</td>\n",
       "      <td>2014-01-04T17:39:33</td>\n",
       "      <td>0.09</td>\n",
       "      <td>Partly cloudy throughout the day.</td>\n",
       "    </tr>\n",
       "    <tr>\n",
       "      <th>4</th>\n",
       "      <td>Manila, Phillipines</td>\n",
       "      <td>2014-01-05</td>\n",
       "      <td>26.5</td>\n",
       "      <td>32.7</td>\n",
       "      <td>23.0</td>\n",
       "      <td>27.7</td>\n",
       "      <td>21.6</td>\n",
       "      <td>75.3</td>\n",
       "      <td>0.0</td>\n",
       "      <td>0</td>\n",
       "      <td>0.0</td>\n",
       "      <td>rain</td>\n",
       "      <td>0.0</td>\n",
       "      <td>0.0</td>\n",
       "      <td>31.300000</td>\n",
       "      <td>18.4</td>\n",
       "      <td>67.4</td>\n",
       "      <td>1011.5</td>\n",
       "      <td>52.5</td>\n",
       "      <td>10.5</td>\n",
       "      <td>220.4</td>\n",
       "      <td>19.1</td>\n",
       "      <td>8</td>\n",
       "      <td>22.000000</td>\n",
       "      <td>2014-01-05T06:22:30</td>\n",
       "      <td>2014-01-05T17:40:08</td>\n",
       "      <td>0.13</td>\n",
       "      <td>Partly cloudy throughout the day.</td>\n",
       "    </tr>\n",
       "  </tbody>\n",
       "</table>\n",
       "</div>"
      ],
      "text/plain": [
       "                  name    datetime  temp  feelslikemax  feelslikemin  \\\n",
       "0  Manila, Phillipines  2014-01-01  26.6          32.7          23.0   \n",
       "1  Manila, Phillipines  2014-01-02  27.0          33.1          23.6   \n",
       "2  Manila, Phillipines  2014-01-03  26.7          33.7          22.0   \n",
       "3  Manila, Phillipines  2014-01-04  26.7          33.6          23.0   \n",
       "4  Manila, Phillipines  2014-01-05  26.5          32.7          23.0   \n",
       "\n",
       "   feelslike   dew  humidity  precip  precipprob  precipcover preciptype  \\\n",
       "0       27.4  20.4      70.1     0.0           0          0.0       rain   \n",
       "1       27.9  20.0      66.2     0.0           0          0.0       rain   \n",
       "2       27.9  20.6      70.2     0.0           0          0.0       rain   \n",
       "3       28.0  21.8      75.9     0.0           0          0.0       rain   \n",
       "4       27.7  21.6      75.3     0.0           0          0.0       rain   \n",
       "\n",
       "   snow  snowdepth   windgust  windspeed  winddir  sealevelpressure  \\\n",
       "0   0.0        0.0  35.457647       22.3     98.4            1013.2   \n",
       "1   0.0        0.0  35.457647       20.5    100.4            1012.9   \n",
       "2   0.0        0.0  35.457647       14.8    116.7            1012.6   \n",
       "3   0.0        0.0  40.700000       18.3    323.4            1011.5   \n",
       "4   0.0        0.0  31.300000       18.4     67.4            1011.5   \n",
       "\n",
       "   cloudcover  visibility  solarradiation  solarenergy  uvindex  severerisk  \\\n",
       "0        47.6         8.8           209.0         18.0        8   25.423434   \n",
       "1        45.4        10.2           223.6         19.1        8   25.423434   \n",
       "2        32.3        10.3           237.9         20.4        8   25.423434   \n",
       "3        42.1        10.2           234.8         20.2        8   10.000000   \n",
       "4        52.5        10.5           220.4         19.1        8   22.000000   \n",
       "\n",
       "               sunrise               sunset  moonphase  \\\n",
       "0  2014-01-01T06:21:07  2014-01-01T17:37:49       0.00   \n",
       "1  2014-01-02T06:21:29  2014-01-02T17:38:24       0.02   \n",
       "2  2014-01-03T06:21:50  2014-01-03T17:38:58       0.06   \n",
       "3  2014-01-04T06:22:11  2014-01-04T17:39:33       0.09   \n",
       "4  2014-01-05T06:22:30  2014-01-05T17:40:08       0.13   \n",
       "\n",
       "                         description  \n",
       "0  Partly cloudy throughout the day.  \n",
       "1  Partly cloudy throughout the day.  \n",
       "2  Partly cloudy throughout the day.  \n",
       "3  Partly cloudy throughout the day.  \n",
       "4  Partly cloudy throughout the day.  "
      ]
     },
     "execution_count": 22,
     "metadata": {},
     "output_type": "execute_result"
    }
   ],
   "source": [
    "df_manila.head()"
   ]
  },
  {
   "cell_type": "code",
   "execution_count": 23,
   "id": "93d6938d-ac30-4eb6-92d5-fffcb513ef90",
   "metadata": {
    "tags": []
   },
   "outputs": [],
   "source": [
    "# one hot encoding for preciptype"
   ]
  },
  {
   "cell_type": "markdown",
   "id": "d156e0ae-b157-477a-874e-f0b76d170813",
   "metadata": {},
   "source": [
    "Tokenization of the preciptype column"
   ]
  },
  {
   "cell_type": "code",
   "execution_count": 24,
   "id": "5e6bedd8-93b1-4ed7-a0ae-1f32c6faa653",
   "metadata": {
    "tags": []
   },
   "outputs": [],
   "source": [
    "# step 1: Text processing\n",
    "tokenizer = CountVectorizer()\n",
    "hashingTF = TfidfTransformer(use_idf=False)\n",
    "idf = TfidfTransformer(use_idf=True)\n",
    "k = 3\n",
    "kmeans = KMeans(n_clusters=k, random_state=42)"
   ]
  },
  {
   "cell_type": "code",
   "execution_count": 25,
   "id": "7899e84d-0662-4475-bb5e-2f26aabd5501",
   "metadata": {
    "tags": []
   },
   "outputs": [],
   "source": [
    "# pipeline that processes text and then clusters\n",
    "pipeline = Pipeline(steps=[\n",
    "    ('tokenizer', tokenizer),\n",
    "    ('hashingTF', hashingTF),\n",
    "    ('idf', idf),\n",
    "    ('kmeans', kmeans)\n",
    "])"
   ]
  },
  {
   "cell_type": "code",
   "execution_count": 26,
   "id": "58c43ae0-63c0-41a9-ae43-c38c334d98f2",
   "metadata": {
    "tags": []
   },
   "outputs": [
    {
     "name": "stderr",
     "output_type": "stream",
     "text": [
      "C:\\Users\\nicol\\anaconda3\\envs\\AI2023\\lib\\site-packages\\sklearn\\cluster\\_kmeans.py:1416: FutureWarning: The default value of `n_init` will change from 10 to 'auto' in 1.4. Set the value of `n_init` explicitly to suppress the warning\n",
      "  super()._check_params_vs_input(X, default_n_init=10)\n",
      "C:\\Users\\nicol\\anaconda3\\envs\\AI2023\\lib\\site-packages\\sklearn\\base.py:1152: ConvergenceWarning: Number of distinct clusters (1) found smaller than n_clusters (3). Possibly due to duplicate points in X.\n",
      "  return fit_method(estimator, *args, **kwargs)\n"
     ]
    }
   ],
   "source": [
    "# fitting the model on the 'Occupation' column\n",
    "text_features = pipeline.fit_transform(df_manila['preciptype'])"
   ]
  },
  {
   "cell_type": "code",
   "execution_count": 27,
   "id": "dbc7cb29-e0b3-493a-9059-12f60ee2c1fd",
   "metadata": {
    "tags": []
   },
   "outputs": [
    {
     "data": {
      "text/plain": [
       "0    3793\n",
       "Name: preciptype_clusters, dtype: int64"
      ]
     },
     "execution_count": 27,
     "metadata": {},
     "output_type": "execute_result"
    }
   ],
   "source": [
    "df_manila['preciptype_clusters'] = kmeans.labels_\n",
    "df_manila['preciptype_clusters'].value_counts()"
   ]
  },
  {
   "cell_type": "code",
   "execution_count": 28,
   "id": "0b1cbf9c-d04a-4f77-8d60-a2b8b86b8a54",
   "metadata": {},
   "outputs": [
    {
     "data": {
      "image/png": "[encoded data removed]",
      "text/plain": [
       "<Figure size 800x400 with 1 Axes>"
      ]
     },
     "metadata": {},
     "output_type": "display_data"
    }
   ],
   "source": [
    "text = ' '.join(description for description in df_manila[df_manila['preciptype_clusters']==0]['preciptype'])\n",
    "wordcloud = WordCloud(background_color='white').generate(text)\n",
    "plt.figure(figsize=(8, 4))\n",
    "plt.imshow(wordcloud, interpolation='bilinear')\n",
    "plt.axis('off')\n",
    "plt.title('Word Cloud for preciptype cluster number 0')\n",
    "plt.show()"
   ]
  },
  {
   "cell_type": "code",
   "execution_count": 37,
   "id": "e91c0b49-11de-4bab-9d1e-65f08550745a",
   "metadata": {
    "tags": []
   },
   "outputs": [],
   "source": [
    "# text = ' '.join(description for description in df_manila[df_manila['preciptype_clusters']==1]['preciptype'])\n",
    "# wordcloud = WordCloud(background_color='white').generate(text)\n",
    "# plt.figure(figsize=(8, 4))\n",
    "# plt.imshow(wordcloud, interpolation='bilinear')\n",
    "# plt.axis('off')\n",
    "# plt.title('Word Cloud for preciptype cluster number 1')\n",
    "# plt.show()"
   ]
  },
  {
   "cell_type": "code",
   "execution_count": 38,
   "id": "b09e9911-5acf-4ec4-affa-6a368a0b5c51",
   "metadata": {
    "tags": []
   },
   "outputs": [],
   "source": [
    "# text = ' '.join(description for description in df_manila[df_manila['preciptype_clusters']==2]['preciptype'])\n",
    "# wordcloud = WordCloud(background_color='white').generate(text)\n",
    "# plt.figure(figsize=(8, 4))\n",
    "# plt.imshow(wordcloud, interpolation='bilinear')\n",
    "# plt.axis('off')\n",
    "# plt.title('Word Cloud for preciptype cluster number 2')\n",
    "# plt.show()"
   ]
  },
  {
   "cell_type": "code",
   "execution_count": 31,
   "id": "caab160b-1151-48a5-9abd-183e309ecc89",
   "metadata": {
    "tags": []
   },
   "outputs": [
    {
     "data": {
      "text/plain": [
       "0    3793\n",
       "Name: preciptype_clusters, dtype: int64"
      ]
     },
     "execution_count": 31,
     "metadata": {},
     "output_type": "execute_result"
    }
   ],
   "source": [
    "df_manila['preciptype_clusters'].value_counts()"
   ]
  },
  {
   "cell_type": "code",
   "execution_count": 32,
   "id": "4b08c9a2-4b5a-4a00-87db-d41834c420f4",
   "metadata": {
    "tags": []
   },
   "outputs": [],
   "source": [
    "df_manila = df_manila.drop(columns=['preciptype'])"
   ]
  },
  {
   "cell_type": "code",
   "execution_count": 33,
   "id": "e1e22f12-a8e8-4ecf-9bff-aa68505c3188",
   "metadata": {
    "tags": []
   },
   "outputs": [
    {
     "data": {
      "text/html": [
       "<div>\n",
       "<style scoped>\n",
       "    .dataframe tbody tr th:only-of-type {\n",
       "        vertical-align: middle;\n",
       "    }\n",
       "\n",
       "    .dataframe tbody tr th {\n",
       "        vertical-align: top;\n",
       "    }\n",
       "\n",
       "    .dataframe thead th {\n",
       "        text-align: right;\n",
       "    }\n",
       "</style>\n",
       "<table border=\"1\" class=\"dataframe\">\n",
       "  <thead>\n",
       "    <tr style=\"text-align: right;\">\n",
       "      <th></th>\n",
       "      <th>name</th>\n",
       "      <th>datetime</th>\n",
       "      <th>temp</th>\n",
       "      <th>feelslikemax</th>\n",
       "      <th>feelslikemin</th>\n",
       "      <th>feelslike</th>\n",
       "      <th>dew</th>\n",
       "      <th>humidity</th>\n",
       "      <th>precip</th>\n",
       "      <th>precipprob</th>\n",
       "      <th>precipcover</th>\n",
       "      <th>snow</th>\n",
       "      <th>snowdepth</th>\n",
       "      <th>windgust</th>\n",
       "      <th>windspeed</th>\n",
       "      <th>winddir</th>\n",
       "      <th>sealevelpressure</th>\n",
       "      <th>cloudcover</th>\n",
       "      <th>visibility</th>\n",
       "      <th>solarradiation</th>\n",
       "      <th>solarenergy</th>\n",
       "      <th>uvindex</th>\n",
       "      <th>severerisk</th>\n",
       "      <th>sunrise</th>\n",
       "      <th>sunset</th>\n",
       "      <th>moonphase</th>\n",
       "      <th>description</th>\n",
       "      <th>preciptype_clusters</th>\n",
       "    </tr>\n",
       "  </thead>\n",
       "  <tbody>\n",
       "    <tr>\n",
       "      <th>0</th>\n",
       "      <td>Manila, Phillipines</td>\n",
       "      <td>2014-01-01</td>\n",
       "      <td>26.6</td>\n",
       "      <td>32.7</td>\n",
       "      <td>23.0</td>\n",
       "      <td>27.4</td>\n",
       "      <td>20.4</td>\n",
       "      <td>70.1</td>\n",
       "      <td>0.0</td>\n",
       "      <td>0</td>\n",
       "      <td>0.0</td>\n",
       "      <td>0.0</td>\n",
       "      <td>0.0</td>\n",
       "      <td>35.457647</td>\n",
       "      <td>22.3</td>\n",
       "      <td>98.4</td>\n",
       "      <td>1013.2</td>\n",
       "      <td>47.6</td>\n",
       "      <td>8.8</td>\n",
       "      <td>209.0</td>\n",
       "      <td>18.0</td>\n",
       "      <td>8</td>\n",
       "      <td>25.423434</td>\n",
       "      <td>2014-01-01T06:21:07</td>\n",
       "      <td>2014-01-01T17:37:49</td>\n",
       "      <td>0.00</td>\n",
       "      <td>Partly cloudy throughout the day.</td>\n",
       "      <td>0</td>\n",
       "    </tr>\n",
       "    <tr>\n",
       "      <th>1</th>\n",
       "      <td>Manila, Phillipines</td>\n",
       "      <td>2014-01-02</td>\n",
       "      <td>27.0</td>\n",
       "      <td>33.1</td>\n",
       "      <td>23.6</td>\n",
       "      <td>27.9</td>\n",
       "      <td>20.0</td>\n",
       "      <td>66.2</td>\n",
       "      <td>0.0</td>\n",
       "      <td>0</td>\n",
       "      <td>0.0</td>\n",
       "      <td>0.0</td>\n",
       "      <td>0.0</td>\n",
       "      <td>35.457647</td>\n",
       "      <td>20.5</td>\n",
       "      <td>100.4</td>\n",
       "      <td>1012.9</td>\n",
       "      <td>45.4</td>\n",
       "      <td>10.2</td>\n",
       "      <td>223.6</td>\n",
       "      <td>19.1</td>\n",
       "      <td>8</td>\n",
       "      <td>25.423434</td>\n",
       "      <td>2014-01-02T06:21:29</td>\n",
       "      <td>2014-01-02T17:38:24</td>\n",
       "      <td>0.02</td>\n",
       "      <td>Partly cloudy throughout the day.</td>\n",
       "      <td>0</td>\n",
       "    </tr>\n",
       "    <tr>\n",
       "      <th>2</th>\n",
       "      <td>Manila, Phillipines</td>\n",
       "      <td>2014-01-03</td>\n",
       "      <td>26.7</td>\n",
       "      <td>33.7</td>\n",
       "      <td>22.0</td>\n",
       "      <td>27.9</td>\n",
       "      <td>20.6</td>\n",
       "      <td>70.2</td>\n",
       "      <td>0.0</td>\n",
       "      <td>0</td>\n",
       "      <td>0.0</td>\n",
       "      <td>0.0</td>\n",
       "      <td>0.0</td>\n",
       "      <td>35.457647</td>\n",
       "      <td>14.8</td>\n",
       "      <td>116.7</td>\n",
       "      <td>1012.6</td>\n",
       "      <td>32.3</td>\n",
       "      <td>10.3</td>\n",
       "      <td>237.9</td>\n",
       "      <td>20.4</td>\n",
       "      <td>8</td>\n",
       "      <td>25.423434</td>\n",
       "      <td>2014-01-03T06:21:50</td>\n",
       "      <td>2014-01-03T17:38:58</td>\n",
       "      <td>0.06</td>\n",
       "      <td>Partly cloudy throughout the day.</td>\n",
       "      <td>0</td>\n",
       "    </tr>\n",
       "    <tr>\n",
       "      <th>3</th>\n",
       "      <td>Manila, Phillipines</td>\n",
       "      <td>2014-01-04</td>\n",
       "      <td>26.7</td>\n",
       "      <td>33.6</td>\n",
       "      <td>23.0</td>\n",
       "      <td>28.0</td>\n",
       "      <td>21.8</td>\n",
       "      <td>75.9</td>\n",
       "      <td>0.0</td>\n",
       "      <td>0</td>\n",
       "      <td>0.0</td>\n",
       "      <td>0.0</td>\n",
       "      <td>0.0</td>\n",
       "      <td>40.700000</td>\n",
       "      <td>18.3</td>\n",
       "      <td>323.4</td>\n",
       "      <td>1011.5</td>\n",
       "      <td>42.1</td>\n",
       "      <td>10.2</td>\n",
       "      <td>234.8</td>\n",
       "      <td>20.2</td>\n",
       "      <td>8</td>\n",
       "      <td>10.000000</td>\n",
       "      <td>2014-01-04T06:22:11</td>\n",
       "      <td>2014-01-04T17:39:33</td>\n",
       "      <td>0.09</td>\n",
       "      <td>Partly cloudy throughout the day.</td>\n",
       "      <td>0</td>\n",
       "    </tr>\n",
       "    <tr>\n",
       "      <th>4</th>\n",
       "      <td>Manila, Phillipines</td>\n",
       "      <td>2014-01-05</td>\n",
       "      <td>26.5</td>\n",
       "      <td>32.7</td>\n",
       "      <td>23.0</td>\n",
       "      <td>27.7</td>\n",
       "      <td>21.6</td>\n",
       "      <td>75.3</td>\n",
       "      <td>0.0</td>\n",
       "      <td>0</td>\n",
       "      <td>0.0</td>\n",
       "      <td>0.0</td>\n",
       "      <td>0.0</td>\n",
       "      <td>31.300000</td>\n",
       "      <td>18.4</td>\n",
       "      <td>67.4</td>\n",
       "      <td>1011.5</td>\n",
       "      <td>52.5</td>\n",
       "      <td>10.5</td>\n",
       "      <td>220.4</td>\n",
       "      <td>19.1</td>\n",
       "      <td>8</td>\n",
       "      <td>22.000000</td>\n",
       "      <td>2014-01-05T06:22:30</td>\n",
       "      <td>2014-01-05T17:40:08</td>\n",
       "      <td>0.13</td>\n",
       "      <td>Partly cloudy throughout the day.</td>\n",
       "      <td>0</td>\n",
       "    </tr>\n",
       "  </tbody>\n",
       "</table>\n",
       "</div>"
      ],
      "text/plain": [
       "                  name    datetime  temp  feelslikemax  feelslikemin  \\\n",
       "0  Manila, Phillipines  2014-01-01  26.6          32.7          23.0   \n",
       "1  Manila, Phillipines  2014-01-02  27.0          33.1          23.6   \n",
       "2  Manila, Phillipines  2014-01-03  26.7          33.7          22.0   \n",
       "3  Manila, Phillipines  2014-01-04  26.7          33.6          23.0   \n",
       "4  Manila, Phillipines  2014-01-05  26.5          32.7          23.0   \n",
       "\n",
       "   feelslike   dew  humidity  precip  precipprob  precipcover  snow  \\\n",
       "0       27.4  20.4      70.1     0.0           0          0.0   0.0   \n",
       "1       27.9  20.0      66.2     0.0           0          0.0   0.0   \n",
       "2       27.9  20.6      70.2     0.0           0          0.0   0.0   \n",
       "3       28.0  21.8      75.9     0.0           0          0.0   0.0   \n",
       "4       27.7  21.6      75.3     0.0           0          0.0   0.0   \n",
       "\n",
       "   snowdepth   windgust  windspeed  winddir  sealevelpressure  cloudcover  \\\n",
       "0        0.0  35.457647       22.3     98.4            1013.2        47.6   \n",
       "1        0.0  35.457647       20.5    100.4            1012.9        45.4   \n",
       "2        0.0  35.457647       14.8    116.7            1012.6        32.3   \n",
       "3        0.0  40.700000       18.3    323.4            1011.5        42.1   \n",
       "4        0.0  31.300000       18.4     67.4            1011.5        52.5   \n",
       "\n",
       "   visibility  solarradiation  solarenergy  uvindex  severerisk  \\\n",
       "0         8.8           209.0         18.0        8   25.423434   \n",
       "1        10.2           223.6         19.1        8   25.423434   \n",
       "2        10.3           237.9         20.4        8   25.423434   \n",
       "3        10.2           234.8         20.2        8   10.000000   \n",
       "4        10.5           220.4         19.1        8   22.000000   \n",
       "\n",
       "               sunrise               sunset  moonphase  \\\n",
       "0  2014-01-01T06:21:07  2014-01-01T17:37:49       0.00   \n",
       "1  2014-01-02T06:21:29  2014-01-02T17:38:24       0.02   \n",
       "2  2014-01-03T06:21:50  2014-01-03T17:38:58       0.06   \n",
       "3  2014-01-04T06:22:11  2014-01-04T17:39:33       0.09   \n",
       "4  2014-01-05T06:22:30  2014-01-05T17:40:08       0.13   \n",
       "\n",
       "                         description  preciptype_clusters  \n",
       "0  Partly cloudy throughout the day.                    0  \n",
       "1  Partly cloudy throughout the day.                    0  \n",
       "2  Partly cloudy throughout the day.                    0  \n",
       "3  Partly cloudy throughout the day.                    0  \n",
       "4  Partly cloudy throughout the day.                    0  "
      ]
     },
     "execution_count": 33,
     "metadata": {},
     "output_type": "execute_result"
    }
   ],
   "source": [
    "df_manila.head()"
   ]
  },
  {
   "cell_type": "code",
   "execution_count": 34,
   "id": "42b0ee26-9095-4c61-8dad-6342cbe0e795",
   "metadata": {
    "tags": []
   },
   "outputs": [],
   "source": [
    "folder_path = r'C:\\Users\\nicol\\OneDrive\\Master\\Goldsmiths\\Thesis\\weather-prediction\\.data'\n",
    "file_name = 'manila_weather_2014-2024_updated.csv'\n",
    "full_path = os.path.join(folder_path, file_name)\n",
    "\n",
    "# Save the DataFrame to the specified path\n",
    "df_manila.to_csv(full_path)"
   ]
  }
 ],
 "metadata": {
  "kernelspec": {
   "display_name": "Python 3 (ipykernel)",
   "language": "python",
   "name": "python3"
  },
  "language_info": {
   "codemirror_mode": {
    "name": "ipython",
    "version": 3
   },
   "file_extension": ".py",
   "mimetype": "text/x-python",
   "name": "python",
   "nbconvert_exporter": "python",
   "pygments_lexer": "ipython3",
   "version": "3.10.13"
  }
 },
 "nbformat": 4,
 "nbformat_minor": 5
}
