{
 "cells": [
  {
   "cell_type": "code",
   "execution_count": 1,
   "id": "52db646d-4b10-43e3-a3f3-bae8325e84ef",
   "metadata": {
    "tags": []
   },
   "outputs": [],
   "source": [
    "import requests\n",
    "import sys\n",
    "import os\n",
    "import csv\n",
    "import codecs\n",
    "import pandas as pd"
   ]
  },
  {
   "cell_type": "markdown",
   "id": "19154833",
   "metadata": {},
   "source": [
    "### London, United Kingdom dataframe 2014-2024 - NORTHERN"
   ]
  },
  {
   "cell_type": "code",
   "execution_count": 43,
   "id": "828b1d2b-ce52-482a-8a0b-85b245222b9b",
   "metadata": {},
   "outputs": [],
   "source": [
    "response = requests.request(\"GET\", \"https://weather.visualcrossing.com/VisualCrossingWebServices/rest/services/timeline/london/2014-01-01/2024-05-20?unitGroup=metric&include=days&key=P5BAF43ZWPV23V6ET3C2D8TGD&contentType=csv\")\n",
    "if response.status_code!=200:\n",
    "  print('Unexpected Status code: ', response.status_code)\n",
    "  sys.exit()  "
   ]
  },
  {
   "cell_type": "code",
   "execution_count": 44,
   "id": "f1108619-939a-4ce2-a554-7bbc45ab337a",
   "metadata": {},
   "outputs": [],
   "source": [
    "# Parse the results as CSV\n",
    "london_csv = csv.reader(response.text.splitlines(), delimiter=',',quotechar='\"')"
   ]
  },
  {
   "cell_type": "code",
   "execution_count": 45,
   "id": "6f0690f4-aaa6-49ad-a542-7f53e21c62f8",
   "metadata": {},
   "outputs": [],
   "source": [
    "london_list = list(london_csv)\n",
    "# Create a DataFrame\n",
    "df_london = pd.DataFrame(london_list[1:], columns=london_list[0])"
   ]
  },
  {
   "cell_type": "code",
   "execution_count": 46,
   "id": "1907f4c5-3ab2-4d42-933c-9133e755368c",
   "metadata": {
    "scrolled": true
   },
   "outputs": [
    {
     "data": {
      "text/html": [
       "<div>\n",
       "<style scoped>\n",
       "    .dataframe tbody tr th:only-of-type {\n",
       "        vertical-align: middle;\n",
       "    }\n",
       "\n",
       "    .dataframe tbody tr th {\n",
       "        vertical-align: top;\n",
       "    }\n",
       "\n",
       "    .dataframe thead th {\n",
       "        text-align: right;\n",
       "    }\n",
       "</style>\n",
       "<table border=\"1\" class=\"dataframe\">\n",
       "  <thead>\n",
       "    <tr style=\"text-align: right;\">\n",
       "      <th></th>\n",
       "      <th>name</th>\n",
       "      <th>datetime</th>\n",
       "      <th>tempmax</th>\n",
       "      <th>tempmin</th>\n",
       "      <th>temp</th>\n",
       "      <th>feelslikemax</th>\n",
       "      <th>feelslikemin</th>\n",
       "      <th>feelslike</th>\n",
       "      <th>dew</th>\n",
       "      <th>humidity</th>\n",
       "      <th>...</th>\n",
       "      <th>solarenergy</th>\n",
       "      <th>uvindex</th>\n",
       "      <th>severerisk</th>\n",
       "      <th>sunrise</th>\n",
       "      <th>sunset</th>\n",
       "      <th>moonphase</th>\n",
       "      <th>conditions</th>\n",
       "      <th>description</th>\n",
       "      <th>icon</th>\n",
       "      <th>stations</th>\n",
       "    </tr>\n",
       "  </thead>\n",
       "  <tbody>\n",
       "    <tr>\n",
       "      <th>0</th>\n",
       "      <td>London, England, United Kingdom</td>\n",
       "      <td>2014-01-01</td>\n",
       "      <td>11.6</td>\n",
       "      <td>6.7</td>\n",
       "      <td>9.1</td>\n",
       "      <td>11.6</td>\n",
       "      <td>3.6</td>\n",
       "      <td>7</td>\n",
       "      <td>6.7</td>\n",
       "      <td>84.8</td>\n",
       "      <td>...</td>\n",
       "      <td>0.5</td>\n",
       "      <td>0</td>\n",
       "      <td></td>\n",
       "      <td>2014-01-01T08:06:14</td>\n",
       "      <td>2014-01-01T16:02:04</td>\n",
       "      <td>0</td>\n",
       "      <td>Rain, Partially cloudy</td>\n",
       "      <td>Partly cloudy throughout the day with a chance...</td>\n",
       "      <td>rain</td>\n",
       "      <td>03769099999,EGWU,03680099999,03768399999,03672...</td>\n",
       "    </tr>\n",
       "    <tr>\n",
       "      <th>1</th>\n",
       "      <td>London, England, United Kingdom</td>\n",
       "      <td>2014-01-02</td>\n",
       "      <td>11</td>\n",
       "      <td>6.6</td>\n",
       "      <td>9.1</td>\n",
       "      <td>11</td>\n",
       "      <td>3.6</td>\n",
       "      <td>7.2</td>\n",
       "      <td>6</td>\n",
       "      <td>81</td>\n",
       "      <td>...</td>\n",
       "      <td>3.3</td>\n",
       "      <td>2</td>\n",
       "      <td></td>\n",
       "      <td>2014-01-02T08:06:07</td>\n",
       "      <td>2014-01-02T16:03:08</td>\n",
       "      <td>0.03</td>\n",
       "      <td>Rain, Partially cloudy</td>\n",
       "      <td>Partly cloudy throughout the day with rain.</td>\n",
       "      <td>rain</td>\n",
       "      <td>03769099999,03680099999,03672099999,0378109999...</td>\n",
       "    </tr>\n",
       "    <tr>\n",
       "      <th>2</th>\n",
       "      <td>London, England, United Kingdom</td>\n",
       "      <td>2014-01-03</td>\n",
       "      <td>10.6</td>\n",
       "      <td>7.3</td>\n",
       "      <td>9</td>\n",
       "      <td>10.6</td>\n",
       "      <td>3.2</td>\n",
       "      <td>6.5</td>\n",
       "      <td>5.1</td>\n",
       "      <td>76.8</td>\n",
       "      <td>...</td>\n",
       "      <td>2.8</td>\n",
       "      <td>2</td>\n",
       "      <td></td>\n",
       "      <td>2014-01-03T08:05:56</td>\n",
       "      <td>2014-01-03T16:04:16</td>\n",
       "      <td>0.07</td>\n",
       "      <td>Rain, Partially cloudy</td>\n",
       "      <td>Partly cloudy throughout the day with a chance...</td>\n",
       "      <td>rain</td>\n",
       "      <td>03769099999,03680099999,03672099999,0378109999...</td>\n",
       "    </tr>\n",
       "    <tr>\n",
       "      <th>3</th>\n",
       "      <td>London, England, United Kingdom</td>\n",
       "      <td>2014-01-04</td>\n",
       "      <td>10.1</td>\n",
       "      <td>4.5</td>\n",
       "      <td>8</td>\n",
       "      <td>10.1</td>\n",
       "      <td>2</td>\n",
       "      <td>5.1</td>\n",
       "      <td>5.2</td>\n",
       "      <td>82.4</td>\n",
       "      <td>...</td>\n",
       "      <td>1.4</td>\n",
       "      <td>1</td>\n",
       "      <td></td>\n",
       "      <td>2014-01-04T08:05:42</td>\n",
       "      <td>2014-01-04T16:05:25</td>\n",
       "      <td>0.1</td>\n",
       "      <td>Rain, Partially cloudy</td>\n",
       "      <td>Partly cloudy throughout the day with a chance...</td>\n",
       "      <td>rain</td>\n",
       "      <td>03769099999,03680099999,03672099999,0378109999...</td>\n",
       "    </tr>\n",
       "    <tr>\n",
       "      <th>4</th>\n",
       "      <td>London, England, United Kingdom</td>\n",
       "      <td>2014-01-05</td>\n",
       "      <td>12</td>\n",
       "      <td>1.8</td>\n",
       "      <td>6</td>\n",
       "      <td>12</td>\n",
       "      <td>-0.9</td>\n",
       "      <td>3.6</td>\n",
       "      <td>3.9</td>\n",
       "      <td>85.9</td>\n",
       "      <td>...</td>\n",
       "      <td>2.6</td>\n",
       "      <td>2</td>\n",
       "      <td></td>\n",
       "      <td>2014-01-05T08:05:24</td>\n",
       "      <td>2014-01-05T16:06:38</td>\n",
       "      <td>0.14</td>\n",
       "      <td>Rain, Partially cloudy</td>\n",
       "      <td>Partly cloudy throughout the day with rain.</td>\n",
       "      <td>rain</td>\n",
       "      <td>03769099999,03680099999,03672099999,0378109999...</td>\n",
       "    </tr>\n",
       "  </tbody>\n",
       "</table>\n",
       "<p>5 rows × 33 columns</p>\n",
       "</div>"
      ],
      "text/plain": [
       "                              name    datetime tempmax tempmin temp  \\\n",
       "0  London, England, United Kingdom  2014-01-01    11.6     6.7  9.1   \n",
       "1  London, England, United Kingdom  2014-01-02      11     6.6  9.1   \n",
       "2  London, England, United Kingdom  2014-01-03    10.6     7.3    9   \n",
       "3  London, England, United Kingdom  2014-01-04    10.1     4.5    8   \n",
       "4  London, England, United Kingdom  2014-01-05      12     1.8    6   \n",
       "\n",
       "  feelslikemax feelslikemin feelslike  dew humidity  ... solarenergy uvindex  \\\n",
       "0         11.6          3.6         7  6.7     84.8  ...         0.5       0   \n",
       "1           11          3.6       7.2    6       81  ...         3.3       2   \n",
       "2         10.6          3.2       6.5  5.1     76.8  ...         2.8       2   \n",
       "3         10.1            2       5.1  5.2     82.4  ...         1.4       1   \n",
       "4           12         -0.9       3.6  3.9     85.9  ...         2.6       2   \n",
       "\n",
       "  severerisk              sunrise               sunset moonphase  \\\n",
       "0             2014-01-01T08:06:14  2014-01-01T16:02:04         0   \n",
       "1             2014-01-02T08:06:07  2014-01-02T16:03:08      0.03   \n",
       "2             2014-01-03T08:05:56  2014-01-03T16:04:16      0.07   \n",
       "3             2014-01-04T08:05:42  2014-01-04T16:05:25       0.1   \n",
       "4             2014-01-05T08:05:24  2014-01-05T16:06:38      0.14   \n",
       "\n",
       "               conditions                                        description  \\\n",
       "0  Rain, Partially cloudy  Partly cloudy throughout the day with a chance...   \n",
       "1  Rain, Partially cloudy        Partly cloudy throughout the day with rain.   \n",
       "2  Rain, Partially cloudy  Partly cloudy throughout the day with a chance...   \n",
       "3  Rain, Partially cloudy  Partly cloudy throughout the day with a chance...   \n",
       "4  Rain, Partially cloudy        Partly cloudy throughout the day with rain.   \n",
       "\n",
       "   icon                                           stations  \n",
       "0  rain  03769099999,EGWU,03680099999,03768399999,03672...  \n",
       "1  rain  03769099999,03680099999,03672099999,0378109999...  \n",
       "2  rain  03769099999,03680099999,03672099999,0378109999...  \n",
       "3  rain  03769099999,03680099999,03672099999,0378109999...  \n",
       "4  rain  03769099999,03680099999,03672099999,0378109999...  \n",
       "\n",
       "[5 rows x 33 columns]"
      ]
     },
     "execution_count": 46,
     "metadata": {},
     "output_type": "execute_result"
    }
   ],
   "source": [
    "df_london.head()"
   ]
  },
  {
   "cell_type": "code",
   "execution_count": 47,
   "id": "2c8a296e",
   "metadata": {},
   "outputs": [],
   "source": [
    "# Define the path\n",
    "folder_path = r'C:\\Users\\nicol\\OneDrive\\Master\\Goldsmiths\\Thesis\\weather-prediction\\.data'\n",
    "file_name = 'london_weather_2014-2024.csv'\n",
    "full_path = os.path.join(folder_path, file_name)\n",
    "\n",
    "# Save the DataFrame to the specified path\n",
    "df_london.to_csv(full_path)"
   ]
  },
  {
   "cell_type": "markdown",
   "id": "8092e85e",
   "metadata": {},
   "source": [
    "###  Bujanovac, Serbia 2014-2024 - NORTHERN"
   ]
  },
  {
   "cell_type": "code",
   "execution_count": 4,
   "id": "fc1053b0-2999-4d62-8411-db2f2297acae",
   "metadata": {
    "tags": []
   },
   "outputs": [],
   "source": [
    "response = requests.request(\"GET\", \"https://weather.visualcrossing.com/VisualCrossingWebServices/rest/services/timeline/bujanovac/2014-01-01/2024-05-20?unitGroup=metric&include=days&key=P5BAF43ZWPV23V6ET3C2D8TGD&contentType=csv\")\n",
    "if response.status_code!=200:\n",
    "  print('Unexpected Status code: ', response.status_code)\n",
    "  sys.exit()  "
   ]
  },
  {
   "cell_type": "code",
   "execution_count": 5,
   "id": "2596a9dc-d4b1-42f8-a992-e885b51c07ea",
   "metadata": {
    "tags": []
   },
   "outputs": [],
   "source": [
    "bujanovac_csv = csv.reader(response.text.splitlines(), delimiter=',',quotechar='\"')\n",
    "bujanovac_list = list(bujanovac_csv)\n",
    "\n",
    "# Create a DataFrame\n",
    "df_bujanovac = pd.DataFrame(bujanovac_list[1:], columns=bujanovac_list[0])"
   ]
  },
  {
   "cell_type": "code",
   "execution_count": 6,
   "id": "393b1fe9-40b7-48c6-ae16-d6d41022c4d8",
   "metadata": {
    "tags": []
   },
   "outputs": [],
   "source": [
    "df_bujanovac['name'] = 'Bujanovac, Serbia'"
   ]
  },
  {
   "cell_type": "code",
   "execution_count": 7,
   "id": "cf11789c-cd7d-491e-8486-480db152d0fc",
   "metadata": {
    "tags": []
   },
   "outputs": [],
   "source": [
    "# Define the path\n",
    "folder_path = r'C:\\Users\\nicol\\OneDrive\\Master\\Goldsmiths\\Thesis\\weather-prediction\\.data'\n",
    "file_name = 'bujanovac_weather_2014-2024.csv'\n",
    "full_path = os.path.join(folder_path, file_name)\n",
    "\n",
    "# Save the DataFrame to the specified path\n",
    "df_bujanovac.to_csv(full_path)"
   ]
  },
  {
   "cell_type": "code",
   "execution_count": 1,
   "id": "ed577a62-a1fa-414b-a7d7-a557fe44a65d",
   "metadata": {},
   "outputs": [],
   "source": [
    "#for classification N vs S you don't need the features, just the target (new created column that says if northern or southern), the location and the time\n",
    "#classification done with sktime "
   ]
  },
  {
   "cell_type": "code",
   "execution_count": null,
   "id": "64d1bf1e",
   "metadata": {},
   "outputs": [],
   "source": [
    "#pull in data for all locations \n",
    "#eda \n",
    "\n",
    "#classification\n",
    "#one hot encoding\n",
    "#baseline for all locations for all models \n",
    "#is the weather more predictable in the northern or the southern hemisphere \n",
    "# four locations "
   ]
  },
  {
   "cell_type": "markdown",
   "id": "0264106a",
   "metadata": {},
   "source": [
    "### Manila, Phillipines - NORTHERN"
   ]
  },
  {
   "cell_type": "code",
   "execution_count": 52,
   "id": "7b53548f",
   "metadata": {},
   "outputs": [],
   "source": [
    "response = requests.request(\"GET\", \"https://weather.visualcrossing.com/VisualCrossingWebServices/rest/services/timeline/manila/2014-01-01/2024-05-20?unitGroup=metric&include=days&key=P5BAF43ZWPV23V6ET3C2D8TGD&contentType=csv\")\n",
    "if response.status_code!=200:\n",
    "  print('Unexpected Status code: ', response.status_code)\n",
    "  sys.exit()  "
   ]
  },
  {
   "cell_type": "code",
   "execution_count": 53,
   "id": "0d83d9e1",
   "metadata": {},
   "outputs": [],
   "source": [
    "manila_csv = csv.reader(response.text.splitlines(), delimiter=',',quotechar='\"')\n",
    "manila_list = list(manila_csv)\n",
    "\n",
    "# Create a DataFrame\n",
    "df_manila = pd.DataFrame(manila_list[1:], columns=manila_list[0])"
   ]
  },
  {
   "cell_type": "code",
   "execution_count": 54,
   "id": "14aa1b53",
   "metadata": {},
   "outputs": [],
   "source": [
    "df_manila['name'] = 'Manila, Phillipines'"
   ]
  },
  {
   "cell_type": "code",
   "execution_count": 55,
   "id": "a891b57e",
   "metadata": {},
   "outputs": [],
   "source": [
    "# Define the path\n",
    "folder_path = r'C:\\Users\\nicol\\OneDrive\\Master\\Goldsmiths\\Thesis\\weather-prediction\\.data'\n",
    "file_name = 'manila_weather_2014-2024.csv'\n",
    "full_path = os.path.join(folder_path, file_name)\n",
    "\n",
    "# Save the DataFrame to the specified path\n",
    "df_manila.to_csv(full_path)"
   ]
  },
  {
   "cell_type": "markdown",
   "id": "949a234f",
   "metadata": {},
   "source": [
    "### Brisbane, Australia 2014-2024 - SOUTHERN"
   ]
  },
  {
   "cell_type": "code",
   "execution_count": 68,
   "id": "d4334b22",
   "metadata": {},
   "outputs": [],
   "source": [
    "response = requests.request(\"GET\", \"https://weather.visualcrossing.com/VisualCrossingWebServices/rest/services/timeline/brisbane/2014-01-01/2024-05-20?unitGroup=metric&include=days&key=P5BAF43ZWPV23V6ET3C2D8TGD&contentType=csv\")\n",
    "if response.status_code!=200:\n",
    "  print('Unexpected Status code: ', response.status_code)\n",
    "  sys.exit()  "
   ]
  },
  {
   "cell_type": "code",
   "execution_count": 69,
   "id": "aff00d2a",
   "metadata": {},
   "outputs": [],
   "source": [
    "brisbane_csv = csv.reader(response.text.splitlines(), delimiter=',',quotechar='\"')\n",
    "brisbane_list = list(brisbane_csv)\n",
    "\n",
    "# Create a DataFrame\n",
    "df_brisbane = pd.DataFrame(brisbane_list[1:], columns=brisbane_list[0])"
   ]
  },
  {
   "cell_type": "code",
   "execution_count": 70,
   "id": "bb9fb013",
   "metadata": {},
   "outputs": [],
   "source": [
    "df_brisbane['name'] = 'Brisbane, Australia'"
   ]
  },
  {
   "cell_type": "code",
   "execution_count": 71,
   "id": "8fc05d25",
   "metadata": {},
   "outputs": [],
   "source": [
    "# Define the path\n",
    "folder_path = r'C:\\Users\\nicol\\OneDrive\\Master\\Goldsmiths\\Thesis\\weather-prediction\\.data'\n",
    "file_name = 'brisbane_weather_2014-2024.csv'\n",
    "full_path = os.path.join(folder_path, file_name)\n",
    "\n",
    "# Save the DataFrame to the specified path\n",
    "df_brisbane.to_csv(full_path)"
   ]
  },
  {
   "cell_type": "markdown",
   "id": "56d54122",
   "metadata": {},
   "source": [
    "### Buenos Aires, Argentina 2014 - 2024 - SHOUTERN"
   ]
  },
  {
   "cell_type": "code",
   "execution_count": 72,
   "id": "84f95430",
   "metadata": {},
   "outputs": [],
   "source": [
    "response = requests.request(\"GET\", \"https://weather.visualcrossing.com/VisualCrossingWebServices/rest/services/timeline/buenos-aires/2014-01-01/2024-05-20?unitGroup=metric&include=days&key=P5BAF43ZWPV23V6ET3C2D8TGD&contentType=csv\")\n",
    "if response.status_code!=200:\n",
    "  print('Unexpected Status code: ', response.status_code)\n",
    "  sys.exit()  "
   ]
  },
  {
   "cell_type": "code",
   "execution_count": 73,
   "id": "c10dd42b",
   "metadata": {},
   "outputs": [],
   "source": [
    "buenosaires_csv = csv.reader(response.text.splitlines(), delimiter=',',quotechar='\"')\n",
    "buenosaires_list = list(buenosaires_csv)\n",
    "\n",
    "# Create a DataFrame\n",
    "df_buenosaires = pd.DataFrame(buenosaires_list[1:], columns=buenosaires_list[0])"
   ]
  },
  {
   "cell_type": "code",
   "execution_count": 74,
   "id": "14573dc7",
   "metadata": {},
   "outputs": [],
   "source": [
    "df_buenosaires['name'] = 'Buenos Aires, Argentina'"
   ]
  },
  {
   "cell_type": "code",
   "execution_count": 76,
   "id": "d35f8506",
   "metadata": {},
   "outputs": [],
   "source": [
    "# Define the path\n",
    "folder_path = r'C:\\Users\\nicol\\OneDrive\\Master\\Goldsmiths\\Thesis\\weather-prediction\\.data'\n",
    "file_name = 'buenosaires_weather_2014-2024.csv'\n",
    "full_path = os.path.join(folder_path, file_name)\n",
    "\n",
    "# Save the DataFrame to the specified path\n",
    "df_buenosaires.to_csv(full_path)"
   ]
  },
  {
   "cell_type": "markdown",
   "id": "4788dc47-de75-4a6f-8f0b-e93e87b0b000",
   "metadata": {},
   "source": [
    "### Lagos, Nigeria dataframe 2014-2024 - NORTHERN"
   ]
  },
  {
   "cell_type": "code",
   "execution_count": 2,
   "id": "fc3e678e-6870-494d-81fa-82881d34b5fd",
   "metadata": {
    "tags": []
   },
   "outputs": [],
   "source": [
    "response = requests.request(\"GET\", \"https://weather.visualcrossing.com/VisualCrossingWebServices/rest/services/timeline/lagos/2014-01-01/2024-05-20?unitGroup=metric&include=days&key=P5BAF43ZWPV23V6ET3C2D8TGD&contentType=csv\")\n",
    "if response.status_code!=200:\n",
    "  print('Unexpected Status code: ', response.status_code)\n",
    "  sys.exit()  "
   ]
  },
  {
   "cell_type": "code",
   "execution_count": 3,
   "id": "685f90a7-657a-4cca-8021-45a0c6d4a293",
   "metadata": {
    "tags": []
   },
   "outputs": [],
   "source": [
    "# Parse the results as CSV\n",
    "lagos_csv = csv.reader(response.text.splitlines(), delimiter=',',quotechar='\"')"
   ]
  },
  {
   "cell_type": "code",
   "execution_count": 5,
   "id": "df070826-5cab-4a9f-936c-6b7d23430421",
   "metadata": {
    "tags": []
   },
   "outputs": [],
   "source": [
    "lagos_list = list(lagos_csv)\n",
    "# Create a DataFrame\n",
    "df_lagos = pd.DataFrame(lagos_list[1:], columns=lagos_list[0])"
   ]
  },
  {
   "cell_type": "code",
   "execution_count": 6,
   "id": "81e1ab40-19d2-4e6e-886d-39c43ccd20a4",
   "metadata": {
    "tags": []
   },
   "outputs": [
    {
     "data": {
      "text/html": [
       "<div>\n",
       "<style scoped>\n",
       "    .dataframe tbody tr th:only-of-type {\n",
       "        vertical-align: middle;\n",
       "    }\n",
       "\n",
       "    .dataframe tbody tr th {\n",
       "        vertical-align: top;\n",
       "    }\n",
       "\n",
       "    .dataframe thead th {\n",
       "        text-align: right;\n",
       "    }\n",
       "</style>\n",
       "<table border=\"1\" class=\"dataframe\">\n",
       "  <thead>\n",
       "    <tr style=\"text-align: right;\">\n",
       "      <th></th>\n",
       "      <th>name</th>\n",
       "      <th>datetime</th>\n",
       "      <th>tempmax</th>\n",
       "      <th>tempmin</th>\n",
       "      <th>temp</th>\n",
       "      <th>feelslikemax</th>\n",
       "      <th>feelslikemin</th>\n",
       "      <th>feelslike</th>\n",
       "      <th>dew</th>\n",
       "      <th>humidity</th>\n",
       "      <th>...</th>\n",
       "      <th>solarenergy</th>\n",
       "      <th>uvindex</th>\n",
       "      <th>severerisk</th>\n",
       "      <th>sunrise</th>\n",
       "      <th>sunset</th>\n",
       "      <th>moonphase</th>\n",
       "      <th>conditions</th>\n",
       "      <th>description</th>\n",
       "      <th>icon</th>\n",
       "      <th>stations</th>\n",
       "    </tr>\n",
       "  </thead>\n",
       "  <tbody>\n",
       "    <tr>\n",
       "      <th>0</th>\n",
       "      <td>Lagos, Nigeria</td>\n",
       "      <td>2014-01-01</td>\n",
       "      <td>32</td>\n",
       "      <td>23</td>\n",
       "      <td>27.9</td>\n",
       "      <td>37.9</td>\n",
       "      <td>23</td>\n",
       "      <td>31.1</td>\n",
       "      <td>23.2</td>\n",
       "      <td>76</td>\n",
       "      <td>...</td>\n",
       "      <td>17.2</td>\n",
       "      <td>7</td>\n",
       "      <td></td>\n",
       "      <td>2014-01-01T06:57:21</td>\n",
       "      <td>2014-01-01T18:42:39</td>\n",
       "      <td>0</td>\n",
       "      <td>Rain, Partially cloudy</td>\n",
       "      <td>Partly cloudy throughout the day with early mo...</td>\n",
       "      <td>rain</td>\n",
       "      <td>65210099999,DNMM,remote,65201099999</td>\n",
       "    </tr>\n",
       "    <tr>\n",
       "      <th>1</th>\n",
       "      <td>Lagos, Nigeria</td>\n",
       "      <td>2014-01-02</td>\n",
       "      <td>30.5</td>\n",
       "      <td>23.8</td>\n",
       "      <td>26.1</td>\n",
       "      <td>36.2</td>\n",
       "      <td>23.8</td>\n",
       "      <td>27.4</td>\n",
       "      <td>22.1</td>\n",
       "      <td>79.3</td>\n",
       "      <td>...</td>\n",
       "      <td>19.1</td>\n",
       "      <td>8</td>\n",
       "      <td></td>\n",
       "      <td>2014-01-02T06:57:47</td>\n",
       "      <td>2014-01-02T18:43:09</td>\n",
       "      <td>0.03</td>\n",
       "      <td>Rain, Partially cloudy</td>\n",
       "      <td>Partly cloudy throughout the day with late aft...</td>\n",
       "      <td>rain</td>\n",
       "      <td>65210099999,65213099999,DNMM,65201099999</td>\n",
       "    </tr>\n",
       "    <tr>\n",
       "      <th>2</th>\n",
       "      <td>Lagos, Nigeria</td>\n",
       "      <td>2014-01-03</td>\n",
       "      <td>32.8</td>\n",
       "      <td>24</td>\n",
       "      <td>27.2</td>\n",
       "      <td>41.9</td>\n",
       "      <td>24</td>\n",
       "      <td>30</td>\n",
       "      <td>24.6</td>\n",
       "      <td>86.9</td>\n",
       "      <td>...</td>\n",
       "      <td>16.6</td>\n",
       "      <td>7</td>\n",
       "      <td></td>\n",
       "      <td>2014-01-03T06:58:11</td>\n",
       "      <td>2014-01-03T18:43:40</td>\n",
       "      <td>0.07</td>\n",
       "      <td>Partially cloudy</td>\n",
       "      <td>Partly cloudy throughout the day.</td>\n",
       "      <td>partly-cloudy-day</td>\n",
       "      <td>65210099999,DNMM,65201099999</td>\n",
       "    </tr>\n",
       "    <tr>\n",
       "      <th>3</th>\n",
       "      <td>Lagos, Nigeria</td>\n",
       "      <td>2014-01-04</td>\n",
       "      <td>32.5</td>\n",
       "      <td>23</td>\n",
       "      <td>26.7</td>\n",
       "      <td>38.3</td>\n",
       "      <td>23</td>\n",
       "      <td>28.6</td>\n",
       "      <td>23.1</td>\n",
       "      <td>81.9</td>\n",
       "      <td>...</td>\n",
       "      <td>17.4</td>\n",
       "      <td>7</td>\n",
       "      <td></td>\n",
       "      <td>2014-01-04T06:58:36</td>\n",
       "      <td>2014-01-04T18:44:11</td>\n",
       "      <td>0.1</td>\n",
       "      <td>Rain, Partially cloudy</td>\n",
       "      <td>Partly cloudy throughout the day with morning ...</td>\n",
       "      <td>rain</td>\n",
       "      <td>65210099999,DNMM,remote,65201099999</td>\n",
       "    </tr>\n",
       "    <tr>\n",
       "      <th>4</th>\n",
       "      <td>Lagos, Nigeria</td>\n",
       "      <td>2014-01-05</td>\n",
       "      <td>31</td>\n",
       "      <td>22</td>\n",
       "      <td>26.1</td>\n",
       "      <td>37.7</td>\n",
       "      <td>22</td>\n",
       "      <td>27.9</td>\n",
       "      <td>22.1</td>\n",
       "      <td>79.1</td>\n",
       "      <td>...</td>\n",
       "      <td>18.7</td>\n",
       "      <td>8</td>\n",
       "      <td></td>\n",
       "      <td>2014-01-05T06:58:59</td>\n",
       "      <td>2014-01-05T18:44:41</td>\n",
       "      <td>0.14</td>\n",
       "      <td>Partially cloudy</td>\n",
       "      <td>Partly cloudy throughout the day.</td>\n",
       "      <td>partly-cloudy-day</td>\n",
       "      <td>65210099999,DNMM,65201099999</td>\n",
       "    </tr>\n",
       "  </tbody>\n",
       "</table>\n",
       "<p>5 rows × 33 columns</p>\n",
       "</div>"
      ],
      "text/plain": [
       "             name    datetime tempmax tempmin  temp feelslikemax feelslikemin  \\\n",
       "0  Lagos, Nigeria  2014-01-01      32      23  27.9         37.9           23   \n",
       "1  Lagos, Nigeria  2014-01-02    30.5    23.8  26.1         36.2         23.8   \n",
       "2  Lagos, Nigeria  2014-01-03    32.8      24  27.2         41.9           24   \n",
       "3  Lagos, Nigeria  2014-01-04    32.5      23  26.7         38.3           23   \n",
       "4  Lagos, Nigeria  2014-01-05      31      22  26.1         37.7           22   \n",
       "\n",
       "  feelslike   dew humidity  ... solarenergy uvindex severerisk  \\\n",
       "0      31.1  23.2       76  ...        17.2       7              \n",
       "1      27.4  22.1     79.3  ...        19.1       8              \n",
       "2        30  24.6     86.9  ...        16.6       7              \n",
       "3      28.6  23.1     81.9  ...        17.4       7              \n",
       "4      27.9  22.1     79.1  ...        18.7       8              \n",
       "\n",
       "               sunrise               sunset moonphase              conditions  \\\n",
       "0  2014-01-01T06:57:21  2014-01-01T18:42:39         0  Rain, Partially cloudy   \n",
       "1  2014-01-02T06:57:47  2014-01-02T18:43:09      0.03  Rain, Partially cloudy   \n",
       "2  2014-01-03T06:58:11  2014-01-03T18:43:40      0.07        Partially cloudy   \n",
       "3  2014-01-04T06:58:36  2014-01-04T18:44:11       0.1  Rain, Partially cloudy   \n",
       "4  2014-01-05T06:58:59  2014-01-05T18:44:41      0.14        Partially cloudy   \n",
       "\n",
       "                                         description               icon  \\\n",
       "0  Partly cloudy throughout the day with early mo...               rain   \n",
       "1  Partly cloudy throughout the day with late aft...               rain   \n",
       "2                  Partly cloudy throughout the day.  partly-cloudy-day   \n",
       "3  Partly cloudy throughout the day with morning ...               rain   \n",
       "4                  Partly cloudy throughout the day.  partly-cloudy-day   \n",
       "\n",
       "                                   stations  \n",
       "0       65210099999,DNMM,remote,65201099999  \n",
       "1  65210099999,65213099999,DNMM,65201099999  \n",
       "2              65210099999,DNMM,65201099999  \n",
       "3       65210099999,DNMM,remote,65201099999  \n",
       "4              65210099999,DNMM,65201099999  \n",
       "\n",
       "[5 rows x 33 columns]"
      ]
     },
     "execution_count": 6,
     "metadata": {},
     "output_type": "execute_result"
    }
   ],
   "source": [
    "df_lagos.head()"
   ]
  },
  {
   "cell_type": "code",
   "execution_count": 7,
   "id": "95d5e078-ff0d-4cc2-bd4a-4306fd2118b5",
   "metadata": {
    "tags": []
   },
   "outputs": [],
   "source": [
    "# Define the path\n",
    "folder_path = r'C:\\Users\\nicol\\OneDrive\\Master\\Goldsmiths\\Thesis\\weather-prediction\\data'\n",
    "file_name = 'lagos_weather_2014-2024.csv'\n",
    "full_path = os.path.join(folder_path, file_name)\n",
    "\n",
    "# Save the DataFrame to the specified path\n",
    "df_lagos.to_csv(full_path)"
   ]
  },
  {
   "cell_type": "markdown",
   "id": "dfb5aeec-a325-40a6-948e-767541fa7c80",
   "metadata": {},
   "source": [
    "## Lima, Peru dataframe - SOUTHERN"
   ]
  },
  {
   "cell_type": "code",
   "execution_count": 8,
   "id": "971ee83b-d39a-4a92-9e81-b6c1e3111b1e",
   "metadata": {
    "tags": []
   },
   "outputs": [],
   "source": [
    "response = requests.request(\"GET\", \"https://weather.visualcrossing.com/VisualCrossingWebServices/rest/services/timeline/lima/2014-01-01/2024-05-20?unitGroup=metric&include=days&key=P5BAF43ZWPV23V6ET3C2D8TGD&contentType=csv\")\n",
    "if response.status_code!=200:\n",
    "  print('Unexpected Status code: ', response.status_code)\n",
    "  sys.exit()  "
   ]
  },
  {
   "cell_type": "code",
   "execution_count": 9,
   "id": "3a46396b-0722-4afa-b7a2-a9c443e85006",
   "metadata": {
    "tags": []
   },
   "outputs": [],
   "source": [
    "# Parse the results as CSV\n",
    "lima_csv = csv.reader(response.text.splitlines(), delimiter=',',quotechar='\"')"
   ]
  },
  {
   "cell_type": "code",
   "execution_count": 10,
   "id": "5e66450c-e3eb-461c-a81f-f65489545ebf",
   "metadata": {
    "tags": []
   },
   "outputs": [],
   "source": [
    "lima_list = list(lima_csv)\n",
    "# Create a DataFrame\n",
    "df_lima = pd.DataFrame(lima_list[1:], columns=lima_list[0])"
   ]
  },
  {
   "cell_type": "code",
   "execution_count": 13,
   "id": "ae4544b1-c3f0-4a90-996b-9758b83cf3c0",
   "metadata": {
    "tags": []
   },
   "outputs": [
    {
     "data": {
      "text/html": [
       "<div>\n",
       "<style scoped>\n",
       "    .dataframe tbody tr th:only-of-type {\n",
       "        vertical-align: middle;\n",
       "    }\n",
       "\n",
       "    .dataframe tbody tr th {\n",
       "        vertical-align: top;\n",
       "    }\n",
       "\n",
       "    .dataframe thead th {\n",
       "        text-align: right;\n",
       "    }\n",
       "</style>\n",
       "<table border=\"1\" class=\"dataframe\">\n",
       "  <thead>\n",
       "    <tr style=\"text-align: right;\">\n",
       "      <th></th>\n",
       "      <th>name</th>\n",
       "      <th>datetime</th>\n",
       "      <th>tempmax</th>\n",
       "      <th>tempmin</th>\n",
       "      <th>temp</th>\n",
       "      <th>feelslikemax</th>\n",
       "      <th>feelslikemin</th>\n",
       "      <th>feelslike</th>\n",
       "      <th>dew</th>\n",
       "      <th>humidity</th>\n",
       "      <th>...</th>\n",
       "      <th>solarenergy</th>\n",
       "      <th>uvindex</th>\n",
       "      <th>severerisk</th>\n",
       "      <th>sunrise</th>\n",
       "      <th>sunset</th>\n",
       "      <th>moonphase</th>\n",
       "      <th>conditions</th>\n",
       "      <th>description</th>\n",
       "      <th>icon</th>\n",
       "      <th>stations</th>\n",
       "    </tr>\n",
       "  </thead>\n",
       "  <tbody>\n",
       "    <tr>\n",
       "      <th>0</th>\n",
       "      <td>Lima, PerÃº</td>\n",
       "      <td>2014-01-01</td>\n",
       "      <td>25</td>\n",
       "      <td>19</td>\n",
       "      <td>21.4</td>\n",
       "      <td>25</td>\n",
       "      <td>19</td>\n",
       "      <td>21.4</td>\n",
       "      <td>18.3</td>\n",
       "      <td>82.7</td>\n",
       "      <td>...</td>\n",
       "      <td>17.8</td>\n",
       "      <td>6</td>\n",
       "      <td></td>\n",
       "      <td>2014-01-01T05:47:15</td>\n",
       "      <td>2014-01-01T18:36:13</td>\n",
       "      <td>0</td>\n",
       "      <td>Partially cloudy</td>\n",
       "      <td>Partly cloudy throughout the day.</td>\n",
       "      <td>partly-cloudy-day</td>\n",
       "      <td>SPIM</td>\n",
       "    </tr>\n",
       "    <tr>\n",
       "      <th>1</th>\n",
       "      <td>Lima, PerÃº</td>\n",
       "      <td>2014-01-02</td>\n",
       "      <td>25</td>\n",
       "      <td>19</td>\n",
       "      <td>21.6</td>\n",
       "      <td>25</td>\n",
       "      <td>19</td>\n",
       "      <td>21.6</td>\n",
       "      <td>18.6</td>\n",
       "      <td>83.6</td>\n",
       "      <td>...</td>\n",
       "      <td>23.3</td>\n",
       "      <td>9</td>\n",
       "      <td></td>\n",
       "      <td>2014-01-02T05:47:48</td>\n",
       "      <td>2014-01-02T18:36:35</td>\n",
       "      <td>0.04</td>\n",
       "      <td>Partially cloudy</td>\n",
       "      <td>Partly cloudy throughout the day.</td>\n",
       "      <td>partly-cloudy-day</td>\n",
       "      <td>SPIM</td>\n",
       "    </tr>\n",
       "    <tr>\n",
       "      <th>2</th>\n",
       "      <td>Lima, PerÃº</td>\n",
       "      <td>2014-01-03</td>\n",
       "      <td>25</td>\n",
       "      <td>20</td>\n",
       "      <td>21.5</td>\n",
       "      <td>25</td>\n",
       "      <td>20</td>\n",
       "      <td>21.5</td>\n",
       "      <td>18.5</td>\n",
       "      <td>83.4</td>\n",
       "      <td>...</td>\n",
       "      <td>25.7</td>\n",
       "      <td>10</td>\n",
       "      <td></td>\n",
       "      <td>2014-01-03T05:48:22</td>\n",
       "      <td>2014-01-03T18:36:57</td>\n",
       "      <td>0.08</td>\n",
       "      <td>Partially cloudy</td>\n",
       "      <td>Partly cloudy throughout the day.</td>\n",
       "      <td>partly-cloudy-day</td>\n",
       "      <td>SPIM,remote</td>\n",
       "    </tr>\n",
       "    <tr>\n",
       "      <th>3</th>\n",
       "      <td>Lima, PerÃº</td>\n",
       "      <td>2014-01-04</td>\n",
       "      <td>24</td>\n",
       "      <td>20</td>\n",
       "      <td>21.4</td>\n",
       "      <td>24</td>\n",
       "      <td>20</td>\n",
       "      <td>21.4</td>\n",
       "      <td>18.8</td>\n",
       "      <td>85.5</td>\n",
       "      <td>...</td>\n",
       "      <td>23.5</td>\n",
       "      <td>10</td>\n",
       "      <td></td>\n",
       "      <td>2014-01-04T05:48:55</td>\n",
       "      <td>2014-01-04T18:37:17</td>\n",
       "      <td>0.11</td>\n",
       "      <td>Partially cloudy</td>\n",
       "      <td>Partly cloudy throughout the day.</td>\n",
       "      <td>partly-cloudy-day</td>\n",
       "      <td>SPIM</td>\n",
       "    </tr>\n",
       "    <tr>\n",
       "      <th>4</th>\n",
       "      <td>Lima, PerÃº</td>\n",
       "      <td>2014-01-05</td>\n",
       "      <td>25</td>\n",
       "      <td>20</td>\n",
       "      <td>22.1</td>\n",
       "      <td>25</td>\n",
       "      <td>20</td>\n",
       "      <td>22.1</td>\n",
       "      <td>19.2</td>\n",
       "      <td>83.8</td>\n",
       "      <td>...</td>\n",
       "      <td>23.7</td>\n",
       "      <td>9</td>\n",
       "      <td></td>\n",
       "      <td>2014-01-05T05:49:29</td>\n",
       "      <td>2014-01-05T18:37:37</td>\n",
       "      <td>0.14</td>\n",
       "      <td>Partially cloudy</td>\n",
       "      <td>Partly cloudy throughout the day.</td>\n",
       "      <td>partly-cloudy-day</td>\n",
       "      <td>SPIM,remote</td>\n",
       "    </tr>\n",
       "  </tbody>\n",
       "</table>\n",
       "<p>5 rows × 33 columns</p>\n",
       "</div>"
      ],
      "text/plain": [
       "          name    datetime tempmax tempmin  temp feelslikemax feelslikemin  \\\n",
       "0  Lima, PerÃº  2014-01-01      25      19  21.4           25           19   \n",
       "1  Lima, PerÃº  2014-01-02      25      19  21.6           25           19   \n",
       "2  Lima, PerÃº  2014-01-03      25      20  21.5           25           20   \n",
       "3  Lima, PerÃº  2014-01-04      24      20  21.4           24           20   \n",
       "4  Lima, PerÃº  2014-01-05      25      20  22.1           25           20   \n",
       "\n",
       "  feelslike   dew humidity  ... solarenergy uvindex severerisk  \\\n",
       "0      21.4  18.3     82.7  ...        17.8       6              \n",
       "1      21.6  18.6     83.6  ...        23.3       9              \n",
       "2      21.5  18.5     83.4  ...        25.7      10              \n",
       "3      21.4  18.8     85.5  ...        23.5      10              \n",
       "4      22.1  19.2     83.8  ...        23.7       9              \n",
       "\n",
       "               sunrise               sunset moonphase        conditions  \\\n",
       "0  2014-01-01T05:47:15  2014-01-01T18:36:13         0  Partially cloudy   \n",
       "1  2014-01-02T05:47:48  2014-01-02T18:36:35      0.04  Partially cloudy   \n",
       "2  2014-01-03T05:48:22  2014-01-03T18:36:57      0.08  Partially cloudy   \n",
       "3  2014-01-04T05:48:55  2014-01-04T18:37:17      0.11  Partially cloudy   \n",
       "4  2014-01-05T05:49:29  2014-01-05T18:37:37      0.14  Partially cloudy   \n",
       "\n",
       "                         description               icon     stations  \n",
       "0  Partly cloudy throughout the day.  partly-cloudy-day         SPIM  \n",
       "1  Partly cloudy throughout the day.  partly-cloudy-day         SPIM  \n",
       "2  Partly cloudy throughout the day.  partly-cloudy-day  SPIM,remote  \n",
       "3  Partly cloudy throughout the day.  partly-cloudy-day         SPIM  \n",
       "4  Partly cloudy throughout the day.  partly-cloudy-day  SPIM,remote  \n",
       "\n",
       "[5 rows x 33 columns]"
      ]
     },
     "execution_count": 13,
     "metadata": {},
     "output_type": "execute_result"
    }
   ],
   "source": [
    "df_lima.head()"
   ]
  },
  {
   "cell_type": "code",
   "execution_count": 14,
   "id": "40a304d1",
   "metadata": {
    "tags": []
   },
   "outputs": [],
   "source": [
    "# Define the path\n",
    "folder_path = r'C:\\Users\\nicol\\OneDrive\\Master\\Goldsmiths\\Thesis\\weather-prediction\\data'\n",
    "file_name = 'lima_weather_2014-2024.csv'\n",
    "full_path = os.path.join(folder_path, file_name)\n",
    "\n",
    "# Save the DataFrame to the specified path\n",
    "df_lima.to_csv(full_path)"
   ]
  }
 ],
 "metadata": {
  "kernelspec": {
   "display_name": "Python 3 (ipykernel)",
   "language": "python",
   "name": "python3"
  },
  "language_info": {
   "codemirror_mode": {
    "name": "ipython",
    "version": 3
   },
   "file_extension": ".py",
   "mimetype": "text/x-python",
   "name": "python",
   "nbconvert_exporter": "python",
   "pygments_lexer": "ipython3",
   "version": "3.10.13"
  }
 },
 "nbformat": 4,
 "nbformat_minor": 5
}
