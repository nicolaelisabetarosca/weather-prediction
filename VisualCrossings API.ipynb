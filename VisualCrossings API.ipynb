{
 "cells": [
  {
   "cell_type": "code",
   "execution_count": 32,
   "id": "52db646d-4b10-43e3-a3f3-bae8325e84ef",
   "metadata": {},
   "outputs": [],
   "source": [
    "import requests\n",
    "import sys\n",
    "import os\n",
    "import csv\n",
    "import codecs\n",
    "import pandas as pd"
   ]
  },
  {
   "cell_type": "markdown",
   "id": "92d2719a",
   "metadata": {},
   "source": [
    "### London, United Kingdom dataframe 2014-2024 - NORTHERN"
   ]
  },
  {
   "cell_type": "code",
   "execution_count": 43,
   "id": "828b1d2b-ce52-482a-8a0b-85b245222b9b",
   "metadata": {},
   "outputs": [],
   "source": [
    "response = requests.request(\"GET\", \"https://weather.visualcrossing.com/VisualCrossingWebServices/rest/services/timeline/london/2014-01-01/2024-05-20?unitGroup=metric&include=days&key=P5BAF43ZWPV23V6ET3C2D8TGD&contentType=csv\")\n",
    "if response.status_code!=200:\n",
    "  print('Unexpected Status code: ', response.status_code)\n",
    "  sys.exit()  "
   ]
  },
  {
   "cell_type": "code",
   "execution_count": 44,
   "id": "f1108619-939a-4ce2-a554-7bbc45ab337a",
   "metadata": {},
   "outputs": [],
   "source": [
    "# Parse the results as CSV\n",
    "london_csv = csv.reader(response.text.splitlines(), delimiter=',',quotechar='\"')"
   ]
  },
  {
   "cell_type": "code",
   "execution_count": 45,
   "id": "6f0690f4-aaa6-49ad-a542-7f53e21c62f8",
   "metadata": {},
   "outputs": [],
   "source": [
    "london_list = list(london_csv)\n",
    "# Create a DataFrame\n",
    "df_london = pd.DataFrame(london_list[1:], columns=london_list[0])"
   ]
  },
  {
   "cell_type": "code",
   "execution_count": 46,
   "id": "1907f4c5-3ab2-4d42-933c-9133e755368c",
   "metadata": {
    "scrolled": true
   },
   "outputs": [
    {
     "data": {
      "text/html": [
       "<div>\n",
       "<style scoped>\n",
       "    .dataframe tbody tr th:only-of-type {\n",
       "        vertical-align: middle;\n",
       "    }\n",
       "\n",
       "    .dataframe tbody tr th {\n",
       "        vertical-align: top;\n",
       "    }\n",
       "\n",
       "    .dataframe thead th {\n",
       "        text-align: right;\n",
       "    }\n",
       "</style>\n",
       "<table border=\"1\" class=\"dataframe\">\n",
       "  <thead>\n",
       "    <tr style=\"text-align: right;\">\n",
       "      <th></th>\n",
       "      <th>name</th>\n",
       "      <th>datetime</th>\n",
       "      <th>tempmax</th>\n",
       "      <th>tempmin</th>\n",
       "      <th>temp</th>\n",
       "      <th>feelslikemax</th>\n",
       "      <th>feelslikemin</th>\n",
       "      <th>feelslike</th>\n",
       "      <th>dew</th>\n",
       "      <th>humidity</th>\n",
       "      <th>...</th>\n",
       "      <th>solarenergy</th>\n",
       "      <th>uvindex</th>\n",
       "      <th>severerisk</th>\n",
       "      <th>sunrise</th>\n",
       "      <th>sunset</th>\n",
       "      <th>moonphase</th>\n",
       "      <th>conditions</th>\n",
       "      <th>description</th>\n",
       "      <th>icon</th>\n",
       "      <th>stations</th>\n",
       "    </tr>\n",
       "  </thead>\n",
       "  <tbody>\n",
       "    <tr>\n",
       "      <th>0</th>\n",
       "      <td>London, England, United Kingdom</td>\n",
       "      <td>2014-01-01</td>\n",
       "      <td>11.6</td>\n",
       "      <td>6.7</td>\n",
       "      <td>9.1</td>\n",
       "      <td>11.6</td>\n",
       "      <td>3.6</td>\n",
       "      <td>7</td>\n",
       "      <td>6.7</td>\n",
       "      <td>84.8</td>\n",
       "      <td>...</td>\n",
       "      <td>0.5</td>\n",
       "      <td>0</td>\n",
       "      <td></td>\n",
       "      <td>2014-01-01T08:06:14</td>\n",
       "      <td>2014-01-01T16:02:04</td>\n",
       "      <td>0</td>\n",
       "      <td>Rain, Partially cloudy</td>\n",
       "      <td>Partly cloudy throughout the day with a chance...</td>\n",
       "      <td>rain</td>\n",
       "      <td>03769099999,EGWU,03680099999,03768399999,03672...</td>\n",
       "    </tr>\n",
       "    <tr>\n",
       "      <th>1</th>\n",
       "      <td>London, England, United Kingdom</td>\n",
       "      <td>2014-01-02</td>\n",
       "      <td>11</td>\n",
       "      <td>6.6</td>\n",
       "      <td>9.1</td>\n",
       "      <td>11</td>\n",
       "      <td>3.6</td>\n",
       "      <td>7.2</td>\n",
       "      <td>6</td>\n",
       "      <td>81</td>\n",
       "      <td>...</td>\n",
       "      <td>3.3</td>\n",
       "      <td>2</td>\n",
       "      <td></td>\n",
       "      <td>2014-01-02T08:06:07</td>\n",
       "      <td>2014-01-02T16:03:08</td>\n",
       "      <td>0.03</td>\n",
       "      <td>Rain, Partially cloudy</td>\n",
       "      <td>Partly cloudy throughout the day with rain.</td>\n",
       "      <td>rain</td>\n",
       "      <td>03769099999,03680099999,03672099999,0378109999...</td>\n",
       "    </tr>\n",
       "    <tr>\n",
       "      <th>2</th>\n",
       "      <td>London, England, United Kingdom</td>\n",
       "      <td>2014-01-03</td>\n",
       "      <td>10.6</td>\n",
       "      <td>7.3</td>\n",
       "      <td>9</td>\n",
       "      <td>10.6</td>\n",
       "      <td>3.2</td>\n",
       "      <td>6.5</td>\n",
       "      <td>5.1</td>\n",
       "      <td>76.8</td>\n",
       "      <td>...</td>\n",
       "      <td>2.8</td>\n",
       "      <td>2</td>\n",
       "      <td></td>\n",
       "      <td>2014-01-03T08:05:56</td>\n",
       "      <td>2014-01-03T16:04:16</td>\n",
       "      <td>0.07</td>\n",
       "      <td>Rain, Partially cloudy</td>\n",
       "      <td>Partly cloudy throughout the day with a chance...</td>\n",
       "      <td>rain</td>\n",
       "      <td>03769099999,03680099999,03672099999,0378109999...</td>\n",
       "    </tr>\n",
       "    <tr>\n",
       "      <th>3</th>\n",
       "      <td>London, England, United Kingdom</td>\n",
       "      <td>2014-01-04</td>\n",
       "      <td>10.1</td>\n",
       "      <td>4.5</td>\n",
       "      <td>8</td>\n",
       "      <td>10.1</td>\n",
       "      <td>2</td>\n",
       "      <td>5.1</td>\n",
       "      <td>5.2</td>\n",
       "      <td>82.4</td>\n",
       "      <td>...</td>\n",
       "      <td>1.4</td>\n",
       "      <td>1</td>\n",
       "      <td></td>\n",
       "      <td>2014-01-04T08:05:42</td>\n",
       "      <td>2014-01-04T16:05:25</td>\n",
       "      <td>0.1</td>\n",
       "      <td>Rain, Partially cloudy</td>\n",
       "      <td>Partly cloudy throughout the day with a chance...</td>\n",
       "      <td>rain</td>\n",
       "      <td>03769099999,03680099999,03672099999,0378109999...</td>\n",
       "    </tr>\n",
       "    <tr>\n",
       "      <th>4</th>\n",
       "      <td>London, England, United Kingdom</td>\n",
       "      <td>2014-01-05</td>\n",
       "      <td>12</td>\n",
       "      <td>1.8</td>\n",
       "      <td>6</td>\n",
       "      <td>12</td>\n",
       "      <td>-0.9</td>\n",
       "      <td>3.6</td>\n",
       "      <td>3.9</td>\n",
       "      <td>85.9</td>\n",
       "      <td>...</td>\n",
       "      <td>2.6</td>\n",
       "      <td>2</td>\n",
       "      <td></td>\n",
       "      <td>2014-01-05T08:05:24</td>\n",
       "      <td>2014-01-05T16:06:38</td>\n",
       "      <td>0.14</td>\n",
       "      <td>Rain, Partially cloudy</td>\n",
       "      <td>Partly cloudy throughout the day with rain.</td>\n",
       "      <td>rain</td>\n",
       "      <td>03769099999,03680099999,03672099999,0378109999...</td>\n",
       "    </tr>\n",
       "  </tbody>\n",
       "</table>\n",
       "<p>5 rows × 33 columns</p>\n",
       "</div>"
      ],
      "text/plain": [
       "                              name    datetime tempmax tempmin temp  \\\n",
       "0  London, England, United Kingdom  2014-01-01    11.6     6.7  9.1   \n",
       "1  London, England, United Kingdom  2014-01-02      11     6.6  9.1   \n",
       "2  London, England, United Kingdom  2014-01-03    10.6     7.3    9   \n",
       "3  London, England, United Kingdom  2014-01-04    10.1     4.5    8   \n",
       "4  London, England, United Kingdom  2014-01-05      12     1.8    6   \n",
       "\n",
       "  feelslikemax feelslikemin feelslike  dew humidity  ... solarenergy uvindex  \\\n",
       "0         11.6          3.6         7  6.7     84.8  ...         0.5       0   \n",
       "1           11          3.6       7.2    6       81  ...         3.3       2   \n",
       "2         10.6          3.2       6.5  5.1     76.8  ...         2.8       2   \n",
       "3         10.1            2       5.1  5.2     82.4  ...         1.4       1   \n",
       "4           12         -0.9       3.6  3.9     85.9  ...         2.6       2   \n",
       "\n",
       "  severerisk              sunrise               sunset moonphase  \\\n",
       "0             2014-01-01T08:06:14  2014-01-01T16:02:04         0   \n",
       "1             2014-01-02T08:06:07  2014-01-02T16:03:08      0.03   \n",
       "2             2014-01-03T08:05:56  2014-01-03T16:04:16      0.07   \n",
       "3             2014-01-04T08:05:42  2014-01-04T16:05:25       0.1   \n",
       "4             2014-01-05T08:05:24  2014-01-05T16:06:38      0.14   \n",
       "\n",
       "               conditions                                        description  \\\n",
       "0  Rain, Partially cloudy  Partly cloudy throughout the day with a chance...   \n",
       "1  Rain, Partially cloudy        Partly cloudy throughout the day with rain.   \n",
       "2  Rain, Partially cloudy  Partly cloudy throughout the day with a chance...   \n",
       "3  Rain, Partially cloudy  Partly cloudy throughout the day with a chance...   \n",
       "4  Rain, Partially cloudy        Partly cloudy throughout the day with rain.   \n",
       "\n",
       "   icon                                           stations  \n",
       "0  rain  03769099999,EGWU,03680099999,03768399999,03672...  \n",
       "1  rain  03769099999,03680099999,03672099999,0378109999...  \n",
       "2  rain  03769099999,03680099999,03672099999,0378109999...  \n",
       "3  rain  03769099999,03680099999,03672099999,0378109999...  \n",
       "4  rain  03769099999,03680099999,03672099999,0378109999...  \n",
       "\n",
       "[5 rows x 33 columns]"
      ]
     },
     "execution_count": 46,
     "metadata": {},
     "output_type": "execute_result"
    }
   ],
   "source": [
    "df_london.head()"
   ]
  },
  {
   "cell_type": "code",
   "execution_count": 47,
   "id": "8b595fe6",
   "metadata": {},
   "outputs": [],
   "source": [
    "# Define the path\n",
    "folder_path = r'C:\\Users\\nicol\\OneDrive\\Master\\Goldsmiths\\Thesis\\weather-prediction\\.data'\n",
    "file_name = 'london_weather_2014-2024.csv'\n",
    "full_path = os.path.join(folder_path, file_name)\n",
    "\n",
    "# Save the DataFrame to the specified path\n",
    "df_london.to_csv(full_path)"
   ]
  },
  {
   "cell_type": "markdown",
   "id": "f794a7e4",
   "metadata": {},
   "source": [
    "###  Bujanovac, Serbia 2014-2024 - NORTHERN"
   ]
  },
  {
   "cell_type": "code",
   "execution_count": 48,
   "id": "fc1053b0-2999-4d62-8411-db2f2297acae",
   "metadata": {},
   "outputs": [],
   "source": [
    "response = requests.request(\"GET\", \"https://weather.visualcrossing.com/VisualCrossingWebServices/rest/services/timeline/bujanovac/2014-01-01/2024-05-20?unitGroup=metric&include=days&key=P5BAF43ZWPV23V6ET3C2D8TGD&contentType=csv\")\n",
    "if response.status_code!=200:\n",
    "  print('Unexpected Status code: ', response.status_code)\n",
    "  sys.exit()  "
   ]
  },
  {
   "cell_type": "code",
   "execution_count": 49,
   "id": "2596a9dc-d4b1-42f8-a992-e885b51c07ea",
   "metadata": {},
   "outputs": [],
   "source": [
    "bujanovac_csv = csv.reader(response.text.splitlines(), delimiter=',',quotechar='\"')\n",
    "bujanovac_list = list(bujanovac_csv)\n",
    "\n",
    "# Create a DataFrame\n",
    "df_bujanovac = pd.DataFrame(bujanovac_list[1:], columns=bujanovac_list[0])"
   ]
  },
  {
   "cell_type": "code",
   "execution_count": 50,
   "id": "393b1fe9-40b7-48c6-ae16-d6d41022c4d8",
   "metadata": {},
   "outputs": [],
   "source": [
    "df_bujanovac['name'] = 'Bujanovac, Serbia'"
   ]
  },
  {
   "cell_type": "code",
   "execution_count": 51,
   "id": "cf11789c-cd7d-491e-8486-480db152d0fc",
   "metadata": {},
   "outputs": [],
   "source": [
    "# Define the path\n",
    "folder_path = r'C:\\Users\\nicol\\OneDrive\\Master\\Goldsmiths\\Thesis\\weather-prediction\\.data'\n",
    "file_name = 'bujanovac_weather_2014-2024.csv'\n",
    "full_path = os.path.join(folder_path, file_name)\n",
    "\n",
    "# Save the DataFrame to the specified path\n",
    "df_bujanovac.to_csv(full_path)"
   ]
  },
  {
   "cell_type": "code",
   "execution_count": 1,
   "id": "ed577a62-a1fa-414b-a7d7-a557fe44a65d",
   "metadata": {},
   "outputs": [],
   "source": [
    "#for classification N vs S you don't need the features, just the target (new created column that says if northern or southern), the location and the time\n",
    "#classification done with sktime "
   ]
  },
  {
   "cell_type": "code",
   "execution_count": null,
   "id": "46e19ae9",
   "metadata": {},
   "outputs": [],
   "source": [
    "#pull in data for all locations \n",
    "#eda \n",
    "\n",
    "#classification\n",
    "#one hot encoding\n",
    "#baseline for all locations for all models \n",
    "#is the weather more predictable in the northern or the southern hemisphere \n",
    "# four locations "
   ]
  },
  {
   "cell_type": "markdown",
   "id": "cd1403d0",
   "metadata": {},
   "source": [
    "### Manila, Phillipines - NORTHERN"
   ]
  },
  {
   "cell_type": "code",
   "execution_count": 52,
   "id": "b54b0d4a",
   "metadata": {},
   "outputs": [],
   "source": [
    "response = requests.request(\"GET\", \"https://weather.visualcrossing.com/VisualCrossingWebServices/rest/services/timeline/manila/2014-01-01/2024-05-20?unitGroup=metric&include=days&key=P5BAF43ZWPV23V6ET3C2D8TGD&contentType=csv\")\n",
    "if response.status_code!=200:\n",
    "  print('Unexpected Status code: ', response.status_code)\n",
    "  sys.exit()  "
   ]
  },
  {
   "cell_type": "code",
   "execution_count": 53,
   "id": "8c396076",
   "metadata": {},
   "outputs": [],
   "source": [
    "manila_csv = csv.reader(response.text.splitlines(), delimiter=',',quotechar='\"')\n",
    "manila_list = list(manila_csv)\n",
    "\n",
    "# Create a DataFrame\n",
    "df_manila = pd.DataFrame(manila_list[1:], columns=manila_list[0])"
   ]
  },
  {
   "cell_type": "code",
   "execution_count": 54,
   "id": "78bfeace",
   "metadata": {},
   "outputs": [],
   "source": [
    "df_manila['name'] = 'Manila, Phillipines'"
   ]
  },
  {
   "cell_type": "code",
   "execution_count": 55,
   "id": "df090491",
   "metadata": {},
   "outputs": [],
   "source": [
    "# Define the path\n",
    "folder_path = r'C:\\Users\\nicol\\OneDrive\\Master\\Goldsmiths\\Thesis\\weather-prediction\\.data'\n",
    "file_name = 'manila_weather_2014-2024.csv'\n",
    "full_path = os.path.join(folder_path, file_name)\n",
    "\n",
    "# Save the DataFrame to the specified path\n",
    "df_manila.to_csv(full_path)"
   ]
  },
  {
   "cell_type": "markdown",
   "id": "223d21c3",
   "metadata": {},
   "source": [
    "### Brisbane, Australia 2014-2024 - SOUTHERN"
   ]
  },
  {
   "cell_type": "code",
   "execution_count": 68,
   "id": "fd4acb19",
   "metadata": {},
   "outputs": [],
   "source": [
    "response = requests.request(\"GET\", \"https://weather.visualcrossing.com/VisualCrossingWebServices/rest/services/timeline/brisbane/2014-01-01/2024-05-20?unitGroup=metric&include=days&key=P5BAF43ZWPV23V6ET3C2D8TGD&contentType=csv\")\n",
    "if response.status_code!=200:\n",
    "  print('Unexpected Status code: ', response.status_code)\n",
    "  sys.exit()  "
   ]
  },
  {
   "cell_type": "code",
   "execution_count": 69,
   "id": "1cc38b94",
   "metadata": {},
   "outputs": [],
   "source": [
    "brisbane_csv = csv.reader(response.text.splitlines(), delimiter=',',quotechar='\"')\n",
    "brisbane_list = list(brisbane_csv)\n",
    "\n",
    "# Create a DataFrame\n",
    "df_brisbane = pd.DataFrame(brisbane_list[1:], columns=brisbane_list[0])"
   ]
  },
  {
   "cell_type": "code",
   "execution_count": 70,
   "id": "4d6f0222",
   "metadata": {},
   "outputs": [],
   "source": [
    "df_brisbane['name'] = 'Brisbane, Australia'"
   ]
  },
  {
   "cell_type": "code",
   "execution_count": 71,
   "id": "0747e7af",
   "metadata": {},
   "outputs": [],
   "source": [
    "# Define the path\n",
    "folder_path = r'C:\\Users\\nicol\\OneDrive\\Master\\Goldsmiths\\Thesis\\weather-prediction\\.data'\n",
    "file_name = 'brisbane_weather_2014-2024.csv'\n",
    "full_path = os.path.join(folder_path, file_name)\n",
    "\n",
    "# Save the DataFrame to the specified path\n",
    "df_brisbane.to_csv(full_path)"
   ]
  },
  {
   "cell_type": "markdown",
   "id": "10cb3ead",
   "metadata": {},
   "source": [
    "### Buenos Aires, Argentina 2014 - 2024 - SHOUTERN"
   ]
  },
  {
   "cell_type": "code",
   "execution_count": 72,
   "id": "e94e6cda",
   "metadata": {},
   "outputs": [],
   "source": [
    "response = requests.request(\"GET\", \"https://weather.visualcrossing.com/VisualCrossingWebServices/rest/services/timeline/buenos-aires/2014-01-01/2024-05-20?unitGroup=metric&include=days&key=P5BAF43ZWPV23V6ET3C2D8TGD&contentType=csv\")\n",
    "if response.status_code!=200:\n",
    "  print('Unexpected Status code: ', response.status_code)\n",
    "  sys.exit()  "
   ]
  },
  {
   "cell_type": "code",
   "execution_count": 73,
   "id": "ef608d93",
   "metadata": {},
   "outputs": [],
   "source": [
    "buenosaires_csv = csv.reader(response.text.splitlines(), delimiter=',',quotechar='\"')\n",
    "buenosaires_list = list(buenosaires_csv)\n",
    "\n",
    "# Create a DataFrame\n",
    "df_buenosaires = pd.DataFrame(buenosaires_list[1:], columns=buenosaires_list[0])"
   ]
  },
  {
   "cell_type": "code",
   "execution_count": 74,
   "id": "493b63a0",
   "metadata": {},
   "outputs": [],
   "source": [
    "df_buenosaires['name'] = 'Buenos Aires, Argentina'"
   ]
  },
  {
   "cell_type": "code",
   "execution_count": 75,
   "id": "d3266aec",
   "metadata": {},
   "outputs": [
    {
     "ename": "PermissionError",
     "evalue": "[Errno 13] Permission denied: 'C:\\\\Users\\\\nicol\\\\OneDrive\\\\Master\\\\Goldsmiths\\\\Thesis\\\\weather-prediction\\\\.data\\\\buenosaires_weather_2014-2024.csv'",
     "output_type": "error",
     "traceback": [
      "\u001b[1;31m---------------------------------------------------------------------------\u001b[0m",
      "\u001b[1;31mPermissionError\u001b[0m                           Traceback (most recent call last)",
      "Cell \u001b[1;32mIn[75], line 7\u001b[0m\n\u001b[0;32m      4\u001b[0m full_path \u001b[38;5;241m=\u001b[39m os\u001b[38;5;241m.\u001b[39mpath\u001b[38;5;241m.\u001b[39mjoin(folder_path, file_name)\n\u001b[0;32m      6\u001b[0m \u001b[38;5;66;03m# Save the DataFrame to the specified path\u001b[39;00m\n\u001b[1;32m----> 7\u001b[0m \u001b[43mdf_buenosaires\u001b[49m\u001b[38;5;241;43m.\u001b[39;49m\u001b[43mto_csv\u001b[49m\u001b[43m(\u001b[49m\u001b[43mfull_path\u001b[49m\u001b[43m)\u001b[49m\n",
      "File \u001b[1;32m~\\anaconda3\\envs\\AI2023\\lib\\site-packages\\pandas\\util\\_decorators.py:211\u001b[0m, in \u001b[0;36mdeprecate_kwarg.<locals>._deprecate_kwarg.<locals>.wrapper\u001b[1;34m(*args, **kwargs)\u001b[0m\n\u001b[0;32m    209\u001b[0m     \u001b[38;5;28;01melse\u001b[39;00m:\n\u001b[0;32m    210\u001b[0m         kwargs[new_arg_name] \u001b[38;5;241m=\u001b[39m new_arg_value\n\u001b[1;32m--> 211\u001b[0m \u001b[38;5;28;01mreturn\u001b[39;00m func(\u001b[38;5;241m*\u001b[39margs, \u001b[38;5;241m*\u001b[39m\u001b[38;5;241m*\u001b[39mkwargs)\n",
      "File \u001b[1;32m~\\anaconda3\\envs\\AI2023\\lib\\site-packages\\pandas\\core\\generic.py:3720\u001b[0m, in \u001b[0;36mNDFrame.to_csv\u001b[1;34m(self, path_or_buf, sep, na_rep, float_format, columns, header, index, index_label, mode, encoding, compression, quoting, quotechar, lineterminator, chunksize, date_format, doublequote, escapechar, decimal, errors, storage_options)\u001b[0m\n\u001b[0;32m   3709\u001b[0m df \u001b[38;5;241m=\u001b[39m \u001b[38;5;28mself\u001b[39m \u001b[38;5;28;01mif\u001b[39;00m \u001b[38;5;28misinstance\u001b[39m(\u001b[38;5;28mself\u001b[39m, ABCDataFrame) \u001b[38;5;28;01melse\u001b[39;00m \u001b[38;5;28mself\u001b[39m\u001b[38;5;241m.\u001b[39mto_frame()\n\u001b[0;32m   3711\u001b[0m formatter \u001b[38;5;241m=\u001b[39m DataFrameFormatter(\n\u001b[0;32m   3712\u001b[0m     frame\u001b[38;5;241m=\u001b[39mdf,\n\u001b[0;32m   3713\u001b[0m     header\u001b[38;5;241m=\u001b[39mheader,\n\u001b[1;32m   (...)\u001b[0m\n\u001b[0;32m   3717\u001b[0m     decimal\u001b[38;5;241m=\u001b[39mdecimal,\n\u001b[0;32m   3718\u001b[0m )\n\u001b[1;32m-> 3720\u001b[0m \u001b[38;5;28;01mreturn\u001b[39;00m \u001b[43mDataFrameRenderer\u001b[49m\u001b[43m(\u001b[49m\u001b[43mformatter\u001b[49m\u001b[43m)\u001b[49m\u001b[38;5;241;43m.\u001b[39;49m\u001b[43mto_csv\u001b[49m\u001b[43m(\u001b[49m\n\u001b[0;32m   3721\u001b[0m \u001b[43m    \u001b[49m\u001b[43mpath_or_buf\u001b[49m\u001b[43m,\u001b[49m\n\u001b[0;32m   3722\u001b[0m \u001b[43m    \u001b[49m\u001b[43mlineterminator\u001b[49m\u001b[38;5;241;43m=\u001b[39;49m\u001b[43mlineterminator\u001b[49m\u001b[43m,\u001b[49m\n\u001b[0;32m   3723\u001b[0m \u001b[43m    \u001b[49m\u001b[43msep\u001b[49m\u001b[38;5;241;43m=\u001b[39;49m\u001b[43msep\u001b[49m\u001b[43m,\u001b[49m\n\u001b[0;32m   3724\u001b[0m \u001b[43m    \u001b[49m\u001b[43mencoding\u001b[49m\u001b[38;5;241;43m=\u001b[39;49m\u001b[43mencoding\u001b[49m\u001b[43m,\u001b[49m\n\u001b[0;32m   3725\u001b[0m \u001b[43m    \u001b[49m\u001b[43merrors\u001b[49m\u001b[38;5;241;43m=\u001b[39;49m\u001b[43merrors\u001b[49m\u001b[43m,\u001b[49m\n\u001b[0;32m   3726\u001b[0m \u001b[43m    \u001b[49m\u001b[43mcompression\u001b[49m\u001b[38;5;241;43m=\u001b[39;49m\u001b[43mcompression\u001b[49m\u001b[43m,\u001b[49m\n\u001b[0;32m   3727\u001b[0m \u001b[43m    \u001b[49m\u001b[43mquoting\u001b[49m\u001b[38;5;241;43m=\u001b[39;49m\u001b[43mquoting\u001b[49m\u001b[43m,\u001b[49m\n\u001b[0;32m   3728\u001b[0m \u001b[43m    \u001b[49m\u001b[43mcolumns\u001b[49m\u001b[38;5;241;43m=\u001b[39;49m\u001b[43mcolumns\u001b[49m\u001b[43m,\u001b[49m\n\u001b[0;32m   3729\u001b[0m \u001b[43m    \u001b[49m\u001b[43mindex_label\u001b[49m\u001b[38;5;241;43m=\u001b[39;49m\u001b[43mindex_label\u001b[49m\u001b[43m,\u001b[49m\n\u001b[0;32m   3730\u001b[0m \u001b[43m    \u001b[49m\u001b[43mmode\u001b[49m\u001b[38;5;241;43m=\u001b[39;49m\u001b[43mmode\u001b[49m\u001b[43m,\u001b[49m\n\u001b[0;32m   3731\u001b[0m \u001b[43m    \u001b[49m\u001b[43mchunksize\u001b[49m\u001b[38;5;241;43m=\u001b[39;49m\u001b[43mchunksize\u001b[49m\u001b[43m,\u001b[49m\n\u001b[0;32m   3732\u001b[0m \u001b[43m    \u001b[49m\u001b[43mquotechar\u001b[49m\u001b[38;5;241;43m=\u001b[39;49m\u001b[43mquotechar\u001b[49m\u001b[43m,\u001b[49m\n\u001b[0;32m   3733\u001b[0m \u001b[43m    \u001b[49m\u001b[43mdate_format\u001b[49m\u001b[38;5;241;43m=\u001b[39;49m\u001b[43mdate_format\u001b[49m\u001b[43m,\u001b[49m\n\u001b[0;32m   3734\u001b[0m \u001b[43m    \u001b[49m\u001b[43mdoublequote\u001b[49m\u001b[38;5;241;43m=\u001b[39;49m\u001b[43mdoublequote\u001b[49m\u001b[43m,\u001b[49m\n\u001b[0;32m   3735\u001b[0m \u001b[43m    \u001b[49m\u001b[43mescapechar\u001b[49m\u001b[38;5;241;43m=\u001b[39;49m\u001b[43mescapechar\u001b[49m\u001b[43m,\u001b[49m\n\u001b[0;32m   3736\u001b[0m \u001b[43m    \u001b[49m\u001b[43mstorage_options\u001b[49m\u001b[38;5;241;43m=\u001b[39;49m\u001b[43mstorage_options\u001b[49m\u001b[43m,\u001b[49m\n\u001b[0;32m   3737\u001b[0m \u001b[43m\u001b[49m\u001b[43m)\u001b[49m\n",
      "File \u001b[1;32m~\\anaconda3\\envs\\AI2023\\lib\\site-packages\\pandas\\util\\_decorators.py:211\u001b[0m, in \u001b[0;36mdeprecate_kwarg.<locals>._deprecate_kwarg.<locals>.wrapper\u001b[1;34m(*args, **kwargs)\u001b[0m\n\u001b[0;32m    209\u001b[0m     \u001b[38;5;28;01melse\u001b[39;00m:\n\u001b[0;32m    210\u001b[0m         kwargs[new_arg_name] \u001b[38;5;241m=\u001b[39m new_arg_value\n\u001b[1;32m--> 211\u001b[0m \u001b[38;5;28;01mreturn\u001b[39;00m func(\u001b[38;5;241m*\u001b[39margs, \u001b[38;5;241m*\u001b[39m\u001b[38;5;241m*\u001b[39mkwargs)\n",
      "File \u001b[1;32m~\\anaconda3\\envs\\AI2023\\lib\\site-packages\\pandas\\io\\formats\\format.py:1189\u001b[0m, in \u001b[0;36mDataFrameRenderer.to_csv\u001b[1;34m(self, path_or_buf, encoding, sep, columns, index_label, mode, compression, quoting, quotechar, lineterminator, chunksize, date_format, doublequote, escapechar, errors, storage_options)\u001b[0m\n\u001b[0;32m   1168\u001b[0m     created_buffer \u001b[38;5;241m=\u001b[39m \u001b[38;5;28;01mFalse\u001b[39;00m\n\u001b[0;32m   1170\u001b[0m csv_formatter \u001b[38;5;241m=\u001b[39m CSVFormatter(\n\u001b[0;32m   1171\u001b[0m     path_or_buf\u001b[38;5;241m=\u001b[39mpath_or_buf,\n\u001b[0;32m   1172\u001b[0m     lineterminator\u001b[38;5;241m=\u001b[39mlineterminator,\n\u001b[1;32m   (...)\u001b[0m\n\u001b[0;32m   1187\u001b[0m     formatter\u001b[38;5;241m=\u001b[39m\u001b[38;5;28mself\u001b[39m\u001b[38;5;241m.\u001b[39mfmt,\n\u001b[0;32m   1188\u001b[0m )\n\u001b[1;32m-> 1189\u001b[0m \u001b[43mcsv_formatter\u001b[49m\u001b[38;5;241;43m.\u001b[39;49m\u001b[43msave\u001b[49m\u001b[43m(\u001b[49m\u001b[43m)\u001b[49m\n\u001b[0;32m   1191\u001b[0m \u001b[38;5;28;01mif\u001b[39;00m created_buffer:\n\u001b[0;32m   1192\u001b[0m     \u001b[38;5;28;01massert\u001b[39;00m \u001b[38;5;28misinstance\u001b[39m(path_or_buf, StringIO)\n",
      "File \u001b[1;32m~\\anaconda3\\envs\\AI2023\\lib\\site-packages\\pandas\\io\\formats\\csvs.py:241\u001b[0m, in \u001b[0;36mCSVFormatter.save\u001b[1;34m(self)\u001b[0m\n\u001b[0;32m    237\u001b[0m \u001b[38;5;250m\u001b[39m\u001b[38;5;124;03m\"\"\"\u001b[39;00m\n\u001b[0;32m    238\u001b[0m \u001b[38;5;124;03mCreate the writer & save.\u001b[39;00m\n\u001b[0;32m    239\u001b[0m \u001b[38;5;124;03m\"\"\"\u001b[39;00m\n\u001b[0;32m    240\u001b[0m \u001b[38;5;66;03m# apply compression and byte/text conversion\u001b[39;00m\n\u001b[1;32m--> 241\u001b[0m \u001b[38;5;28;01mwith\u001b[39;00m \u001b[43mget_handle\u001b[49m\u001b[43m(\u001b[49m\n\u001b[0;32m    242\u001b[0m \u001b[43m    \u001b[49m\u001b[38;5;28;43mself\u001b[39;49m\u001b[38;5;241;43m.\u001b[39;49m\u001b[43mfilepath_or_buffer\u001b[49m\u001b[43m,\u001b[49m\n\u001b[0;32m    243\u001b[0m \u001b[43m    \u001b[49m\u001b[38;5;28;43mself\u001b[39;49m\u001b[38;5;241;43m.\u001b[39;49m\u001b[43mmode\u001b[49m\u001b[43m,\u001b[49m\n\u001b[0;32m    244\u001b[0m \u001b[43m    \u001b[49m\u001b[43mencoding\u001b[49m\u001b[38;5;241;43m=\u001b[39;49m\u001b[38;5;28;43mself\u001b[39;49m\u001b[38;5;241;43m.\u001b[39;49m\u001b[43mencoding\u001b[49m\u001b[43m,\u001b[49m\n\u001b[0;32m    245\u001b[0m \u001b[43m    \u001b[49m\u001b[43merrors\u001b[49m\u001b[38;5;241;43m=\u001b[39;49m\u001b[38;5;28;43mself\u001b[39;49m\u001b[38;5;241;43m.\u001b[39;49m\u001b[43merrors\u001b[49m\u001b[43m,\u001b[49m\n\u001b[0;32m    246\u001b[0m \u001b[43m    \u001b[49m\u001b[43mcompression\u001b[49m\u001b[38;5;241;43m=\u001b[39;49m\u001b[38;5;28;43mself\u001b[39;49m\u001b[38;5;241;43m.\u001b[39;49m\u001b[43mcompression\u001b[49m\u001b[43m,\u001b[49m\n\u001b[0;32m    247\u001b[0m \u001b[43m    \u001b[49m\u001b[43mstorage_options\u001b[49m\u001b[38;5;241;43m=\u001b[39;49m\u001b[38;5;28;43mself\u001b[39;49m\u001b[38;5;241;43m.\u001b[39;49m\u001b[43mstorage_options\u001b[49m\u001b[43m,\u001b[49m\n\u001b[0;32m    248\u001b[0m \u001b[43m\u001b[49m\u001b[43m)\u001b[49m \u001b[38;5;28;01mas\u001b[39;00m handles:\n\u001b[0;32m    249\u001b[0m \n\u001b[0;32m    250\u001b[0m     \u001b[38;5;66;03m# Note: self.encoding is irrelevant here\u001b[39;00m\n\u001b[0;32m    251\u001b[0m     \u001b[38;5;28mself\u001b[39m\u001b[38;5;241m.\u001b[39mwriter \u001b[38;5;241m=\u001b[39m csvlib\u001b[38;5;241m.\u001b[39mwriter(\n\u001b[0;32m    252\u001b[0m         handles\u001b[38;5;241m.\u001b[39mhandle,\n\u001b[0;32m    253\u001b[0m         lineterminator\u001b[38;5;241m=\u001b[39m\u001b[38;5;28mself\u001b[39m\u001b[38;5;241m.\u001b[39mlineterminator,\n\u001b[1;32m   (...)\u001b[0m\n\u001b[0;32m    258\u001b[0m         quotechar\u001b[38;5;241m=\u001b[39m\u001b[38;5;28mself\u001b[39m\u001b[38;5;241m.\u001b[39mquotechar,\n\u001b[0;32m    259\u001b[0m     )\n\u001b[0;32m    261\u001b[0m     \u001b[38;5;28mself\u001b[39m\u001b[38;5;241m.\u001b[39m_save()\n",
      "File \u001b[1;32m~\\anaconda3\\envs\\AI2023\\lib\\site-packages\\pandas\\io\\common.py:856\u001b[0m, in \u001b[0;36mget_handle\u001b[1;34m(path_or_buf, mode, encoding, compression, memory_map, is_text, errors, storage_options)\u001b[0m\n\u001b[0;32m    851\u001b[0m \u001b[38;5;28;01melif\u001b[39;00m \u001b[38;5;28misinstance\u001b[39m(handle, \u001b[38;5;28mstr\u001b[39m):\n\u001b[0;32m    852\u001b[0m     \u001b[38;5;66;03m# Check whether the filename is to be opened in binary mode.\u001b[39;00m\n\u001b[0;32m    853\u001b[0m     \u001b[38;5;66;03m# Binary mode does not support 'encoding' and 'newline'.\u001b[39;00m\n\u001b[0;32m    854\u001b[0m     \u001b[38;5;28;01mif\u001b[39;00m ioargs\u001b[38;5;241m.\u001b[39mencoding \u001b[38;5;129;01mand\u001b[39;00m \u001b[38;5;124m\"\u001b[39m\u001b[38;5;124mb\u001b[39m\u001b[38;5;124m\"\u001b[39m \u001b[38;5;129;01mnot\u001b[39;00m \u001b[38;5;129;01min\u001b[39;00m ioargs\u001b[38;5;241m.\u001b[39mmode:\n\u001b[0;32m    855\u001b[0m         \u001b[38;5;66;03m# Encoding\u001b[39;00m\n\u001b[1;32m--> 856\u001b[0m         handle \u001b[38;5;241m=\u001b[39m \u001b[38;5;28;43mopen\u001b[39;49m\u001b[43m(\u001b[49m\n\u001b[0;32m    857\u001b[0m \u001b[43m            \u001b[49m\u001b[43mhandle\u001b[49m\u001b[43m,\u001b[49m\n\u001b[0;32m    858\u001b[0m \u001b[43m            \u001b[49m\u001b[43mioargs\u001b[49m\u001b[38;5;241;43m.\u001b[39;49m\u001b[43mmode\u001b[49m\u001b[43m,\u001b[49m\n\u001b[0;32m    859\u001b[0m \u001b[43m            \u001b[49m\u001b[43mencoding\u001b[49m\u001b[38;5;241;43m=\u001b[39;49m\u001b[43mioargs\u001b[49m\u001b[38;5;241;43m.\u001b[39;49m\u001b[43mencoding\u001b[49m\u001b[43m,\u001b[49m\n\u001b[0;32m    860\u001b[0m \u001b[43m            \u001b[49m\u001b[43merrors\u001b[49m\u001b[38;5;241;43m=\u001b[39;49m\u001b[43merrors\u001b[49m\u001b[43m,\u001b[49m\n\u001b[0;32m    861\u001b[0m \u001b[43m            \u001b[49m\u001b[43mnewline\u001b[49m\u001b[38;5;241;43m=\u001b[39;49m\u001b[38;5;124;43m\"\u001b[39;49m\u001b[38;5;124;43m\"\u001b[39;49m\u001b[43m,\u001b[49m\n\u001b[0;32m    862\u001b[0m \u001b[43m        \u001b[49m\u001b[43m)\u001b[49m\n\u001b[0;32m    863\u001b[0m     \u001b[38;5;28;01melse\u001b[39;00m:\n\u001b[0;32m    864\u001b[0m         \u001b[38;5;66;03m# Binary mode\u001b[39;00m\n\u001b[0;32m    865\u001b[0m         handle \u001b[38;5;241m=\u001b[39m \u001b[38;5;28mopen\u001b[39m(handle, ioargs\u001b[38;5;241m.\u001b[39mmode)\n",
      "\u001b[1;31mPermissionError\u001b[0m: [Errno 13] Permission denied: 'C:\\\\Users\\\\nicol\\\\OneDrive\\\\Master\\\\Goldsmiths\\\\Thesis\\\\weather-prediction\\\\.data\\\\buenosaires_weather_2014-2024.csv'"
     ]
    }
   ],
   "source": [
    "# Define the path\n",
    "folder_path = r'C:\\Users\\nicol\\OneDrive\\Master\\Goldsmiths\\Thesis\\weather-prediction\\.data'\n",
    "file_name = 'buenosaires_weather_2014-2024.csv'\n",
    "full_path = os.path.join(folder_path, file_name)\n",
    "\n",
    "# Save the DataFrame to the specified path\n",
    "df_buenosaires.to_csv(full_path)"
   ]
  },
  {
   "cell_type": "code",
   "execution_count": null,
   "id": "d9275adb",
   "metadata": {},
   "outputs": [],
   "source": []
  },
  {
   "cell_type": "code",
   "execution_count": null,
   "id": "3119ffe7",
   "metadata": {},
   "outputs": [],
   "source": []
  }
 ],
 "metadata": {
  "kernelspec": {
   "display_name": "Python 3 (ipykernel)",
   "language": "python",
   "name": "python3"
  },
  "language_info": {
   "codemirror_mode": {
    "name": "ipython",
    "version": 3
   },
   "file_extension": ".py",
   "mimetype": "text/x-python",
   "name": "python",
   "nbconvert_exporter": "python",
   "pygments_lexer": "ipython3",
   "version": "3.10.13"
  }
 },
 "nbformat": 4,
 "nbformat_minor": 5
}
