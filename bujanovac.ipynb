{
 "cells": [
  {
   "cell_type": "code",
   "execution_count": 1,
   "id": "b6a5477a",
   "metadata": {
    "tags": []
   },
   "outputs": [],
   "source": [
    "import os\n",
    "import pandas as pd\n",
    "import numpy as np \n",
    "import seaborn as sns\n",
    "import matplotlib.pyplot as plt\n",
    "from sklearn.impute import KNNImputer\n",
    "from sklearn.feature_extraction.text import CountVectorizer, TfidfTransformer\n",
    "from sklearn.cluster import KMeans\n",
    "from sklearn.pipeline import Pipeline\n",
    "from wordcloud import WordCloud"
   ]
  },
  {
   "cell_type": "code",
   "execution_count": 2,
   "id": "f0a3e833",
   "metadata": {
    "tags": []
   },
   "outputs": [],
   "source": [
    "pd.set_option('display.max_columns', None)\n",
    "df_bujanovac = pd.read_csv(r\"C:\\Users\\nicol\\OneDrive\\Master\\Goldsmiths\\Thesis\\weather-prediction\\.data\\bujanovac_weather_2014-2024.csv\")"
   ]
  },
  {
   "cell_type": "code",
   "execution_count": 3,
   "id": "3315f5c1-c3e2-486a-9196-e658243d0efd",
   "metadata": {},
   "outputs": [],
   "source": [
    "#sort index\n",
    "df_bujanovac = df_bujanovac.sort_index()"
   ]
  },
  {
   "cell_type": "code",
   "execution_count": 4,
   "id": "531a7be8",
   "metadata": {
    "tags": []
   },
   "outputs": [
    {
     "data": {
      "text/plain": [
       "(3793, 34)"
      ]
     },
     "execution_count": 4,
     "metadata": {},
     "output_type": "execute_result"
    }
   ],
   "source": [
    "df_bujanovac.shape"
   ]
  },
  {
   "cell_type": "code",
   "execution_count": 5,
   "id": "91a5ebe5",
   "metadata": {
    "scrolled": true,
    "tags": []
   },
   "outputs": [
    {
     "data": {
      "text/html": [
       "<div>\n",
       "<style scoped>\n",
       "    .dataframe tbody tr th:only-of-type {\n",
       "        vertical-align: middle;\n",
       "    }\n",
       "\n",
       "    .dataframe tbody tr th {\n",
       "        vertical-align: top;\n",
       "    }\n",
       "\n",
       "    .dataframe thead th {\n",
       "        text-align: right;\n",
       "    }\n",
       "</style>\n",
       "<table border=\"1\" class=\"dataframe\">\n",
       "  <thead>\n",
       "    <tr style=\"text-align: right;\">\n",
       "      <th></th>\n",
       "      <th>Unnamed: 0</th>\n",
       "      <th>name</th>\n",
       "      <th>datetime</th>\n",
       "      <th>tempmax</th>\n",
       "      <th>tempmin</th>\n",
       "      <th>temp</th>\n",
       "      <th>feelslikemax</th>\n",
       "      <th>feelslikemin</th>\n",
       "      <th>feelslike</th>\n",
       "      <th>dew</th>\n",
       "      <th>humidity</th>\n",
       "      <th>precip</th>\n",
       "      <th>precipprob</th>\n",
       "      <th>precipcover</th>\n",
       "      <th>preciptype</th>\n",
       "      <th>snow</th>\n",
       "      <th>snowdepth</th>\n",
       "      <th>windgust</th>\n",
       "      <th>windspeed</th>\n",
       "      <th>winddir</th>\n",
       "      <th>sealevelpressure</th>\n",
       "      <th>cloudcover</th>\n",
       "      <th>visibility</th>\n",
       "      <th>solarradiation</th>\n",
       "      <th>solarenergy</th>\n",
       "      <th>uvindex</th>\n",
       "      <th>severerisk</th>\n",
       "      <th>sunrise</th>\n",
       "      <th>sunset</th>\n",
       "      <th>moonphase</th>\n",
       "      <th>conditions</th>\n",
       "      <th>description</th>\n",
       "      <th>icon</th>\n",
       "      <th>stations</th>\n",
       "    </tr>\n",
       "  </thead>\n",
       "  <tbody>\n",
       "    <tr>\n",
       "      <th>0</th>\n",
       "      <td>0</td>\n",
       "      <td>Bujanovac, Serbia</td>\n",
       "      <td>2014-01-01</td>\n",
       "      <td>6.6</td>\n",
       "      <td>2.4</td>\n",
       "      <td>4.3</td>\n",
       "      <td>6.6</td>\n",
       "      <td>0.0</td>\n",
       "      <td>3.8</td>\n",
       "      <td>2.1</td>\n",
       "      <td>86.2</td>\n",
       "      <td>0.000</td>\n",
       "      <td>0</td>\n",
       "      <td>0.00</td>\n",
       "      <td>NaN</td>\n",
       "      <td>0.0</td>\n",
       "      <td>0.0</td>\n",
       "      <td>NaN</td>\n",
       "      <td>8.4</td>\n",
       "      <td>40.9</td>\n",
       "      <td>1021.8</td>\n",
       "      <td>87.6</td>\n",
       "      <td>6.7</td>\n",
       "      <td>76.4</td>\n",
       "      <td>6.6</td>\n",
       "      <td>4</td>\n",
       "      <td>NaN</td>\n",
       "      <td>2014-01-01T07:02:35</td>\n",
       "      <td>2014-01-01T16:10:28</td>\n",
       "      <td>0.00</td>\n",
       "      <td>Partially cloudy</td>\n",
       "      <td>Partly cloudy throughout the day.</td>\n",
       "      <td>partly-cloudy-day</td>\n",
       "      <td>LWSK,13493099999,13586099999,BKPR,13389099999,...</td>\n",
       "    </tr>\n",
       "    <tr>\n",
       "      <th>1</th>\n",
       "      <td>1</td>\n",
       "      <td>Bujanovac, Serbia</td>\n",
       "      <td>2014-01-02</td>\n",
       "      <td>7.6</td>\n",
       "      <td>1.6</td>\n",
       "      <td>3.7</td>\n",
       "      <td>7.6</td>\n",
       "      <td>0.5</td>\n",
       "      <td>3.5</td>\n",
       "      <td>1.0</td>\n",
       "      <td>83.1</td>\n",
       "      <td>0.000</td>\n",
       "      <td>0</td>\n",
       "      <td>0.00</td>\n",
       "      <td>NaN</td>\n",
       "      <td>0.0</td>\n",
       "      <td>0.0</td>\n",
       "      <td>NaN</td>\n",
       "      <td>6.3</td>\n",
       "      <td>48.4</td>\n",
       "      <td>1020.9</td>\n",
       "      <td>72.0</td>\n",
       "      <td>8.0</td>\n",
       "      <td>63.7</td>\n",
       "      <td>5.5</td>\n",
       "      <td>3</td>\n",
       "      <td>NaN</td>\n",
       "      <td>2014-01-02T07:02:39</td>\n",
       "      <td>2014-01-02T16:11:20</td>\n",
       "      <td>0.03</td>\n",
       "      <td>Partially cloudy</td>\n",
       "      <td>Partly cloudy throughout the day.</td>\n",
       "      <td>partly-cloudy-day</td>\n",
       "      <td>LWSK,13493099999,13586099999,BKPR,13389099999,...</td>\n",
       "    </tr>\n",
       "    <tr>\n",
       "      <th>2</th>\n",
       "      <td>2</td>\n",
       "      <td>Bujanovac, Serbia</td>\n",
       "      <td>2014-01-03</td>\n",
       "      <td>5.7</td>\n",
       "      <td>1.4</td>\n",
       "      <td>3.3</td>\n",
       "      <td>5.7</td>\n",
       "      <td>1.4</td>\n",
       "      <td>3.2</td>\n",
       "      <td>1.4</td>\n",
       "      <td>87.0</td>\n",
       "      <td>0.000</td>\n",
       "      <td>0</td>\n",
       "      <td>0.00</td>\n",
       "      <td>NaN</td>\n",
       "      <td>0.0</td>\n",
       "      <td>0.0</td>\n",
       "      <td>NaN</td>\n",
       "      <td>6.0</td>\n",
       "      <td>48.5</td>\n",
       "      <td>1023.1</td>\n",
       "      <td>88.1</td>\n",
       "      <td>5.4</td>\n",
       "      <td>62.9</td>\n",
       "      <td>5.4</td>\n",
       "      <td>3</td>\n",
       "      <td>NaN</td>\n",
       "      <td>2014-01-03T07:02:41</td>\n",
       "      <td>2014-01-03T16:12:15</td>\n",
       "      <td>0.07</td>\n",
       "      <td>Partially cloudy</td>\n",
       "      <td>Partly cloudy throughout the day.</td>\n",
       "      <td>partly-cloudy-day</td>\n",
       "      <td>LWSK,13493099999,13586099999,BKPR,13389099999,...</td>\n",
       "    </tr>\n",
       "    <tr>\n",
       "      <th>3</th>\n",
       "      <td>3</td>\n",
       "      <td>Bujanovac, Serbia</td>\n",
       "      <td>2014-01-04</td>\n",
       "      <td>4.0</td>\n",
       "      <td>0.8</td>\n",
       "      <td>2.5</td>\n",
       "      <td>4.0</td>\n",
       "      <td>-2.2</td>\n",
       "      <td>1.7</td>\n",
       "      <td>1.3</td>\n",
       "      <td>91.8</td>\n",
       "      <td>0.000</td>\n",
       "      <td>0</td>\n",
       "      <td>0.00</td>\n",
       "      <td>NaN</td>\n",
       "      <td>0.0</td>\n",
       "      <td>0.0</td>\n",
       "      <td>NaN</td>\n",
       "      <td>9.9</td>\n",
       "      <td>244.8</td>\n",
       "      <td>1025.1</td>\n",
       "      <td>87.4</td>\n",
       "      <td>4.1</td>\n",
       "      <td>90.9</td>\n",
       "      <td>7.8</td>\n",
       "      <td>4</td>\n",
       "      <td>NaN</td>\n",
       "      <td>2014-01-04T07:02:41</td>\n",
       "      <td>2014-01-04T16:13:11</td>\n",
       "      <td>0.10</td>\n",
       "      <td>Partially cloudy</td>\n",
       "      <td>Partly cloudy throughout the day.</td>\n",
       "      <td>partly-cloudy-day</td>\n",
       "      <td>LWSK,13493099999,13586099999,BKPR,13389099999,...</td>\n",
       "    </tr>\n",
       "    <tr>\n",
       "      <th>4</th>\n",
       "      <td>4</td>\n",
       "      <td>Bujanovac, Serbia</td>\n",
       "      <td>2014-01-05</td>\n",
       "      <td>5.3</td>\n",
       "      <td>0.7</td>\n",
       "      <td>3.3</td>\n",
       "      <td>5.3</td>\n",
       "      <td>-2.6</td>\n",
       "      <td>1.2</td>\n",
       "      <td>1.8</td>\n",
       "      <td>90.1</td>\n",
       "      <td>0.121</td>\n",
       "      <td>100</td>\n",
       "      <td>4.17</td>\n",
       "      <td>rain</td>\n",
       "      <td>0.0</td>\n",
       "      <td>0.0</td>\n",
       "      <td>NaN</td>\n",
       "      <td>13.9</td>\n",
       "      <td>234.6</td>\n",
       "      <td>1019.5</td>\n",
       "      <td>91.0</td>\n",
       "      <td>6.3</td>\n",
       "      <td>22.3</td>\n",
       "      <td>1.9</td>\n",
       "      <td>1</td>\n",
       "      <td>NaN</td>\n",
       "      <td>2014-01-05T07:02:38</td>\n",
       "      <td>2014-01-05T16:14:08</td>\n",
       "      <td>0.14</td>\n",
       "      <td>Rain, Overcast</td>\n",
       "      <td>Cloudy skies throughout the day with late afte...</td>\n",
       "      <td>rain</td>\n",
       "      <td>13493099999,LWSK,13586099999,BKPR,13389099999,...</td>\n",
       "    </tr>\n",
       "  </tbody>\n",
       "</table>\n",
       "</div>"
      ],
      "text/plain": [
       "   Unnamed: 0               name    datetime  tempmax  tempmin  temp  \\\n",
       "0           0  Bujanovac, Serbia  2014-01-01      6.6      2.4   4.3   \n",
       "1           1  Bujanovac, Serbia  2014-01-02      7.6      1.6   3.7   \n",
       "2           2  Bujanovac, Serbia  2014-01-03      5.7      1.4   3.3   \n",
       "3           3  Bujanovac, Serbia  2014-01-04      4.0      0.8   2.5   \n",
       "4           4  Bujanovac, Serbia  2014-01-05      5.3      0.7   3.3   \n",
       "\n",
       "   feelslikemax  feelslikemin  feelslike  dew  humidity  precip  precipprob  \\\n",
       "0           6.6           0.0        3.8  2.1      86.2   0.000           0   \n",
       "1           7.6           0.5        3.5  1.0      83.1   0.000           0   \n",
       "2           5.7           1.4        3.2  1.4      87.0   0.000           0   \n",
       "3           4.0          -2.2        1.7  1.3      91.8   0.000           0   \n",
       "4           5.3          -2.6        1.2  1.8      90.1   0.121         100   \n",
       "\n",
       "   precipcover preciptype  snow  snowdepth  windgust  windspeed  winddir  \\\n",
       "0         0.00        NaN   0.0        0.0       NaN        8.4     40.9   \n",
       "1         0.00        NaN   0.0        0.0       NaN        6.3     48.4   \n",
       "2         0.00        NaN   0.0        0.0       NaN        6.0     48.5   \n",
       "3         0.00        NaN   0.0        0.0       NaN        9.9    244.8   \n",
       "4         4.17       rain   0.0        0.0       NaN       13.9    234.6   \n",
       "\n",
       "   sealevelpressure  cloudcover  visibility  solarradiation  solarenergy  \\\n",
       "0            1021.8        87.6         6.7            76.4          6.6   \n",
       "1            1020.9        72.0         8.0            63.7          5.5   \n",
       "2            1023.1        88.1         5.4            62.9          5.4   \n",
       "3            1025.1        87.4         4.1            90.9          7.8   \n",
       "4            1019.5        91.0         6.3            22.3          1.9   \n",
       "\n",
       "   uvindex  severerisk              sunrise               sunset  moonphase  \\\n",
       "0        4         NaN  2014-01-01T07:02:35  2014-01-01T16:10:28       0.00   \n",
       "1        3         NaN  2014-01-02T07:02:39  2014-01-02T16:11:20       0.03   \n",
       "2        3         NaN  2014-01-03T07:02:41  2014-01-03T16:12:15       0.07   \n",
       "3        4         NaN  2014-01-04T07:02:41  2014-01-04T16:13:11       0.10   \n",
       "4        1         NaN  2014-01-05T07:02:38  2014-01-05T16:14:08       0.14   \n",
       "\n",
       "         conditions                                        description  \\\n",
       "0  Partially cloudy                  Partly cloudy throughout the day.   \n",
       "1  Partially cloudy                  Partly cloudy throughout the day.   \n",
       "2  Partially cloudy                  Partly cloudy throughout the day.   \n",
       "3  Partially cloudy                  Partly cloudy throughout the day.   \n",
       "4    Rain, Overcast  Cloudy skies throughout the day with late afte...   \n",
       "\n",
       "                icon                                           stations  \n",
       "0  partly-cloudy-day  LWSK,13493099999,13586099999,BKPR,13389099999,...  \n",
       "1  partly-cloudy-day  LWSK,13493099999,13586099999,BKPR,13389099999,...  \n",
       "2  partly-cloudy-day  LWSK,13493099999,13586099999,BKPR,13389099999,...  \n",
       "3  partly-cloudy-day  LWSK,13493099999,13586099999,BKPR,13389099999,...  \n",
       "4               rain  13493099999,LWSK,13586099999,BKPR,13389099999,...  "
      ]
     },
     "execution_count": 5,
     "metadata": {},
     "output_type": "execute_result"
    }
   ],
   "source": [
    "df_bujanovac.head()"
   ]
  },
  {
   "cell_type": "code",
   "execution_count": 6,
   "id": "8dfc5fa7",
   "metadata": {
    "tags": []
   },
   "outputs": [
    {
     "data": {
      "text/plain": [
       "Index(['Unnamed: 0', 'name', 'datetime', 'tempmax', 'tempmin', 'temp',\n",
       "       'feelslikemax', 'feelslikemin', 'feelslike', 'dew', 'humidity',\n",
       "       'precip', 'precipprob', 'precipcover', 'preciptype', 'snow',\n",
       "       'snowdepth', 'windgust', 'windspeed', 'winddir', 'sealevelpressure',\n",
       "       'cloudcover', 'visibility', 'solarradiation', 'solarenergy', 'uvindex',\n",
       "       'severerisk', 'sunrise', 'sunset', 'moonphase', 'conditions',\n",
       "       'description', 'icon', 'stations'],\n",
       "      dtype='object')"
      ]
     },
     "execution_count": 6,
     "metadata": {},
     "output_type": "execute_result"
    }
   ],
   "source": [
    "df_bujanovac.columns"
   ]
  },
  {
   "cell_type": "code",
   "execution_count": 7,
   "id": "3e90b221",
   "metadata": {
    "tags": []
   },
   "outputs": [],
   "source": [
    "columns_to_drop = ['Unnamed: 0',  'tempmax', 'tempmin', 'icon', 'stations', 'conditions' ]\n",
    "df_bujanovac = df_bujanovac.drop(columns=columns_to_drop)"
   ]
  },
  {
   "cell_type": "code",
   "execution_count": 8,
   "id": "0ab3c509",
   "metadata": {
    "tags": []
   },
   "outputs": [
    {
     "data": {
      "text/plain": [
       "'2014-01-01'"
      ]
     },
     "execution_count": 8,
     "metadata": {},
     "output_type": "execute_result"
    }
   ],
   "source": [
    "df_bujanovac['datetime'].min()"
   ]
  },
  {
   "cell_type": "code",
   "execution_count": 9,
   "id": "4c4016a1",
   "metadata": {
    "tags": []
   },
   "outputs": [
    {
     "data": {
      "text/plain": [
       "'2024-05-20'"
      ]
     },
     "execution_count": 9,
     "metadata": {},
     "output_type": "execute_result"
    }
   ],
   "source": [
    "df_bujanovac['datetime'].max()"
   ]
  },
  {
   "cell_type": "code",
   "execution_count": 10,
   "id": "46c8c113",
   "metadata": {
    "tags": []
   },
   "outputs": [
    {
     "data": {
      "text/plain": [
       "-15.7"
      ]
     },
     "execution_count": 10,
     "metadata": {},
     "output_type": "execute_result"
    }
   ],
   "source": [
    "df_bujanovac['temp'].min()"
   ]
  },
  {
   "cell_type": "code",
   "execution_count": 11,
   "id": "d69d4346",
   "metadata": {
    "tags": []
   },
   "outputs": [
    {
     "data": {
      "text/plain": [
       "29.3"
      ]
     },
     "execution_count": 11,
     "metadata": {},
     "output_type": "execute_result"
    }
   ],
   "source": [
    "df_bujanovac['temp'].max()"
   ]
  },
  {
   "cell_type": "code",
   "execution_count": 12,
   "id": "222b8549-a835-47ce-9974-45de66f346c1",
   "metadata": {
    "tags": []
   },
   "outputs": [
    {
     "data": {
      "text/plain": [
       "name                 object\n",
       "datetime             object\n",
       "temp                float64\n",
       "feelslikemax        float64\n",
       "feelslikemin        float64\n",
       "feelslike           float64\n",
       "dew                 float64\n",
       "humidity            float64\n",
       "precip              float64\n",
       "precipprob            int64\n",
       "precipcover         float64\n",
       "preciptype           object\n",
       "snow                float64\n",
       "snowdepth           float64\n",
       "windgust            float64\n",
       "windspeed           float64\n",
       "winddir             float64\n",
       "sealevelpressure    float64\n",
       "cloudcover          float64\n",
       "visibility          float64\n",
       "solarradiation      float64\n",
       "solarenergy         float64\n",
       "uvindex               int64\n",
       "severerisk          float64\n",
       "sunrise              object\n",
       "sunset               object\n",
       "moonphase           float64\n",
       "description          object\n",
       "dtype: object"
      ]
     },
     "execution_count": 12,
     "metadata": {},
     "output_type": "execute_result"
    }
   ],
   "source": [
    "df_bujanovac.dtypes"
   ]
  },
  {
   "cell_type": "code",
   "execution_count": 13,
   "id": "9d72dae8",
   "metadata": {
    "tags": []
   },
   "outputs": [
    {
     "data": {
      "text/plain": [
       "name                   0\n",
       "datetime               0\n",
       "temp                   0\n",
       "feelslikemax           0\n",
       "feelslikemin           0\n",
       "feelslike              0\n",
       "dew                    0\n",
       "humidity               0\n",
       "precip                 0\n",
       "precipprob             0\n",
       "precipcover            0\n",
       "preciptype          1738\n",
       "snow                   0\n",
       "snowdepth              0\n",
       "windgust             330\n",
       "windspeed              0\n",
       "winddir                0\n",
       "sealevelpressure       0\n",
       "cloudcover             0\n",
       "visibility             0\n",
       "solarradiation         0\n",
       "solarenergy            0\n",
       "uvindex                0\n",
       "severerisk          2931\n",
       "sunrise                0\n",
       "sunset                 0\n",
       "moonphase              0\n",
       "description            0\n",
       "dtype: int64"
      ]
     },
     "execution_count": 13,
     "metadata": {},
     "output_type": "execute_result"
    }
   ],
   "source": [
    "df_bujanovac.isna().sum()"
   ]
  },
  {
   "cell_type": "markdown",
   "id": "af23e0b6",
   "metadata": {},
   "source": [
    "To Do: \n",
    "\n",
    "- linear interpolation for missing values \n",
    "- drop unnecessary columns \n",
    "- set datetime to date data type"
   ]
  },
  {
   "cell_type": "code",
   "execution_count": 14,
   "id": "0a4ac1a9",
   "metadata": {
    "tags": []
   },
   "outputs": [],
   "source": [
    "#run k-nn to fill in the missing values with the k nearest neighbour \n",
    "#https://www.sciencedirect.com/science/article/abs/pii/S0164121212001586#:~:text=kNN%20imputation%20is%20designed%20to,or%20attribute)%20is%20categorical%2C%20referred\n",
    "\n",
    "imputer = KNNImputer(n_neighbors=5)\n",
    "df_bujanovac[['windgust', 'severerisk']] = imputer.fit_transform(df_bujanovac[['windgust', 'severerisk']])\n"
   ]
  },
  {
   "cell_type": "code",
   "execution_count": 15,
   "id": "74da3ee9",
   "metadata": {
    "tags": []
   },
   "outputs": [
    {
     "data": {
      "text/plain": [
       "array([nan, 'rain', 'rain,snow', 'snow'], dtype=object)"
      ]
     },
     "execution_count": 15,
     "metadata": {},
     "output_type": "execute_result"
    }
   ],
   "source": [
    "df_bujanovac['preciptype'].unique()"
   ]
  },
  {
   "cell_type": "code",
   "execution_count": 16,
   "id": "14e396e4",
   "metadata": {
    "tags": []
   },
   "outputs": [
    {
     "data": {
      "text/plain": [
       "rain         1683\n",
       "rain,snow     320\n",
       "snow           52\n",
       "Name: preciptype, dtype: int64"
      ]
     },
     "execution_count": 16,
     "metadata": {},
     "output_type": "execute_result"
    }
   ],
   "source": [
    "df_bujanovac['preciptype'].value_counts()"
   ]
  },
  {
   "cell_type": "code",
   "execution_count": 17,
   "id": "eaf20fda-19cc-4e4d-9e8b-900919811ded",
   "metadata": {
    "tags": []
   },
   "outputs": [
    {
     "data": {
      "text/plain": [
       "name                   0\n",
       "datetime               0\n",
       "temp                   0\n",
       "feelslikemax           0\n",
       "feelslikemin           0\n",
       "feelslike              0\n",
       "dew                    0\n",
       "humidity               0\n",
       "precip                 0\n",
       "precipprob             0\n",
       "precipcover            0\n",
       "preciptype          1738\n",
       "snow                   0\n",
       "snowdepth              0\n",
       "windgust               0\n",
       "windspeed              0\n",
       "winddir                0\n",
       "sealevelpressure       0\n",
       "cloudcover             0\n",
       "visibility             0\n",
       "solarradiation         0\n",
       "solarenergy            0\n",
       "uvindex                0\n",
       "severerisk             0\n",
       "sunrise                0\n",
       "sunset                 0\n",
       "moonphase              0\n",
       "description            0\n",
       "dtype: int64"
      ]
     },
     "execution_count": 17,
     "metadata": {},
     "output_type": "execute_result"
    }
   ],
   "source": [
    "df_bujanovac.isna().sum()"
   ]
  },
  {
   "cell_type": "code",
   "execution_count": 18,
   "id": "07eb489c-9904-4374-9065-c9b25599e9d6",
   "metadata": {
    "tags": []
   },
   "outputs": [],
   "source": [
    "#using forward fill to fill in categorical missing data for the preciptype column\n",
    "\n",
    "df_bujanovac['preciptype'].fillna(method='ffill', inplace=True)"
   ]
  },
  {
   "cell_type": "code",
   "execution_count": 19,
   "id": "c320cb63-df86-485d-9535-3d98bac614da",
   "metadata": {
    "tags": []
   },
   "outputs": [],
   "source": [
    "#using backward fill to fill in categorical missing data for the preciptype column\n",
    "\n",
    "df_bujanovac['preciptype'] = df_bujanovac['preciptype'].fillna(method='bfill')"
   ]
  },
  {
   "cell_type": "code",
   "execution_count": 20,
   "id": "8388f508-2637-4b4c-92a0-356e57de6d4b",
   "metadata": {
    "tags": []
   },
   "outputs": [
    {
     "data": {
      "text/plain": [
       "name                0\n",
       "datetime            0\n",
       "temp                0\n",
       "feelslikemax        0\n",
       "feelslikemin        0\n",
       "feelslike           0\n",
       "dew                 0\n",
       "humidity            0\n",
       "precip              0\n",
       "precipprob          0\n",
       "precipcover         0\n",
       "preciptype          0\n",
       "snow                0\n",
       "snowdepth           0\n",
       "windgust            0\n",
       "windspeed           0\n",
       "winddir             0\n",
       "sealevelpressure    0\n",
       "cloudcover          0\n",
       "visibility          0\n",
       "solarradiation      0\n",
       "solarenergy         0\n",
       "uvindex             0\n",
       "severerisk          0\n",
       "sunrise             0\n",
       "sunset              0\n",
       "moonphase           0\n",
       "description         0\n",
       "dtype: int64"
      ]
     },
     "execution_count": 20,
     "metadata": {},
     "output_type": "execute_result"
    }
   ],
   "source": [
    "df_bujanovac.isna().sum()"
   ]
  },
  {
   "cell_type": "code",
   "execution_count": 21,
   "id": "ac72485b-b11c-4332-955a-4cc96b6dda6e",
   "metadata": {
    "tags": []
   },
   "outputs": [],
   "source": [
    "#setting the datetime column to datetime data type\n",
    "\n",
    "#df['date_column'] = pd.to_datetime(df['date_column'])"
   ]
  },
  {
   "cell_type": "code",
   "execution_count": 22,
   "id": "3f419d0e-688b-487f-be54-76bab551f0e1",
   "metadata": {
    "tags": []
   },
   "outputs": [
    {
     "data": {
      "text/html": [
       "<div>\n",
       "<style scoped>\n",
       "    .dataframe tbody tr th:only-of-type {\n",
       "        vertical-align: middle;\n",
       "    }\n",
       "\n",
       "    .dataframe tbody tr th {\n",
       "        vertical-align: top;\n",
       "    }\n",
       "\n",
       "    .dataframe thead th {\n",
       "        text-align: right;\n",
       "    }\n",
       "</style>\n",
       "<table border=\"1\" class=\"dataframe\">\n",
       "  <thead>\n",
       "    <tr style=\"text-align: right;\">\n",
       "      <th></th>\n",
       "      <th>name</th>\n",
       "      <th>datetime</th>\n",
       "      <th>temp</th>\n",
       "      <th>feelslikemax</th>\n",
       "      <th>feelslikemin</th>\n",
       "      <th>feelslike</th>\n",
       "      <th>dew</th>\n",
       "      <th>humidity</th>\n",
       "      <th>precip</th>\n",
       "      <th>precipprob</th>\n",
       "      <th>precipcover</th>\n",
       "      <th>preciptype</th>\n",
       "      <th>snow</th>\n",
       "      <th>snowdepth</th>\n",
       "      <th>windgust</th>\n",
       "      <th>windspeed</th>\n",
       "      <th>winddir</th>\n",
       "      <th>sealevelpressure</th>\n",
       "      <th>cloudcover</th>\n",
       "      <th>visibility</th>\n",
       "      <th>solarradiation</th>\n",
       "      <th>solarenergy</th>\n",
       "      <th>uvindex</th>\n",
       "      <th>severerisk</th>\n",
       "      <th>sunrise</th>\n",
       "      <th>sunset</th>\n",
       "      <th>moonphase</th>\n",
       "      <th>description</th>\n",
       "    </tr>\n",
       "  </thead>\n",
       "  <tbody>\n",
       "    <tr>\n",
       "      <th>0</th>\n",
       "      <td>Bujanovac, Serbia</td>\n",
       "      <td>2014-01-01</td>\n",
       "      <td>4.3</td>\n",
       "      <td>6.6</td>\n",
       "      <td>0.0</td>\n",
       "      <td>3.8</td>\n",
       "      <td>2.1</td>\n",
       "      <td>86.2</td>\n",
       "      <td>0.000</td>\n",
       "      <td>0</td>\n",
       "      <td>0.00</td>\n",
       "      <td>rain</td>\n",
       "      <td>0.0</td>\n",
       "      <td>0.0</td>\n",
       "      <td>35.837713</td>\n",
       "      <td>8.4</td>\n",
       "      <td>40.9</td>\n",
       "      <td>1021.8</td>\n",
       "      <td>87.6</td>\n",
       "      <td>6.7</td>\n",
       "      <td>76.4</td>\n",
       "      <td>6.6</td>\n",
       "      <td>4</td>\n",
       "      <td>11.566125</td>\n",
       "      <td>2014-01-01T07:02:35</td>\n",
       "      <td>2014-01-01T16:10:28</td>\n",
       "      <td>0.00</td>\n",
       "      <td>Partly cloudy throughout the day.</td>\n",
       "    </tr>\n",
       "    <tr>\n",
       "      <th>1</th>\n",
       "      <td>Bujanovac, Serbia</td>\n",
       "      <td>2014-01-02</td>\n",
       "      <td>3.7</td>\n",
       "      <td>7.6</td>\n",
       "      <td>0.5</td>\n",
       "      <td>3.5</td>\n",
       "      <td>1.0</td>\n",
       "      <td>83.1</td>\n",
       "      <td>0.000</td>\n",
       "      <td>0</td>\n",
       "      <td>0.00</td>\n",
       "      <td>rain</td>\n",
       "      <td>0.0</td>\n",
       "      <td>0.0</td>\n",
       "      <td>35.837713</td>\n",
       "      <td>6.3</td>\n",
       "      <td>48.4</td>\n",
       "      <td>1020.9</td>\n",
       "      <td>72.0</td>\n",
       "      <td>8.0</td>\n",
       "      <td>63.7</td>\n",
       "      <td>5.5</td>\n",
       "      <td>3</td>\n",
       "      <td>11.566125</td>\n",
       "      <td>2014-01-02T07:02:39</td>\n",
       "      <td>2014-01-02T16:11:20</td>\n",
       "      <td>0.03</td>\n",
       "      <td>Partly cloudy throughout the day.</td>\n",
       "    </tr>\n",
       "    <tr>\n",
       "      <th>2</th>\n",
       "      <td>Bujanovac, Serbia</td>\n",
       "      <td>2014-01-03</td>\n",
       "      <td>3.3</td>\n",
       "      <td>5.7</td>\n",
       "      <td>1.4</td>\n",
       "      <td>3.2</td>\n",
       "      <td>1.4</td>\n",
       "      <td>87.0</td>\n",
       "      <td>0.000</td>\n",
       "      <td>0</td>\n",
       "      <td>0.00</td>\n",
       "      <td>rain</td>\n",
       "      <td>0.0</td>\n",
       "      <td>0.0</td>\n",
       "      <td>35.837713</td>\n",
       "      <td>6.0</td>\n",
       "      <td>48.5</td>\n",
       "      <td>1023.1</td>\n",
       "      <td>88.1</td>\n",
       "      <td>5.4</td>\n",
       "      <td>62.9</td>\n",
       "      <td>5.4</td>\n",
       "      <td>3</td>\n",
       "      <td>11.566125</td>\n",
       "      <td>2014-01-03T07:02:41</td>\n",
       "      <td>2014-01-03T16:12:15</td>\n",
       "      <td>0.07</td>\n",
       "      <td>Partly cloudy throughout the day.</td>\n",
       "    </tr>\n",
       "    <tr>\n",
       "      <th>3</th>\n",
       "      <td>Bujanovac, Serbia</td>\n",
       "      <td>2014-01-04</td>\n",
       "      <td>2.5</td>\n",
       "      <td>4.0</td>\n",
       "      <td>-2.2</td>\n",
       "      <td>1.7</td>\n",
       "      <td>1.3</td>\n",
       "      <td>91.8</td>\n",
       "      <td>0.000</td>\n",
       "      <td>0</td>\n",
       "      <td>0.00</td>\n",
       "      <td>rain</td>\n",
       "      <td>0.0</td>\n",
       "      <td>0.0</td>\n",
       "      <td>35.837713</td>\n",
       "      <td>9.9</td>\n",
       "      <td>244.8</td>\n",
       "      <td>1025.1</td>\n",
       "      <td>87.4</td>\n",
       "      <td>4.1</td>\n",
       "      <td>90.9</td>\n",
       "      <td>7.8</td>\n",
       "      <td>4</td>\n",
       "      <td>11.566125</td>\n",
       "      <td>2014-01-04T07:02:41</td>\n",
       "      <td>2014-01-04T16:13:11</td>\n",
       "      <td>0.10</td>\n",
       "      <td>Partly cloudy throughout the day.</td>\n",
       "    </tr>\n",
       "    <tr>\n",
       "      <th>4</th>\n",
       "      <td>Bujanovac, Serbia</td>\n",
       "      <td>2014-01-05</td>\n",
       "      <td>3.3</td>\n",
       "      <td>5.3</td>\n",
       "      <td>-2.6</td>\n",
       "      <td>1.2</td>\n",
       "      <td>1.8</td>\n",
       "      <td>90.1</td>\n",
       "      <td>0.121</td>\n",
       "      <td>100</td>\n",
       "      <td>4.17</td>\n",
       "      <td>rain</td>\n",
       "      <td>0.0</td>\n",
       "      <td>0.0</td>\n",
       "      <td>35.837713</td>\n",
       "      <td>13.9</td>\n",
       "      <td>234.6</td>\n",
       "      <td>1019.5</td>\n",
       "      <td>91.0</td>\n",
       "      <td>6.3</td>\n",
       "      <td>22.3</td>\n",
       "      <td>1.9</td>\n",
       "      <td>1</td>\n",
       "      <td>11.566125</td>\n",
       "      <td>2014-01-05T07:02:38</td>\n",
       "      <td>2014-01-05T16:14:08</td>\n",
       "      <td>0.14</td>\n",
       "      <td>Cloudy skies throughout the day with late afte...</td>\n",
       "    </tr>\n",
       "  </tbody>\n",
       "</table>\n",
       "</div>"
      ],
      "text/plain": [
       "                name    datetime  temp  feelslikemax  feelslikemin  feelslike  \\\n",
       "0  Bujanovac, Serbia  2014-01-01   4.3           6.6           0.0        3.8   \n",
       "1  Bujanovac, Serbia  2014-01-02   3.7           7.6           0.5        3.5   \n",
       "2  Bujanovac, Serbia  2014-01-03   3.3           5.7           1.4        3.2   \n",
       "3  Bujanovac, Serbia  2014-01-04   2.5           4.0          -2.2        1.7   \n",
       "4  Bujanovac, Serbia  2014-01-05   3.3           5.3          -2.6        1.2   \n",
       "\n",
       "   dew  humidity  precip  precipprob  precipcover preciptype  snow  snowdepth  \\\n",
       "0  2.1      86.2   0.000           0         0.00       rain   0.0        0.0   \n",
       "1  1.0      83.1   0.000           0         0.00       rain   0.0        0.0   \n",
       "2  1.4      87.0   0.000           0         0.00       rain   0.0        0.0   \n",
       "3  1.3      91.8   0.000           0         0.00       rain   0.0        0.0   \n",
       "4  1.8      90.1   0.121         100         4.17       rain   0.0        0.0   \n",
       "\n",
       "    windgust  windspeed  winddir  sealevelpressure  cloudcover  visibility  \\\n",
       "0  35.837713        8.4     40.9            1021.8        87.6         6.7   \n",
       "1  35.837713        6.3     48.4            1020.9        72.0         8.0   \n",
       "2  35.837713        6.0     48.5            1023.1        88.1         5.4   \n",
       "3  35.837713        9.9    244.8            1025.1        87.4         4.1   \n",
       "4  35.837713       13.9    234.6            1019.5        91.0         6.3   \n",
       "\n",
       "   solarradiation  solarenergy  uvindex  severerisk              sunrise  \\\n",
       "0            76.4          6.6        4   11.566125  2014-01-01T07:02:35   \n",
       "1            63.7          5.5        3   11.566125  2014-01-02T07:02:39   \n",
       "2            62.9          5.4        3   11.566125  2014-01-03T07:02:41   \n",
       "3            90.9          7.8        4   11.566125  2014-01-04T07:02:41   \n",
       "4            22.3          1.9        1   11.566125  2014-01-05T07:02:38   \n",
       "\n",
       "                sunset  moonphase  \\\n",
       "0  2014-01-01T16:10:28       0.00   \n",
       "1  2014-01-02T16:11:20       0.03   \n",
       "2  2014-01-03T16:12:15       0.07   \n",
       "3  2014-01-04T16:13:11       0.10   \n",
       "4  2014-01-05T16:14:08       0.14   \n",
       "\n",
       "                                         description  \n",
       "0                  Partly cloudy throughout the day.  \n",
       "1                  Partly cloudy throughout the day.  \n",
       "2                  Partly cloudy throughout the day.  \n",
       "3                  Partly cloudy throughout the day.  \n",
       "4  Cloudy skies throughout the day with late afte...  "
      ]
     },
     "execution_count": 22,
     "metadata": {},
     "output_type": "execute_result"
    }
   ],
   "source": [
    "df_bujanovac.head()"
   ]
  },
  {
   "cell_type": "code",
   "execution_count": 23,
   "id": "93d6938d-ac30-4eb6-92d5-fffcb513ef90",
   "metadata": {
    "tags": []
   },
   "outputs": [],
   "source": [
    "# one hot encoding for preciptype"
   ]
  },
  {
   "cell_type": "markdown",
   "id": "d156e0ae-b157-477a-874e-f0b76d170813",
   "metadata": {},
   "source": [
    "Tokenization of the preciptype column"
   ]
  },
  {
   "cell_type": "code",
   "execution_count": 24,
   "id": "5e6bedd8-93b1-4ed7-a0ae-1f32c6faa653",
   "metadata": {
    "tags": []
   },
   "outputs": [],
   "source": [
    "# step 1: Text processing\n",
    "tokenizer = CountVectorizer()\n",
    "hashingTF = TfidfTransformer(use_idf=False)\n",
    "idf = TfidfTransformer(use_idf=True)\n",
    "k = 3\n",
    "kmeans = KMeans(n_clusters=k, random_state=42)"
   ]
  },
  {
   "cell_type": "code",
   "execution_count": 25,
   "id": "7899e84d-0662-4475-bb5e-2f26aabd5501",
   "metadata": {
    "tags": []
   },
   "outputs": [],
   "source": [
    "# pipeline that processes text and then clusters\n",
    "pipeline = Pipeline(steps=[\n",
    "    ('tokenizer', tokenizer),\n",
    "    ('hashingTF', hashingTF),\n",
    "    ('idf', idf),\n",
    "    ('kmeans', kmeans)\n",
    "])"
   ]
  },
  {
   "cell_type": "code",
   "execution_count": 26,
   "id": "58c43ae0-63c0-41a9-ae43-c38c334d98f2",
   "metadata": {
    "tags": []
   },
   "outputs": [
    {
     "name": "stderr",
     "output_type": "stream",
     "text": [
      "C:\\Users\\nicol\\anaconda3\\envs\\AI2023\\lib\\site-packages\\sklearn\\cluster\\_kmeans.py:1416: FutureWarning: The default value of `n_init` will change from 10 to 'auto' in 1.4. Set the value of `n_init` explicitly to suppress the warning\n",
      "  super()._check_params_vs_input(X, default_n_init=10)\n"
     ]
    }
   ],
   "source": [
    "# fitting the model on the 'Occupation' column\n",
    "text_features = pipeline.fit_transform(df_bujanovac['preciptype'])"
   ]
  },
  {
   "cell_type": "code",
   "execution_count": 27,
   "id": "dbc7cb29-e0b3-493a-9059-12f60ee2c1fd",
   "metadata": {
    "tags": []
   },
   "outputs": [
    {
     "data": {
      "text/plain": [
       "1    3087\n",
       "0     620\n",
       "2      86\n",
       "Name: preciptype_clusters, dtype: int64"
      ]
     },
     "execution_count": 27,
     "metadata": {},
     "output_type": "execute_result"
    }
   ],
   "source": [
    "df_bujanovac['preciptype_clusters'] = kmeans.labels_\n",
    "df_bujanovac['preciptype_clusters'].value_counts()"
   ]
  },
  {
   "cell_type": "code",
   "execution_count": 28,
   "id": "0b1cbf9c-d04a-4f77-8d60-a2b8b86b8a54",
   "metadata": {},
   "outputs": [
    {
     "data": {
      "image/png": "[encoded data removed]",
      "text/plain": [
       "<Figure size 800x400 with 1 Axes>"
      ]
     },
     "metadata": {},
     "output_type": "display_data"
    }
   ],
   "source": [
    "text = ' '.join(description for description in df_bujanovac[df_bujanovac['preciptype_clusters']==0]['preciptype'])\n",
    "wordcloud = WordCloud(background_color='white').generate(text)\n",
    "plt.figure(figsize=(8, 4))\n",
    "plt.imshow(wordcloud, interpolation='bilinear')\n",
    "plt.axis('off')\n",
    "plt.title('Word Cloud for preciptype cluster number 0')\n",
    "plt.show()"
   ]
  },
  {
   "cell_type": "code",
   "execution_count": 29,
   "id": "e91c0b49-11de-4bab-9d1e-65f08550745a",
   "metadata": {
    "tags": []
   },
   "outputs": [
    {
     "data": {
      "image/png": "[encoded data removed]",
      "text/plain": [
       "<Figure size 800x400 with 1 Axes>"
      ]
     },
     "metadata": {},
     "output_type": "display_data"
    }
   ],
   "source": [
    "text = ' '.join(description for description in df_bujanovac[df_bujanovac['preciptype_clusters']==1]['preciptype'])\n",
    "wordcloud = WordCloud(background_color='white').generate(text)\n",
    "plt.figure(figsize=(8, 4))\n",
    "plt.imshow(wordcloud, interpolation='bilinear')\n",
    "plt.axis('off')\n",
    "plt.title('Word Cloud for preciptype cluster number 1')\n",
    "plt.show()"
   ]
  },
  {
   "cell_type": "code",
   "execution_count": 30,
   "id": "b09e9911-5acf-4ec4-affa-6a368a0b5c51",
   "metadata": {
    "tags": []
   },
   "outputs": [
    {
     "data": {
      "image/png": "[encoded data removed]",
      "text/plain": [
       "<Figure size 800x400 with 1 Axes>"
      ]
     },
     "metadata": {},
     "output_type": "display_data"
    }
   ],
   "source": [
    "text = ' '.join(description for description in df_bujanovac[df_bujanovac['preciptype_clusters']==2]['preciptype'])\n",
    "wordcloud = WordCloud(background_color='white').generate(text)\n",
    "plt.figure(figsize=(8, 4))\n",
    "plt.imshow(wordcloud, interpolation='bilinear')\n",
    "plt.axis('off')\n",
    "plt.title('Word Cloud for preciptype cluster number 2')\n",
    "plt.show()"
   ]
  },
  {
   "cell_type": "code",
   "execution_count": 31,
   "id": "caab160b-1151-48a5-9abd-183e309ecc89",
   "metadata": {
    "tags": []
   },
   "outputs": [
    {
     "data": {
      "text/plain": [
       "1    3087\n",
       "0     620\n",
       "2      86\n",
       "Name: preciptype_clusters, dtype: int64"
      ]
     },
     "execution_count": 31,
     "metadata": {},
     "output_type": "execute_result"
    }
   ],
   "source": [
    "df_bujanovac['preciptype_clusters'].value_counts()"
   ]
  },
  {
   "cell_type": "code",
   "execution_count": 32,
   "id": "4b08c9a2-4b5a-4a00-87db-d41834c420f4",
   "metadata": {
    "tags": []
   },
   "outputs": [],
   "source": [
    "df_bujanovac = df_bujanovac.drop(columns=['preciptype'])"
   ]
  },
  {
   "cell_type": "code",
   "execution_count": 33,
   "id": "e1e22f12-a8e8-4ecf-9bff-aa68505c3188",
   "metadata": {
    "tags": []
   },
   "outputs": [
    {
     "data": {
      "text/html": [
       "<div>\n",
       "<style scoped>\n",
       "    .dataframe tbody tr th:only-of-type {\n",
       "        vertical-align: middle;\n",
       "    }\n",
       "\n",
       "    .dataframe tbody tr th {\n",
       "        vertical-align: top;\n",
       "    }\n",
       "\n",
       "    .dataframe thead th {\n",
       "        text-align: right;\n",
       "    }\n",
       "</style>\n",
       "<table border=\"1\" class=\"dataframe\">\n",
       "  <thead>\n",
       "    <tr style=\"text-align: right;\">\n",
       "      <th></th>\n",
       "      <th>name</th>\n",
       "      <th>datetime</th>\n",
       "      <th>temp</th>\n",
       "      <th>feelslikemax</th>\n",
       "      <th>feelslikemin</th>\n",
       "      <th>feelslike</th>\n",
       "      <th>dew</th>\n",
       "      <th>humidity</th>\n",
       "      <th>precip</th>\n",
       "      <th>precipprob</th>\n",
       "      <th>precipcover</th>\n",
       "      <th>snow</th>\n",
       "      <th>snowdepth</th>\n",
       "      <th>windgust</th>\n",
       "      <th>windspeed</th>\n",
       "      <th>winddir</th>\n",
       "      <th>sealevelpressure</th>\n",
       "      <th>cloudcover</th>\n",
       "      <th>visibility</th>\n",
       "      <th>solarradiation</th>\n",
       "      <th>solarenergy</th>\n",
       "      <th>uvindex</th>\n",
       "      <th>severerisk</th>\n",
       "      <th>sunrise</th>\n",
       "      <th>sunset</th>\n",
       "      <th>moonphase</th>\n",
       "      <th>description</th>\n",
       "      <th>preciptype_clusters</th>\n",
       "    </tr>\n",
       "  </thead>\n",
       "  <tbody>\n",
       "    <tr>\n",
       "      <th>0</th>\n",
       "      <td>Bujanovac, Serbia</td>\n",
       "      <td>2014-01-01</td>\n",
       "      <td>4.3</td>\n",
       "      <td>6.6</td>\n",
       "      <td>0.0</td>\n",
       "      <td>3.8</td>\n",
       "      <td>2.1</td>\n",
       "      <td>86.2</td>\n",
       "      <td>0.000</td>\n",
       "      <td>0</td>\n",
       "      <td>0.00</td>\n",
       "      <td>0.0</td>\n",
       "      <td>0.0</td>\n",
       "      <td>35.837713</td>\n",
       "      <td>8.4</td>\n",
       "      <td>40.9</td>\n",
       "      <td>1021.8</td>\n",
       "      <td>87.6</td>\n",
       "      <td>6.7</td>\n",
       "      <td>76.4</td>\n",
       "      <td>6.6</td>\n",
       "      <td>4</td>\n",
       "      <td>11.566125</td>\n",
       "      <td>2014-01-01T07:02:35</td>\n",
       "      <td>2014-01-01T16:10:28</td>\n",
       "      <td>0.00</td>\n",
       "      <td>Partly cloudy throughout the day.</td>\n",
       "      <td>1</td>\n",
       "    </tr>\n",
       "    <tr>\n",
       "      <th>1</th>\n",
       "      <td>Bujanovac, Serbia</td>\n",
       "      <td>2014-01-02</td>\n",
       "      <td>3.7</td>\n",
       "      <td>7.6</td>\n",
       "      <td>0.5</td>\n",
       "      <td>3.5</td>\n",
       "      <td>1.0</td>\n",
       "      <td>83.1</td>\n",
       "      <td>0.000</td>\n",
       "      <td>0</td>\n",
       "      <td>0.00</td>\n",
       "      <td>0.0</td>\n",
       "      <td>0.0</td>\n",
       "      <td>35.837713</td>\n",
       "      <td>6.3</td>\n",
       "      <td>48.4</td>\n",
       "      <td>1020.9</td>\n",
       "      <td>72.0</td>\n",
       "      <td>8.0</td>\n",
       "      <td>63.7</td>\n",
       "      <td>5.5</td>\n",
       "      <td>3</td>\n",
       "      <td>11.566125</td>\n",
       "      <td>2014-01-02T07:02:39</td>\n",
       "      <td>2014-01-02T16:11:20</td>\n",
       "      <td>0.03</td>\n",
       "      <td>Partly cloudy throughout the day.</td>\n",
       "      <td>1</td>\n",
       "    </tr>\n",
       "    <tr>\n",
       "      <th>2</th>\n",
       "      <td>Bujanovac, Serbia</td>\n",
       "      <td>2014-01-03</td>\n",
       "      <td>3.3</td>\n",
       "      <td>5.7</td>\n",
       "      <td>1.4</td>\n",
       "      <td>3.2</td>\n",
       "      <td>1.4</td>\n",
       "      <td>87.0</td>\n",
       "      <td>0.000</td>\n",
       "      <td>0</td>\n",
       "      <td>0.00</td>\n",
       "      <td>0.0</td>\n",
       "      <td>0.0</td>\n",
       "      <td>35.837713</td>\n",
       "      <td>6.0</td>\n",
       "      <td>48.5</td>\n",
       "      <td>1023.1</td>\n",
       "      <td>88.1</td>\n",
       "      <td>5.4</td>\n",
       "      <td>62.9</td>\n",
       "      <td>5.4</td>\n",
       "      <td>3</td>\n",
       "      <td>11.566125</td>\n",
       "      <td>2014-01-03T07:02:41</td>\n",
       "      <td>2014-01-03T16:12:15</td>\n",
       "      <td>0.07</td>\n",
       "      <td>Partly cloudy throughout the day.</td>\n",
       "      <td>1</td>\n",
       "    </tr>\n",
       "    <tr>\n",
       "      <th>3</th>\n",
       "      <td>Bujanovac, Serbia</td>\n",
       "      <td>2014-01-04</td>\n",
       "      <td>2.5</td>\n",
       "      <td>4.0</td>\n",
       "      <td>-2.2</td>\n",
       "      <td>1.7</td>\n",
       "      <td>1.3</td>\n",
       "      <td>91.8</td>\n",
       "      <td>0.000</td>\n",
       "      <td>0</td>\n",
       "      <td>0.00</td>\n",
       "      <td>0.0</td>\n",
       "      <td>0.0</td>\n",
       "      <td>35.837713</td>\n",
       "      <td>9.9</td>\n",
       "      <td>244.8</td>\n",
       "      <td>1025.1</td>\n",
       "      <td>87.4</td>\n",
       "      <td>4.1</td>\n",
       "      <td>90.9</td>\n",
       "      <td>7.8</td>\n",
       "      <td>4</td>\n",
       "      <td>11.566125</td>\n",
       "      <td>2014-01-04T07:02:41</td>\n",
       "      <td>2014-01-04T16:13:11</td>\n",
       "      <td>0.10</td>\n",
       "      <td>Partly cloudy throughout the day.</td>\n",
       "      <td>1</td>\n",
       "    </tr>\n",
       "    <tr>\n",
       "      <th>4</th>\n",
       "      <td>Bujanovac, Serbia</td>\n",
       "      <td>2014-01-05</td>\n",
       "      <td>3.3</td>\n",
       "      <td>5.3</td>\n",
       "      <td>-2.6</td>\n",
       "      <td>1.2</td>\n",
       "      <td>1.8</td>\n",
       "      <td>90.1</td>\n",
       "      <td>0.121</td>\n",
       "      <td>100</td>\n",
       "      <td>4.17</td>\n",
       "      <td>0.0</td>\n",
       "      <td>0.0</td>\n",
       "      <td>35.837713</td>\n",
       "      <td>13.9</td>\n",
       "      <td>234.6</td>\n",
       "      <td>1019.5</td>\n",
       "      <td>91.0</td>\n",
       "      <td>6.3</td>\n",
       "      <td>22.3</td>\n",
       "      <td>1.9</td>\n",
       "      <td>1</td>\n",
       "      <td>11.566125</td>\n",
       "      <td>2014-01-05T07:02:38</td>\n",
       "      <td>2014-01-05T16:14:08</td>\n",
       "      <td>0.14</td>\n",
       "      <td>Cloudy skies throughout the day with late afte...</td>\n",
       "      <td>1</td>\n",
       "    </tr>\n",
       "  </tbody>\n",
       "</table>\n",
       "</div>"
      ],
      "text/plain": [
       "                name    datetime  temp  feelslikemax  feelslikemin  feelslike  \\\n",
       "0  Bujanovac, Serbia  2014-01-01   4.3           6.6           0.0        3.8   \n",
       "1  Bujanovac, Serbia  2014-01-02   3.7           7.6           0.5        3.5   \n",
       "2  Bujanovac, Serbia  2014-01-03   3.3           5.7           1.4        3.2   \n",
       "3  Bujanovac, Serbia  2014-01-04   2.5           4.0          -2.2        1.7   \n",
       "4  Bujanovac, Serbia  2014-01-05   3.3           5.3          -2.6        1.2   \n",
       "\n",
       "   dew  humidity  precip  precipprob  precipcover  snow  snowdepth   windgust  \\\n",
       "0  2.1      86.2   0.000           0         0.00   0.0        0.0  35.837713   \n",
       "1  1.0      83.1   0.000           0         0.00   0.0        0.0  35.837713   \n",
       "2  1.4      87.0   0.000           0         0.00   0.0        0.0  35.837713   \n",
       "3  1.3      91.8   0.000           0         0.00   0.0        0.0  35.837713   \n",
       "4  1.8      90.1   0.121         100         4.17   0.0        0.0  35.837713   \n",
       "\n",
       "   windspeed  winddir  sealevelpressure  cloudcover  visibility  \\\n",
       "0        8.4     40.9            1021.8        87.6         6.7   \n",
       "1        6.3     48.4            1020.9        72.0         8.0   \n",
       "2        6.0     48.5            1023.1        88.1         5.4   \n",
       "3        9.9    244.8            1025.1        87.4         4.1   \n",
       "4       13.9    234.6            1019.5        91.0         6.3   \n",
       "\n",
       "   solarradiation  solarenergy  uvindex  severerisk              sunrise  \\\n",
       "0            76.4          6.6        4   11.566125  2014-01-01T07:02:35   \n",
       "1            63.7          5.5        3   11.566125  2014-01-02T07:02:39   \n",
       "2            62.9          5.4        3   11.566125  2014-01-03T07:02:41   \n",
       "3            90.9          7.8        4   11.566125  2014-01-04T07:02:41   \n",
       "4            22.3          1.9        1   11.566125  2014-01-05T07:02:38   \n",
       "\n",
       "                sunset  moonphase  \\\n",
       "0  2014-01-01T16:10:28       0.00   \n",
       "1  2014-01-02T16:11:20       0.03   \n",
       "2  2014-01-03T16:12:15       0.07   \n",
       "3  2014-01-04T16:13:11       0.10   \n",
       "4  2014-01-05T16:14:08       0.14   \n",
       "\n",
       "                                         description  preciptype_clusters  \n",
       "0                  Partly cloudy throughout the day.                    1  \n",
       "1                  Partly cloudy throughout the day.                    1  \n",
       "2                  Partly cloudy throughout the day.                    1  \n",
       "3                  Partly cloudy throughout the day.                    1  \n",
       "4  Cloudy skies throughout the day with late afte...                    1  "
      ]
     },
     "execution_count": 33,
     "metadata": {},
     "output_type": "execute_result"
    }
   ],
   "source": [
    "df_bujanovac.head()"
   ]
  },
  {
   "cell_type": "code",
   "execution_count": 34,
   "id": "42b0ee26-9095-4c61-8dad-6342cbe0e795",
   "metadata": {
    "tags": []
   },
   "outputs": [],
   "source": [
    "folder_path = r'C:\\Users\\nicol\\OneDrive\\Master\\Goldsmiths\\Thesis\\weather-prediction\\.data'\n",
    "file_name = 'bujanovac_weather_2014-2024_updated.csv'\n",
    "full_path = os.path.join(folder_path, file_name)\n",
    "\n",
    "# Save the DataFrame to the specified path\n",
    "df_bujanovac.to_csv(full_path)"
   ]
  }
 ],
 "metadata": {
  "kernelspec": {
   "display_name": "Python 3 (ipykernel)",
   "language": "python",
   "name": "python3"
  },
  "language_info": {
   "codemirror_mode": {
    "name": "ipython",
    "version": 3
   },
   "file_extension": ".py",
   "mimetype": "text/x-python",
   "name": "python",
   "nbconvert_exporter": "python",
   "pygments_lexer": "ipython3",
   "version": "3.10.13"
  }
 },
 "nbformat": 4,
 "nbformat_minor": 5
}
