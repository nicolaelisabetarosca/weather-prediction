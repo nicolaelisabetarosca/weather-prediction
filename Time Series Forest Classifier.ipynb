{
 "cells": [
  {
   "cell_type": "code",
   "execution_count": 1,
   "id": "be12d8de-eb36-4124-831e-1870a40dfd2b",
   "metadata": {},
   "outputs": [],
   "source": [
    "from sktime.classification.interval_based import TimeSeriesForestClassifier\n",
    "from sktime.datasets import load_unit_test\n",
    "import pandas as pd\n",
    "import numpy as np"
   ]
  },
  {
   "cell_type": "markdown",
   "id": "d4611d99-34a3-4363-8080-5aa92ab91b8d",
   "metadata": {},
   "source": [
    "# Create Train and test"
   ]
  },
  {
   "cell_type": "code",
   "execution_count": 2,
   "id": "a4f9dd22-b2dc-47fd-919d-961926033e87",
   "metadata": {},
   "outputs": [],
   "source": [
    "df_l = pd.read_csv(r\"C:\\Users\\nicol\\OneDrive\\Master\\Goldsmiths\\Thesis\\weather-prediction\\data\\london_weather_2014-2024.csv\", parse_dates=['datetime'])\n",
    "df_m = pd.read_csv(r\"C:\\Users\\nicol\\OneDrive\\Master\\Goldsmiths\\Thesis\\weather-prediction\\data\\manila_weather_2014-2024.csv\", parse_dates=['datetime'])\n",
    "df_br = pd.read_csv(r\"C:\\Users\\nicol\\OneDrive\\Master\\Goldsmiths\\Thesis\\weather-prediction\\data\\brisbane_weather_2014-2024.csv\", parse_dates=['datetime'])\n",
    "df_bu = pd.read_csv(r\"C:\\Users\\nicol\\OneDrive\\Master\\Goldsmiths\\Thesis\\weather-prediction\\data\\bujanovac_weather_2014-2024.csv\", parse_dates=['datetime'])\n",
    "# df_new = pd.read_csv(\"wetransfer_thesis-data-and-notebook_2024-06-27_1654/bujanovac_weather_2014-2024.csv\", parse_dates=['datetime'])"
   ]
  },
  {
   "cell_type": "code",
   "execution_count": 3,
   "id": "fd065241-24e9-4b78-941c-8c9621c0acf8",
   "metadata": {},
   "outputs": [],
   "source": [
    "df_l_train = df_l[df_l['datetime']< pd.to_datetime('2023-01-01')]\n",
    "df_m_train = df_m[df_m['datetime']< pd.to_datetime('2023-01-01')]\n",
    "df_br_train = df_br[df_br['datetime']< pd.to_datetime('2023-01-01')]\n",
    "df_bu_train = df_bu[df_bu['datetime']< pd.to_datetime('2023-01-01')]"
   ]
  },
  {
   "cell_type": "code",
   "execution_count": 4,
   "id": "6c937a22-9b1f-4e1a-a7ec-1cea0dde0961",
   "metadata": {},
   "outputs": [],
   "source": [
    "df_l_test = df_l[df_l['datetime']> pd.to_datetime('2023-01-01')]\n",
    "df_m_test = df_m[df_m['datetime']>pd.to_datetime('2023-01-01')]\n",
    "df_br_test = df_br[df_br['datetime']> pd.to_datetime('2023-01-01')]\n",
    "df_bu_test = df_bu[df_bu['datetime']> pd.to_datetime('2023-01-01')]"
   ]
  },
  {
   "cell_type": "code",
   "execution_count": 5,
   "id": "91249370-9ed0-48b3-a567-201465164852",
   "metadata": {},
   "outputs": [
    {
     "data": {
      "text/html": [
       "<div>\n",
       "<style scoped>\n",
       "    .dataframe tbody tr th:only-of-type {\n",
       "        vertical-align: middle;\n",
       "    }\n",
       "\n",
       "    .dataframe tbody tr th {\n",
       "        vertical-align: top;\n",
       "    }\n",
       "\n",
       "    .dataframe thead th {\n",
       "        text-align: right;\n",
       "    }\n",
       "</style>\n",
       "<table border=\"1\" class=\"dataframe\">\n",
       "  <thead>\n",
       "    <tr style=\"text-align: right;\">\n",
       "      <th></th>\n",
       "      <th>Unnamed: 0</th>\n",
       "      <th>name</th>\n",
       "      <th>datetime</th>\n",
       "      <th>tempmax</th>\n",
       "      <th>tempmin</th>\n",
       "      <th>temp</th>\n",
       "      <th>feelslikemax</th>\n",
       "      <th>feelslikemin</th>\n",
       "      <th>feelslike</th>\n",
       "      <th>dew</th>\n",
       "      <th>...</th>\n",
       "      <th>solarenergy</th>\n",
       "      <th>uvindex</th>\n",
       "      <th>severerisk</th>\n",
       "      <th>sunrise</th>\n",
       "      <th>sunset</th>\n",
       "      <th>moonphase</th>\n",
       "      <th>conditions</th>\n",
       "      <th>description</th>\n",
       "      <th>icon</th>\n",
       "      <th>stations</th>\n",
       "    </tr>\n",
       "  </thead>\n",
       "  <tbody>\n",
       "    <tr>\n",
       "      <th>3288</th>\n",
       "      <td>3288</td>\n",
       "      <td>Bujanovac, Serbia</td>\n",
       "      <td>2023-01-02</td>\n",
       "      <td>5.7</td>\n",
       "      <td>-0.8</td>\n",
       "      <td>1.0</td>\n",
       "      <td>5.7</td>\n",
       "      <td>-0.8</td>\n",
       "      <td>1.0</td>\n",
       "      <td>0.6</td>\n",
       "      <td>...</td>\n",
       "      <td>4.4</td>\n",
       "      <td>4</td>\n",
       "      <td>10.0</td>\n",
       "      <td>2023-01-02T07:02:41</td>\n",
       "      <td>2023-01-02T16:11:11</td>\n",
       "      <td>0.35</td>\n",
       "      <td>Partially cloudy</td>\n",
       "      <td>Partly cloudy throughout the day.</td>\n",
       "      <td>partly-cloudy-day</td>\n",
       "      <td>LWSK,13493099999,13586099999,BKPR,13588099999,...</td>\n",
       "    </tr>\n",
       "    <tr>\n",
       "      <th>3289</th>\n",
       "      <td>3289</td>\n",
       "      <td>Bujanovac, Serbia</td>\n",
       "      <td>2023-01-03</td>\n",
       "      <td>10.4</td>\n",
       "      <td>-1.5</td>\n",
       "      <td>2.2</td>\n",
       "      <td>10.4</td>\n",
       "      <td>-1.5</td>\n",
       "      <td>2.0</td>\n",
       "      <td>1.0</td>\n",
       "      <td>...</td>\n",
       "      <td>4.8</td>\n",
       "      <td>4</td>\n",
       "      <td>10.0</td>\n",
       "      <td>2023-01-03T07:02:43</td>\n",
       "      <td>2023-01-03T16:12:05</td>\n",
       "      <td>0.38</td>\n",
       "      <td>Partially cloudy</td>\n",
       "      <td>Partly cloudy throughout the day.</td>\n",
       "      <td>partly-cloudy-day</td>\n",
       "      <td>LWSK,13493099999,13586099999,BKPR,13588099999,...</td>\n",
       "    </tr>\n",
       "    <tr>\n",
       "      <th>3290</th>\n",
       "      <td>3290</td>\n",
       "      <td>Bujanovac, Serbia</td>\n",
       "      <td>2023-01-04</td>\n",
       "      <td>10.1</td>\n",
       "      <td>-0.9</td>\n",
       "      <td>4.0</td>\n",
       "      <td>10.1</td>\n",
       "      <td>-0.9</td>\n",
       "      <td>3.5</td>\n",
       "      <td>2.7</td>\n",
       "      <td>...</td>\n",
       "      <td>3.6</td>\n",
       "      <td>2</td>\n",
       "      <td>10.0</td>\n",
       "      <td>2023-01-04T07:02:43</td>\n",
       "      <td>2023-01-04T16:13:01</td>\n",
       "      <td>0.41</td>\n",
       "      <td>Partially cloudy</td>\n",
       "      <td>Partly cloudy throughout the day.</td>\n",
       "      <td>partly-cloudy-day</td>\n",
       "      <td>LWSK,13493099999,13586099999,BKPR,13588099999,...</td>\n",
       "    </tr>\n",
       "    <tr>\n",
       "      <th>3291</th>\n",
       "      <td>3291</td>\n",
       "      <td>Bujanovac, Serbia</td>\n",
       "      <td>2023-01-05</td>\n",
       "      <td>10.6</td>\n",
       "      <td>0.9</td>\n",
       "      <td>5.7</td>\n",
       "      <td>10.6</td>\n",
       "      <td>-1.3</td>\n",
       "      <td>5.4</td>\n",
       "      <td>3.5</td>\n",
       "      <td>...</td>\n",
       "      <td>5.1</td>\n",
       "      <td>4</td>\n",
       "      <td>10.0</td>\n",
       "      <td>2023-01-05T07:02:41</td>\n",
       "      <td>2023-01-05T16:13:58</td>\n",
       "      <td>0.45</td>\n",
       "      <td>Partially cloudy</td>\n",
       "      <td>Partly cloudy throughout the day.</td>\n",
       "      <td>partly-cloudy-day</td>\n",
       "      <td>LWSK,13493099999,13586099999,BKPR,13590099999,...</td>\n",
       "    </tr>\n",
       "    <tr>\n",
       "      <th>3292</th>\n",
       "      <td>3292</td>\n",
       "      <td>Bujanovac, Serbia</td>\n",
       "      <td>2023-01-06</td>\n",
       "      <td>12.2</td>\n",
       "      <td>-1.1</td>\n",
       "      <td>3.7</td>\n",
       "      <td>12.2</td>\n",
       "      <td>-1.8</td>\n",
       "      <td>3.3</td>\n",
       "      <td>0.6</td>\n",
       "      <td>...</td>\n",
       "      <td>5.2</td>\n",
       "      <td>3</td>\n",
       "      <td>10.0</td>\n",
       "      <td>2023-01-06T07:02:36</td>\n",
       "      <td>2023-01-06T16:14:56</td>\n",
       "      <td>0.48</td>\n",
       "      <td>Snow, Rain, Partially cloudy</td>\n",
       "      <td>Partly cloudy throughout the day with morning ...</td>\n",
       "      <td>rain</td>\n",
       "      <td>LWSK,13493099999,13586099999,BKPR,13588099999,...</td>\n",
       "    </tr>\n",
       "  </tbody>\n",
       "</table>\n",
       "<p>5 rows × 34 columns</p>\n",
       "</div>"
      ],
      "text/plain": [
       "      Unnamed: 0               name   datetime  tempmax  tempmin  temp  \\\n",
       "3288        3288  Bujanovac, Serbia 2023-01-02      5.7     -0.8   1.0   \n",
       "3289        3289  Bujanovac, Serbia 2023-01-03     10.4     -1.5   2.2   \n",
       "3290        3290  Bujanovac, Serbia 2023-01-04     10.1     -0.9   4.0   \n",
       "3291        3291  Bujanovac, Serbia 2023-01-05     10.6      0.9   5.7   \n",
       "3292        3292  Bujanovac, Serbia 2023-01-06     12.2     -1.1   3.7   \n",
       "\n",
       "      feelslikemax  feelslikemin  feelslike  dew  ...  solarenergy  uvindex  \\\n",
       "3288           5.7          -0.8        1.0  0.6  ...          4.4        4   \n",
       "3289          10.4          -1.5        2.0  1.0  ...          4.8        4   \n",
       "3290          10.1          -0.9        3.5  2.7  ...          3.6        2   \n",
       "3291          10.6          -1.3        5.4  3.5  ...          5.1        4   \n",
       "3292          12.2          -1.8        3.3  0.6  ...          5.2        3   \n",
       "\n",
       "      severerisk              sunrise               sunset  moonphase  \\\n",
       "3288        10.0  2023-01-02T07:02:41  2023-01-02T16:11:11       0.35   \n",
       "3289        10.0  2023-01-03T07:02:43  2023-01-03T16:12:05       0.38   \n",
       "3290        10.0  2023-01-04T07:02:43  2023-01-04T16:13:01       0.41   \n",
       "3291        10.0  2023-01-05T07:02:41  2023-01-05T16:13:58       0.45   \n",
       "3292        10.0  2023-01-06T07:02:36  2023-01-06T16:14:56       0.48   \n",
       "\n",
       "                        conditions  \\\n",
       "3288              Partially cloudy   \n",
       "3289              Partially cloudy   \n",
       "3290              Partially cloudy   \n",
       "3291              Partially cloudy   \n",
       "3292  Snow, Rain, Partially cloudy   \n",
       "\n",
       "                                            description               icon  \\\n",
       "3288                  Partly cloudy throughout the day.  partly-cloudy-day   \n",
       "3289                  Partly cloudy throughout the day.  partly-cloudy-day   \n",
       "3290                  Partly cloudy throughout the day.  partly-cloudy-day   \n",
       "3291                  Partly cloudy throughout the day.  partly-cloudy-day   \n",
       "3292  Partly cloudy throughout the day with morning ...               rain   \n",
       "\n",
       "                                               stations  \n",
       "3288  LWSK,13493099999,13586099999,BKPR,13588099999,...  \n",
       "3289  LWSK,13493099999,13586099999,BKPR,13588099999,...  \n",
       "3290  LWSK,13493099999,13586099999,BKPR,13588099999,...  \n",
       "3291  LWSK,13493099999,13586099999,BKPR,13590099999,...  \n",
       "3292  LWSK,13493099999,13586099999,BKPR,13588099999,...  \n",
       "\n",
       "[5 rows x 34 columns]"
      ]
     },
     "execution_count": 5,
     "metadata": {},
     "output_type": "execute_result"
    }
   ],
   "source": [
    "df_bu_test.head()"
   ]
  },
  {
   "cell_type": "markdown",
   "id": "dba588b0-314e-4534-aaae-81e75b2c6fdb",
   "metadata": {},
   "source": [
    "# Train > X and y"
   ]
  },
  {
   "cell_type": "code",
   "execution_count": 6,
   "id": "8a0d1dc4-f50f-4956-8870-54a85b520104",
   "metadata": {},
   "outputs": [],
   "source": [
    "X_train  = pd.DataFrame(index=range(4), columns=range(1))"
   ]
  },
  {
   "cell_type": "code",
   "execution_count": 7,
   "id": "6ec4c439-4c39-4dd6-8a81-663a5385b82c",
   "metadata": {},
   "outputs": [],
   "source": [
    "X_train = X_train.rename({0:'temp'}, axis=1)"
   ]
  },
  {
   "cell_type": "code",
   "execution_count": 8,
   "id": "512db265-19f4-4dd5-b8e9-cd4a585871a1",
   "metadata": {},
   "outputs": [],
   "source": [
    "X_train.iloc[0, 0] = pd.Series(df_l_train['temp'])\n",
    "X_train.iloc[1, 0] = pd.Series(df_m_train['temp'])\n",
    "X_train.iloc[2, 0] = pd.Series(df_br_train['temp'])\n",
    "X_train.iloc[3, 0] = pd.Series(df_bu_train['temp'])"
   ]
  },
  {
   "cell_type": "code",
   "execution_count": 9,
   "id": "10950b10-2529-4650-93b3-94286df6491e",
   "metadata": {},
   "outputs": [],
   "source": [
    "# 1: North:  London, Bujanovac \n",
    "# and 0: South: Brisbane, Manila\n",
    "y_train = pd.Series([1,0,0,1])"
   ]
  },
  {
   "cell_type": "code",
   "execution_count": 10,
   "id": "2a9ce152-e8ca-4ebd-82db-ac961a8a1f90",
   "metadata": {},
   "outputs": [
    {
     "data": {
      "text/plain": [
       "0    1\n",
       "1    0\n",
       "2    0\n",
       "3    1\n",
       "dtype: int64"
      ]
     },
     "execution_count": 10,
     "metadata": {},
     "output_type": "execute_result"
    }
   ],
   "source": [
    "y_train"
   ]
  },
  {
   "cell_type": "markdown",
   "id": "a758dc42-1e99-41fc-8c5a-38fb69211dc7",
   "metadata": {},
   "source": [
    "# Test > X and y"
   ]
  },
  {
   "cell_type": "code",
   "execution_count": 11,
   "id": "61a95163-2a6e-4dec-8750-a88241463315",
   "metadata": {},
   "outputs": [],
   "source": [
    "X_test  = pd.DataFrame(index=range(4), columns=range(1))"
   ]
  },
  {
   "cell_type": "code",
   "execution_count": 12,
   "id": "16b0aa91-1e3e-418f-8847-d8654826c814",
   "metadata": {},
   "outputs": [],
   "source": [
    "X_test = X_test.rename({0:'temp'}, axis=1)"
   ]
  },
  {
   "cell_type": "code",
   "execution_count": 13,
   "id": "f6a5fdd8-e042-4acc-881b-493946da7d85",
   "metadata": {},
   "outputs": [],
   "source": [
    "X_test.iloc[0, 0] = pd.Series(df_l_test['temp'])\n",
    "X_test.iloc[1, 0] = pd.Series(df_m_test['temp'])\n",
    "X_test.iloc[2, 0] = pd.Series(df_br_test['temp'])\n",
    "X_test.iloc[3, 0] = pd.Series(df_bu_test['temp'])"
   ]
  },
  {
   "cell_type": "code",
   "execution_count": 14,
   "id": "b6a6dbb1-61e7-488a-8c7d-65df249e4b33",
   "metadata": {},
   "outputs": [
    {
     "data": {
      "text/plain": [
       "array([ 6.4,  9. , 12.7, 11.7, 10.2, 10.7,  7.6,  6.9,  9.3,  9.2, 11.2,\n",
       "        8.6,  9.4,  5.7,  3.6, -0.9,  1.2,  1.3,  3.2,  2.8,  0.2,  0.9,\n",
       "        3.9,  2. ,  5.8,  5.6,  5.4,  6.4,  7. ,  7.8,  7.6,  8.8,  9.8,\n",
       "        8.1,  5. ,  4. ,  1.9,  1.3,  3.6,  3.9,  8.3,  7.5,  7.1,  4.7,\n",
       "        7.4,  9.6, 12.3, 11.9, 10. ,  9.4,  8.6,  7.8,  6.9,  5.4,  5.6,\n",
       "        4.8,  4.9,  5.4,  6.2,  5.5,  5.8,  6.2,  4.5,  5.4,  3.5,  2.4,\n",
       "        6.4,  5.6,  4.2, 10.1, 12.5,  7.1,  5.5, 11.3, 12.1, 11. ,  9. ,\n",
       "       10.4, 11.4, 12.2, 11.7, 10.5, 11. ,  8.2,  7.3,  7.5, 11.5, 13. ,\n",
       "       11.2,  9.9,  8.5,  7.4,  8. ,  8.8, 10.7, 10.4,  9.7, 11.3, 12. ,\n",
       "        9.4,  8.4,  9.5,  8.3, 10.3, 12.1, 12.8,  9.8, 11.2,  9.9,  8.9,\n",
       "        9.9, 11.2,  8.9,  7.6,  8.7, 10.1, 13.9, 13.1, 13.4, 14.3, 12.1,\n",
       "       10.7, 13.7, 15.4, 13.5, 15.8, 13.6, 15. , 14. , 13.5, 11.8, 11.3,\n",
       "       14.1, 13.6, 13. , 13.7, 14.6, 13.7, 14.3, 14.4, 15.1, 14. , 15.8,\n",
       "       15. , 14.2, 14.6, 16.1, 13.5, 13.2, 13.9, 13.7, 13.9, 15. , 16. ,\n",
       "       13.7, 13.7, 14.8, 15.7, 18.4, 22.2, 22.9, 22.7, 22.1, 20.8, 21.2,\n",
       "       21.4, 20.4, 20.4, 20.1, 20.2, 20.8, 21.5, 22. , 22.2, 23.9, 19.1,\n",
       "       19.1, 20.8, 19.2, 17.1, 19.4, 17.2, 16.5, 15.4, 15.8, 17.2, 21.5,\n",
       "       21.7, 19.7, 19.5, 19.8, 18.2, 17.7, 16.9, 18.2, 17.7, 17.5, 18.2,\n",
       "       19. , 18.6, 15.9, 14.8, 18.5, 15.2, 15.8, 16.2, 19.3, 19.4, 19.1,\n",
       "       17.4, 18.1, 17.9, 17.1, 18. , 17.1, 15.2, 15.8, 16.5, 15.2, 18.1,\n",
       "       20.7, 21.1, 18.6, 18.7, 18.5, 18.6, 20. , 19.7, 20.2, 20.4, 19.8,\n",
       "       19.3, 20. , 21.1, 20.3, 17.7, 15. , 15.7, 15.9, 16.9, 15.8, 14.6,\n",
       "       18.4, 19.7, 19.8, 21.6, 21.9, 23.1, 24.1, 23.7, 25.2, 23.9, 21.6,\n",
       "       19.8, 17. , 18. , 18.7, 20.2, 18.7, 17.4, 16.7, 17.9, 14.1, 13.5,\n",
       "       13.3, 16.6, 18.5, 18.3, 18. , 17.2, 17.5, 15.5, 18.6, 17.7, 15.5,\n",
       "       14.3, 15.3, 16.7, 18.5, 18.1, 17.7, 17.4, 17.4, 14.9, 17.1, 10.2,\n",
       "        7.5,  8.5, 12.6, 13.4, 16.4, 14.9, 13.4, 10.9, 11.7, 11.1, 11.1,\n",
       "       12.2, 10.6, 12.1, 10.7, 11.1, 10.7, 12.4, 10.4,  9.9,  9.1, 10.2,\n",
       "       10. ,  8.6,  9.5,  8.2,  7.5,  5.8,  8. , 12.5, 10.8,  9. ,  7.2,\n",
       "        7.1, 12.4, 12.4, 10.4, 10.2,  8.3, 10.6,  8.1,  3.2,  4.1,  8.1,\n",
       "        5.2,  3.8,  1.9,  1.5, -0.5,  5.4,  6.8,  6.3,  3.8,  7.2,  8.8,\n",
       "       10.3,  9.8,  9.6,  9.4,  7.8,  6. ,  7.5, 10. , 10.3, 11.2, 10.3,\n",
       "        8.2, 12.1, 11. , 10.8, 13.4, 12.5,  8. , 10.5, 11.7,  9.8,  9.8,\n",
       "        8.5,  8.6, 11.7, 10. ,  8. ,  6.6,  6.1,  4. ,  3.1,  2.9,  3.1,\n",
       "        3.2,  5.5,  3.3,  4.4,  1. ,  0.1,  1.3, -0.4,  0.4,  4. ,  9.5,\n",
       "       10.1,  9.5, 11. , 10. ,  9.1,  5. ,  7. , 10.8,  9.1,  8.8,  7.7,\n",
       "        9.8, 12.1, 11.9, 10.6, 12.6,  5.9,  7.9, 11.1,  9.9,  8.9,  6.7,\n",
       "        8.5, 12.6, 13.9, 11.8, 11.3, 12.4, 10.2,  9.2, 10.5,  8.2,  5.8,\n",
       "        5. ,  5.2,  7.1,  6.6,  9.5,  9.4,  5.8,  5.9,  5.3,  6.8,  8.2,\n",
       "        7.9,  8. ,  7.5,  9.8,  8.6,  8.1, 10.4, 12.1, 12.1, 12.9, 10.2,\n",
       "       12.3, 11.7, 11.9, 13.6, 12.5, 10.3,  7.6,  8.9,  9.2, 10.3,  8.2,\n",
       "        8.8, 10.3, 10.2,  9.5, 10.8, 11.1, 11.9, 12.6, 14.4, 16.5, 13.7,\n",
       "       13. , 10.3,  9.9, 15. , 15.2, 15.8, 11.9,  9.7, 10.2,  8.5,  9.7,\n",
       "       10.6,  8.2,  8.6,  7.8,  8.2,  8.2,  7.8,  9.1,  8.6,  9.2, 11.7,\n",
       "       13.7, 14.8, 13.3, 10.9, 12.6, 12.7, 12.4, 15. , 14.8, 17. , 17.5,\n",
       "       16.3, 19.2, 15.7, 15.6, 16.6, 14.2, 16.4, 15.8, 16.6, 15.1])"
      ]
     },
     "execution_count": 14,
     "metadata": {},
     "output_type": "execute_result"
    }
   ],
   "source": [
    "X_test.iloc[0,0]"
   ]
  },
  {
   "cell_type": "code",
   "execution_count": 15,
   "id": "47120c6b-f83e-4bb3-ae40-7313a5dbd900",
   "metadata": {},
   "outputs": [],
   "source": [
    "# 1: London, Bujanovac and 0: Brisbane, Manila\n",
    "y_test = pd.Series([1,0,0,1])"
   ]
  },
  {
   "cell_type": "code",
   "execution_count": 16,
   "id": "8b0377f5-4cc9-4d4a-9744-c58272fe12cb",
   "metadata": {},
   "outputs": [
    {
     "data": {
      "text/plain": [
       "0    1\n",
       "1    0\n",
       "2    0\n",
       "3    1\n",
       "dtype: int64"
      ]
     },
     "execution_count": 16,
     "metadata": {},
     "output_type": "execute_result"
    }
   ],
   "source": [
    "y_test"
   ]
  },
  {
   "cell_type": "markdown",
   "id": "8461855f-3a61-42da-8eaa-4e461b4029ef",
   "metadata": {},
   "source": [
    "# Out of sample prediction"
   ]
  },
  {
   "cell_type": "code",
   "execution_count": 17,
   "id": "4d8c77c5-8694-4b5e-892a-cedc79a883c5",
   "metadata": {},
   "outputs": [],
   "source": [
    "X_validation = pd.DataFrame(index=range(2), columns=range(1))\n"
   ]
  },
  {
   "cell_type": "code",
   "execution_count": 18,
   "id": "bed4ccb5-3c28-41f2-b3f6-2fea2b24ecec",
   "metadata": {},
   "outputs": [
    {
     "data": {
      "text/html": [
       "<div>\n",
       "<style scoped>\n",
       "    .dataframe tbody tr th:only-of-type {\n",
       "        vertical-align: middle;\n",
       "    }\n",
       "\n",
       "    .dataframe tbody tr th {\n",
       "        vertical-align: top;\n",
       "    }\n",
       "\n",
       "    .dataframe thead th {\n",
       "        text-align: right;\n",
       "    }\n",
       "</style>\n",
       "<table border=\"1\" class=\"dataframe\">\n",
       "  <thead>\n",
       "    <tr style=\"text-align: right;\">\n",
       "      <th></th>\n",
       "      <th>0</th>\n",
       "    </tr>\n",
       "  </thead>\n",
       "  <tbody>\n",
       "    <tr>\n",
       "      <th>0</th>\n",
       "      <td>NaN</td>\n",
       "    </tr>\n",
       "    <tr>\n",
       "      <th>1</th>\n",
       "      <td>NaN</td>\n",
       "    </tr>\n",
       "  </tbody>\n",
       "</table>\n",
       "</div>"
      ],
      "text/plain": [
       "     0\n",
       "0  NaN\n",
       "1  NaN"
      ]
     },
     "execution_count": 18,
     "metadata": {},
     "output_type": "execute_result"
    }
   ],
   "source": [
    "X_validation"
   ]
  },
  {
   "cell_type": "code",
   "execution_count": 19,
   "id": "fc2d43fa-5e47-48b4-aafd-598b19ddb2e8",
   "metadata": {},
   "outputs": [],
   "source": [
    "# X_validation.iloc[0, 0] = pd.Series(df_new_one['temp'])\n",
    "# X_validation.iloc[0, 0] = pd.Series(df_new_two['temp'])"
   ]
  },
  {
   "cell_type": "markdown",
   "id": "c6d78c73-2246-485b-a102-0208c789ec9a",
   "metadata": {},
   "source": [
    "# TS Classification"
   ]
  },
  {
   "cell_type": "code",
   "execution_count": 20,
   "id": "75f7549f-bb71-40e1-832d-8fc840f5af31",
   "metadata": {},
   "outputs": [
    {
     "ename": "TypeError",
     "evalue": "X must be in an sktime compatible format. Allowed scitypes for classifiers are Panel mtypes, for instance a pandas.DataFrame with MultiIndex and last(-1) level an sktime compatible time index. Allowed compatible mtype format specifications are: ['nested_univ', 'numpy3D', 'numpyflat', 'pd-multiindex', 'pd-wide', 'pd-long', 'df-list', 'dask_panel'] . See the data format tutorial examples/AA_datatypes_and_datasets.ipynb. If you think the data is already in an sktime supported input format, run sktime.datatypes.check_raise(data, mtype) to diagnose the error, where mtype is the string of the type specification you want. Error message for checked mtypes, in format [mtype: message], as follows: [df-list: obj must be list of pd.DataFrame, found <class 'pandas.core.frame.DataFrame'>]  [numpy3D: obj must be a numpy.ndarray, found <class 'pandas.core.frame.DataFrame'>]  [pd-multiindex: obj must have a MultiIndex, found <class 'pandas.core.indexes.range.RangeIndex'>]  [nested_univ: obj entries must be pd.Series]  [dask_panel: obj must be a dask DataFrame, found <class 'pandas.core.frame.DataFrame'>] ",
     "output_type": "error",
     "traceback": [
      "\u001b[1;31m---------------------------------------------------------------------------\u001b[0m",
      "\u001b[1;31mTypeError\u001b[0m                                 Traceback (most recent call last)",
      "Cell \u001b[1;32mIn[20], line 2\u001b[0m\n\u001b[0;32m      1\u001b[0m clf \u001b[38;5;241m=\u001b[39m TimeSeriesForestClassifier(n_estimators\u001b[38;5;241m=\u001b[39m\u001b[38;5;241m200\u001b[39m, random_state\u001b[38;5;241m=\u001b[39m\u001b[38;5;241m1\u001b[39m)\n\u001b[1;32m----> 2\u001b[0m \u001b[43mclf\u001b[49m\u001b[38;5;241;43m.\u001b[39;49m\u001b[43mfit\u001b[49m\u001b[43m(\u001b[49m\u001b[43mX_train\u001b[49m\u001b[43m,\u001b[49m\u001b[43m \u001b[49m\u001b[43my_train\u001b[49m\u001b[43m)\u001b[49m\n",
      "File \u001b[1;32m~\\anaconda3\\envs\\AI2023\\lib\\site-packages\\sktime\\classification\\interval_based\\_tsf.py:146\u001b[0m, in \u001b[0;36mTimeSeriesForestClassifier.fit\u001b[1;34m(self, X, y, **kwargs)\u001b[0m\n\u001b[0;32m    138\u001b[0m \u001b[38;5;28;01mdef\u001b[39;00m \u001b[38;5;21mfit\u001b[39m(\u001b[38;5;28mself\u001b[39m, X, y, \u001b[38;5;241m*\u001b[39m\u001b[38;5;241m*\u001b[39mkwargs):\n\u001b[0;32m    139\u001b[0m \u001b[38;5;250m    \u001b[39m\u001b[38;5;124;03m\"\"\"Wrap fit to call BaseClassifier.fit.\u001b[39;00m\n\u001b[0;32m    140\u001b[0m \n\u001b[0;32m    141\u001b[0m \u001b[38;5;124;03m    This is a fix to get around the problem with multiple inheritance. The problem\u001b[39;00m\n\u001b[1;32m   (...)\u001b[0m\n\u001b[0;32m    144\u001b[0m \u001b[38;5;124;03m    hacky.\u001b[39;00m\n\u001b[0;32m    145\u001b[0m \u001b[38;5;124;03m    \"\"\"\u001b[39;00m\n\u001b[1;32m--> 146\u001b[0m     \u001b[38;5;28;01mreturn\u001b[39;00m BaseClassifier\u001b[38;5;241m.\u001b[39mfit(\u001b[38;5;28mself\u001b[39m, X\u001b[38;5;241m=\u001b[39mX, y\u001b[38;5;241m=\u001b[39my, \u001b[38;5;241m*\u001b[39m\u001b[38;5;241m*\u001b[39mkwargs)\n",
      "File \u001b[1;32m~\\anaconda3\\envs\\AI2023\\lib\\site-packages\\sktime\\classification\\base.py:227\u001b[0m, in \u001b[0;36mBaseClassifier.fit\u001b[1;34m(self, X, y)\u001b[0m\n\u001b[0;32m    222\u001b[0m \u001b[38;5;66;03m# no vectorization needed, proceed with normal fit\u001b[39;00m\n\u001b[0;32m    223\u001b[0m \n\u001b[0;32m    224\u001b[0m \u001b[38;5;66;03m# convenience conversions to allow user flexibility:\u001b[39;00m\n\u001b[0;32m    225\u001b[0m \u001b[38;5;66;03m# if X is 2D array, convert to 3D, if y is Series, convert to numpy\u001b[39;00m\n\u001b[0;32m    226\u001b[0m X, y \u001b[38;5;241m=\u001b[39m \u001b[38;5;28mself\u001b[39m\u001b[38;5;241m.\u001b[39m_internal_convert(X, y)\n\u001b[1;32m--> 227\u001b[0m X_metadata \u001b[38;5;241m=\u001b[39m \u001b[38;5;28;43mself\u001b[39;49m\u001b[38;5;241;43m.\u001b[39;49m\u001b[43m_check_input\u001b[49m\u001b[43m(\u001b[49m\n\u001b[0;32m    228\u001b[0m \u001b[43m    \u001b[49m\u001b[43mX\u001b[49m\u001b[43m,\u001b[49m\u001b[43m \u001b[49m\u001b[43my\u001b[49m\u001b[43m,\u001b[49m\u001b[43m \u001b[49m\u001b[43mreturn_metadata\u001b[49m\u001b[38;5;241;43m=\u001b[39;49m\u001b[38;5;28;43mself\u001b[39;49m\u001b[38;5;241;43m.\u001b[39;49m\u001b[43mMETADATA_REQ_IN_CHECKS\u001b[49m\n\u001b[0;32m    229\u001b[0m \u001b[43m\u001b[49m\u001b[43m)\u001b[49m\n\u001b[0;32m    230\u001b[0m X_mtype \u001b[38;5;241m=\u001b[39m X_metadata[\u001b[38;5;124m\"\u001b[39m\u001b[38;5;124mmtype\u001b[39m\u001b[38;5;124m\"\u001b[39m]\n\u001b[0;32m    231\u001b[0m \u001b[38;5;28mself\u001b[39m\u001b[38;5;241m.\u001b[39m_X_metadata \u001b[38;5;241m=\u001b[39m X_metadata\n",
      "File \u001b[1;32m~\\anaconda3\\envs\\AI2023\\lib\\site-packages\\sktime\\base\\_base_panel.py:444\u001b[0m, in \u001b[0;36mBasePanelMixin._check_input\u001b[1;34m(self, X, y, enforce_min_instances, return_metadata)\u001b[0m\n\u001b[0;32m    437\u001b[0m allowed_msg \u001b[38;5;241m=\u001b[39m (\n\u001b[0;32m    438\u001b[0m     \u001b[38;5;124mf\u001b[39m\u001b[38;5;124m\"\u001b[39m\u001b[38;5;124mAllowed scitypes for \u001b[39m\u001b[38;5;132;01m{\u001b[39;00m\u001b[38;5;28mself\u001b[39m\u001b[38;5;241m.\u001b[39mEST_TYPE_PLURAL\u001b[38;5;132;01m}\u001b[39;00m\u001b[38;5;124m are Panel mtypes, \u001b[39m\u001b[38;5;124m\"\u001b[39m\n\u001b[0;32m    439\u001b[0m     \u001b[38;5;124mf\u001b[39m\u001b[38;5;124m\"\u001b[39m\u001b[38;5;124mfor instance a pandas.DataFrame with MultiIndex and last(-1) \u001b[39m\u001b[38;5;124m\"\u001b[39m\n\u001b[0;32m    440\u001b[0m     \u001b[38;5;124mf\u001b[39m\u001b[38;5;124m\"\u001b[39m\u001b[38;5;124mlevel an sktime compatible time index. \u001b[39m\u001b[38;5;124m\"\u001b[39m\n\u001b[0;32m    441\u001b[0m     \u001b[38;5;124mf\u001b[39m\u001b[38;5;124m\"\u001b[39m\u001b[38;5;124mAllowed compatible mtype format specifications are: \u001b[39m\u001b[38;5;132;01m{\u001b[39;00mMTYPE_LIST_PANEL\u001b[38;5;132;01m}\u001b[39;00m\u001b[38;5;124m .\u001b[39m\u001b[38;5;124m\"\u001b[39m\n\u001b[0;32m    442\u001b[0m )\n\u001b[0;32m    443\u001b[0m \u001b[38;5;28;01mif\u001b[39;00m \u001b[38;5;129;01mnot\u001b[39;00m X_valid:\n\u001b[1;32m--> 444\u001b[0m     \u001b[43mcheck_is_error_msg\u001b[49m\u001b[43m(\u001b[49m\n\u001b[0;32m    445\u001b[0m \u001b[43m        \u001b[49m\u001b[43mmsg\u001b[49m\u001b[43m,\u001b[49m\u001b[43m \u001b[49m\u001b[43mvar_name\u001b[49m\u001b[38;5;241;43m=\u001b[39;49m\u001b[38;5;124;43m\"\u001b[39;49m\u001b[38;5;124;43mX\u001b[39;49m\u001b[38;5;124;43m\"\u001b[39;49m\u001b[43m,\u001b[49m\u001b[43m \u001b[49m\u001b[43mallowed_msg\u001b[49m\u001b[38;5;241;43m=\u001b[39;49m\u001b[43mallowed_msg\u001b[49m\u001b[43m,\u001b[49m\u001b[43m \u001b[49m\u001b[43mraise_exception\u001b[49m\u001b[38;5;241;43m=\u001b[39;49m\u001b[38;5;28;43;01mTrue\u001b[39;49;00m\n\u001b[0;32m    446\u001b[0m \u001b[43m    \u001b[49m\u001b[43m)\u001b[49m\n\u001b[0;32m    448\u001b[0m n_cases \u001b[38;5;241m=\u001b[39m X_metadata[\u001b[38;5;124m\"\u001b[39m\u001b[38;5;124mn_instances\u001b[39m\u001b[38;5;124m\"\u001b[39m]\n\u001b[0;32m    449\u001b[0m \u001b[38;5;28;01mif\u001b[39;00m n_cases \u001b[38;5;241m<\u001b[39m enforce_min_instances:\n",
      "File \u001b[1;32m~\\anaconda3\\envs\\AI2023\\lib\\site-packages\\sktime\\datatypes\\_check.py:500\u001b[0m, in \u001b[0;36mcheck_is_error_msg\u001b[1;34m(msg, var_name, allowed_msg, raise_exception)\u001b[0m\n\u001b[0;32m    497\u001b[0m     msg_invalid_input \u001b[38;5;241m+\u001b[39m\u001b[38;5;241m=\u001b[39m \u001b[38;5;124mf\u001b[39m\u001b[38;5;124m\"\u001b[39m\u001b[38;5;124m [\u001b[39m\u001b[38;5;132;01m{\u001b[39;00mmtype\u001b[38;5;132;01m}\u001b[39;00m\u001b[38;5;124m: \u001b[39m\u001b[38;5;132;01m{\u001b[39;00merr\u001b[38;5;132;01m}\u001b[39;00m\u001b[38;5;124m] \u001b[39m\u001b[38;5;124m\"\u001b[39m\n\u001b[0;32m    499\u001b[0m \u001b[38;5;28;01mif\u001b[39;00m raise_exception \u001b[38;5;129;01mis\u001b[39;00m \u001b[38;5;28;01mTrue\u001b[39;00m:\n\u001b[1;32m--> 500\u001b[0m     \u001b[38;5;28;01mraise\u001b[39;00m \u001b[38;5;167;01mTypeError\u001b[39;00m(msg_invalid_input)\n\u001b[0;32m    501\u001b[0m \u001b[38;5;28;01melif\u001b[39;00m raise_exception \u001b[38;5;129;01mis\u001b[39;00m \u001b[38;5;28;01mFalse\u001b[39;00m:\n\u001b[0;32m    502\u001b[0m     \u001b[38;5;28;01mreturn\u001b[39;00m msg_invalid_input\n",
      "\u001b[1;31mTypeError\u001b[0m: X must be in an sktime compatible format. Allowed scitypes for classifiers are Panel mtypes, for instance a pandas.DataFrame with MultiIndex and last(-1) level an sktime compatible time index. Allowed compatible mtype format specifications are: ['nested_univ', 'numpy3D', 'numpyflat', 'pd-multiindex', 'pd-wide', 'pd-long', 'df-list', 'dask_panel'] . See the data format tutorial examples/AA_datatypes_and_datasets.ipynb. If you think the data is already in an sktime supported input format, run sktime.datatypes.check_raise(data, mtype) to diagnose the error, where mtype is the string of the type specification you want. Error message for checked mtypes, in format [mtype: message], as follows: [df-list: obj must be list of pd.DataFrame, found <class 'pandas.core.frame.DataFrame'>]  [numpy3D: obj must be a numpy.ndarray, found <class 'pandas.core.frame.DataFrame'>]  [pd-multiindex: obj must have a MultiIndex, found <class 'pandas.core.indexes.range.RangeIndex'>]  [nested_univ: obj entries must be pd.Series]  [dask_panel: obj must be a dask DataFrame, found <class 'pandas.core.frame.DataFrame'>] "
     ]
    }
   ],
   "source": [
    "clf = TimeSeriesForestClassifier(n_estimators=200, random_state=1)\n",
    "clf.fit(X_train, y_train)"
   ]
  },
  {
   "cell_type": "code",
   "execution_count": null,
   "id": "3cdc2708-388e-490a-bbad-0229bea072ca",
   "metadata": {
    "tags": []
   },
   "outputs": [],
   "source": [
    "y_train"
   ]
  },
  {
   "cell_type": "code",
   "execution_count": null,
   "id": "1689fdea-5c02-433e-8189-9d43159cd9bb",
   "metadata": {
    "tags": []
   },
   "outputs": [],
   "source": [
    "X_train"
   ]
  },
  {
   "cell_type": "code",
   "execution_count": null,
   "id": "b5e5d083-b52d-45dc-ab50-fe5e91245d6c",
   "metadata": {
    "tags": []
   },
   "outputs": [],
   "source": [
    "y_pred = clf.predict(X_test)"
   ]
  },
  {
   "cell_type": "code",
   "execution_count": null,
   "id": "ddb0eec6-c2bf-4cdf-a07f-446d08dbea6a",
   "metadata": {},
   "outputs": [],
   "source": [
    "y_pred"
   ]
  },
  {
   "cell_type": "code",
   "execution_count": 21,
   "id": "adb23270",
   "metadata": {},
   "outputs": [],
   "source": [
    "# add performance measures"
   ]
  },
  {
   "cell_type": "markdown",
   "id": "513c3214-6e11-4278-960b-bdec5388ef5b",
   "metadata": {},
   "source": [
    "## Test on two new locations (without training the algorithm first)"
   ]
  },
  {
   "cell_type": "code",
   "execution_count": null,
   "id": "e9feec3c-9b2c-4466-92e4-960f0cfd90e8",
   "metadata": {
    "tags": []
   },
   "outputs": [],
   "source": [
    "# y_pred_validation = clf.predict(X_validation)"
   ]
  }
 ],
 "metadata": {
  "kernelspec": {
   "display_name": "Python 3 (ipykernel)",
   "language": "python",
   "name": "python3"
  },
  "language_info": {
   "codemirror_mode": {
    "name": "ipython",
    "version": 3
   },
   "file_extension": ".py",
   "mimetype": "text/x-python",
   "name": "python",
   "nbconvert_exporter": "python",
   "pygments_lexer": "ipython3",
   "version": "3.10.13"
  }
 },
 "nbformat": 4,
 "nbformat_minor": 5
}
